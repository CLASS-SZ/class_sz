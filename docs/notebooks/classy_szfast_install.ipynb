{
 "cells": [
  {
   "cell_type": "markdown",
   "metadata": {
    "colab_type": "text",
    "id": "view-in-github"
   },
   "source": [
    "<a href=\"https://colab.research.google.com/github/CLASS-SZ/class_sz/blob/main/docs/notebooks/classy_szfast/classy_szfast_install.ipynb\" target=\"_parent\"><img src=\"https://colab.research.google.com/assets/colab-badge.svg\" alt=\"Open In Colab\"/></a>\n"
   ]
  },
  {
   "cell_type": "markdown",
   "metadata": {
    "id": "sQTPD6PrqLMN"
   },
   "source": [
    "# How to install and use classy_sz for your projects?"
   ]
  },
  {
   "cell_type": "markdown",
   "metadata": {
    "id": "TGtKE0x-qS5l"
   },
   "source": [
    "## Installation and emulators data"
   ]
  },
  {
   "cell_type": "code",
   "execution_count": 4,
   "metadata": {
    "id": "2Cu6-xgtpz30"
   },
   "outputs": [],
   "source": [
    "pip install classy_sz"
   ]
  },
  {
   "cell_type": "markdown",
   "metadata": {},
   "source": [
    "By default, the neural nets emulators (~1GB of files) will be installed in your home directory. If you're working on a computing cluster or prefer to store the data elsewhere, you can specify a custom directory.\n",
    "\n",
    "To specify where you want to store the neural nets data, run the following command in your terminal **before** importing the package:\n",
    "\n",
    "```bash\n",
    "export PATH_TO_CLASS_SZ_DATA=/path/to/store/data\n",
    "mkdir -p $PATH_TO_CLASS_SZ_DATA/class_sz_data_directory\n",
    "```\n",
    "\n",
    "This command sets the `PATH_TO_CLASS_SZ_DATA` variable for the current session.\n",
    "\n",
    "To ensure this variable is set every time you open a terminal, you can add this line to your `~/.bashrc` or `~/.bash_profile` file automatically using the `echo` command.\n",
    "\n",
    "For `~/.bashrc` (common for most Linux systems):\n",
    "```bash\n",
    "echo -e \"\\n# Set path for CLASS-SZ data\\nexport PATH_TO_CLASS_SZ_DATA=/path/to/store/class_sz/data\" >> ~/.bashrc\n",
    "echo -e \"\\n# Create directory for CLASS-SZ data\\nmkdir -p \\$PATH_TO_CLASS_SZ_DATA/class_sz_data_directory\" >> ~/.bashrc\n",
    "```\n",
    "\n",
    "To apply the changes immediately:\n",
    "```bash\n",
    "source ~/.bashrc\n",
    "```\n",
    "\n",
    "(Replace `bashrc` by `bash_profile` if you use macOS.)\n",
    "\n",
    "Now, every time you open a terminal, the `PATH_TO_CLASS_SZ_DATA` environment variable will automatically be set to your specified directory, ensuring the neural nets emulators are always stored in the correct location.\n",
    "\n"
   ]
  },
  {
   "cell_type": "code",
   "execution_count": 11,
   "metadata": {
    "id": "_54cOyf5SNg_"
   },
   "outputs": [],
   "source": [
    "import classy_sz"
   ]
  },
  {
   "cell_type": "markdown",
   "metadata": {
    "id": "npBlA6RtqHjs"
   },
   "source": [
    "## For developers\n",
    "\n",
    "\n",
    "If you are a developer, you may need to modify the C code and the python wrapper to implement your own functions, or modify existing ones. \n",
    "\n",
    "CLASS_SZ functionalities are located in the files:\n",
    "\n",
    "- [**source/class_sz.c**](https://github.com/CLASS-SZ/class_sz/blob/master/class-sz/source/class_sz.c) for the main CLASS_SZ functions,\n",
    "- [**tools/class_sz_tools.c**](https://github.com/CLASS-SZ/class_sz/blob/master/class-sz/tools/class_sz_tools.c) for other useful routines,\n",
    "- [**source/class_sz_clustercounts.c**](https://github.com/CLASS-SZ/class_sz/blob/master/class-sz/source/class_sz_clustercounts.c) for tSZ cluster counts. Since March 2024, CLASS_SZ cluster counts calculations are superseded by [cosmocnc](https://github.com/inigozubeldia/cosmocnc) ([Zubeldia & Bolliet 2024](https://arxiv.org/abs/2403.09589)).\n",
    "\n",
    "And importantly, in the python and cython files:\n",
    "\n",
    "- [**python/classy.pyx**](https://github.com/CLASS-SZ/class_sz/blob/master/class-sz/python/classy.pyx) for the Python wrapper,\n",
    "- [**classy_szfast/classy_szfast.py**](https://github.com/CLASS-SZ/classy_szfast/blob/master/classy_szfast/classy_szfast.py) for the Python wrapper for the emulators,\n",
    "- [**classy_szfast/classy_sz.py**](https://github.com/CLASS-SZ/classy_szfast/blob/master/classy_szfast/classy_sz.py) for the Python wrapper for cobaya,\n",
    "- [**classy_szfast/cosmosis_classy_szfast_interface.py**](https://github.com/CLASS-SZ/classy_szfast/blob/master/python/classy_szfast/cosmosis_classy_szfast_interface.py) for the Python wrapper for cosmosis. \n",
    "\n",
    "To install the C executable, so you can run the C code, you should install from source and compile:\n",
    "\n",
    "Clean up and compile:\n",
    "\n",
    "```bash\n",
    "$ git clone https://github.com/CLASS-SZ/class_sz\n",
    "$ git clone https://github.com/CLASS-SZ/get_cosmopower_emus.git\n",
    "$ cd get_cosmopower_emus\n",
    "$ pip install -e .\n",
    "$ cd ..\n",
    "$ git clone https://github.com/CLASS-SZ/class_sz_data.git\n",
    "$ cd class_sz_data\n",
    "$ pip install -e .\n",
    "$ cd ..\n",
    "$ cd class_sz/class-sz/python\n",
    "$ git clone https://github.com/CLASS-SZ/classy_szfast\n",
    "$ cd ..\n",
    "$ chmod +x select_makefile.sh\n",
    "$ ./select_makefile.sh\n",
    "$ chmod +x download_emulators.sh\n",
    "$ ./download_emulators.sh\n",
    "$ make clean\n",
    "$ make -j\n",
    "$ export PYTHONPATH=$(pwd)/python/classy_szfast:$PYTHONPATH\n",
    "\n",
    "```\n",
    "\n",
    "The `-j` flag speeds up the compilation process by using multiple cores. \n",
    "\n",
    "If it installs, run the C code with many power spectra output:\n",
    "\n",
    "```bash\n",
    "$ ./class_sz class_sz_test.ini\n",
    "```\n",
    "\n",
    "The `.ini` files are the parameter files.\n",
    "\n",
    "If you want to run CLASS and not do the class_sz part, you can! For example:\n",
    "\n",
    "```bash\n",
    "$ ./class_sz explanatory.ini\n",
    "```\n",
    "\n",
    "This will just run the standard CLASS code and its calculations. All depends on what output you request: if you request a class_sz observable or not.\n",
    "\n"
   ]
  }
 ],
 "metadata": {
  "colab": {
   "authorship_tag": "ABX9TyNomB/jTOR9zSFAOAQBc+X9",
   "include_colab_link": true,
   "provenance": []
  },
  "kernelspec": {
   "display_name": "Python 3 (ipykernel)",
   "language": "python",
   "name": "python3"
  },
  "language_info": {
   "codemirror_mode": {
    "name": "ipython",
    "version": 3
   },
   "file_extension": ".py",
   "mimetype": "text/x-python",
   "name": "python",
   "nbconvert_exporter": "python",
   "pygments_lexer": "ipython3",
   "version": "3.9.13"
  }
 },
 "nbformat": 4,
 "nbformat_minor": 4
}
