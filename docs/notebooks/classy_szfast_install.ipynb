{
 "cells": [
  {
   "cell_type": "markdown",
   "metadata": {
    "colab_type": "text",
    "id": "view-in-github"
   },
   "source": [
    "<a href=\"https://colab.research.google.com/github/CLASS-SZ/class_sz/blob/main/docs/notebooks/classy_szfast/classy_szfast_install.ipynb\" target=\"_parent\"><img src=\"https://colab.research.google.com/assets/colab-badge.svg\" alt=\"Open In Colab\"/></a>\n"
   ]
  },
  {
   "cell_type": "markdown",
   "metadata": {
    "id": "sQTPD6PrqLMN"
   },
   "source": [
    "# Installation for developers"
   ]
  },
  {
   "cell_type": "markdown",
   "metadata": {
    "id": "npBlA6RtqHjs"
   },
   "source": [
    "If you are a developer, you may need to modify the C code and the python wrapper to implement your own functions, or modify existing ones. \n",
    "\n",
    "CLASS_SZ functionalities are located in the files:\n",
    "\n",
    "- [**source/class_sz.c**](https://github.com/CLASS-SZ/class_sz/blob/master/class-sz/source/class_sz.c) for the main CLASS_SZ functions,\n",
    "- [**tools/class_sz_tools.c**](https://github.com/CLASS-SZ/class_sz/blob/master/class-sz/tools/class_sz_tools.c) for other useful routines,\n",
    "- [**source/class_sz_clustercounts.c**](https://github.com/CLASS-SZ/class_sz/blob/master/class-sz/source/class_sz_clustercounts.c) for tSZ cluster counts. Since March 2024, CLASS_SZ cluster counts calculations are superseded by [cosmocnc](https://github.com/inigozubeldia/cosmocnc) ([Zubeldia & Bolliet 2024](https://arxiv.org/abs/2403.09589)).\n",
    "\n",
    "And importantly, in the python and cython files:\n",
    "\n",
    "- [**python/classy.pyx**](https://github.com/CLASS-SZ/class_sz/blob/master/class-sz/python/classy.pyx) for the Python wrapper,\n",
    "- [**classy_szfast/classy_szfast.py**](https://github.com/CLASS-SZ/classy_szfast/blob/master/classy_szfast/classy_szfast.py) for the Python wrapper for the emulators,\n",
    "- [**classy_szfast/classy_sz.py**](https://github.com/CLASS-SZ/classy_szfast/blob/master/classy_szfast/classy_sz.py) for the Python wrapper for cobaya,\n",
    "- [**classy_szfast/cosmosis_classy_szfast_interface.py**](https://github.com/CLASS-SZ/classy_szfast/blob/master/python/classy_szfast/cosmosis_classy_szfast_interface.py) for the Python wrapper for cosmosis. \n",
    "\n",
    "To install the C executable, so you can run the C code, you should install from source and compile:\n",
    "\n",
    "Clean up and compile:\n",
    "\n",
    "```bash\n",
    "$ git clone https://github.com/CLASS-SZ/class_sz\n",
    "$ git clone https://github.com/CLASS-SZ/get_cosmopower_emus.git\n",
    "$ cd get_cosmopower_emus\n",
    "$ pip install -e .\n",
    "$ cd ..\n",
    "$ git clone https://github.com/CLASS-SZ/class_sz_data.git\n",
    "$ cd class_sz_data\n",
    "$ pip install -e .\n",
    "$ cd ..\n",
    "$ cd class_sz/class-sz/python\n",
    "$ git clone https://github.com/CLASS-SZ/classy_szfast\n",
    "$ cd ..\n",
    "$ chmod +x select_makefile.sh\n",
    "$ ./select_makefile.sh\n",
    "$ chmod +x download_emulators.sh\n",
    "$ ./download_emulators.sh\n",
    "$ make clean\n",
    "$ make -j\n",
    "$ export PYTHONPATH=$(pwd)/python/classy_szfast:$PYTHONPATH\n",
    "\n",
    "```\n",
    "\n",
    "The `-j` flag speeds up the compilation process by using multiple cores. \n",
    "\n",
    "If it installs, run the C code with many power spectra output:\n",
    "\n",
    "```bash\n",
    "$ ./class_sz class_sz_test.ini\n",
    "```\n",
    "\n",
    "The `.ini` files are the parameter files.\n",
    "\n",
    "If you want to run CLASS and not do the class_sz part, you can! For example:\n",
    "\n",
    "```bash\n",
    "$ ./class_sz explanatory.ini\n",
    "```\n",
    "\n",
    "This will just run the standard CLASS code and its calculations. All depends on what output you request: if you request a class_sz observable or not.\n",
    "\n"
   ]
  }
 ],
 "metadata": {
  "colab": {
   "authorship_tag": "ABX9TyNomB/jTOR9zSFAOAQBc+X9",
   "include_colab_link": true,
   "provenance": []
  },
  "kernelspec": {
   "display_name": "Python 3 (ipykernel)",
   "language": "python",
   "name": "python3"
  },
  "language_info": {
   "codemirror_mode": {
    "name": "ipython",
    "version": 3
   },
   "file_extension": ".py",
   "mimetype": "text/x-python",
   "name": "python",
   "nbconvert_exporter": "python",
   "pygments_lexer": "ipython3",
   "version": "3.9.13"
  }
 },
 "nbformat": 4,
 "nbformat_minor": 4
}
