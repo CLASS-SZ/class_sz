{
 "cells": [
  {
   "cell_type": "markdown",
   "id": "a3461285-3f18-4ba7-9619-4ead5fa207c5",
   "metadata": {},
   "source": [
    "# Intialize"
   ]
  },
  {
   "cell_type": "code",
   "execution_count": 1,
   "id": "f764a698-d3ad-4991-8ca4-f8ba72b05734",
   "metadata": {},
   "outputs": [],
   "source": [
    "%matplotlib inline\n",
    "import matplotlib\n",
    "import matplotlib.pyplot as plt\n",
    "import numpy as np\n",
    "from classy_sz import Class as Class_sz"
   ]
  },
  {
   "cell_type": "code",
   "execution_count": 2,
   "id": "ebd21063-d1ca-4721-a3f4-e66c00e0aae9",
   "metadata": {},
   "outputs": [],
   "source": [
    "cosmo_params = {\n",
    "'omega_b': 0.02242,\n",
    "'omega_cdm':  0.11933,\n",
    "'H0': 67.66, # use H0 because this is what is used by the emulators and to avoid any ambiguity when comparing with camb. \n",
    "'tau_reio': 0.0561,\n",
    "'ln10^{10}A_s': 3.047,\n",
    "'n_s': 0.9665   \n",
    "}"
   ]
  },
  {
   "cell_type": "markdown",
   "id": "91f92e83-72c5-40fe-b8e4-a415bed0c6ff",
   "metadata": {},
   "source": [
    "# Notations\n",
    "\n",
    "In `class_sz`, we use $\\mathrm{Mpc}/h$ units.\n",
    "\n",
    "Let us denote the angular diameter distance $D_A$.\n",
    "\n",
    "Then, the comoving (or coordinate) distance $\\chi$ is given by:\n",
    "\n",
    "$$\\chi = D_A(1+z)$$ \n",
    "\n",
    "Note that in the flat case, this is also the conformal distance. \n",
    "\n",
    "\n",
    "## Definition\n",
    "The comoving distance is the distance traveled by light starting its journey from redshift $z$. We have \n",
    "\n",
    "$$\\chi(z) = \\int_0^z \\frac{d z^\\prime}{H(z^\\prime)}.$$\n",
    "\n",
    "For further details, we refer to Chapter 2 of [Dodelson \\& Schmidt (2021)](https://www.sciencedirect.com/book/9780128159484/modern-cosmology). \n",
    "\n",
    "\n",
    "## Comvong volume\n",
    "\n",
    "An important quantity for LSS calculations is the comvong volume,\n",
    "\n",
    "$$ \\frac{dV}{dz} = \\frac{c\\chi^2}{H}.$$"
   ]
  },
  {
   "cell_type": "markdown",
   "id": "123d4b26-9d0b-4c46-b727-528822e389b1",
   "metadata": {},
   "source": [
    "# Calculation"
   ]
  },
  {
   "cell_type": "code",
   "execution_count": 3,
   "id": "f669b4ae-a304-4a1d-9995-51bb329fb0fa",
   "metadata": {},
   "outputs": [
    {
     "name": "stdout",
     "output_type": "stream",
     "text": [
      "CPU times: user 532 μs, sys: 1.84 ms, total: 2.37 ms\n",
      "Wall time: 2.71 ms\n"
     ]
    },
    {
     "data": {
      "text/plain": [
       "True"
      ]
     },
     "execution_count": 3,
     "metadata": {},
     "output_type": "execute_result"
    }
   ],
   "source": [
    "%%time \n",
    "classy_sz = Class_sz()\n",
    "classy_sz.set(cosmo_params)\n",
    "classy_sz.set({\n",
    "'output':' ',\n",
    "'skip_chi':0,\n",
    "})"
   ]
  },
  {
   "cell_type": "code",
   "execution_count": 4,
   "id": "588083b0-3056-43f8-bd87-54ef25c8e626",
   "metadata": {},
   "outputs": [
    {
     "name": "stdout",
     "output_type": "stream",
     "text": [
      "CPU times: user 198 ms, sys: 77.3 ms, total: 275 ms\n",
      "Wall time: 54.7 ms\n"
     ]
    }
   ],
   "source": [
    "%%time\n",
    "classy_sz.compute_class_szfast()"
   ]
  },
  {
   "cell_type": "code",
   "execution_count": 5,
   "id": "038e6221-a1c5-4b90-967b-b5cce14817ca",
   "metadata": {},
   "outputs": [
    {
     "data": {
      "text/plain": [
       "1697.9299202204513"
      ]
     },
     "execution_count": 5,
     "metadata": {},
     "output_type": "execute_result"
    }
   ],
   "source": [
    "z = 1.\n",
    "classy_sz.get_angular_distance_at_z(z,params_values_dict = cosmo_params)"
   ]
  },
  {
   "cell_type": "markdown",
   "id": "122b0357-4b13-48b2-b0e2-4842869127e1",
   "metadata": {},
   "source": [
    "Update cosmological parameters and recompute"
   ]
  },
  {
   "cell_type": "code",
   "execution_count": 6,
   "id": "26f401df-4234-40d9-ad1c-46dd50a57f70",
   "metadata": {},
   "outputs": [
    {
     "data": {
      "text/plain": [
       "1700.0951046348046"
      ]
     },
     "execution_count": 6,
     "metadata": {},
     "output_type": "execute_result"
    }
   ],
   "source": [
    "cosmo_params.update({'omega_cdm':  0.11833})\n",
    "classy_sz.get_angular_distance_at_z(z,params_values_dict = cosmo_params)"
   ]
  },
  {
   "cell_type": "markdown",
   "id": "796966e5-9cb3-4726-9896-717472231709",
   "metadata": {},
   "source": [
    "Time calculation after initialization"
   ]
  },
  {
   "cell_type": "code",
   "execution_count": 7,
   "id": "870fbae0-f007-46f2-b36c-a8fbbb0a0276",
   "metadata": {},
   "outputs": [
    {
     "name": "stdout",
     "output_type": "stream",
     "text": [
      "20.9 ms ± 4.76 ms per loop (mean ± std. dev. of 10 runs, 50 loops each)\n"
     ]
    }
   ],
   "source": [
    "# 50 loops 10 runs\n",
    "%timeit -n 50 -r 10 classy_sz.get_angular_distance_at_z(z,params_values_dict = cosmo_params)"
   ]
  },
  {
   "cell_type": "markdown",
   "id": "03d4c115-0b63-4319-8a0c-6c04ccd9a5c6",
   "metadata": {
    "tags": []
   },
   "source": [
    "# Plot distance"
   ]
  },
  {
   "cell_type": "code",
   "execution_count": 8,
   "id": "22c1ebe3-bde8-4389-a66d-1ffda3b4f913",
   "metadata": {},
   "outputs": [
    {
     "data": {
      "text/plain": [
       "<matplotlib.legend.Legend at 0x329c4c8f0>"
      ]
     },
     "execution_count": 8,
     "metadata": {},
     "output_type": "execute_result"
    },
    {
     "data": {
      "image/png": "[encoded data removed]",
      "text/plain": [
       "<Figure size 1800x500 with 1 Axes>"
      ]
     },
     "metadata": {},
     "output_type": "display_data"
    }
   ],
   "source": [
    "label_size = 15\n",
    "title_size = 20\n",
    "legend_size = 13\n",
    "handle_length = 1.5\n",
    "fig, (ax1) = plt.subplots(1,1,figsize=(18,5))\n",
    "\n",
    "ax = ax1\n",
    "ax.tick_params(axis = 'x',which='both',length=5,direction='in', pad=10)\n",
    "ax.tick_params(axis = 'y',which='both',length=5,direction='in', pad=5)\n",
    "ax.xaxis.set_ticks_position('both')\n",
    "ax.yaxis.set_ticks_position('both')\n",
    "plt.setp(ax.get_yticklabels(), rotation='horizontal', fontsize=label_size)\n",
    "plt.setp(ax.get_xticklabels(), fontsize=label_size)\n",
    "ax.grid( visible=True, which=\"both\", alpha=0.2, linestyle='--')\n",
    "\n",
    "\n",
    "z = np.linspace(0.,20,100)\n",
    "\n",
    "ax.plot(z,classy_sz.get_angular_distance_at_z(z,params_values_dict = cosmo_params),ls='-',label='class_szfast')\n",
    "\n",
    "\n",
    "\n",
    "\n",
    "\n",
    "\n",
    "ax.set_ylabel(r\"$D_A(z)$\",size=title_size)\n",
    "ax.set_xlabel(r\"$z$\",size=title_size)\n",
    "ax.set_xscale('linear')\n",
    "ax.set_xlim(0,20)\n",
    "ax.legend(fontsize=legend_size)\n",
    "\n"
   ]
  },
  {
   "cell_type": "markdown",
   "id": "71c13542-6beb-49cc-96ff-ba7c038efcdd",
   "metadata": {},
   "source": [
    "# Time computations of $D_A(z)$"
   ]
  },
  {
   "cell_type": "markdown",
   "id": "a2f36c4b-eefc-4943-b6a0-e8e21a441fdc",
   "metadata": {},
   "source": [
    "Initialization"
   ]
  },
  {
   "cell_type": "code",
   "execution_count": 9,
   "id": "231671fe-a514-4ec5-8ac5-16224ecf919d",
   "metadata": {},
   "outputs": [
    {
     "name": "stdout",
     "output_type": "stream",
     "text": [
      "35 ms ± 5.7 ms per loop (mean ± std. dev. of 10 runs, 50 loops each)\n"
     ]
    }
   ],
   "source": [
    "%timeit -n 50 -r 10 classy_sz.compute_class_szfast()"
   ]
  },
  {
   "cell_type": "code",
   "execution_count": 10,
   "id": "5e799898-eb07-4070-b96e-466dd4f7630b",
   "metadata": {},
   "outputs": [
    {
     "name": "stdout",
     "output_type": "stream",
     "text": [
      "17 ms ± 4.6 ms per loop (mean ± std. dev. of 10 runs, 50 loops each)\n"
     ]
    }
   ],
   "source": [
    "z = np.linspace(0.,20,1000)\n",
    "%timeit -n 50  -r 10 classy_sz.get_angular_distance_at_z(z,params_values_dict = cosmo_params)"
   ]
  },
  {
   "cell_type": "markdown",
   "id": "e5e988c4-93e4-4c52-a838-6256329377d0",
   "metadata": {},
   "source": [
    "# Compute with Jax"
   ]
  },
  {
   "cell_type": "code",
   "execution_count": 11,
   "id": "424c28d7-b9b0-4e9b-9cc9-73e582039cf5",
   "metadata": {},
   "outputs": [],
   "source": [
    "from classy_sz import Class as Class_sz\n",
    "import jax.numpy as jnp\n",
    "\n",
    "cosmo_params = {\n",
    "'omega_b': 0.02242,\n",
    "'omega_cdm':  0.11933,\n",
    "'H0': 67.66, # use H0 because this is what is used by the emulators and to avoid any ambiguity when comparing with camb. \n",
    "'tau_reio': 0.0561,\n",
    "'ln10^{10}A_s': 3.047,\n",
    "'n_s': 0.9665   \n",
    "}"
   ]
  },
  {
   "cell_type": "code",
   "execution_count": 12,
   "id": "da874626-5ba1-4bc2-bd2f-14fa660affbc",
   "metadata": {},
   "outputs": [
    {
     "name": "stdout",
     "output_type": "stream",
     "text": [
      "CPU times: user 199 μs, sys: 278 μs, total: 477 μs\n",
      "Wall time: 709 μs\n"
     ]
    },
    {
     "data": {
      "text/plain": [
       "True"
      ]
     },
     "execution_count": 12,
     "metadata": {},
     "output_type": "execute_result"
    }
   ],
   "source": [
    "%%time \n",
    "classy_sz = Class_sz()\n",
    "classy_sz.set(cosmo_params)\n",
    "classy_sz.set({\n",
    "'output':' ',\n",
    "'jax' : 1,\n",
    "})"
   ]
  },
  {
   "cell_type": "code",
   "execution_count": 13,
   "id": "65ec730f-d0a3-4881-a89e-66f495eee8de",
   "metadata": {},
   "outputs": [
    {
     "name": "stdout",
     "output_type": "stream",
     "text": [
      "CPU times: user 498 ms, sys: 70.2 ms, total: 569 ms\n",
      "Wall time: 592 ms\n"
     ]
    }
   ],
   "source": [
    "%%time\n",
    "classy_sz.compute_class_szfast()"
   ]
  },
  {
   "cell_type": "code",
   "execution_count": 14,
   "id": "9654a5d7-01de-4c04-bc17-0fbf53dab8d2",
   "metadata": {},
   "outputs": [
    {
     "data": {
      "text/plain": [
       "Array(1697.92992022, dtype=float64)"
      ]
     },
     "execution_count": 14,
     "metadata": {},
     "output_type": "execute_result"
    }
   ],
   "source": [
    "z = 1.\n",
    "classy_sz.get_angular_distance_at_z(z,params_values_dict = cosmo_params)"
   ]
  },
  {
   "cell_type": "code",
   "execution_count": 15,
   "id": "9726e68d-79e7-4441-a44f-da4a81aac504",
   "metadata": {},
   "outputs": [
    {
     "data": {
      "text/plain": [
       "Array(1700.09510463, dtype=float64)"
      ]
     },
     "execution_count": 15,
     "metadata": {},
     "output_type": "execute_result"
    }
   ],
   "source": [
    "cosmo_params.update({'omega_cdm':  0.11833})\n",
    "classy_sz.get_angular_distance_at_z(z,params_values_dict = cosmo_params)"
   ]
  },
  {
   "cell_type": "code",
   "execution_count": 16,
   "id": "013a5620-55fb-4c2b-886d-701a5e746be0",
   "metadata": {},
   "outputs": [
    {
     "data": {
      "text/plain": [
       "'1700.0951046348045565537177026'"
      ]
     },
     "execution_count": 16,
     "metadata": {},
     "output_type": "execute_result"
    }
   ],
   "source": [
    "z = jnp.linspace(1.,20,1000)\n",
    "\"%.25f\"%classy_sz.get_angular_distance_at_z(z,params_values_dict = cosmo_params)[0]"
   ]
  },
  {
   "cell_type": "code",
   "execution_count": 17,
   "id": "9c4478c6-2686-4b22-9f51-b3b4eb63d18a",
   "metadata": {},
   "outputs": [
    {
     "data": {
      "text/plain": [
       "'1697.9299202204513221658999100'"
      ]
     },
     "execution_count": 17,
     "metadata": {},
     "output_type": "execute_result"
    }
   ],
   "source": [
    "cosmo_params.update({'omega_cdm':  0.11933})\n",
    "z = jnp.linspace(1.,20,1000)\n",
    "\"%.25f\"%classy_sz.get_angular_distance_at_z(z,params_values_dict = cosmo_params)[0]"
   ]
  },
  {
   "cell_type": "markdown",
   "id": "cbae0ed4-1379-4df8-9391-8c68c34b2446",
   "metadata": {},
   "source": [
    "## Compatibility"
   ]
  },
  {
   "cell_type": "code",
   "execution_count": 18,
   "id": "b4270d51-d465-4462-9fc8-2a4911c83110",
   "metadata": {},
   "outputs": [
    {
     "name": "stdout",
     "output_type": "stream",
     "text": [
      "Is D_A(z) a JAX array? True\n",
      "Does D_A(z) support JAX jit? True\n"
     ]
    }
   ],
   "source": [
    "\n",
    "import jax\n",
    "\n",
    "z = jnp.linspace(1., 20, 1000)\n",
    "daz_values = classy_sz.get_angular_distance_at_z(z,params_values_dict = cosmo_params)\n",
    "\n",
    "# Check if it's a JAX array\n",
    "is_jax_array = isinstance(daz_values, jnp.ndarray)\n",
    "\n",
    "# Additional check: apply a JAX function to see if it supports JAX transformations\n",
    "try:\n",
    "    jitted_hubble = jax.jit(classy_sz.get_angular_distance_at_z)(z,params_values_dict = cosmo_params)\n",
    "    supports_jit = True\n",
    "except Exception as e:\n",
    "    supports_jit = False\n",
    "    print(\"Error with jax.jit:\", e)\n",
    "\n",
    "print(\"Is D_A(z) a JAX array?\", is_jax_array)\n",
    "print(\"Does D_A(z) support JAX jit?\", supports_jit)\n"
   ]
  },
  {
   "cell_type": "code",
   "execution_count": 19,
   "id": "79b5b665-e791-44a8-887d-12398736adf6",
   "metadata": {},
   "outputs": [
    {
     "name": "stdout",
     "output_type": "stream",
     "text": [
      "Is get_hubble_at_z a JAX array? True\n"
     ]
    }
   ],
   "source": [
    "daz_values = classy_sz.get_angular_distance_at_z(z,params_values_dict = cosmo_params)\n",
    "is_jax_array = isinstance(daz_values, jnp.ndarray)\n",
    "print(\"Is get_hubble_at_z a JAX array?\", is_jax_array)"
   ]
  },
  {
   "cell_type": "markdown",
   "id": "54802845-78de-462d-815d-b85300b18fa4",
   "metadata": {},
   "source": [
    "## Gradients"
   ]
  },
  {
   "cell_type": "markdown",
   "id": "d422e2ea-4abf-4282-afaf-a2e2495eeea2",
   "metadata": {},
   "source": [
    "### 1 dimension"
   ]
  },
  {
   "cell_type": "markdown",
   "id": "f5fd950a-923b-438e-b003-58283bbdb3b4",
   "metadata": {},
   "source": [
    "At one redshift"
   ]
  },
  {
   "cell_type": "code",
   "execution_count": 20,
   "id": "b0cb98f1-5090-4307-97a2-56a283c6c8d0",
   "metadata": {},
   "outputs": [],
   "source": [
    "z = 1.\n",
    "def DA(H0):\n",
    "    cosmo_params.update({'H0':H0})\n",
    "    daz = classy_sz.get_angular_distance_at_z(z,params_values_dict = cosmo_params)\n",
    "    return daz"
   ]
  },
  {
   "cell_type": "code",
   "execution_count": 21,
   "id": "975fb2d2-cb6e-46b0-8eaf-84030705afdd",
   "metadata": {},
   "outputs": [
    {
     "data": {
      "text/plain": [
       "Array(1630.88521896, dtype=float64)"
      ]
     },
     "execution_count": 21,
     "metadata": {},
     "output_type": "execute_result"
    }
   ],
   "source": [
    "DA(72)"
   ]
  },
  {
   "cell_type": "code",
   "execution_count": 22,
   "id": "3c7f7cf4-00c1-4d7a-83dd-a089410c986b",
   "metadata": {},
   "outputs": [],
   "source": [
    "from jax import grad\n",
    "# Get the derivative of f with respect to p\n",
    "dDA = grad(DA)"
   ]
  },
  {
   "cell_type": "code",
   "execution_count": 23,
   "id": "cc672df6-2375-4af4-b9cf-3c6b7d945a80",
   "metadata": {},
   "outputs": [
    {
     "data": {
      "text/plain": [
       "Array(-14.00494222, dtype=float64, weak_type=True)"
      ]
     },
     "execution_count": 23,
     "metadata": {},
     "output_type": "execute_result"
    }
   ],
   "source": [
    "dDA(76.)"
   ]
  },
  {
   "cell_type": "code",
   "execution_count": 24,
   "id": "697a8553-6e3e-4f99-b6b9-006598f0d895",
   "metadata": {},
   "outputs": [],
   "source": [
    "import numpy as np\n",
    "h = np.geomspace(1e-10, 1e-1,50)\n",
    "dfunc = [(DA(76.+hp)-DA(76))/hp for hp in h]\n",
    "jaxdDA = dDA(76.)"
   ]
  },
  {
   "cell_type": "code",
   "execution_count": 25,
   "id": "e4cd3c43-f695-40b1-9e53-84001d1c9364",
   "metadata": {},
   "outputs": [
    {
     "data": {
      "image/png": "[encoded data removed]",
      "text/plain": [
       "<Figure size 800x600 with 1 Axes>"
      ]
     },
     "metadata": {},
     "output_type": "display_data"
    }
   ],
   "source": [
    "%matplotlib inline\n",
    "import matplotlib.pyplot as plt\n",
    "plt.figure(figsize=(8, 6))\n",
    "plt.plot(h, dfunc, label='Numerical', linestyle='-', marker='o')  # Line plot for 'numerical'\n",
    "plt.axhline(y=jaxdDA, label='JAX', color='r', linestyle='--')   # Horizontal line for 'jax'\n",
    "\n",
    "# Logarithmic scale for x-axis\n",
    "plt.xscale('log')\n",
    "\n",
    "# Axis labels and title\n",
    "plt.xlabel('h (step size)')\n",
    "plt.ylabel('dDA (derivative)')\n",
    "plt.title('Comparison of Numerical and JAX Derivatives')\n",
    "\n",
    "# Thin grid\n",
    "plt.grid(True, which='both', linestyle='--', linewidth=0.5)\n",
    "\n",
    "# Legend\n",
    "plt.legend()\n",
    "\n",
    "# Display plot\n",
    "plt.show()\n"
   ]
  },
  {
   "cell_type": "markdown",
   "id": "871a2a6b-d174-47bc-9843-7ee0160e334f",
   "metadata": {},
   "source": [
    "On a redshift grid"
   ]
  },
  {
   "cell_type": "code",
   "execution_count": 26,
   "id": "21c57793-be74-4d45-a1d5-b2dda942488b",
   "metadata": {},
   "outputs": [],
   "source": [
    "from jax import jacrev, jacfwd\n",
    "z = jnp.linspace(1., 20, 10)\n",
    "\n",
    "def DA(H0):\n",
    "    cosmo_params.update({'H0':H0})\n",
    "    daz = classy_sz.get_angular_distance_at_z(z,params_values_dict = cosmo_params)\n",
    "    return daz"
   ]
  },
  {
   "cell_type": "code",
   "execution_count": 27,
   "id": "a4d88535-5118-4565-ad79-1ad64ad965e8",
   "metadata": {},
   "outputs": [],
   "source": [
    "dDA = jacrev(DA)"
   ]
  },
  {
   "cell_type": "code",
   "execution_count": 28,
   "id": "789eb2a7-02c2-4eb8-b348-5366770ab57e",
   "metadata": {},
   "outputs": [
    {
     "name": "stdout",
     "output_type": "stream",
     "text": [
      "28.4 ms ± 2.99 ms per loop (mean ± std. dev. of 7 runs, 100 loops each)\n"
     ]
    }
   ],
   "source": [
    "%timeit -n 100 dDA(72.)"
   ]
  },
  {
   "cell_type": "code",
   "execution_count": 29,
   "id": "e1b16726-7615-4a28-a51b-7cc3b4d156d0",
   "metadata": {},
   "outputs": [],
   "source": [
    "dDA = jacfwd(DA)"
   ]
  },
  {
   "cell_type": "code",
   "execution_count": 30,
   "id": "643e696d-d04f-4523-9a52-a279cf1542cb",
   "metadata": {},
   "outputs": [
    {
     "name": "stdout",
     "output_type": "stream",
     "text": [
      "21.4 ms ± 4.78 ms per loop (mean ± std. dev. of 7 runs, 100 loops each)\n"
     ]
    }
   ],
   "source": [
    "%timeit -n 100 dDA(72.)"
   ]
  },
  {
   "cell_type": "markdown",
   "id": "6eb7cea8-f560-4854-9d01-675a4ab92bb4",
   "metadata": {},
   "source": [
    "Forward mode is faster. "
   ]
  },
  {
   "cell_type": "markdown",
   "id": "8765559e-6068-4ee5-8e00-fb0004ba8714",
   "metadata": {},
   "source": [
    "### > 1 dimension"
   ]
  },
  {
   "cell_type": "markdown",
   "id": "0eb18b16-5c92-46d6-b8ab-6a19f79a9d9e",
   "metadata": {},
   "source": [
    "At one redshift"
   ]
  },
  {
   "cell_type": "code",
   "execution_count": 31,
   "id": "a47a8849-8f2e-4470-a155-f5f49e901594",
   "metadata": {},
   "outputs": [],
   "source": [
    "z = 1.\n",
    "def DA(H0,omega_cdm):\n",
    "    cosmo_params.update({'H0':H0,\n",
    "                         'omega_cdm':omega_cdm})\n",
    "    result = classy_sz.get_angular_distance_at_z(z,params_values_dict = cosmo_params)\n",
    "    return result"
   ]
  },
  {
   "cell_type": "code",
   "execution_count": 32,
   "id": "8b2da873-e580-436a-88ee-e5d2a3c2c8c4",
   "metadata": {},
   "outputs": [
    {
     "data": {
      "text/plain": [
       "Array(1632.84310812, dtype=float64)"
      ]
     },
     "execution_count": 32,
     "metadata": {},
     "output_type": "execute_result"
    }
   ],
   "source": [
    "DA(72,0.11833)"
   ]
  },
  {
   "cell_type": "code",
   "execution_count": 33,
   "id": "e87ce87d-1e13-4ed9-be18-ab06b6c63ebd",
   "metadata": {},
   "outputs": [],
   "source": [
    "from jax import jacfwd\n",
    "# Get the derivative of f with respect to p\n",
    "dHubble = jacfwd(DA,argnums=(0,1))"
   ]
  },
  {
   "cell_type": "code",
   "execution_count": 34,
   "id": "08913457-2ac5-4b69-aee1-36ec0adf06a6",
   "metadata": {},
   "outputs": [
    {
     "data": {
      "text/plain": [
       "(Array(-14.00494222, dtype=float64), Array(-1783.43448132, dtype=float64))"
      ]
     },
     "execution_count": 34,
     "metadata": {},
     "output_type": "execute_result"
    }
   ],
   "source": [
    "dHubble(76.,0.11933)"
   ]
  },
  {
   "cell_type": "markdown",
   "id": "ed5cdaa5-7338-4782-b814-8f45f03b4a3c",
   "metadata": {},
   "source": [
    "On a redshift grid"
   ]
  },
  {
   "cell_type": "code",
   "execution_count": 35,
   "id": "e9d2d59f-63cf-4ad5-9034-96bfc5cc5b83",
   "metadata": {},
   "outputs": [],
   "source": [
    "z = jnp.linspace(1., 20, 10)\n",
    "\n",
    "def DA(H0,omega_cdm):\n",
    "    cosmo_params.update({'H0':H0,\n",
    "                         'omega_cdm':omega_cdm})\n",
    "    result = classy_sz.get_angular_distance_at_z(z,params_values_dict = cosmo_params)\n",
    "    return result"
   ]
  },
  {
   "cell_type": "code",
   "execution_count": 36,
   "id": "deccbf99-be56-4637-83e7-97c57241be88",
   "metadata": {},
   "outputs": [
    {
     "data": {
      "text/plain": [
       "Array([1632.84310812, 1571.11877833, 1271.8676124 , 1053.46629496,\n",
       "        896.83513331,  780.53912212,  691.07787402,  620.22074422,\n",
       "        562.72907243,  515.15300307], dtype=float64)"
      ]
     },
     "execution_count": 36,
     "metadata": {},
     "output_type": "execute_result"
    }
   ],
   "source": [
    "DA(72,0.11833)"
   ]
  },
  {
   "cell_type": "code",
   "execution_count": 37,
   "id": "0693c119-55e1-4d5e-b612-f0b236afc4c5",
   "metadata": {},
   "outputs": [],
   "source": [
    "dDA = jacfwd(DA,argnums=(0,1))"
   ]
  },
  {
   "cell_type": "code",
   "execution_count": 38,
   "id": "cd033ffe-8170-4d7e-afe2-75af54fa86a6",
   "metadata": {},
   "outputs": [
    {
     "data": {
      "text/plain": [
       "(Array([-14.00494222,  -8.6050116 ,  -5.78514655,  -4.33597964,\n",
       "         -3.4625816 ,  -2.8826046 ,  -2.46779339,  -2.15711573,\n",
       "         -1.91565929,  -1.72323142], dtype=float64),\n",
       " Array([-1783.43448132, -3081.2518757 , -2823.75760283, -2467.51538028,\n",
       "        -2163.88758335, -1920.71914021, -1723.76087679, -1562.73780216,\n",
       "        -1429.03369932, -1316.76429582], dtype=float64))"
      ]
     },
     "execution_count": 38,
     "metadata": {},
     "output_type": "execute_result"
    }
   ],
   "source": [
    "dDA(76.,0.11933)"
   ]
  },
  {
   "cell_type": "markdown",
   "id": "1daf17f1-4bd5-46bd-8a9f-ad2d8832ff3a",
   "metadata": {},
   "source": [
    "## Gradient surface"
   ]
  },
  {
   "cell_type": "markdown",
   "id": "8e3cfa8a-1f8f-419b-b9a8-9c8cfacd8461",
   "metadata": {},
   "source": [
    "Sample code"
   ]
  },
  {
   "cell_type": "code",
   "execution_count": 39,
   "id": "a11883ef-7160-4a9d-87ef-88fd6823784b",
   "metadata": {},
   "outputs": [
    {
     "data": {
      "text/plain": [
       "(Array(-14.00494222, dtype=float64), Array(-1783.43448132, dtype=float64))"
      ]
     },
     "execution_count": 39,
     "metadata": {},
     "output_type": "execute_result"
    }
   ],
   "source": [
    "prior_H0 = (40,100)\n",
    "prior_omega_cdm = (0.08,0.2)\n",
    "\n",
    "\n",
    "z = 1\n",
    "def DA(H0,omega_cdm):\n",
    "    cosmo_params.update({'H0':H0,\n",
    "                         'omega_cdm':omega_cdm})\n",
    "    result = classy_sz.get_angular_distance_at_z(z,params_values_dict = cosmo_params)\n",
    "    return result\n",
    "\n",
    "dDA = jacfwd(DA,argnums=(0,1))\n",
    "\n",
    "# one value: \n",
    "\n",
    "dDA(76.,0.11933)"
   ]
  },
  {
   "cell_type": "markdown",
   "id": "3632a7e6-023b-4ee4-bb02-599976eea8f4",
   "metadata": {},
   "source": [
    "Full grid"
   ]
  },
  {
   "cell_type": "code",
   "execution_count": 40,
   "id": "3d7e1c43-8f2f-4305-b7c8-5299e45bd709",
   "metadata": {},
   "outputs": [],
   "source": [
    "import numpy as np\n",
    "import matplotlib.pyplot as plt\n",
    "from jax import jacfwd\n",
    "import classy_sz  # Assuming classy_sz is properly imported and available\n",
    "\n",
    "cosmo_params = {\n",
    "'omega_b': 0.02242,\n",
    "'omega_cdm':  0.11933,\n",
    "'H0': 67.66, # use H0 because this is what is used by the emulators and to avoid any ambiguity when comparing with camb. \n",
    "'tau_reio': 0.0561,\n",
    "'ln10^{10}A_s': 3.047,\n",
    "'n_s': 0.9665   \n",
    "}\n",
    "\n",
    "classy_sz = Class_sz()\n",
    "classy_sz.set(cosmo_params)\n",
    "classy_sz.set({\n",
    "'output':' ',\n",
    "'skip_hubble':0,\n",
    "'jax' : 1,\n",
    "})\n",
    "\n",
    "classy_sz.compute_class_szfast()\n",
    "\n",
    "# Set up prior ranges\n",
    "prior_H0 = (40, 100)\n",
    "prior_omega_cdm = (0.08, 0.2)\n",
    "\n",
    "# Create meshgrid for H0 and omega_cdm\n",
    "H0_vals = np.linspace(prior_H0[0], prior_H0[1], 100)\n",
    "omega_cdm_vals = np.linspace(prior_omega_cdm[0], prior_omega_cdm[1], 100)\n",
    "H0_grid, omega_cdm_grid = np.meshgrid(H0_vals, omega_cdm_vals)\n",
    "\n",
    "# Define cosmology parameters and set redshift\n",
    "z = 1\n",
    "\n",
    "# Define function to get DA\n",
    "def DA(H0, omega_cdm):\n",
    "    cosmo_params.update({'H0': H0, 'omega_cdm': omega_cdm})\n",
    "    result = classy_sz.get_angular_distance_at_z(z, params_values_dict=cosmo_params)\n",
    "    return result\n",
    "\n",
    "# Calculate derivatives with respect to H0 and omega_cdm\n",
    "dDA = jacfwd(DA, argnums=(0, 1))\n",
    "\n",
    "# Initialize arrays to store derivative values\n",
    "dDA_dH0_values = np.zeros_like(H0_grid)\n",
    "dDA_domega_cdm_values = np.zeros_like(omega_cdm_grid)\n"
   ]
  },
  {
   "cell_type": "code",
   "execution_count": 41,
   "id": "0658eefd-1277-4599-841b-8d20f23b770f",
   "metadata": {},
   "outputs": [
    {
     "name": "stdout",
     "output_type": "stream",
     "text": [
      "CPU times: user 5min 45s, sys: 44.2 s, total: 6min 30s\n",
      "Wall time: 3min 44s\n"
     ]
    }
   ],
   "source": [
    "%%time\n",
    "# Evaluate derivatives over the grid\n",
    "for i in range(H0_grid.shape[0]):\n",
    "    for j in range(H0_grid.shape[1]):\n",
    "        dH0, domega_cdm = dDA(H0_grid[i, j], omega_cdm_grid[i, j])\n",
    "        dDA_dH0_values[i, j] = dH0\n",
    "        dDA_domega_cdm_values[i, j] = domega_cdm"
   ]
  },
  {
   "cell_type": "code",
   "execution_count": 42,
   "id": "c3f8d757-f91f-43d7-866f-b7b5a12433ee",
   "metadata": {},
   "outputs": [
    {
     "data": {
      "image/png": "[encoded data removed]",
      "text/plain": [
       "<Figure size 1400x600 with 4 Axes>"
      ]
     },
     "metadata": {},
     "output_type": "display_data"
    }
   ],
   "source": [
    "# Plotting\n",
    "plt.figure(figsize=(14, 6))\n",
    "\n",
    "# First plot: Derivative with respect to H0\n",
    "plt.subplot(1, 2, 1)\n",
    "plt.contourf(H0_grid, omega_cdm_grid, dDA_dH0_values, cmap='viridis')\n",
    "plt.colorbar(label=r'$\\partial DA / \\partial H_0$')\n",
    "plt.xlabel(r'$H_0$')\n",
    "plt.ylabel(r'$\\omega_{cdm}$')\n",
    "plt.title(r'Derivative of $DA$ with respect to $H_0$')\n",
    "\n",
    "# Second plot: Derivative with respect to omega_cdm\n",
    "plt.subplot(1, 2, 2)\n",
    "plt.contourf(H0_grid, omega_cdm_grid, dDA_domega_cdm_values, cmap='plasma')\n",
    "plt.colorbar(label=r'$\\partial DA / \\partial \\omega_{cdm}$')\n",
    "plt.xlabel(r'$H_0$')\n",
    "plt.ylabel(r'$\\omega_{cdm}$')\n",
    "plt.title(r'Derivative of $DA$ with respect to $\\omega_{cdm}$')\n",
    "\n",
    "plt.tight_layout()\n",
    "plt.show()"
   ]
  }
 ],
 "metadata": {
  "kernelspec": {
   "display_name": "Python (venv_class_sz)",
   "language": "python",
   "name": "venv_class_sz312"
  },
  "language_info": {
   "codemirror_mode": {
    "name": "ipython",
    "version": 3
   },
   "file_extension": ".py",
   "mimetype": "text/x-python",
   "name": "python",
   "nbconvert_exporter": "python",
   "pygments_lexer": "ipython3",
   "version": "3.12.8"
  },
  "widgets": {
   "application/vnd.jupyter.widget-state+json": {
    "state": {},
    "version_major": 2,
    "version_minor": 0
   }
  }
 },
 "nbformat": 4,
 "nbformat_minor": 5
}
