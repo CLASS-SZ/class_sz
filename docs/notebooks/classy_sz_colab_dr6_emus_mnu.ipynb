{
  "nbformat": 4,
  "nbformat_minor": 0,
  "metadata": {
    "colab": {
      "provenance": [],
      "authorship_tag": "ABX9TyOcUfqt5DjHFDUYKVhy0CKC",
      "include_colab_link": true
    },
    "kernelspec": {
      "name": "python3",
      "display_name": "Python 3"
    },
    "language_info": {
      "name": "python"
    }
  },
  "cells": [
    {
      "cell_type": "markdown",
      "metadata": {
        "id": "view-in-github",
        "colab_type": "text"
      },
      "source": [
        "<a href=\"https://colab.research.google.com/github/CLASS-SZ/class_sz/blob/master/docs/notebooks/classy_sz_colab_dr6_emus_mnu.ipynb\" target=\"_parent\"><img src=\"https://colab.research.google.com/assets/colab-badge.svg\" alt=\"Open In Colab\"/></a>"
      ]
    },
    {
      "cell_type": "code",
      "execution_count": 1,
      "metadata": {
        "colab": {
          "base_uri": "https://localhost:8080/"
        },
        "collapsed": true,
        "id": "lbEP1vyf7_jv",
        "outputId": "dee7990f-1760-4865-acc7-9c52bd2849d9"
      },
      "outputs": [
        {
          "output_type": "stream",
          "name": "stdout",
          "text": [
            "Collecting classy_sz\n",
            "  Downloading classy_sz-0.1.70.post32-cp311-cp311-manylinux_2_17_x86_64.manylinux2014_x86_64.whl.metadata (624 bytes)\n",
            "Collecting classy_szfast>=0.0.25.post22 (from classy_sz)\n",
            "  Downloading classy_szfast-0.0.25.post26-py3-none-any.whl.metadata (579 bytes)\n",
            "Requirement already satisfied: numpy>=1.19.0 in /usr/local/lib/python3.11/dist-packages (from classy_szfast>=0.0.25.post22->classy_sz) (1.26.4)\n",
            "Requirement already satisfied: Cython>=0.29.21 in /usr/local/lib/python3.11/dist-packages (from classy_szfast>=0.0.25.post22->classy_sz) (3.0.12)\n",
            "Requirement already satisfied: tensorflow in /usr/local/lib/python3.11/dist-packages (from classy_szfast>=0.0.25.post22->classy_sz) (2.18.0)\n",
            "Collecting mcfit>=0.0.22 (from classy_szfast>=0.0.25.post22->classy_sz)\n",
            "  Downloading mcfit-0.0.22.tar.gz (23 kB)\n",
            "  Preparing metadata (setup.py) ... \u001b[?25l\u001b[?25hdone\n",
            "Collecting get_cosmopower_emus>=0.0.15 (from classy_szfast>=0.0.25.post22->classy_sz)\n",
            "  Downloading get_cosmopower_emus-0.0.16-py3-none-any.whl.metadata (410 bytes)\n",
            "Collecting class_sz_data>=0.0.13 (from classy_szfast>=0.0.25.post22->classy_sz)\n",
            "  Downloading class_sz_data-0.0.14-py3-none-any.whl.metadata (574 bytes)\n",
            "Collecting cosmopower_jax==0.5.5 (from classy_szfast>=0.0.25.post22->classy_sz)\n",
            "  Downloading cosmopower_jax-0.5.5-py3-none-any.whl.metadata (8.9 kB)\n",
            "Requirement already satisfied: jax in /usr/local/lib/python3.11/dist-packages (from cosmopower_jax==0.5.5->classy_szfast>=0.0.25.post22->classy_sz) (0.4.33)\n",
            "Requirement already satisfied: jaxlib in /usr/local/lib/python3.11/dist-packages (from cosmopower_jax==0.5.5->classy_szfast>=0.0.25.post22->classy_sz) (0.4.33)\n",
            "Requirement already satisfied: matplotlib>=3.1.2 in /usr/local/lib/python3.11/dist-packages (from cosmopower_jax==0.5.5->classy_szfast>=0.0.25.post22->classy_sz) (3.10.0)\n",
            "Requirement already satisfied: requests in /usr/local/lib/python3.11/dist-packages (from class_sz_data>=0.0.13->classy_szfast>=0.0.25.post22->classy_sz) (2.32.3)\n",
            "Requirement already satisfied: six in /usr/local/lib/python3.11/dist-packages (from class_sz_data>=0.0.13->classy_szfast>=0.0.25.post22->classy_sz) (1.17.0)\n",
            "Requirement already satisfied: scipy in /usr/local/lib/python3.11/dist-packages (from mcfit>=0.0.22->classy_szfast>=0.0.25.post22->classy_sz) (1.13.1)\n",
            "Requirement already satisfied: mpmath in /usr/local/lib/python3.11/dist-packages (from mcfit>=0.0.22->classy_szfast>=0.0.25.post22->classy_sz) (1.3.0)\n",
            "Requirement already satisfied: absl-py>=1.0.0 in /usr/local/lib/python3.11/dist-packages (from tensorflow->classy_szfast>=0.0.25.post22->classy_sz) (1.4.0)\n",
            "Requirement already satisfied: astunparse>=1.6.0 in /usr/local/lib/python3.11/dist-packages (from tensorflow->classy_szfast>=0.0.25.post22->classy_sz) (1.6.3)\n",
            "Requirement already satisfied: flatbuffers>=24.3.25 in /usr/local/lib/python3.11/dist-packages (from tensorflow->classy_szfast>=0.0.25.post22->classy_sz) (25.2.10)\n",
            "Requirement already satisfied: gast!=0.5.0,!=0.5.1,!=0.5.2,>=0.2.1 in /usr/local/lib/python3.11/dist-packages (from tensorflow->classy_szfast>=0.0.25.post22->classy_sz) (0.6.0)\n",
            "Requirement already satisfied: google-pasta>=0.1.1 in /usr/local/lib/python3.11/dist-packages (from tensorflow->classy_szfast>=0.0.25.post22->classy_sz) (0.2.0)\n",
            "Requirement already satisfied: libclang>=13.0.0 in /usr/local/lib/python3.11/dist-packages (from tensorflow->classy_szfast>=0.0.25.post22->classy_sz) (18.1.1)\n",
            "Requirement already satisfied: opt-einsum>=2.3.2 in /usr/local/lib/python3.11/dist-packages (from tensorflow->classy_szfast>=0.0.25.post22->classy_sz) (3.4.0)\n",
            "Requirement already satisfied: packaging in /usr/local/lib/python3.11/dist-packages (from tensorflow->classy_szfast>=0.0.25.post22->classy_sz) (24.2)\n",
            "Requirement already satisfied: protobuf!=4.21.0,!=4.21.1,!=4.21.2,!=4.21.3,!=4.21.4,!=4.21.5,<6.0.0dev,>=3.20.3 in /usr/local/lib/python3.11/dist-packages (from tensorflow->classy_szfast>=0.0.25.post22->classy_sz) (4.25.6)\n",
            "Requirement already satisfied: setuptools in /usr/local/lib/python3.11/dist-packages (from tensorflow->classy_szfast>=0.0.25.post22->classy_sz) (75.1.0)\n",
            "Requirement already satisfied: termcolor>=1.1.0 in /usr/local/lib/python3.11/dist-packages (from tensorflow->classy_szfast>=0.0.25.post22->classy_sz) (2.5.0)\n",
            "Requirement already satisfied: typing-extensions>=3.6.6 in /usr/local/lib/python3.11/dist-packages (from tensorflow->classy_szfast>=0.0.25.post22->classy_sz) (4.12.2)\n",
            "Requirement already satisfied: wrapt>=1.11.0 in /usr/local/lib/python3.11/dist-packages (from tensorflow->classy_szfast>=0.0.25.post22->classy_sz) (1.17.2)\n",
            "Requirement already satisfied: grpcio<2.0,>=1.24.3 in /usr/local/lib/python3.11/dist-packages (from tensorflow->classy_szfast>=0.0.25.post22->classy_sz) (1.70.0)\n",
            "Requirement already satisfied: tensorboard<2.19,>=2.18 in /usr/local/lib/python3.11/dist-packages (from tensorflow->classy_szfast>=0.0.25.post22->classy_sz) (2.18.0)\n",
            "Requirement already satisfied: keras>=3.5.0 in /usr/local/lib/python3.11/dist-packages (from tensorflow->classy_szfast>=0.0.25.post22->classy_sz) (3.8.0)\n",
            "Requirement already satisfied: h5py>=3.11.0 in /usr/local/lib/python3.11/dist-packages (from tensorflow->classy_szfast>=0.0.25.post22->classy_sz) (3.12.1)\n",
            "Requirement already satisfied: ml-dtypes<0.5.0,>=0.4.0 in /usr/local/lib/python3.11/dist-packages (from tensorflow->classy_szfast>=0.0.25.post22->classy_sz) (0.4.1)\n",
            "Requirement already satisfied: tensorflow-io-gcs-filesystem>=0.23.1 in /usr/local/lib/python3.11/dist-packages (from tensorflow->classy_szfast>=0.0.25.post22->classy_sz) (0.37.1)\n",
            "Requirement already satisfied: wheel<1.0,>=0.23.0 in /usr/local/lib/python3.11/dist-packages (from astunparse>=1.6.0->tensorflow->classy_szfast>=0.0.25.post22->classy_sz) (0.45.1)\n",
            "Requirement already satisfied: rich in /usr/local/lib/python3.11/dist-packages (from keras>=3.5.0->tensorflow->classy_szfast>=0.0.25.post22->classy_sz) (13.9.4)\n",
            "Requirement already satisfied: namex in /usr/local/lib/python3.11/dist-packages (from keras>=3.5.0->tensorflow->classy_szfast>=0.0.25.post22->classy_sz) (0.0.8)\n",
            "Requirement already satisfied: optree in /usr/local/lib/python3.11/dist-packages (from keras>=3.5.0->tensorflow->classy_szfast>=0.0.25.post22->classy_sz) (0.14.1)\n",
            "Requirement already satisfied: contourpy>=1.0.1 in /usr/local/lib/python3.11/dist-packages (from matplotlib>=3.1.2->cosmopower_jax==0.5.5->classy_szfast>=0.0.25.post22->classy_sz) (1.3.1)\n",
            "Requirement already satisfied: cycler>=0.10 in /usr/local/lib/python3.11/dist-packages (from matplotlib>=3.1.2->cosmopower_jax==0.5.5->classy_szfast>=0.0.25.post22->classy_sz) (0.12.1)\n",
            "Requirement already satisfied: fonttools>=4.22.0 in /usr/local/lib/python3.11/dist-packages (from matplotlib>=3.1.2->cosmopower_jax==0.5.5->classy_szfast>=0.0.25.post22->classy_sz) (4.56.0)\n",
            "Requirement already satisfied: kiwisolver>=1.3.1 in /usr/local/lib/python3.11/dist-packages (from matplotlib>=3.1.2->cosmopower_jax==0.5.5->classy_szfast>=0.0.25.post22->classy_sz) (1.4.8)\n",
            "Requirement already satisfied: pillow>=8 in /usr/local/lib/python3.11/dist-packages (from matplotlib>=3.1.2->cosmopower_jax==0.5.5->classy_szfast>=0.0.25.post22->classy_sz) (11.1.0)\n",
            "Requirement already satisfied: pyparsing>=2.3.1 in /usr/local/lib/python3.11/dist-packages (from matplotlib>=3.1.2->cosmopower_jax==0.5.5->classy_szfast>=0.0.25.post22->classy_sz) (3.2.1)\n",
            "Requirement already satisfied: python-dateutil>=2.7 in /usr/local/lib/python3.11/dist-packages (from matplotlib>=3.1.2->cosmopower_jax==0.5.5->classy_szfast>=0.0.25.post22->classy_sz) (2.8.2)\n",
            "Requirement already satisfied: charset-normalizer<4,>=2 in /usr/local/lib/python3.11/dist-packages (from requests->class_sz_data>=0.0.13->classy_szfast>=0.0.25.post22->classy_sz) (3.4.1)\n",
            "Requirement already satisfied: idna<4,>=2.5 in /usr/local/lib/python3.11/dist-packages (from requests->class_sz_data>=0.0.13->classy_szfast>=0.0.25.post22->classy_sz) (3.10)\n",
            "Requirement already satisfied: urllib3<3,>=1.21.1 in /usr/local/lib/python3.11/dist-packages (from requests->class_sz_data>=0.0.13->classy_szfast>=0.0.25.post22->classy_sz) (2.3.0)\n",
            "Requirement already satisfied: certifi>=2017.4.17 in /usr/local/lib/python3.11/dist-packages (from requests->class_sz_data>=0.0.13->classy_szfast>=0.0.25.post22->classy_sz) (2025.1.31)\n",
            "Requirement already satisfied: markdown>=2.6.8 in /usr/local/lib/python3.11/dist-packages (from tensorboard<2.19,>=2.18->tensorflow->classy_szfast>=0.0.25.post22->classy_sz) (3.7)\n",
            "Requirement already satisfied: tensorboard-data-server<0.8.0,>=0.7.0 in /usr/local/lib/python3.11/dist-packages (from tensorboard<2.19,>=2.18->tensorflow->classy_szfast>=0.0.25.post22->classy_sz) (0.7.2)\n",
            "Requirement already satisfied: werkzeug>=1.0.1 in /usr/local/lib/python3.11/dist-packages (from tensorboard<2.19,>=2.18->tensorflow->classy_szfast>=0.0.25.post22->classy_sz) (3.1.3)\n",
            "Requirement already satisfied: MarkupSafe>=2.1.1 in /usr/local/lib/python3.11/dist-packages (from werkzeug>=1.0.1->tensorboard<2.19,>=2.18->tensorflow->classy_szfast>=0.0.25.post22->classy_sz) (3.0.2)\n",
            "Requirement already satisfied: markdown-it-py>=2.2.0 in /usr/local/lib/python3.11/dist-packages (from rich->keras>=3.5.0->tensorflow->classy_szfast>=0.0.25.post22->classy_sz) (3.0.0)\n",
            "Requirement already satisfied: pygments<3.0.0,>=2.13.0 in /usr/local/lib/python3.11/dist-packages (from rich->keras>=3.5.0->tensorflow->classy_szfast>=0.0.25.post22->classy_sz) (2.18.0)\n",
            "Requirement already satisfied: mdurl~=0.1 in /usr/local/lib/python3.11/dist-packages (from markdown-it-py>=2.2.0->rich->keras>=3.5.0->tensorflow->classy_szfast>=0.0.25.post22->classy_sz) (0.1.2)\n",
            "Downloading classy_sz-0.1.70.post32-cp311-cp311-manylinux_2_17_x86_64.manylinux2014_x86_64.whl (5.1 MB)\n",
            "\u001b[2K   \u001b[90m━━━━━━━━━━━━━━━━━━━━━━━━━━━━━━━━━━━━━━━━\u001b[0m \u001b[32m5.1/5.1 MB\u001b[0m \u001b[31m11.8 MB/s\u001b[0m eta \u001b[36m0:00:00\u001b[0m\n",
            "\u001b[?25hDownloading classy_szfast-0.0.25.post26-py3-none-any.whl (34 kB)\n",
            "Downloading cosmopower_jax-0.5.5-py3-none-any.whl (81.1 MB)\n",
            "\u001b[2K   \u001b[90m━━━━━━━━━━━━━━━━━━━━━━━━━━━━━━━━━━━━━━━━\u001b[0m \u001b[32m81.1/81.1 MB\u001b[0m \u001b[31m9.9 MB/s\u001b[0m eta \u001b[36m0:00:00\u001b[0m\n",
            "\u001b[?25hDownloading class_sz_data-0.0.14-py3-none-any.whl (2.6 kB)\n",
            "Downloading get_cosmopower_emus-0.0.16-py3-none-any.whl (2.8 kB)\n",
            "Building wheels for collected packages: mcfit\n",
            "  Building wheel for mcfit (setup.py) ... \u001b[?25l\u001b[?25hdone\n",
            "  Created wheel for mcfit: filename=mcfit-0.0.22-py3-none-any.whl size=27924 sha256=b8cbf7c9f8759df61d53be6f07e67f2e0efaf93761695c567aa218be5e1b447f\n",
            "  Stored in directory: /root/.cache/pip/wheels/b7/cb/1b/95516c5bc48f8bc7fb1f2e3480da8684561b5f1af5d1e66272\n",
            "Successfully built mcfit\n",
            "Installing collected packages: get_cosmopower_emus, mcfit, class_sz_data, cosmopower_jax, classy_szfast, classy_sz\n",
            "Successfully installed class_sz_data-0.0.14 classy_sz-0.1.70.post32 classy_szfast-0.0.25.post26 cosmopower_jax-0.5.5 get_cosmopower_emus-0.0.16 mcfit-0.0.22\n"
          ]
        }
      ],
      "source": [
        "pip install classy_sz"
      ]
    },
    {
      "cell_type": "code",
      "source": [
        "import classy_sz"
      ],
      "metadata": {
        "colab": {
          "base_uri": "https://localhost:8080/"
        },
        "collapsed": true,
        "id": "Q_HSoeb-8F0L",
        "outputId": "4afcbc9e-4f7a-448f-b221-301de706f5a1"
      },
      "execution_count": 2,
      "outputs": [
        {
          "output_type": "stream",
          "name": "stdout",
          "text": [
            "PATH_TO_CLASS_SZ_DATA not set. Setting it now...\n",
            "Defaulting to: /root/class_sz_data_directory\n",
            "--> class_sz_data_directory directory or repositories not found. Cloning repositories in your system!\n",
            "Deleting: /root/class_sz_data_directory/lcdm/growth-and-distances/DAZ_v1.pkl\n",
            "Deleting: /root/class_sz_data_directory/lcdm/growth-and-distances/S8Z_v1.pkl\n",
            "Deleting: /root/class_sz_data_directory/lcdm/growth-and-distances/HZ_v1.pkl\n",
            "Deleting: /root/class_sz_data_directory/lcdm/PK/PKL_v1.pkl\n",
            "Deleting: /root/class_sz_data_directory/lcdm/PK/PKNL_v1.pkl\n",
            "Deleting: /root/class_sz_data_directory/lcdm/TTTEEE/TT_v1.pkl\n",
            "Deleting: /root/class_sz_data_directory/lcdm/TTTEEE/TE_v1.pkl\n",
            "Deleting: /root/class_sz_data_directory/lcdm/TTTEEE/EE_v1.pkl\n",
            "Deleting: /root/class_sz_data_directory/lcdm/derived-parameters/DER_v1.pkl\n",
            "Deleting: /root/class_sz_data_directory/lcdm/PP/PP_v1.pkl\n",
            "Deleting: /root/class_sz_data_directory/mnu/growth-and-distances/DAZ_mnu_v1.pkl\n",
            "Deleting: /root/class_sz_data_directory/mnu/growth-and-distances/S8Z_mnu_v1.pkl\n",
            "Deleting: /root/class_sz_data_directory/mnu/growth-and-distances/HZ_mnu_v1.pkl\n",
            "Deleting: /root/class_sz_data_directory/mnu/PK/PKNL_mnu_v1.pkl\n",
            "Deleting: /root/class_sz_data_directory/mnu/PK/PKL_mnu_v1.pkl\n",
            "Deleting: /root/class_sz_data_directory/mnu/TTTEEE/TE_mnu_v1.pkl\n",
            "Deleting: /root/class_sz_data_directory/mnu/TTTEEE/EE_mnu_v1.pkl\n",
            "Deleting: /root/class_sz_data_directory/mnu/TTTEEE/TT_mnu_v1.pkl\n",
            "Deleting: /root/class_sz_data_directory/mnu/derived-parameters/DER_mnu_v1.pkl\n",
            "Deleting: /root/class_sz_data_directory/mnu/PP/PP_mnu_v1.pkl\n",
            "Deleting: /root/class_sz_data_directory/mnu-3states/growth-and-distances/DAZ_v1.pkl\n",
            "Deleting: /root/class_sz_data_directory/mnu-3states/growth-and-distances/S8Z_v1.pkl\n",
            "Deleting: /root/class_sz_data_directory/mnu-3states/growth-and-distances/HZ_v1.pkl\n",
            "Deleting: /root/class_sz_data_directory/mnu-3states/PK/PKL_v1.pkl\n",
            "Deleting: /root/class_sz_data_directory/mnu-3states/PK/PKNL_v1.pkl\n",
            "Deleting: /root/class_sz_data_directory/mnu-3states/TTTEEE/TT_v1.pkl\n",
            "Deleting: /root/class_sz_data_directory/mnu-3states/TTTEEE/TE_v1.pkl\n",
            "Deleting: /root/class_sz_data_directory/mnu-3states/TTTEEE/EE_v1.pkl\n",
            "Deleting: /root/class_sz_data_directory/mnu-3states/derived-parameters/DER_v1.pkl\n",
            "Deleting: /root/class_sz_data_directory/mnu-3states/PP/PP_v1.pkl\n",
            "Deleting: /root/class_sz_data_directory/ede/growth-and-distances/DAZ_v2.pkl\n",
            "Deleting: /root/class_sz_data_directory/ede/growth-and-distances/HZ_v2.pkl\n",
            "Deleting: /root/class_sz_data_directory/ede/growth-and-distances/DAZ_v1.pkl\n",
            "Deleting: /root/class_sz_data_directory/ede/growth-and-distances/S8Z_v1.pkl\n",
            "Deleting: /root/class_sz_data_directory/ede/growth-and-distances/HZ_v1.pkl\n",
            "Deleting: /root/class_sz_data_directory/ede/growth-and-distances/S8Z_v2.pkl\n",
            "Deleting: /root/class_sz_data_directory/ede/PK/PKLFFTLOGALPHAS_cimag_v0.pkl\n",
            "Deleting: /root/class_sz_data_directory/ede/PK/PKNL_v2.pkl\n",
            "Deleting: /root/class_sz_data_directory/ede/PK/PKL_v1.pkl\n",
            "Deleting: /root/class_sz_data_directory/ede/PK/PKLFFTLOGALPHAS_cimag_v1.pkl\n",
            "Deleting: /root/class_sz_data_directory/ede/PK/PKLFFTLOGALPHAS_creal_v0.pkl\n",
            "Deleting: /root/class_sz_data_directory/ede/PK/PKNLCB_v2.pkl\n",
            "Deleting: /root/class_sz_data_directory/ede/PK/PKLCB_v2.pkl\n",
            "Deleting: /root/class_sz_data_directory/ede/PK/PKL_v2.pkl\n",
            "Deleting: /root/class_sz_data_directory/ede/PK/PKLFFTLOGALPHAS_creal_v1.pkl\n",
            "Deleting: /root/class_sz_data_directory/ede/PK/PKNL_v1.pkl\n",
            "Deleting: /root/class_sz_data_directory/ede/TTTEEE/TT_v2.pkl\n",
            "Deleting: /root/class_sz_data_directory/ede/TTTEEE/uTT_v2.pkl\n",
            "Deleting: /root/class_sz_data_directory/ede/TTTEEE/EE_v2.pkl\n",
            "Deleting: /root/class_sz_data_directory/ede/TTTEEE/TT_v1.pkl\n",
            "Deleting: /root/class_sz_data_directory/ede/TTTEEE/TE_v1.pkl\n",
            "Deleting: /root/class_sz_data_directory/ede/TTTEEE/EE_v1.pkl\n",
            "Deleting: /root/class_sz_data_directory/ede/TTTEEE/uEE_v2.pkl\n",
            "Deleting: /root/class_sz_data_directory/ede/TTTEEE/uTE_v2.pkl\n",
            "Deleting: /root/class_sz_data_directory/ede/TTTEEE/TE_v2.pkl\n",
            "Deleting: /root/class_sz_data_directory/ede/derived-parameters/DER_v2.pkl\n",
            "Deleting: /root/class_sz_data_directory/ede/derived-parameters/DER_v1.pkl\n",
            "Deleting: /root/class_sz_data_directory/ede/BB/BB_v2.pkl\n",
            "Deleting: /root/class_sz_data_directory/ede/BB/uBB_v2.pkl\n",
            "Deleting: /root/class_sz_data_directory/ede/PP/PP_v2.pkl\n",
            "Deleting: /root/class_sz_data_directory/ede/PP/PP_v1.pkl\n",
            "Deleting: /root/class_sz_data_directory/neff/growth-and-distances/S8Z_neff_v1.pkl\n",
            "Deleting: /root/class_sz_data_directory/neff/growth-and-distances/HZ_neff_v1.pkl\n",
            "Deleting: /root/class_sz_data_directory/neff/growth-and-distances/DAZ_neff_v1.pkl\n",
            "Deleting: /root/class_sz_data_directory/neff/PK/PKL_neff_v1.pkl\n",
            "Deleting: /root/class_sz_data_directory/neff/PK/PKNL_neff_v1.pkl\n",
            "Deleting: /root/class_sz_data_directory/neff/TTTEEE/EE_neff_v1.pkl\n",
            "Deleting: /root/class_sz_data_directory/neff/TTTEEE/TE_neff_v1.pkl\n",
            "Deleting: /root/class_sz_data_directory/neff/TTTEEE/TT_neff_v1.pkl\n",
            "Deleting: /root/class_sz_data_directory/neff/derived-parameters/DER_neff_v1.pkl\n",
            "Deleting: /root/class_sz_data_directory/neff/PP/PP_neff_v1.pkl\n",
            "Deleting: /root/class_sz_data_directory/wcdm/growth-and-distances/S8Z_w_v1.pkl\n",
            "Deleting: /root/class_sz_data_directory/wcdm/growth-and-distances/HZ_w_v1.pkl\n",
            "Deleting: /root/class_sz_data_directory/wcdm/growth-and-distances/DAZ_w_v1.pkl\n",
            "Deleting: /root/class_sz_data_directory/wcdm/PK/PKL_w_v1.pkl\n",
            "Deleting: /root/class_sz_data_directory/wcdm/PK/PKNL_w_v1.pkl\n",
            "Deleting: /root/class_sz_data_directory/wcdm/TTTEEE/EE_w_v1.pkl\n",
            "Deleting: /root/class_sz_data_directory/wcdm/TTTEEE/TT_w_v1.pkl\n",
            "Deleting: /root/class_sz_data_directory/wcdm/TTTEEE/TE_w_v1.pkl\n",
            "Deleting: /root/class_sz_data_directory/wcdm/derived-parameters/DER_w_v1.pkl\n",
            "Deleting: /root/class_sz_data_directory/wcdm/PP/PP_w_v1.pkl\n",
            "Repository downloaded successfully.\n",
            "Selected directories from class-sz/ have been copied to /root/class_sz_data_directory.\n",
            "Temporary directory class_sz-master has been deleted.\n"
          ]
        },
        {
          "output_type": "stream",
          "name": "stderr",
          "text": [
            "<frozen importlib._bootstrap>:1047: ImportWarning: _PyDrive2ImportHook.find_spec() not found; falling back to find_module()\n",
            "<frozen importlib._bootstrap>:1047: ImportWarning: _PyDriveImportHook.find_spec() not found; falling back to find_module()\n",
            "<frozen importlib._bootstrap>:1047: ImportWarning: _GenerativeAIImportHook.find_spec() not found; falling back to find_module()\n",
            "<frozen importlib._bootstrap>:1047: ImportWarning: _OpenCVImportHook.find_spec() not found; falling back to find_module()\n",
            "<frozen importlib._bootstrap>:1047: ImportWarning: APICoreClientInfoImportHook.find_spec() not found; falling back to find_module()\n",
            "<frozen importlib._bootstrap>:1047: ImportWarning: _BokehImportHook.find_spec() not found; falling back to find_module()\n",
            "<frozen importlib._bootstrap>:1047: ImportWarning: _AltairImportHook.find_spec() not found; falling back to find_module()\n",
            "<frozen importlib._bootstrap>:1047: ImportWarning: _PyDrive2ImportHook.find_spec() not found; falling back to find_module()\n",
            "<frozen importlib._bootstrap>:1047: ImportWarning: _PyDriveImportHook.find_spec() not found; falling back to find_module()\n",
            "<frozen importlib._bootstrap>:1047: ImportWarning: _GenerativeAIImportHook.find_spec() not found; falling back to find_module()\n",
            "<frozen importlib._bootstrap>:1047: ImportWarning: _OpenCVImportHook.find_spec() not found; falling back to find_module()\n",
            "<frozen importlib._bootstrap>:1047: ImportWarning: APICoreClientInfoImportHook.find_spec() not found; falling back to find_module()\n",
            "<frozen importlib._bootstrap>:1047: ImportWarning: _BokehImportHook.find_spec() not found; falling back to find_module()\n",
            "<frozen importlib._bootstrap>:1047: ImportWarning: _AltairImportHook.find_spec() not found; falling back to find_module()\n",
            "<frozen importlib._bootstrap>:1047: ImportWarning: _PyDrive2ImportHook.find_spec() not found; falling back to find_module()\n",
            "<frozen importlib._bootstrap>:1047: ImportWarning: _PyDriveImportHook.find_spec() not found; falling back to find_module()\n",
            "<frozen importlib._bootstrap>:1047: ImportWarning: _GenerativeAIImportHook.find_spec() not found; falling back to find_module()\n",
            "<frozen importlib._bootstrap>:1047: ImportWarning: _OpenCVImportHook.find_spec() not found; falling back to find_module()\n",
            "<frozen importlib._bootstrap>:1047: ImportWarning: APICoreClientInfoImportHook.find_spec() not found; falling back to find_module()\n",
            "<frozen importlib._bootstrap>:1047: ImportWarning: _BokehImportHook.find_spec() not found; falling back to find_module()\n",
            "<frozen importlib._bootstrap>:1047: ImportWarning: _AltairImportHook.find_spec() not found; falling back to find_module()\n",
            "<frozen importlib._bootstrap>:1047: ImportWarning: _PyDrive2ImportHook.find_spec() not found; falling back to find_module()\n",
            "<frozen importlib._bootstrap>:1047: ImportWarning: _PyDriveImportHook.find_spec() not found; falling back to find_module()\n",
            "<frozen importlib._bootstrap>:1047: ImportWarning: _GenerativeAIImportHook.find_spec() not found; falling back to find_module()\n",
            "<frozen importlib._bootstrap>:1047: ImportWarning: _OpenCVImportHook.find_spec() not found; falling back to find_module()\n",
            "<frozen importlib._bootstrap>:1047: ImportWarning: APICoreClientInfoImportHook.find_spec() not found; falling back to find_module()\n",
            "<frozen importlib._bootstrap>:1047: ImportWarning: _BokehImportHook.find_spec() not found; falling back to find_module()\n",
            "<frozen importlib._bootstrap>:1047: ImportWarning: _AltairImportHook.find_spec() not found; falling back to find_module()\n"
          ]
        }
      ]
    },
    {
      "cell_type": "code",
      "source": [
        "%matplotlib inline\n",
        "import matplotlib\n",
        "import matplotlib.pyplot as plt\n",
        "import numpy as np\n",
        "from classy_sz import Class as Class_sz\n",
        "\n",
        "cosmo_params = {\n",
        "'omega_b': 0.02242,\n",
        "'omega_cdm':  0.11933,\n",
        "'H0': 67.66, # use H0 because this is what is used by the emulators and to avoid any ambiguity when comparing with camb.\n",
        "'tau_reio': 0.0561,\n",
        "'ln10^{10}A_s': 3.047,\n",
        "'n_s': 0.9665\n",
        "}\n",
        "\n",
        "classy_sz = Class_sz()\n",
        "classy_sz.set(cosmo_params)\n",
        "classy_sz.set({\n",
        "'output':'tCl,lCl,pCl,mPk',\n",
        "'skip_cmb': 0,\n",
        "'skip_input': 1,\n",
        "'cosmo_model': 6,\n",
        "'skip_sigma8_and_der': 0,\n",
        "'skip_background_and_thermo': 1,\n",
        "'m_ncdm': 0.02,\n",
        "'skip_chi': 0,\n",
        "'skip_hubble': 0,\n",
        "})\n",
        "\n",
        "\n",
        "classy_sz.compute_class_szfast()\n",
        "print(classy_sz.sigma8())\n",
        "ls = classy_sz.lensed_cl()['ell']\n",
        "cls = classy_sz.lensed_cl()['tt']\n",
        "dls = ls*(ls+1)/2./np.pi*cls\n",
        "plt.loglog(ls,dls)\n",
        "classy_sz.set(\n",
        "    {\n",
        "    'm_ncdm': 0.2,\n",
        "    }\n",
        ")\n",
        "classy_sz.compute_class_szfast()\n",
        "print(classy_sz.sigma8())\n",
        "ls = classy_sz.lensed_cl()['ell']\n",
        "cls = classy_sz.lensed_cl()['tt']\n",
        "dls = ls*(ls+1)/2./np.pi*cls\n",
        "plt.loglog(ls,dls,ls='--')"
      ],
      "metadata": {
        "colab": {
          "base_uri": "https://localhost:8080/",
          "height": 642
        },
        "id": "yoW-pikc8Luo",
        "outputId": "a8b65816-bb8c-4f21-b262-d35c79378280"
      },
      "execution_count": 3,
      "outputs": [
        {
          "output_type": "stream",
          "name": "stderr",
          "text": [
            "/usr/local/lib/python3.11/dist-packages/IPython/core/interactiveshell.py:3553: DeprecationWarning: compute_class_szfast is deprecated. Use initialize_classy_szfast instead.\n",
            "  exec(code_obj, self.user_global_ns, self.user_ns)\n"
          ]
        },
        {
          "output_type": "stream",
          "name": "stdout",
          "text": [
            "0.811879241826057\n",
            "0.7051587403488777\n"
          ]
        },
        {
          "output_type": "execute_result",
          "data": {
            "text/plain": [
              "[<matplotlib.lines.Line2D at 0x7f62d32cb190>]"
            ]
          },
          "metadata": {},
          "execution_count": 3
        },
        {
          "output_type": "stream",
          "name": "stderr",
          "text": [
            "<frozen importlib._bootstrap>:1047: ImportWarning: _PyDrive2ImportHook.find_spec() not found; falling back to find_module()\n",
            "<frozen importlib._bootstrap>:1047: ImportWarning: _PyDriveImportHook.find_spec() not found; falling back to find_module()\n",
            "<frozen importlib._bootstrap>:1047: ImportWarning: _GenerativeAIImportHook.find_spec() not found; falling back to find_module()\n",
            "<frozen importlib._bootstrap>:1047: ImportWarning: _OpenCVImportHook.find_spec() not found; falling back to find_module()\n",
            "<frozen importlib._bootstrap>:1047: ImportWarning: APICoreClientInfoImportHook.find_spec() not found; falling back to find_module()\n",
            "<frozen importlib._bootstrap>:1047: ImportWarning: _BokehImportHook.find_spec() not found; falling back to find_module()\n",
            "<frozen importlib._bootstrap>:1047: ImportWarning: _AltairImportHook.find_spec() not found; falling back to find_module()\n"
          ]
        },
        {
          "output_type": "display_data",
          "data": {
            "text/plain": [
              "<Figure size 640x480 with 1 Axes>"
            ],
            "image/png": "[encoded data removed]"
          },
          "metadata": {}
        }
      ]
    }
  ]
}