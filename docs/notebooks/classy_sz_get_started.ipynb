{
  "nbformat": 4,
  "nbformat_minor": 0,
  "metadata": {
    "colab": {
      "provenance": [],
      "toc_visible": true,
      "authorship_tag": "ABX9TyMA+2LSfTFOKt37OyLsXqTk",
      "include_colab_link": true
    },
    "kernelspec": {
      "name": "python3",
      "display_name": "Python 3"
    },
    "language_info": {
      "name": "python"
    }
  },
  "cells": [
    {
      "cell_type": "markdown",
      "metadata": {
        "id": "view-in-github",
        "colab_type": "text"
      },
      "source": [
        "<a href=\"https://colab.research.google.com/github/CLASS-SZ/class_sz/blob/master/docs/notebooks/classy_sz_get_started.ipynb\" target=\"_parent\"><img src=\"https://colab.research.google.com/assets/colab-badge.svg\" alt=\"Open In Colab\"/></a>"
      ]
    },
    {
      "cell_type": "markdown",
      "source": [
        "# Installation"
      ],
      "metadata": {
        "id": "3UhtXzUaqPc8"
      }
    },
    {
      "cell_type": "code",
      "execution_count": 1,
      "metadata": {
        "colab": {
          "base_uri": "https://localhost:8080/"
        },
        "collapsed": true,
        "id": "45fYZ9t5qLTQ",
        "outputId": "5fde5ca6-8bd2-4bcb-f131-c2b0259818f3"
      },
      "outputs": [
        {
          "output_type": "stream",
          "name": "stdout",
          "text": [
            "Collecting classy_sz\n",
            "  Downloading classy_sz-0.1.70.post11-cp310-cp310-manylinux_2_17_x86_64.manylinux2014_x86_64.whl.metadata (589 bytes)\n",
            "INFO: pip is looking at multiple versions of classy-sz to determine which version is compatible with other requirements. This could take a while.\n",
            "  Downloading classy_sz-0.1.70.post10-cp310-cp310-manylinux_2_17_x86_64.manylinux2014_x86_64.whl.metadata (589 bytes)\n",
            "Collecting classy_szfast>=0.0.25.post12 (from classy_sz)\n",
            "  Downloading classy_szfast-0.0.25.post13-py3-none-any.whl.metadata (572 bytes)\n",
            "Requirement already satisfied: numpy>=1.19.0 in /usr/local/lib/python3.10/dist-packages (from classy_szfast>=0.0.25.post12->classy_sz) (1.26.4)\n",
            "Requirement already satisfied: Cython>=0.29.21 in /usr/local/lib/python3.10/dist-packages (from classy_szfast>=0.0.25.post12->classy_sz) (3.0.11)\n",
            "Requirement already satisfied: tensorflow in /usr/local/lib/python3.10/dist-packages (from classy_szfast>=0.0.25.post12->classy_sz) (2.17.1)\n",
            "Collecting mcfit>=0.0.22 (from classy_szfast>=0.0.25.post12->classy_sz)\n",
            "  Downloading mcfit-0.0.22.tar.gz (23 kB)\n",
            "  Preparing metadata (setup.py) ... \u001b[?25l\u001b[?25hdone\n",
            "Collecting get_cosmopower_emus>=0.0.15 (from classy_szfast>=0.0.25.post12->classy_sz)\n",
            "  Downloading get_cosmopower_emus-0.0.16-py3-none-any.whl.metadata (410 bytes)\n",
            "Collecting class_sz_data>=0.0.13 (from classy_szfast>=0.0.25.post12->classy_sz)\n",
            "  Downloading class_sz_data-0.0.14-py3-none-any.whl.metadata (574 bytes)\n",
            "Collecting cosmopower-jax (from classy_szfast>=0.0.25.post12->classy_sz)\n",
            "  Downloading cosmopower_jax-0.5.5-py3-none-any.whl.metadata (8.9 kB)\n",
            "Requirement already satisfied: requests in /usr/local/lib/python3.10/dist-packages (from class_sz_data>=0.0.13->classy_szfast>=0.0.25.post12->classy_sz) (2.32.3)\n",
            "Requirement already satisfied: six in /usr/local/lib/python3.10/dist-packages (from class_sz_data>=0.0.13->classy_szfast>=0.0.25.post12->classy_sz) (1.17.0)\n",
            "Requirement already satisfied: scipy in /usr/local/lib/python3.10/dist-packages (from mcfit>=0.0.22->classy_szfast>=0.0.25.post12->classy_sz) (1.13.1)\n",
            "Requirement already satisfied: mpmath in /usr/local/lib/python3.10/dist-packages (from mcfit>=0.0.22->classy_szfast>=0.0.25.post12->classy_sz) (1.3.0)\n",
            "Requirement already satisfied: jax in /usr/local/lib/python3.10/dist-packages (from cosmopower-jax->classy_szfast>=0.0.25.post12->classy_sz) (0.4.33)\n",
            "Requirement already satisfied: jaxlib in /usr/local/lib/python3.10/dist-packages (from cosmopower-jax->classy_szfast>=0.0.25.post12->classy_sz) (0.4.33)\n",
            "Requirement already satisfied: matplotlib>=3.1.2 in /usr/local/lib/python3.10/dist-packages (from cosmopower-jax->classy_szfast>=0.0.25.post12->classy_sz) (3.8.0)\n",
            "Requirement already satisfied: absl-py>=1.0.0 in /usr/local/lib/python3.10/dist-packages (from tensorflow->classy_szfast>=0.0.25.post12->classy_sz) (1.4.0)\n",
            "Requirement already satisfied: astunparse>=1.6.0 in /usr/local/lib/python3.10/dist-packages (from tensorflow->classy_szfast>=0.0.25.post12->classy_sz) (1.6.3)\n",
            "Requirement already satisfied: flatbuffers>=24.3.25 in /usr/local/lib/python3.10/dist-packages (from tensorflow->classy_szfast>=0.0.25.post12->classy_sz) (24.3.25)\n",
            "Requirement already satisfied: gast!=0.5.0,!=0.5.1,!=0.5.2,>=0.2.1 in /usr/local/lib/python3.10/dist-packages (from tensorflow->classy_szfast>=0.0.25.post12->classy_sz) (0.6.0)\n",
            "Requirement already satisfied: google-pasta>=0.1.1 in /usr/local/lib/python3.10/dist-packages (from tensorflow->classy_szfast>=0.0.25.post12->classy_sz) (0.2.0)\n",
            "Requirement already satisfied: h5py>=3.10.0 in /usr/local/lib/python3.10/dist-packages (from tensorflow->classy_szfast>=0.0.25.post12->classy_sz) (3.12.1)\n",
            "Requirement already satisfied: libclang>=13.0.0 in /usr/local/lib/python3.10/dist-packages (from tensorflow->classy_szfast>=0.0.25.post12->classy_sz) (18.1.1)\n",
            "Requirement already satisfied: ml-dtypes<0.5.0,>=0.3.1 in /usr/local/lib/python3.10/dist-packages (from tensorflow->classy_szfast>=0.0.25.post12->classy_sz) (0.4.1)\n",
            "Requirement already satisfied: opt-einsum>=2.3.2 in /usr/local/lib/python3.10/dist-packages (from tensorflow->classy_szfast>=0.0.25.post12->classy_sz) (3.4.0)\n",
            "Requirement already satisfied: packaging in /usr/local/lib/python3.10/dist-packages (from tensorflow->classy_szfast>=0.0.25.post12->classy_sz) (24.2)\n",
            "Requirement already satisfied: protobuf!=4.21.0,!=4.21.1,!=4.21.2,!=4.21.3,!=4.21.4,!=4.21.5,<5.0.0dev,>=3.20.3 in /usr/local/lib/python3.10/dist-packages (from tensorflow->classy_szfast>=0.0.25.post12->classy_sz) (4.25.5)\n",
            "Requirement already satisfied: setuptools in /usr/local/lib/python3.10/dist-packages (from tensorflow->classy_szfast>=0.0.25.post12->classy_sz) (75.1.0)\n",
            "Requirement already satisfied: termcolor>=1.1.0 in /usr/local/lib/python3.10/dist-packages (from tensorflow->classy_szfast>=0.0.25.post12->classy_sz) (2.5.0)\n",
            "Requirement already satisfied: typing-extensions>=3.6.6 in /usr/local/lib/python3.10/dist-packages (from tensorflow->classy_szfast>=0.0.25.post12->classy_sz) (4.12.2)\n",
            "Requirement already satisfied: wrapt>=1.11.0 in /usr/local/lib/python3.10/dist-packages (from tensorflow->classy_szfast>=0.0.25.post12->classy_sz) (1.17.0)\n",
            "Requirement already satisfied: grpcio<2.0,>=1.24.3 in /usr/local/lib/python3.10/dist-packages (from tensorflow->classy_szfast>=0.0.25.post12->classy_sz) (1.68.1)\n",
            "Requirement already satisfied: tensorboard<2.18,>=2.17 in /usr/local/lib/python3.10/dist-packages (from tensorflow->classy_szfast>=0.0.25.post12->classy_sz) (2.17.1)\n",
            "Requirement already satisfied: keras>=3.2.0 in /usr/local/lib/python3.10/dist-packages (from tensorflow->classy_szfast>=0.0.25.post12->classy_sz) (3.5.0)\n",
            "Requirement already satisfied: tensorflow-io-gcs-filesystem>=0.23.1 in /usr/local/lib/python3.10/dist-packages (from tensorflow->classy_szfast>=0.0.25.post12->classy_sz) (0.37.1)\n",
            "Requirement already satisfied: wheel<1.0,>=0.23.0 in /usr/local/lib/python3.10/dist-packages (from astunparse>=1.6.0->tensorflow->classy_szfast>=0.0.25.post12->classy_sz) (0.45.1)\n",
            "Requirement already satisfied: rich in /usr/local/lib/python3.10/dist-packages (from keras>=3.2.0->tensorflow->classy_szfast>=0.0.25.post12->classy_sz) (13.9.4)\n",
            "Requirement already satisfied: namex in /usr/local/lib/python3.10/dist-packages (from keras>=3.2.0->tensorflow->classy_szfast>=0.0.25.post12->classy_sz) (0.0.8)\n",
            "Requirement already satisfied: optree in /usr/local/lib/python3.10/dist-packages (from keras>=3.2.0->tensorflow->classy_szfast>=0.0.25.post12->classy_sz) (0.13.1)\n",
            "Requirement already satisfied: contourpy>=1.0.1 in /usr/local/lib/python3.10/dist-packages (from matplotlib>=3.1.2->cosmopower-jax->classy_szfast>=0.0.25.post12->classy_sz) (1.3.1)\n",
            "Requirement already satisfied: cycler>=0.10 in /usr/local/lib/python3.10/dist-packages (from matplotlib>=3.1.2->cosmopower-jax->classy_szfast>=0.0.25.post12->classy_sz) (0.12.1)\n",
            "Requirement already satisfied: fonttools>=4.22.0 in /usr/local/lib/python3.10/dist-packages (from matplotlib>=3.1.2->cosmopower-jax->classy_szfast>=0.0.25.post12->classy_sz) (4.55.3)\n",
            "Requirement already satisfied: kiwisolver>=1.0.1 in /usr/local/lib/python3.10/dist-packages (from matplotlib>=3.1.2->cosmopower-jax->classy_szfast>=0.0.25.post12->classy_sz) (1.4.7)\n",
            "Requirement already satisfied: pillow>=6.2.0 in /usr/local/lib/python3.10/dist-packages (from matplotlib>=3.1.2->cosmopower-jax->classy_szfast>=0.0.25.post12->classy_sz) (11.0.0)\n",
            "Requirement already satisfied: pyparsing>=2.3.1 in /usr/local/lib/python3.10/dist-packages (from matplotlib>=3.1.2->cosmopower-jax->classy_szfast>=0.0.25.post12->classy_sz) (3.2.0)\n",
            "Requirement already satisfied: python-dateutil>=2.7 in /usr/local/lib/python3.10/dist-packages (from matplotlib>=3.1.2->cosmopower-jax->classy_szfast>=0.0.25.post12->classy_sz) (2.8.2)\n",
            "Requirement already satisfied: charset-normalizer<4,>=2 in /usr/local/lib/python3.10/dist-packages (from requests->class_sz_data>=0.0.13->classy_szfast>=0.0.25.post12->classy_sz) (3.4.0)\n",
            "Requirement already satisfied: idna<4,>=2.5 in /usr/local/lib/python3.10/dist-packages (from requests->class_sz_data>=0.0.13->classy_szfast>=0.0.25.post12->classy_sz) (3.10)\n",
            "Requirement already satisfied: urllib3<3,>=1.21.1 in /usr/local/lib/python3.10/dist-packages (from requests->class_sz_data>=0.0.13->classy_szfast>=0.0.25.post12->classy_sz) (2.2.3)\n",
            "Requirement already satisfied: certifi>=2017.4.17 in /usr/local/lib/python3.10/dist-packages (from requests->class_sz_data>=0.0.13->classy_szfast>=0.0.25.post12->classy_sz) (2024.12.14)\n",
            "Requirement already satisfied: markdown>=2.6.8 in /usr/local/lib/python3.10/dist-packages (from tensorboard<2.18,>=2.17->tensorflow->classy_szfast>=0.0.25.post12->classy_sz) (3.7)\n",
            "Requirement already satisfied: tensorboard-data-server<0.8.0,>=0.7.0 in /usr/local/lib/python3.10/dist-packages (from tensorboard<2.18,>=2.17->tensorflow->classy_szfast>=0.0.25.post12->classy_sz) (0.7.2)\n",
            "Requirement already satisfied: werkzeug>=1.0.1 in /usr/local/lib/python3.10/dist-packages (from tensorboard<2.18,>=2.17->tensorflow->classy_szfast>=0.0.25.post12->classy_sz) (3.1.3)\n",
            "Requirement already satisfied: MarkupSafe>=2.1.1 in /usr/local/lib/python3.10/dist-packages (from werkzeug>=1.0.1->tensorboard<2.18,>=2.17->tensorflow->classy_szfast>=0.0.25.post12->classy_sz) (3.0.2)\n",
            "Requirement already satisfied: markdown-it-py>=2.2.0 in /usr/local/lib/python3.10/dist-packages (from rich->keras>=3.2.0->tensorflow->classy_szfast>=0.0.25.post12->classy_sz) (3.0.0)\n",
            "Requirement already satisfied: pygments<3.0.0,>=2.13.0 in /usr/local/lib/python3.10/dist-packages (from rich->keras>=3.2.0->tensorflow->classy_szfast>=0.0.25.post12->classy_sz) (2.18.0)\n",
            "Requirement already satisfied: mdurl~=0.1 in /usr/local/lib/python3.10/dist-packages (from markdown-it-py>=2.2.0->rich->keras>=3.2.0->tensorflow->classy_szfast>=0.0.25.post12->classy_sz) (0.1.2)\n",
            "Downloading classy_sz-0.1.70.post10-cp310-cp310-manylinux_2_17_x86_64.manylinux2014_x86_64.whl (5.1 MB)\n",
            "\u001b[2K   \u001b[90m━━━━━━━━━━━━━━━━━━━━━━━━━━━━━━━━━━━━━━━━\u001b[0m \u001b[32m5.1/5.1 MB\u001b[0m \u001b[31m9.5 MB/s\u001b[0m eta \u001b[36m0:00:00\u001b[0m\n",
            "\u001b[?25hDownloading classy_szfast-0.0.25.post13-py3-none-any.whl (32 kB)\n",
            "Downloading class_sz_data-0.0.14-py3-none-any.whl (2.6 kB)\n",
            "Downloading get_cosmopower_emus-0.0.16-py3-none-any.whl (2.8 kB)\n",
            "Downloading cosmopower_jax-0.5.5-py3-none-any.whl (81.1 MB)\n",
            "\u001b[2K   \u001b[90m━━━━━━━━━━━━━━━━━━━━━━━━━━━━━━━━━━━━━━━━\u001b[0m \u001b[32m81.1/81.1 MB\u001b[0m \u001b[31m7.2 MB/s\u001b[0m eta \u001b[36m0:00:00\u001b[0m\n",
            "\u001b[?25hBuilding wheels for collected packages: mcfit\n",
            "  Building wheel for mcfit (setup.py) ... \u001b[?25l\u001b[?25hdone\n",
            "  Created wheel for mcfit: filename=mcfit-0.0.22-py3-none-any.whl size=27924 sha256=1d752773181a33d43ddd0cc9616dcc3343a6894b39684ad78c40d195d7a19c18\n",
            "  Stored in directory: /root/.cache/pip/wheels/4f/63/d7/ef3b7497a4dfb8a761738a26573871ef650eb5aa571b3dc634\n",
            "Successfully built mcfit\n",
            "Installing collected packages: get_cosmopower_emus, mcfit, class_sz_data, cosmopower-jax, classy_szfast, classy_sz\n",
            "Successfully installed class_sz_data-0.0.14 classy_sz-0.1.70.post10 classy_szfast-0.0.25.post13 cosmopower-jax-0.5.5 get_cosmopower_emus-0.0.16 mcfit-0.0.22\n"
          ]
        }
      ],
      "source": [
        "pip install classy_sz"
      ]
    },
    {
      "cell_type": "markdown",
      "source": [
        "Test installation by importing the package:"
      ],
      "metadata": {
        "id": "YVFsWg_nqf8c"
      }
    },
    {
      "cell_type": "code",
      "source": [
        "import classy_sz"
      ],
      "metadata": {
        "colab": {
          "base_uri": "https://localhost:8080/"
        },
        "collapsed": true,
        "id": "IQSnOHe0qX-Z",
        "outputId": "80661a92-a8c6-4488-c03f-05c742188634"
      },
      "execution_count": 2,
      "outputs": [
        {
          "output_type": "stream",
          "name": "stdout",
          "text": [
            "PATH_TO_CLASS_SZ_DATA not set. Setting it now...\n",
            "Defaulting to: /root/class_sz_data_directory\n",
            "--> class_sz_data_directory directory or repositories not found. Cloning repositories in your system!\n",
            "Deleting: /root/class_sz_data_directory/lcdm/TTTEEE/TT_v1.pkl\n",
            "Deleting: /root/class_sz_data_directory/lcdm/TTTEEE/EE_v1.pkl\n",
            "Deleting: /root/class_sz_data_directory/lcdm/TTTEEE/TE_v1.pkl\n",
            "Deleting: /root/class_sz_data_directory/lcdm/PK/PKNL_v1.pkl\n",
            "Deleting: /root/class_sz_data_directory/lcdm/PK/PKL_v1.pkl\n",
            "Deleting: /root/class_sz_data_directory/lcdm/derived-parameters/DER_v1.pkl\n",
            "Deleting: /root/class_sz_data_directory/lcdm/growth-and-distances/HZ_v1.pkl\n",
            "Deleting: /root/class_sz_data_directory/lcdm/growth-and-distances/S8Z_v1.pkl\n",
            "Deleting: /root/class_sz_data_directory/lcdm/growth-and-distances/DAZ_v1.pkl\n",
            "Deleting: /root/class_sz_data_directory/lcdm/PP/PP_v1.pkl\n",
            "Deleting: /root/class_sz_data_directory/mnu/TTTEEE/TE_mnu_v1.pkl\n",
            "Deleting: /root/class_sz_data_directory/mnu/TTTEEE/EE_mnu_v1.pkl\n",
            "Deleting: /root/class_sz_data_directory/mnu/TTTEEE/TT_mnu_v1.pkl\n",
            "Deleting: /root/class_sz_data_directory/mnu/PK/PKL_mnu_v1.pkl\n",
            "Deleting: /root/class_sz_data_directory/mnu/PK/PKNL_mnu_v1.pkl\n",
            "Deleting: /root/class_sz_data_directory/mnu/derived-parameters/DER_mnu_v1.pkl\n",
            "Deleting: /root/class_sz_data_directory/mnu/growth-and-distances/DAZ_mnu_v1.pkl\n",
            "Deleting: /root/class_sz_data_directory/mnu/growth-and-distances/S8Z_mnu_v1.pkl\n",
            "Deleting: /root/class_sz_data_directory/mnu/growth-and-distances/HZ_mnu_v1.pkl\n",
            "Deleting: /root/class_sz_data_directory/mnu/PP/PP_mnu_v1.pkl\n",
            "Deleting: /root/class_sz_data_directory/mnu-3states/TTTEEE/TT_v1.pkl\n",
            "Deleting: /root/class_sz_data_directory/mnu-3states/TTTEEE/EE_v1.pkl\n",
            "Deleting: /root/class_sz_data_directory/mnu-3states/TTTEEE/TE_v1.pkl\n",
            "Deleting: /root/class_sz_data_directory/mnu-3states/PK/PKNL_v1.pkl\n",
            "Deleting: /root/class_sz_data_directory/mnu-3states/PK/PKL_v1.pkl\n",
            "Deleting: /root/class_sz_data_directory/mnu-3states/derived-parameters/DER_v1.pkl\n",
            "Deleting: /root/class_sz_data_directory/mnu-3states/growth-and-distances/HZ_v1.pkl\n",
            "Deleting: /root/class_sz_data_directory/mnu-3states/growth-and-distances/S8Z_v1.pkl\n",
            "Deleting: /root/class_sz_data_directory/mnu-3states/growth-and-distances/DAZ_v1.pkl\n",
            "Deleting: /root/class_sz_data_directory/mnu-3states/PP/PP_v1.pkl\n",
            "Deleting: /root/class_sz_data_directory/ede/TTTEEE/EE_v2.pkl\n",
            "Deleting: /root/class_sz_data_directory/ede/TTTEEE/TT_v1.pkl\n",
            "Deleting: /root/class_sz_data_directory/ede/TTTEEE/TE_v2.pkl\n",
            "Deleting: /root/class_sz_data_directory/ede/TTTEEE/TT_v2.pkl\n",
            "Deleting: /root/class_sz_data_directory/ede/TTTEEE/uEE_v2.pkl\n",
            "Deleting: /root/class_sz_data_directory/ede/TTTEEE/EE_v1.pkl\n",
            "Deleting: /root/class_sz_data_directory/ede/TTTEEE/uTE_v2.pkl\n",
            "Deleting: /root/class_sz_data_directory/ede/TTTEEE/TE_v1.pkl\n",
            "Deleting: /root/class_sz_data_directory/ede/TTTEEE/uTT_v2.pkl\n",
            "Deleting: /root/class_sz_data_directory/ede/BB/BB_v2.pkl\n",
            "Deleting: /root/class_sz_data_directory/ede/BB/uBB_v2.pkl\n",
            "Deleting: /root/class_sz_data_directory/ede/PK/PKNLCB_v2.pkl\n",
            "Deleting: /root/class_sz_data_directory/ede/PK/PKLFFTLOGALPHAS_creal_v0.pkl\n",
            "Deleting: /root/class_sz_data_directory/ede/PK/PKLFFTLOGALPHAS_cimag_v1.pkl\n",
            "Deleting: /root/class_sz_data_directory/ede/PK/PKNL_v2.pkl\n",
            "Deleting: /root/class_sz_data_directory/ede/PK/PKNL_v1.pkl\n",
            "Deleting: /root/class_sz_data_directory/ede/PK/PKL_v1.pkl\n",
            "Deleting: /root/class_sz_data_directory/ede/PK/PKLFFTLOGALPHAS_creal_v1.pkl\n",
            "Deleting: /root/class_sz_data_directory/ede/PK/PKLFFTLOGALPHAS_cimag_v0.pkl\n",
            "Deleting: /root/class_sz_data_directory/ede/PK/PKLCB_v2.pkl\n",
            "Deleting: /root/class_sz_data_directory/ede/PK/PKL_v2.pkl\n",
            "Deleting: /root/class_sz_data_directory/ede/derived-parameters/DER_v2.pkl\n",
            "Deleting: /root/class_sz_data_directory/ede/derived-parameters/DER_v1.pkl\n",
            "Deleting: /root/class_sz_data_directory/ede/growth-and-distances/HZ_v1.pkl\n",
            "Deleting: /root/class_sz_data_directory/ede/growth-and-distances/S8Z_v1.pkl\n",
            "Deleting: /root/class_sz_data_directory/ede/growth-and-distances/HZ_v2.pkl\n",
            "Deleting: /root/class_sz_data_directory/ede/growth-and-distances/DAZ_v1.pkl\n",
            "Deleting: /root/class_sz_data_directory/ede/growth-and-distances/S8Z_v2.pkl\n",
            "Deleting: /root/class_sz_data_directory/ede/growth-and-distances/DAZ_v2.pkl\n",
            "Deleting: /root/class_sz_data_directory/ede/PP/PP_v1.pkl\n",
            "Deleting: /root/class_sz_data_directory/ede/PP/PP_v2.pkl\n",
            "Deleting: /root/class_sz_data_directory/neff/TTTEEE/TE_neff_v1.pkl\n",
            "Deleting: /root/class_sz_data_directory/neff/TTTEEE/TT_neff_v1.pkl\n",
            "Deleting: /root/class_sz_data_directory/neff/TTTEEE/EE_neff_v1.pkl\n",
            "Deleting: /root/class_sz_data_directory/neff/PK/PKL_neff_v1.pkl\n",
            "Deleting: /root/class_sz_data_directory/neff/PK/PKNL_neff_v1.pkl\n",
            "Deleting: /root/class_sz_data_directory/neff/derived-parameters/DER_neff_v1.pkl\n",
            "Deleting: /root/class_sz_data_directory/neff/growth-and-distances/DAZ_neff_v1.pkl\n",
            "Deleting: /root/class_sz_data_directory/neff/growth-and-distances/HZ_neff_v1.pkl\n",
            "Deleting: /root/class_sz_data_directory/neff/growth-and-distances/S8Z_neff_v1.pkl\n",
            "Deleting: /root/class_sz_data_directory/neff/PP/PP_neff_v1.pkl\n",
            "Deleting: /root/class_sz_data_directory/wcdm/TTTEEE/EE_w_v1.pkl\n",
            "Deleting: /root/class_sz_data_directory/wcdm/TTTEEE/TE_w_v1.pkl\n",
            "Deleting: /root/class_sz_data_directory/wcdm/TTTEEE/TT_w_v1.pkl\n",
            "Deleting: /root/class_sz_data_directory/wcdm/PK/PKNL_w_v1.pkl\n",
            "Deleting: /root/class_sz_data_directory/wcdm/PK/PKL_w_v1.pkl\n",
            "Deleting: /root/class_sz_data_directory/wcdm/derived-parameters/DER_w_v1.pkl\n",
            "Deleting: /root/class_sz_data_directory/wcdm/growth-and-distances/S8Z_w_v1.pkl\n",
            "Deleting: /root/class_sz_data_directory/wcdm/growth-and-distances/DAZ_w_v1.pkl\n",
            "Deleting: /root/class_sz_data_directory/wcdm/growth-and-distances/HZ_w_v1.pkl\n",
            "Deleting: /root/class_sz_data_directory/wcdm/PP/PP_w_v1.pkl\n",
            "Repository downloaded successfully.\n",
            "Selected directories from class-sz/ have been copied to /root/class_sz_data_directory.\n",
            "Temporary directory class_sz-master has been deleted.\n"
          ]
        },
        {
          "output_type": "stream",
          "name": "stderr",
          "text": [
            "<frozen importlib._bootstrap>:914: ImportWarning: _PyDrive2ImportHook.find_spec() not found; falling back to find_module()\n",
            "<frozen importlib._bootstrap>:914: ImportWarning: _PyDriveImportHook.find_spec() not found; falling back to find_module()\n",
            "<frozen importlib._bootstrap>:914: ImportWarning: _GenerativeAIImportHook.find_spec() not found; falling back to find_module()\n",
            "<frozen importlib._bootstrap>:914: ImportWarning: _OpenCVImportHook.find_spec() not found; falling back to find_module()\n",
            "<frozen importlib._bootstrap>:914: ImportWarning: APICoreClientInfoImportHook.find_spec() not found; falling back to find_module()\n",
            "<frozen importlib._bootstrap>:914: ImportWarning: _BokehImportHook.find_spec() not found; falling back to find_module()\n",
            "<frozen importlib._bootstrap>:914: ImportWarning: _AltairImportHook.find_spec() not found; falling back to find_module()\n",
            "<frozen importlib._bootstrap>:914: ImportWarning: _PyDrive2ImportHook.find_spec() not found; falling back to find_module()\n",
            "<frozen importlib._bootstrap>:914: ImportWarning: _PyDriveImportHook.find_spec() not found; falling back to find_module()\n",
            "<frozen importlib._bootstrap>:914: ImportWarning: _GenerativeAIImportHook.find_spec() not found; falling back to find_module()\n",
            "<frozen importlib._bootstrap>:914: ImportWarning: _OpenCVImportHook.find_spec() not found; falling back to find_module()\n",
            "<frozen importlib._bootstrap>:914: ImportWarning: APICoreClientInfoImportHook.find_spec() not found; falling back to find_module()\n",
            "<frozen importlib._bootstrap>:914: ImportWarning: _BokehImportHook.find_spec() not found; falling back to find_module()\n",
            "<frozen importlib._bootstrap>:914: ImportWarning: _AltairImportHook.find_spec() not found; falling back to find_module()\n",
            "<frozen importlib._bootstrap>:914: ImportWarning: _PyDrive2ImportHook.find_spec() not found; falling back to find_module()\n",
            "<frozen importlib._bootstrap>:914: ImportWarning: _PyDriveImportHook.find_spec() not found; falling back to find_module()\n",
            "<frozen importlib._bootstrap>:914: ImportWarning: _GenerativeAIImportHook.find_spec() not found; falling back to find_module()\n",
            "<frozen importlib._bootstrap>:914: ImportWarning: _OpenCVImportHook.find_spec() not found; falling back to find_module()\n",
            "<frozen importlib._bootstrap>:914: ImportWarning: APICoreClientInfoImportHook.find_spec() not found; falling back to find_module()\n",
            "<frozen importlib._bootstrap>:914: ImportWarning: _BokehImportHook.find_spec() not found; falling back to find_module()\n",
            "<frozen importlib._bootstrap>:914: ImportWarning: _AltairImportHook.find_spec() not found; falling back to find_module()\n",
            "<frozen importlib._bootstrap>:914: ImportWarning: _PyDrive2ImportHook.find_spec() not found; falling back to find_module()\n",
            "<frozen importlib._bootstrap>:914: ImportWarning: _PyDriveImportHook.find_spec() not found; falling back to find_module()\n",
            "<frozen importlib._bootstrap>:914: ImportWarning: _GenerativeAIImportHook.find_spec() not found; falling back to find_module()\n",
            "<frozen importlib._bootstrap>:914: ImportWarning: _OpenCVImportHook.find_spec() not found; falling back to find_module()\n",
            "<frozen importlib._bootstrap>:914: ImportWarning: APICoreClientInfoImportHook.find_spec() not found; falling back to find_module()\n",
            "<frozen importlib._bootstrap>:914: ImportWarning: _BokehImportHook.find_spec() not found; falling back to find_module()\n",
            "<frozen importlib._bootstrap>:914: ImportWarning: _AltairImportHook.find_spec() not found; falling back to find_module()\n"
          ]
        }
      ]
    },
    {
      "cell_type": "markdown",
      "source": [
        "## Calculations\n",
        "\n",
        "### Hubble"
      ],
      "metadata": {
        "id": "7qv_IWmorMGx"
      }
    },
    {
      "cell_type": "code",
      "source": [
        "from classy_sz import Class as Class_sz\n",
        "cosmo_params = {\n",
        "'omega_b': 0.02242,\n",
        "'omega_cdm':  0.11933,\n",
        "'H0': 67.66,\n",
        "'tau_reio': 0.0561,\n",
        "'ln10^{10}A_s': 3.047,\n",
        "'n_s': 0.9665\n",
        "}"
      ],
      "metadata": {
        "id": "zx_Av-fZrK9W"
      },
      "execution_count": 3,
      "outputs": []
    },
    {
      "cell_type": "code",
      "source": [
        "%%time\n",
        "classy_sz = Class_sz()\n",
        "classy_sz.set(cosmo_params)\n",
        "classy_sz.set({\n",
        "'output':' ',\n",
        "'skip_hubble':0,\n",
        "})"
      ],
      "metadata": {
        "colab": {
          "base_uri": "https://localhost:8080/"
        },
        "id": "54QhdztYqlMl",
        "outputId": "55916996-0c42-4e7a-a238-5b4ad90394fd"
      },
      "execution_count": 4,
      "outputs": [
        {
          "output_type": "stream",
          "name": "stdout",
          "text": [
            "CPU times: user 383 µs, sys: 0 ns, total: 383 µs\n",
            "Wall time: 8.52 ms\n"
          ]
        },
        {
          "output_type": "execute_result",
          "data": {
            "text/plain": [
              "True"
            ]
          },
          "metadata": {},
          "execution_count": 4
        }
      ]
    },
    {
      "cell_type": "code",
      "source": [
        "%%time\n",
        "classy_sz.compute_class_szfast()"
      ],
      "metadata": {
        "colab": {
          "base_uri": "https://localhost:8080/"
        },
        "id": "JjZmUzk3rdlc",
        "outputId": "40ff3dce-756c-4b29-eb19-66689019fd4f"
      },
      "execution_count": 5,
      "outputs": [
        {
          "output_type": "stream",
          "name": "stdout",
          "text": [
            "CPU times: user 15.8 ms, sys: 44.8 ms, total: 60.6 ms\n",
            "Wall time: 41.2 ms\n"
          ]
        }
      ]
    },
    {
      "cell_type": "code",
      "source": [
        "classy_sz.get_H(0.)"
      ],
      "metadata": {
        "colab": {
          "base_uri": "https://localhost:8080/"
        },
        "id": "hyo1rNfYrgIC",
        "outputId": "6c915335-82f8-423a-d7a0-cf9d2e4a9de5"
      },
      "execution_count": 6,
      "outputs": [
        {
          "output_type": "execute_result",
          "data": {
            "text/plain": [
              "0.00033359796437495265"
            ]
          },
          "metadata": {},
          "execution_count": 6
        }
      ]
    },
    {
      "cell_type": "code",
      "source": [
        "classy_sz.Hubble(1.)"
      ],
      "metadata": {
        "colab": {
          "base_uri": "https://localhost:8080/"
        },
        "id": "0gb6DwDmrh_7",
        "outputId": "5fe8b2f6-71ec-4c18-cada-c486774c2e75"
      },
      "execution_count": 7,
      "outputs": [
        {
          "output_type": "execute_result",
          "data": {
            "text/plain": [
              "0.0004023684284735257"
            ]
          },
          "metadata": {},
          "execution_count": 7
        }
      ]
    },
    {
      "cell_type": "code",
      "source": [
        "classy_sz.get_hubble_at_z(1,params_values_dict = cosmo_params)"
      ],
      "metadata": {
        "colab": {
          "base_uri": "https://localhost:8080/"
        },
        "id": "9ijhZm85rjP7",
        "outputId": "14e4e318-c9dc-40ad-83d2-e8c2dd14bdaa"
      },
      "execution_count": 8,
      "outputs": [
        {
          "output_type": "execute_result",
          "data": {
            "text/plain": [
              "array(0.00040237)"
            ]
          },
          "metadata": {},
          "execution_count": 8
        }
      ]
    },
    {
      "cell_type": "code",
      "source": [
        "import matplotlib.pyplot as plt\n",
        "import numpy as np\n",
        "label_size = 15\n",
        "title_size = 20\n",
        "legend_size = 13\n",
        "handle_length = 1.5\n",
        "fig, (ax1) = plt.subplots(1,1,figsize=(18,5))\n",
        "\n",
        "ax = ax1\n",
        "ax.tick_params(axis = 'x',which='both',length=5,direction='in', pad=10)\n",
        "ax.tick_params(axis = 'y',which='both',length=5,direction='in', pad=5)\n",
        "ax.xaxis.set_ticks_position('both')\n",
        "ax.yaxis.set_ticks_position('both')\n",
        "plt.setp(ax.get_yticklabels(), rotation='horizontal', fontsize=label_size)\n",
        "plt.setp(ax.get_xticklabels(), fontsize=label_size)\n",
        "ax.grid( visible=True, which=\"both\", alpha=0.2, linestyle='--')\n",
        "\n",
        "\n",
        "z = np.linspace(0.,20,100)\n",
        "\n",
        "ax.plot(z,classy_sz.get_H(z),ls='-',label='class_szfast')\n",
        "\n",
        "\n",
        "ax.set_ylabel(r\"$H(z)$\",size=title_size)\n",
        "ax.set_xlabel(r\"$z$\",size=title_size)\n",
        "ax.set_xscale('linear')\n",
        "ax.set_yscale('log')\n",
        "ax.set_xlim(0,20)\n",
        "ax.legend(fontsize=legend_size)"
      ],
      "metadata": {
        "colab": {
          "base_uri": "https://localhost:8080/",
          "height": 618
        },
        "id": "mmCvm1RarlVw",
        "outputId": "e60403d0-414a-47ac-8e58-fda20f4c09fd"
      },
      "execution_count": 9,
      "outputs": [
        {
          "output_type": "execute_result",
          "data": {
            "text/plain": [
              "<matplotlib.legend.Legend at 0x794c9d3b7f70>"
            ]
          },
          "metadata": {},
          "execution_count": 9
        },
        {
          "output_type": "stream",
          "name": "stderr",
          "text": [
            "<frozen importlib._bootstrap>:914: ImportWarning: _PyDrive2ImportHook.find_spec() not found; falling back to find_module()\n",
            "<frozen importlib._bootstrap>:914: ImportWarning: _PyDriveImportHook.find_spec() not found; falling back to find_module()\n",
            "<frozen importlib._bootstrap>:914: ImportWarning: _GenerativeAIImportHook.find_spec() not found; falling back to find_module()\n",
            "<frozen importlib._bootstrap>:914: ImportWarning: _OpenCVImportHook.find_spec() not found; falling back to find_module()\n",
            "<frozen importlib._bootstrap>:914: ImportWarning: APICoreClientInfoImportHook.find_spec() not found; falling back to find_module()\n",
            "<frozen importlib._bootstrap>:914: ImportWarning: _BokehImportHook.find_spec() not found; falling back to find_module()\n",
            "<frozen importlib._bootstrap>:914: ImportWarning: _AltairImportHook.find_spec() not found; falling back to find_module()\n"
          ]
        },
        {
          "output_type": "display_data",
          "data": {
            "text/plain": [
              "<Figure size 1800x500 with 1 Axes>"
            ],
            "image/png": "[encoded data removed]"
          },
          "metadata": {}
        }
      ]
    },
    {
      "cell_type": "markdown",
      "source": [
        "With jax:"
      ],
      "metadata": {
        "id": "Ex4OQ49xr5Gw"
      }
    },
    {
      "cell_type": "code",
      "source": [
        "%%time\n",
        "classy_sz = Class_sz()\n",
        "classy_sz.set(cosmo_params)\n",
        "classy_sz.set({\n",
        "'output':' ',\n",
        "'jax' : 1,\n",
        "})"
      ],
      "metadata": {
        "colab": {
          "base_uri": "https://localhost:8080/"
        },
        "id": "jffdHvEYrpOt",
        "outputId": "35edd479-ea66-463f-dc7d-efd969a7499f"
      },
      "execution_count": 10,
      "outputs": [
        {
          "output_type": "stream",
          "name": "stdout",
          "text": [
            "CPU times: user 189 µs, sys: 0 ns, total: 189 µs\n",
            "Wall time: 196 µs\n"
          ]
        },
        {
          "output_type": "execute_result",
          "data": {
            "text/plain": [
              "True"
            ]
          },
          "metadata": {},
          "execution_count": 10
        }
      ]
    },
    {
      "cell_type": "code",
      "source": [
        "%%time\n",
        "classy_sz.compute_class_szfast()"
      ],
      "metadata": {
        "colab": {
          "base_uri": "https://localhost:8080/"
        },
        "id": "19YF73O9r70V",
        "outputId": "ff550042-7e44-4c75-915b-e74e2c205692"
      },
      "execution_count": 11,
      "outputs": [
        {
          "output_type": "stream",
          "name": "stdout",
          "text": [
            "CPU times: user 739 ms, sys: 83 ms, total: 822 ms\n",
            "Wall time: 1.59 s\n"
          ]
        }
      ]
    },
    {
      "cell_type": "code",
      "source": [
        "z = 1.\n",
        "classy_sz.get_hubble_at_z(z,params_values_dict = cosmo_params)"
      ],
      "metadata": {
        "colab": {
          "base_uri": "https://localhost:8080/"
        },
        "id": "_bPYayHYr9e7",
        "outputId": "dbbfc7d6-0088-425a-d52e-6204f54eab8c"
      },
      "execution_count": 12,
      "outputs": [
        {
          "output_type": "execute_result",
          "data": {
            "text/plain": [
              "Array(0.00040237, dtype=float64)"
            ]
          },
          "metadata": {},
          "execution_count": 12
        }
      ]
    },
    {
      "cell_type": "code",
      "source": [
        "z = 1.\n",
        "def Hubble(H0):\n",
        "    cosmo_params.update({'H0':H0})\n",
        "    hz = classy_sz.get_hubble_at_z(z,params_values_dict = cosmo_params)\n",
        "    return hz"
      ],
      "metadata": {
        "id": "WUaAgbBY-RDh"
      },
      "execution_count": 13,
      "outputs": []
    },
    {
      "cell_type": "code",
      "source": [
        "from jax import grad\n",
        "# Get the derivative of f with respect to p\n",
        "dHubble = grad(Hubble)"
      ],
      "metadata": {
        "id": "yUrUSoJr-TiH"
      },
      "execution_count": 14,
      "outputs": []
    },
    {
      "cell_type": "code",
      "source": [
        "dHubble(76.)"
      ],
      "metadata": {
        "colab": {
          "base_uri": "https://localhost:8080/"
        },
        "id": "5fAixm3h-VaU",
        "outputId": "ca8f1535-0cbc-4705-8a48-4dd1f820c126"
      },
      "execution_count": 15,
      "outputs": [
        {
          "output_type": "execute_result",
          "data": {
            "text/plain": [
              "Array(2.02039159e-06, dtype=float64, weak_type=True)"
            ]
          },
          "metadata": {},
          "execution_count": 15
        }
      ]
    },
    {
      "cell_type": "markdown",
      "source": [
        "### tSZ power spectrum"
      ],
      "metadata": {
        "id": "mLarbkqPsKOj"
      }
    },
    {
      "cell_type": "code",
      "source": [
        "cosmo_params= {\n",
        "'omega_b': 0.02242,\n",
        "'omega_cdm':  0.11933,\n",
        "'H0': 67.66,\n",
        "'tau_reio': 0.0561,\n",
        "'ln10^{10}A_s': 3.047,\n",
        "'n_s': 0.9665,\n",
        "\"cosmo_model\": 1, # use mnu-lcdm emulators\n",
        "}\n",
        "\n",
        "precision_params = {\n",
        "'x_outSZ': 4., # truncate profile beyond x_outSZ*r_s\n",
        "\n",
        "'n_m_pressure_profile' :50, # default: 100, decrease for faster\n",
        "'n_z_pressure_profile' :50, # default: 100, decrease for faster\n",
        "\n",
        "\n",
        "'use_fft_for_profiles_transform' : 1, # use fft's or not.\n",
        "# only used if use_fft_for_profiles_transform set to 1\n",
        "'N_samp_fftw' : 512,\n",
        "'x_min_gas_pressure_fftw' : 1e-4,\n",
        "'x_max_gas_pressure_fftw' : 1e4,\n",
        "\n",
        "\n",
        "'ndim_redshifts' :30,\n",
        "\n",
        "\n",
        "'redshift_epsabs': 1.0e-40,\n",
        "'redshift_epsrel': 0.0001,\n",
        "\n",
        "\n",
        "'mass_epsabs': 1.0e-40,\n",
        "'mass_epsrel': 0.0001\n",
        "}"
      ],
      "metadata": {
        "id": "cGjLRgjDsAP_"
      },
      "execution_count": 16,
      "outputs": []
    },
    {
      "cell_type": "code",
      "source": [
        "fsky = 1.\n",
        "ell_min = 100\n",
        "ell_max = 8000\n",
        "dlogell = 0.2"
      ],
      "metadata": {
        "id": "qUxkAKL8sUG3"
      },
      "execution_count": 17,
      "outputs": []
    },
    {
      "cell_type": "code",
      "source": [
        "%%time\n",
        "classy_sz = Class_sz()\n",
        "classy_sz.set(cosmo_params)\n",
        "classy_sz.set(precision_params)\n",
        "classy_sz.set({\n",
        "\n",
        "'output': 'tSZ_1h,tSZ_Trispectrum',\n",
        "\n",
        "\"ell_min\" : ell_min,\n",
        "\"ell_max\" : ell_max,\n",
        "'dell': 0.,\n",
        "'dlogell': dlogell,\n",
        "\n",
        "# 'z_min' : 0.005,\n",
        "'z_max' : 3.0,\n",
        "'M_min' : 1.0e10,\n",
        "'M_max' : 3.5e15,\n",
        "\n",
        "\n",
        "'mass_function' : 'T08M500c',\n",
        "'pressure_profile':'A10',\n",
        "\n",
        "\n",
        "})\n",
        "classy_sz.compute_class_szfast()"
      ],
      "metadata": {
        "colab": {
          "base_uri": "https://localhost:8080/"
        },
        "id": "D0eT5V6fsYrH",
        "outputId": "88ec92cd-31ce-4e11-8339-7a89a6219e5e"
      },
      "execution_count": 18,
      "outputs": [
        {
          "output_type": "stream",
          "name": "stderr",
          "text": [
            "/usr/local/lib/python3.10/dist-packages/mcfit/mcfit.py:130: UserWarning: use backend='jax' if desired\n",
            "  warnings.warn(\"use backend='jax' if desired\")\n"
          ]
        },
        {
          "output_type": "stream",
          "name": "stdout",
          "text": [
            "CPU times: user 12.8 s, sys: 175 ms, total: 12.9 s\n",
            "Wall time: 6.8 s\n"
          ]
        }
      ]
    },
    {
      "cell_type": "code",
      "source": [
        "l = np.asarray(classy_sz.cl_sz()['ell'])\n",
        "bin_edges = np.sqrt(l[:-1] * l[1:])\n",
        "bin_edges = np.concatenate(([ell_min], bin_edges, [ell_max]))\n",
        "all_ls = np.arange(ell_min,ell_max)\n",
        "dells , _ = np.histogram(all_ls, bins=bin_edges)"
      ],
      "metadata": {
        "id": "ZBCqCZkasbFw"
      },
      "execution_count": 19,
      "outputs": []
    },
    {
      "cell_type": "code",
      "source": [
        "%%time\n",
        "\n",
        "\n",
        "dl_yy_1h = np.asarray(classy_sz.cl_sz()['1h'])\n",
        "tllprime_sz = classy_sz.tllprime_sz().copy() # note: sqrt(T_ll') ~ 10^12 y^2 ~ C_l\n",
        "tllp = np.zeros((len(l),len(l)))\n",
        "mllp = np.zeros((len(l),len(l)))\n",
        "mllpG = np.zeros((len(l),len(l)))\n",
        "for il in range(len(l)):\n",
        "    for ilp in range(len(l)):\n",
        "        lil =l[il]\n",
        "        lilp = l[ilp]\n",
        "        dell = dells[il]\n",
        "        sig_gauss_l = np.sqrt(2./(2*lil+1.))*dl_yy_1h[il]/np.sqrt(dell*fsky)\n",
        "        if il == ilp:\n",
        "            mllp[il][ilp] = (sig_gauss_l*sig_gauss_l+lil*(lil+1.)/2./np.pi*lilp*(lilp+1.)/2./np.pi*tllprime_sz[il][ilp]/4./np.pi/fsky)*1e-24\n",
        "            mllpG[il][ilp] = (sig_gauss_l*sig_gauss_l)*1e-24\n",
        "        else:\n",
        "            mllp[il][ilp] = lil*(lil+1.)/2./np.pi*lilp*(lilp+1.)/2./np.pi*tllprime_sz[il][ilp]/4./np.pi/fsky*1e-24\n",
        "        tllp[il][ilp] = lil*(lil+1.)/2./np.pi*lilp*(lilp+1.)/2./np.pi*tllprime_sz[il][ilp]*1e-24"
      ],
      "metadata": {
        "colab": {
          "base_uri": "https://localhost:8080/"
        },
        "id": "kGPfXM5FsmA2",
        "outputId": "3b831447-75db-4c02-814c-e08cb85207c1"
      },
      "execution_count": 20,
      "outputs": [
        {
          "output_type": "stream",
          "name": "stdout",
          "text": [
            "CPU times: user 8.59 ms, sys: 52 µs, total: 8.64 ms\n",
            "Wall time: 17 ms\n"
          ]
        }
      ]
    },
    {
      "cell_type": "code",
      "source": [
        "plt.imshow(tllp)\n",
        "plt.title(\"class_sz\")\n",
        "plt.colorbar()"
      ],
      "metadata": {
        "colab": {
          "base_uri": "https://localhost:8080/",
          "height": 469
        },
        "id": "OSf_QwZRsmW6",
        "outputId": "5d3604af-2f0f-414e-89b5-7c9270091925"
      },
      "execution_count": 21,
      "outputs": [
        {
          "output_type": "execute_result",
          "data": {
            "text/plain": [
              "<matplotlib.colorbar.Colorbar at 0x794bf0e230d0>"
            ]
          },
          "metadata": {},
          "execution_count": 21
        },
        {
          "output_type": "display_data",
          "data": {
            "text/plain": [
              "<Figure size 640x480 with 2 Axes>"
            ],
            "image/png": "[encoded data removed]"
          },
          "metadata": {}
        }
      ]
    },
    {
      "cell_type": "code",
      "source": [
        "label_size = 17\n",
        "title_size = 18\n",
        "legend_size = 13\n",
        "handle_length = 1.5\n",
        "fig, (ax1) = plt.subplots(1,1,figsize=(5,5))\n",
        "ax = ax1\n",
        "ax.tick_params(axis = 'x',which='both',length=5,direction='in', pad=10)\n",
        "ax.tick_params(axis = 'y',which='both',length=5,direction='in', pad=5)\n",
        "ax.xaxis.set_ticks_position('both')\n",
        "ax.yaxis.set_ticks_position('both')\n",
        "plt.setp(ax.get_yticklabels(), rotation='horizontal', fontsize=label_size)\n",
        "plt.setp(ax.get_xticklabels(), fontsize=label_size)\n",
        "ax.grid( visible=True, which=\"both\", alpha=0.2, linestyle='--')\n",
        "ax.set_xlabel(r\"$\\ell$ \",size=title_size)\n",
        "ax.set_ylabel(r\"$10^{12}D_\\ell$\",size=title_size)\n",
        "ax.set_xscale('log')\n",
        "ax.set_yscale('log')\n",
        "\n",
        "ax.plot(l,dl_yy_1h,label='1halo',marker='o',markersize=2.,lw=0.1)\n",
        "for edge in bin_edges:\n",
        "    ax.axvline(edge, color='red', linestyle='--', linewidth=0.7,alpha=0.2)  # Customize as needed\n",
        "\n",
        "yerrG = np.sqrt(np.diag(mllpG))\n",
        "yerrTOT = np.sqrt(np.diag(mllp))\n",
        "ax.errorbar(l,dl_yy_1h,yerr=1e12*yerrTOT,ls='None',c='k')\n",
        "ax.errorbar(l,dl_yy_1h,yerr=1e12*yerrG,ls='None',c='r')\n",
        "\n",
        "ax.set_xlim(100,8000)"
      ],
      "metadata": {
        "colab": {
          "base_uri": "https://localhost:8080/",
          "height": 509
        },
        "id": "XASvMvvOsoJ_",
        "outputId": "e876a257-a7af-4102-a1c5-d0831d153db0"
      },
      "execution_count": 22,
      "outputs": [
        {
          "output_type": "execute_result",
          "data": {
            "text/plain": [
              "(100, 8000)"
            ]
          },
          "metadata": {},
          "execution_count": 22
        },
        {
          "output_type": "display_data",
          "data": {
            "text/plain": [
              "<Figure size 500x500 with 1 Axes>"
            ],
            "image/png": "[encoded data removed]"
          },
          "metadata": {}
        }
      ]
    },
    {
      "cell_type": "markdown",
      "source": [
        "Note that the gauusian contribution in first bin here only accounts for half the number of modes. Either truncate it, or ammend the code above.  "
      ],
      "metadata": {
        "id": "idDjaibYs3xX"
      }
    },
    {
      "cell_type": "markdown",
      "source": [
        "## Matter power spectrum"
      ],
      "metadata": {
        "id": "uoUGXUju9aUK"
      }
    },
    {
      "cell_type": "code",
      "source": [
        "cosmo_params = {\n",
        "'omega_b': 0.02242,\n",
        "'omega_cdm':  0.11933,\n",
        "'H0': 67.66, # use H0 because this is what is used by the emulators and to avoid any ambiguity when comparing with camb.\n",
        "'tau_reio': 0.0561,\n",
        "'ln10^{10}A_s': 3.047,\n",
        "'n_s': 0.9665\n",
        "}\n",
        "\n",
        "# initialize computation\n",
        "classy_sz = Class_sz()\n",
        "classy_sz.set(cosmo_params)\n",
        "classy_sz.set({\n",
        "'output':'mPk',\n",
        "'jax': 1\n",
        "})\n",
        "classy_sz.compute_class_szfast()"
      ],
      "metadata": {
        "id": "aEqLyjOb9cHy"
      },
      "execution_count": 23,
      "outputs": []
    },
    {
      "cell_type": "code",
      "source": [
        "%%time\n",
        "z = 0.3\n",
        "pks,ks = classy_sz.get_pkl_at_z(z,params_values_dict = cosmo_params)"
      ],
      "metadata": {
        "colab": {
          "base_uri": "https://localhost:8080/"
        },
        "id": "UPPJMAUa9kAa",
        "outputId": "ecd2dc9d-f2aa-4af3-8a76-2d120cfa623e"
      },
      "execution_count": 24,
      "outputs": [
        {
          "output_type": "stream",
          "name": "stdout",
          "text": [
            "CPU times: user 95.7 ms, sys: 36.9 ms, total: 133 ms\n",
            "Wall time: 135 ms\n"
          ]
        },
        {
          "output_type": "stream",
          "name": "stderr",
          "text": [
            "/usr/local/lib/python3.10/dist-packages/ipykernel/ipkernel.py:283: DeprecationWarning: `should_run_async` will not call `transform_cell` automatically in the future. Please pass the result to `transformed_cell` argument and any exception that happen during thetransform in `preprocessing_exc_tuple` in IPython 7.17 and above.\n",
            "  and should_run_async(code)\n"
          ]
        }
      ]
    },
    {
      "cell_type": "code",
      "source": [
        "plt.plot(ks,pks)\n",
        "cosmo_params.update({'H0':82,'n_s':0.75})\n",
        "pks,ks = classy_sz.get_pkl_at_z(z,params_values_dict = cosmo_params)\n",
        "plt.plot(ks,pks)\n",
        "plt.loglog()"
      ],
      "metadata": {
        "colab": {
          "base_uri": "https://localhost:8080/",
          "height": 451
        },
        "id": "JGTS9XEd9m-k",
        "outputId": "f9da98c0-f4a8-4757-e510-57f52b669002"
      },
      "execution_count": 25,
      "outputs": [
        {
          "output_type": "execute_result",
          "data": {
            "text/plain": [
              "[]"
            ]
          },
          "metadata": {},
          "execution_count": 25
        },
        {
          "output_type": "display_data",
          "data": {
            "text/plain": [
              "<Figure size 640x480 with 1 Axes>"
            ],
            "image/png": "[encoded data removed]"
          },
          "metadata": {}
        }
      ]
    },
    {
      "cell_type": "code",
      "source": [
        "# import jax.scipy as jscipy\n",
        "# Define the interpolating function\n",
        "import jax.numpy as jnp\n",
        "def get_pkl_at_z_and_k(z,k,cosmo_params):\n",
        "    pks,ks = classy_sz.get_pkl_at_z(z,params_values_dict = cosmo_params)\n",
        "\n",
        "    # Interpolate in log-log space\n",
        "    log_ks = jnp.log(ks)\n",
        "    log_pks = jnp.log(pks.flatten())\n",
        "\n",
        "    log_k = jnp.log(k)\n",
        "\n",
        "    log_pk = jnp.interp(log_k,log_ks, log_pks)\n",
        "    return jnp.exp(log_pk)  # Return the interpolated result in linear space\n",
        "\n",
        "# Example usage\n",
        "k = 0.1  # Example k value\n",
        "z = 1.5\n",
        "H0 =69.\n",
        "cosmo_params.update({'H0':H0})\n",
        "pkl = get_pkl_at_z_and_k(z,k,cosmo_params)\n",
        "\n",
        "pkl"
      ],
      "metadata": {
        "colab": {
          "base_uri": "https://localhost:8080/"
        },
        "id": "jgZiDhkt9osz",
        "outputId": "76d1dae7-f269-40cd-9802-97cbfcd2c2e6"
      },
      "execution_count": 26,
      "outputs": [
        {
          "output_type": "execute_result",
          "data": {
            "text/plain": [
              "Array(2212.62073428, dtype=float64)"
            ]
          },
          "metadata": {},
          "execution_count": 26
        }
      ]
    },
    {
      "cell_type": "code",
      "source": [
        "import jax\n",
        "jax.__version__"
      ],
      "metadata": {
        "colab": {
          "base_uri": "https://localhost:8080/",
          "height": 35
        },
        "id": "5xgrWo4S9tJZ",
        "outputId": "745a1b4a-cd2a-41c7-b5d4-b714fec29ec0"
      },
      "execution_count": 27,
      "outputs": [
        {
          "output_type": "execute_result",
          "data": {
            "text/plain": [
              "'0.4.33'"
            ],
            "application/vnd.google.colaboratory.intrinsic+json": {
              "type": "string"
            }
          },
          "metadata": {},
          "execution_count": 27
        }
      ]
    },
    {
      "cell_type": "code",
      "source": [
        "z = 1.\n",
        "k = 1e-1\n",
        "def Pk(H0):\n",
        "    cosmo_params.update({'H0':H0})\n",
        "    result = get_pkl_at_z_and_k(z,k,cosmo_params)\n",
        "    return result"
      ],
      "metadata": {
        "id": "AfZPRAT89z6I"
      },
      "execution_count": 28,
      "outputs": []
    },
    {
      "cell_type": "code",
      "source": [
        "from jax import jacfwd\n",
        "# Get the derivative of f with respect to p\n",
        "dPk = jacfwd(Pk)"
      ],
      "metadata": {
        "id": "MN3588Gi93En"
      },
      "execution_count": 29,
      "outputs": []
    },
    {
      "cell_type": "code",
      "source": [
        "dPk(76.)"
      ],
      "metadata": {
        "colab": {
          "base_uri": "https://localhost:8080/"
        },
        "id": "W-cX6DjW956Q",
        "outputId": "5f6e0752-51fd-4497-d869-4ca59e8a7daa"
      },
      "execution_count": 30,
      "outputs": [
        {
          "output_type": "execute_result",
          "data": {
            "text/plain": [
              "Array(-12.15693211, dtype=float64)"
            ]
          },
          "metadata": {},
          "execution_count": 30
        }
      ]
    }
  ]
}