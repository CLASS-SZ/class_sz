{
 "cells": [
  {
   "cell_type": "code",
   "execution_count": 1,
   "metadata": {},
   "outputs": [],
   "source": [
    "# import necessary modules\n",
    "# uncomment to get plots displayed in notebook\n",
    "%matplotlib inline\n",
    "import matplotlib\n",
    "import matplotlib.pyplot as plt\n",
    "import numpy as np\n",
    "from classy_sz import Class\n",
    "from scipy.optimize import fsolve\n",
    "from scipy.interpolate import interp1d\n",
    "import math"
   ]
  },
  {
   "cell_type": "code",
   "execution_count": 2,
   "metadata": {},
   "outputs": [],
   "source": [
    "# esthetic definitions for the plots\n",
    "font = {'size'   : 16, 'family':'STIXGeneral'}\n",
    "axislabelfontsize='large'\n",
    "matplotlib.rc('font', **font)\n",
    "matplotlib.mathtext.rcParams['legend.fontsize']='medium'\n",
    "plt.rcParams[\"figure.figsize\"] = [8.0,6.0]"
   ]
  },
  {
   "cell_type": "code",
   "execution_count": 3,
   "metadata": {},
   "outputs": [],
   "source": [
    "import nemo as nm"
   ]
  },
  {
   "cell_type": "code",
   "execution_count": null,
   "metadata": {},
   "outputs": [],
   "source": []
  },
  {
   "cell_type": "markdown",
   "metadata": {},
   "source": [
    "# From Matt's files to class_sz selection function format"
   ]
  },
  {
   "cell_type": "code",
   "execution_count": 2,
   "metadata": {},
   "outputs": [],
   "source": [
    "path_to_catalogue = '/Users/boris/Work/CLASS-SZ/SO-SZ/so_cluster_counts/MFMF_WebSkyHalos_A10tSZ_3freq_tiles_pass2/MFMF_WebSkyHalos_A10tSZ_3freq_tiles/'\n",
    "path_to_selfn = '/Users/boris/Work/CLASS-SZ/SO-SZ/so_cluster_counts/MFMF_WebSkyHalos_A10tSZ_3freq_tiles_pass2/MFMF_WebSkyHalos_A10tSZ_3freq_tiles_pass2/selFn/'\n",
    "Qfits  = path_to_selfn + 'QFit.fits'"
   ]
  },
  {
   "cell_type": "code",
   "execution_count": 3,
   "metadata": {},
   "outputs": [],
   "source": [
    "from astropy.io import fits\n",
    "#\"fits_image_filename = fits.util.get_testdata_filepath(path_to_catalogue+'MFMF_SOSim_3freq_tiles_M500.fits')\n",
    "tcat = path_to_catalogue+'MFMF_WebSkyHalos_A10tSZ_3freq_tiles_mass.fits'\n",
    "list = fits.open(tcat)\n",
    "data = list[1].data\n",
    "z = data.field(\"redshift\")\n",
    "snr = data.field(\"SNR\")\n",
    "tile = data.field(\"tileName\")\n",
    "\n",
    "\n"
   ]
  },
  {
   "cell_type": "code",
   "execution_count": 14,
   "metadata": {},
   "outputs": [
    {
     "data": {
      "text/plain": [
       "50331648"
      ]
     },
     "execution_count": 14,
     "metadata": {},
     "output_type": "execute_result"
    }
   ],
   "source": [
    "list = fits.open('/Users/boris/Downloads/unmaskedareafrac-flag.fits')\n",
    "\n",
    "list[0].header\n",
    "data = list[0].data\n",
    "\n",
    "len(data)"
   ]
  },
  {
   "cell_type": "code",
   "execution_count": 15,
   "metadata": {},
   "outputs": [
    {
     "data": {
      "text/plain": [
       "SIMPLE  =                    T / conforms to FITS standard                      \n",
       "BITPIX  =                  -64 / array data type                                \n",
       "NAXIS   =                    1 / number of array dimensions                     \n",
       "NAXIS1  =             50331648                                                  \n",
       "EXTEND  =                    T                                                  "
      ]
     },
     "execution_count": 15,
     "metadata": {},
     "output_type": "execute_result"
    }
   ],
   "source": [
    "list[0].header"
   ]
  },
  {
   "cell_type": "code",
   "execution_count": 6,
   "metadata": {},
   "outputs": [],
   "source": [
    "# SO RMS data\n",
    "import os"
   ]
  },
  {
   "cell_type": "code",
   "execution_count": 7,
   "metadata": {},
   "outputs": [],
   "source": [
    "# path_to_selfn = '/Users/boris/Work/CLASS-SZ/SO-SZ/class_sz_external_data_and_scripts/MFMF_SOSim_3freq_tiles/selFn/'\n",
    "RMS_table = path_to_selfn +'RMSTab.fits'\n",
    "tile_area = np.genfromtxt(os.path.join(path_to_selfn, 'tileAreas.txt'), dtype=str)"
   ]
  },
  {
   "cell_type": "code",
   "execution_count": 8,
   "metadata": {},
   "outputs": [],
   "source": [
    "list = fits.open(RMS_table)\n",
    "data = list[1].data"
   ]
  },
  {
   "cell_type": "code",
   "execution_count": 9,
   "metadata": {},
   "outputs": [
    {
     "data": {
      "text/plain": [
       "XTENSION= 'BINTABLE'           / binary table extension                         \n",
       "BITPIX  =                    8 / array data type                                \n",
       "NAXIS   =                    2 / number of array dimensions                     \n",
       "NAXIS1  =                   23 / length of dimension 1                          \n",
       "NAXIS2  =                61197 / length of dimension 2                          \n",
       "PCOUNT  =                    0 / number of group parameters                     \n",
       "GCOUNT  =                    1 / number of groups                               \n",
       "TFIELDS =                    3 / number of table fields                         \n",
       "TTYPE1  = 'areaDeg2'                                                            \n",
       "TFORM1  = 'D       '                                                            \n",
       "TTYPE2  = 'y0RMS   '                                                            \n",
       "TFORM2  = 'D       '                                                            \n",
       "TTYPE3  = 'tileName'                                                            \n",
       "TFORM3  = '7A      '                                                            \n",
       "NEMOVER = '0.4.0b3+120.g542317d.dirty'                                          "
      ]
     },
     "execution_count": 9,
     "metadata": {},
     "output_type": "execute_result"
    }
   ],
   "source": [
    "list[1].header"
   ]
  },
  {
   "cell_type": "code",
   "execution_count": 10,
   "metadata": {},
   "outputs": [
    {
     "data": {
      "text/plain": [
       "61197"
      ]
     },
     "execution_count": 10,
     "metadata": {},
     "output_type": "execute_result"
    }
   ],
   "source": [
    "skyfracs = data.field(\"areaDeg2\")\n",
    "noise = data.field(\"y0RMS\")\n",
    "tname = data.field(\"tileName\")\n",
    "tilename = tile_area[:,0]\n",
    "np.size(tilename)\n",
    "skyfracs.size"
   ]
  },
  {
   "cell_type": "code",
   "execution_count": 11,
   "metadata": {},
   "outputs": [
    {
     "name": "stdout",
     "output_type": "stream",
     "text": [
      "\r",
      " Noise map is downsampled to speed up a completeness compuation by 50\n",
      "\r",
      " Number of sky patches =  451\n",
      "\r",
      " Entire survey area =  17884.522553016595 deg2\n"
     ]
    }
   ],
   "source": [
    "# downsampling\n",
    "skyfracs0 = []\n",
    "noise0 = []\n",
    "tname0 = []\n",
    "\n",
    "downsample = 50\n",
    "stepSize = downsample*1e-7\n",
    "binEdges = np.arange(min(noise), max(noise)+stepSize, stepSize)\n",
    "#print(len(binEdges)-1)\n",
    "\n",
    "for i in range(len(tilename)):\n",
    "     noise_tile = []\n",
    "     skyfracs_tile = []\n",
    "     tname_tile = []\n",
    "\n",
    "     for j in range(len(noise)):\n",
    "         if tname[j] == tilename[i]:\n",
    "             noise_tile.append(noise[j])\n",
    "             skyfracs_tile.append(skyfracs[j])\n",
    "             tname_tile.append(tname[j])\n",
    "\n",
    "     noise_arr = np.array(noise_tile)\n",
    "     skyfracs_arr = np.array(skyfracs_tile)\n",
    "     tname_arr = np.array(tname_tile)\n",
    "\n",
    "     skyfracs_masked = []\n",
    "     noise_masked = []\n",
    "     tname_masked = []\n",
    "\n",
    "     for k in range(len(binEdges)-1):\n",
    "         mask = np.logical_and(noise_arr >= binEdges[k], noise_arr < binEdges[k+1])\n",
    "         if mask.sum() > 0:\n",
    "             noise_masked.append(np.average(noise_arr[mask], weights=skyfracs_arr[mask]))\n",
    "             skyfracs_masked.append(np.sum(skyfracs_arr[mask]))\n",
    "             tname_masked.append(tilename[i])\n",
    "\n",
    "     noise0.append(noise_masked)\n",
    "     skyfracs0.append(skyfracs_masked)\n",
    "     tname0.append(tname_masked)\n",
    "\n",
    "#print(len(noise0))\n",
    "noise = np.array([item for singleList in noise0 for item in singleList])\n",
    "skyfracs = np.array([item for singleList in skyfracs0 for item in singleList])*np.deg2rad(1.)**2.\n",
    "tname_reduced = np.array([item for singleList in tname0 for item in singleList])\n",
    "\n",
    "tname = []\n",
    "\n",
    "for i in range(len(tname_reduced)):\n",
    "    for j in range(len(tilename)):\n",
    "        if tname_reduced[i] == tilename[j]:\n",
    "            tname.append(j+1)\n",
    "\n",
    "tname = np.array(tname)\n",
    "\n",
    "print(\"\\r Noise map is downsampled to speed up a completeness compuation by %d\" %downsample)\n",
    "print(\"\\r Number of sky patches = \", skyfracs.size)\n",
    "\n",
    "\n",
    "print(\"\\r Entire survey area = \", skyfracs.sum()/(np.deg2rad(1.)**2.), \"deg2\")\n",
    "\n"
   ]
  },
  {
   "cell_type": "code",
   "execution_count": 75,
   "metadata": {},
   "outputs": [
    {
     "data": {
      "text/plain": [
       "XTENSION= 'BINTABLE'           / binary table extension                         \n",
       "BITPIX  =                    8 / array data type                                \n",
       "NAXIS   =                    2 / number of array dimensions                     \n",
       "NAXIS1  =                   24 / length of dimension 1                          \n",
       "NAXIS2  =                   51 / length of dimension 2                          \n",
       "PCOUNT  =                    0 / number of group parameters                     \n",
       "GCOUNT  =                    1 / number of groups                               \n",
       "TFIELDS =                    3 / number of table fields                         \n",
       "NEMOVER = '0.4.0b3+120.g542317d.dirty'                                          \n",
       "ZDEPQ   =                    0                                                  \n",
       "EXTNAME = '1_0_0   '           / extension name                                 \n",
       "TTYPE1  = 'Q       '                                                            \n",
       "TFORM1  = 'D       '                                                            \n",
       "TTYPE2  = 'theta500Arcmin'                                                      \n",
       "TFORM2  = 'D       '                                                            \n",
       "TTYPE3  = 'z       '                                                            \n",
       "TFORM3  = 'D       '                                                            "
      ]
     },
     "execution_count": 75,
     "metadata": {},
     "output_type": "execute_result"
    }
   ],
   "source": [
    "list = fits.open(Qfits)\n",
    "data = list[1].data\n",
    "list[1].header"
   ]
  },
  {
   "cell_type": "code",
   "execution_count": 76,
   "metadata": {},
   "outputs": [
    {
     "name": "stdout",
     "output_type": "stream",
     "text": [
      "\r",
      " Number of tiles =  346\n",
      "\r",
      " Number of Q functions =  1\n",
      "\r",
      " Using one averaged Q function for optimisation\n"
     ]
    }
   ],
   "source": [
    "# Nt = len(tilename)\n",
    "# print(\"\\r Number of tiles = \", Nt)\n",
    "\n",
    "\n",
    "# list = fits.open(Qfits)\n",
    "# data = list[1].data\n",
    "# tt500 = data.field(\"theta500Arcmin\")\n",
    "\n",
    "# # reading in all Q functions\n",
    "# allQ = np.zeros((len(tt500),Nt))\n",
    "# for i in range(Nt):\n",
    "# #     allQ[:,i] = data.field(tilename[i])\n",
    "#     allQ[:,i] = data.field('Q') # seems like only one Q function\n",
    "# assert len(tt500) == len(allQ[:,0])\n",
    "\n",
    "\n",
    "# # meanQ = np.delete(allQ, np.s_[103,328], axis=1) # manually for now\n",
    "# meanQ = allQ\n",
    "# Q = np.mean(meanQ, axis=1)\n",
    "# print(\"\\r Number of Q functions = \", Q.ndim)\n",
    "# print(\"\\r Using one averaged Q function for optimisation\")\n",
    "\n"
   ]
  },
  {
   "cell_type": "code",
   "execution_count": 77,
   "metadata": {},
   "outputs": [],
   "source": [
    "QFit = nm.signals.QFit(QFitFileName = path_to_selfn + 'QFit.fits', tileNames = tile_area[:,0])"
   ]
  },
  {
   "cell_type": "code",
   "execution_count": 78,
   "metadata": {},
   "outputs": [
    {
     "name": "stdout",
     "output_type": "stream",
     "text": [
      "\r",
      " Number of tiles =  346\n",
      "\r",
      " Number of Q functions =  1\n",
      "\r",
      " Using one averaged Q function for optimisation\n"
     ]
    }
   ],
   "source": [
    "Nt = len(tilename)\n",
    "print(\"\\r Number of tiles = \", Nt)\n",
    "\n",
    "\n",
    "list = fits.open(Qfits)\n",
    "data = list[1].data\n",
    "tt500 = data.field(\"theta500Arcmin\")\n",
    "\n",
    "# reading in all Q functions\n",
    "allQ = np.zeros((len(tt500),Nt))\n",
    "for i in range(Nt):\n",
    "#     allQ[:,i] = data.field(tilename[i])\n",
    "#     allQ[:,i] = data.field('Q') # seems like only one Q function\n",
    "    allQ[:,i] = QFit.getQ(data.field(\"theta500Arcmin\"),tileName = tile_area[:,0][i])\n",
    "assert len(tt500) == len(allQ[:,0])\n",
    "\n",
    "\n",
    "# meanQ = np.delete(allQ, np.s_[103,328], axis=1) # manually for now\n",
    "meanQ = allQ\n",
    "Q = np.mean(meanQ, axis=1)\n",
    "print(\"\\r Number of Q functions = \", Q.ndim)\n",
    "print(\"\\r Using one averaged Q function for optimisation\")\n",
    "\n"
   ]
  },
  {
   "cell_type": "code",
   "execution_count": 79,
   "metadata": {},
   "outputs": [
    {
     "data": {
      "image/png": "[encoded data removed]",
      "text/plain": [
       "<Figure size 576x432 with 1 Axes>"
      ]
     },
     "metadata": {
      "needs_background": "light"
     },
     "output_type": "display_data"
    }
   ],
   "source": [
    "plt.plot(tt500,Q,marker='o',markersize=1.)\n",
    "plt.yscale('log')\n",
    "import scipy\n",
    "Q_interp = scipy.interpolate.interp1d(tt500,Q)\n",
    "new_th = np.geomspace(1.0001*(tt500.min()),0.999*(tt500.max()),500)\n",
    "plt.plot(new_th,Q_interp(new_th),c='r')\n",
    "Q_new_th = Q_interp(new_th)"
   ]
  },
  {
   "cell_type": "code",
   "execution_count": 80,
   "metadata": {},
   "outputs": [],
   "source": [
    "rad_in_deg2 = (np.deg2rad(1.))**2.\n",
    "np.savetxt(path_to_catalogue+'so_3freqs_120921_pass2_theta500arcmin_Q.txt',np.c_[tt500,Q])\n",
    "\n",
    "np.savetxt(path_to_catalogue+'so_3freqs_120921_pass2_skyfracs.txt',np.c_[skyfracs/rad_in_deg2/41253.])"
   ]
  },
  {
   "cell_type": "code",
   "execution_count": 81,
   "metadata": {},
   "outputs": [],
   "source": [
    "# plc_skyfracs = np.loadtxt('/Users/boris/Work/CLASS-SZ/SO-SZ/class_sz/sz_auxiliary_files/SZ_skyfracs.txt')\n",
    "so_skyfracs = np.loadtxt(path_to_catalogue+'so_3freqs_120921_pass2_skyfracs.txt')"
   ]
  },
  {
   "cell_type": "code",
   "execution_count": 34,
   "metadata": {},
   "outputs": [],
   "source": [
    "# plc_ylims = np.loadtxt('/Users/boris/Work/CLASS-SZ/SO-SZ/class_sz/sz_auxiliary_files/SZ_ylims.txt')"
   ]
  },
  {
   "cell_type": "code",
   "execution_count": 82,
   "metadata": {},
   "outputs": [],
   "source": [
    "so_ylims = []\n",
    "for index_thetas in range(Q.size):\n",
    "    for id_patches in range(so_skyfracs.size):\n",
    "        so_ylims.append(noise[id_patches]/Q[index_thetas])\n",
    "so_ylims = np.asarray(so_ylims)\n",
    "np.savetxt(path_to_catalogue+'so_3freqs_120921_pass2_ylims.txt',np.c_[so_ylims])\n",
    "np.savetxt(path_to_catalogue+'so_3freqs_120921_pass2_thetas.txt',np.c_[tt500])"
   ]
  },
  {
   "cell_type": "code",
   "execution_count": 13,
   "metadata": {},
   "outputs": [
    {
     "data": {
      "text/plain": [
       "451"
      ]
     },
     "execution_count": 13,
     "metadata": {},
     "output_type": "execute_result"
    }
   ],
   "source": [
    "len(noise)"
   ]
  },
  {
   "cell_type": "code",
   "execution_count": null,
   "metadata": {},
   "outputs": [],
   "source": []
  },
  {
   "cell_type": "code",
   "execution_count": null,
   "metadata": {},
   "outputs": [],
   "source": []
  },
  {
   "cell_type": "code",
   "execution_count": null,
   "metadata": {},
   "outputs": [],
   "source": []
  },
  {
   "cell_type": "code",
   "execution_count": 59,
   "metadata": {},
   "outputs": [],
   "source": [
    "so_ylims = []\n",
    "for index_thetas in range(Q_new_th.size):\n",
    "    for id_patches in range(so_skyfracs.size):\n",
    "        so_ylims.append(noise[id_patches]/Q_new_th[index_thetas])\n",
    "so_ylims = np.asarray(so_ylims)\n",
    "np.savetxt(path_to_catalogue+'so_3freqs_020621_ylims_fine.txt',np.c_[so_ylims])\n",
    "np.savetxt(path_to_catalogue+'so_3freqs_020621_thetas_fine.txt',np.c_[new_th])"
   ]
  },
  {
   "cell_type": "code",
   "execution_count": 58,
   "metadata": {},
   "outputs": [
    {
     "data": {
      "text/plain": [
       "0.43213469173544644"
      ]
     },
     "execution_count": 58,
     "metadata": {},
     "output_type": "execute_result"
    }
   ],
   "source": [
    "so_skyfracs.sum()"
   ]
  },
  {
   "cell_type": "markdown",
   "metadata": {},
   "source": [
    "# Read in the catalogue"
   ]
  },
  {
   "cell_type": "code",
   "execution_count": 35,
   "metadata": {},
   "outputs": [],
   "source": [
    "path_to_catalogue = '/Users/boris/Work/CLASS-SZ/SO-SZ/class_sz_external_data_and_scripts/MFMF_SOSim_3freq_tiles/'"
   ]
  },
  {
   "cell_type": "code",
   "execution_count": 36,
   "metadata": {},
   "outputs": [],
   "source": [
    "from astropy.io import fits\n",
    "#\"fits_image_filename = fits.util.get_testdata_filepath(path_to_catalogue+'MFMF_SOSim_3freq_tiles_M500.fits')\n",
    "tcat = path_to_catalogue+'MFMF_SOSim_3freq_tiles_M500.fits'\n",
    "list = fits.open(tcat)\n",
    "data = list[1].data\n",
    "z = data.field(\"redshift\")\n",
    "snr = data.field(\"SNR\")\n",
    "tile = data.field(\"tileName\")\n",
    "\n",
    "\n"
   ]
  },
  {
   "cell_type": "code",
   "execution_count": 37,
   "metadata": {},
   "outputs": [
    {
     "name": "stdout",
     "output_type": "stream",
     "text": [
      "ColDefs(\n",
      "    name = 'name'; format = '18A'\n",
      "    name = 'RADeg'; format = 'D'\n",
      "    name = 'decDeg'; format = 'D'\n",
      "    name = 'SNR'; format = 'D'\n",
      "    name = 'numSigPix'; format = 'D'\n",
      "    name = 'template'; format = '17A'\n",
      "    name = 'tileName'; format = '7A'\n",
      "    name = 'galacticLatDeg'; format = 'D'\n",
      "    name = 'fixed_SNR'; format = 'D'\n",
      "    name = 'deltaT_c'; format = 'D'\n",
      "    name = 'err_deltaT_c'; format = 'D'\n",
      "    name = 'y_c'; format = 'D'\n",
      "    name = 'err_y_c'; format = 'D'\n",
      "    name = 'fixed_deltaT_c'; format = 'D'\n",
      "    name = 'fixed_err_deltaT_c'; format = 'D'\n",
      "    name = 'fixed_y_c'; format = 'D'\n",
      "    name = 'fixed_err_y_c'; format = 'D'\n",
      "    name = 'redshift'; format = 'D'\n",
      "    name = 'redshiftErr'; format = 'D'\n",
      "    name = 'M500'; format = 'D'\n",
      "    name = 'M500_errPlus'; format = 'D'\n",
      "    name = 'M500_errMinus'; format = 'D'\n",
      "    name = 'M500Uncorr'; format = 'D'\n",
      "    name = 'M500Uncorr_errPlus'; format = 'D'\n",
      "    name = 'M500Uncorr_errMinus'; format = 'D'\n",
      "    name = 'M200m'; format = 'D'\n",
      "    name = 'M200m_errPlus'; format = 'D'\n",
      "    name = 'M200m_errMinus'; format = 'D'\n",
      "    name = 'M200mUncorr'; format = 'D'\n",
      "    name = 'M200mUncorr_errPlus'; format = 'D'\n",
      "    name = 'M200mUncorr_errMinus'; format = 'D'\n",
      "    name = 'M500NoRel'; format = 'D'\n",
      "    name = 'M500NoRel_errPlus'; format = 'D'\n",
      "    name = 'M500NoRel_errMinus'; format = 'D'\n",
      "    name = 'M500UncorrNoRel'; format = 'D'\n",
      "    name = 'M500UncorrNoRel_errPlus'; format = 'D'\n",
      "    name = 'M500UncorrNoRel_errMinus'; format = 'D'\n",
      "    name = 'M200mNoRel'; format = 'D'\n",
      "    name = 'M200mNoRel_errPlus'; format = 'D'\n",
      "    name = 'M200mNoRel_errMinus'; format = 'D'\n",
      "    name = 'M200mUncorrNoRel'; format = 'D'\n",
      "    name = 'M200mUncorrNoRel_errPlus'; format = 'D'\n",
      "    name = 'M200mUncorrNoRel_errMinus'; format = 'D'\n",
      "    name = 'M500Cal'; format = 'D'\n",
      "    name = 'M500Cal_errPlus'; format = 'D'\n",
      "    name = 'M500Cal_errMinus'; format = 'D'\n",
      "    name = 'M200mCal'; format = 'D'\n",
      "    name = 'M200mCal_errPlus'; format = 'D'\n",
      "    name = 'M200mCal_errMinus'; format = 'D'\n",
      "    name = 'M500CalNoRel'; format = 'D'\n",
      "    name = 'M500CalNoRel_errPlus'; format = 'D'\n",
      "    name = 'M500CalNoRel_errMinus'; format = 'D'\n",
      "    name = 'M200mCalNoRel'; format = 'D'\n",
      "    name = 'M200mCalNoRel_errPlus'; format = 'D'\n",
      "    name = 'M200mCalNoRel_errMinus'; format = 'D'\n",
      ")\n"
     ]
    }
   ],
   "source": [
    "print(data.columns)"
   ]
  },
  {
   "cell_type": "code",
   "execution_count": 6,
   "metadata": {},
   "outputs": [
    {
     "data": {
      "text/plain": [
       "1.6094379124341003"
      ]
     },
     "execution_count": 6,
     "metadata": {},
     "output_type": "execute_result"
    }
   ],
   "source": [
    "snrcut = 5\n",
    "z = z[snr > snrcut]\n",
    "snr = snr[snr > snrcut]\n",
    "\n",
    "np.shape(z)\n",
    "np.log(snrcut)"
   ]
  },
  {
   "cell_type": "code",
   "execution_count": 7,
   "metadata": {},
   "outputs": [
    {
     "data": {
      "text/plain": [
       "2.769250813231601"
      ]
     },
     "execution_count": 7,
     "metadata": {},
     "output_type": "execute_result"
    }
   ],
   "source": [
    "z.max()"
   ]
  },
  {
   "cell_type": "code",
   "execution_count": 8,
   "metadata": {},
   "outputs": [
    {
     "data": {
      "text/plain": [
       "<matplotlib.collections.LineCollection at 0x7f858810d5b0>"
      ]
     },
     "execution_count": 8,
     "metadata": {},
     "output_type": "execute_result"
    },
    {
     "data": {
      "image/png": "[encoded data removed]",
      "text/plain": [
       "<Figure size 576x432 with 1 Axes>"
      ]
     },
     "metadata": {
      "needs_background": "light"
     },
     "output_type": "display_data"
    }
   ],
   "source": [
    "plt.plot(np.log(snr),marker='o',ls='None',markersize=0.3)\n",
    "plt.hlines(np.log(snrcut),xmin=0,xmax=len(snr),color='r',lw=10)"
   ]
  },
  {
   "cell_type": "code",
   "execution_count": 9,
   "metadata": {},
   "outputs": [],
   "source": [
    "# redshift bins\n",
    "dz = 0.1\n",
    "z_min = 0.\n",
    "z_max = 2.8"
   ]
  },
  {
   "cell_type": "code",
   "execution_count": 10,
   "metadata": {},
   "outputs": [
    {
     "data": {
      "text/plain": [
       "27.999999999999996"
      ]
     },
     "execution_count": 10,
     "metadata": {},
     "output_type": "execute_result"
    }
   ],
   "source": [
    "(z_max-z_min)/dz"
   ]
  },
  {
   "cell_type": "code",
   "execution_count": 11,
   "metadata": {},
   "outputs": [
    {
     "data": {
      "text/plain": [
       "29"
      ]
     },
     "execution_count": 11,
     "metadata": {},
     "output_type": "execute_result"
    }
   ],
   "source": [
    "nbins_z = int( np.floor((z_max-z_min)/dz) + 1)\n",
    "nbins_z += 1\n",
    "nbins_z"
   ]
  },
  {
   "cell_type": "code",
   "execution_count": null,
   "metadata": {},
   "outputs": [],
   "source": []
  },
  {
   "cell_type": "code",
   "execution_count": 12,
   "metadata": {},
   "outputs": [
    {
     "data": {
      "text/plain": [
       "array([0.05, 0.15, 0.25, 0.35, 0.45, 0.55, 0.65, 0.75, 0.85, 0.95, 1.05,\n",
       "       1.15, 1.25, 1.35, 1.45, 1.55, 1.65, 1.75, 1.85, 1.95, 2.05, 2.15,\n",
       "       2.25, 2.35, 2.45, 2.55, 2.65, 2.75, 2.85])"
      ]
     },
     "execution_count": 12,
     "metadata": {},
     "output_type": "execute_result"
    }
   ],
   "source": [
    "z_bin_edges = np.zeros(nbins_z+1)\n",
    "z_bin_edges[0] = z_min\n",
    "for i in range(1,nbins_z):\n",
    "    z_bin_edges[i] = z_bin_edges[i-1]+dz\n",
    "z_bin_edges[nbins_z] = z_max+dz\n",
    "z_bin_centers = np.zeros(nbins_z)\n",
    "for i in range(0,nbins_z):\n",
    "    z_bin_centers[i] = z_bin_edges[i]+(z_bin_edges[i+1]-z_bin_edges[i])/2.\n",
    "z_bin_centers"
   ]
  },
  {
   "cell_type": "code",
   "execution_count": 13,
   "metadata": {},
   "outputs": [],
   "source": [
    "N_clusters_z, xedges = np.histogram(z, bins=z_bin_edges)"
   ]
  },
  {
   "cell_type": "code",
   "execution_count": 14,
   "metadata": {
    "scrolled": false
   },
   "outputs": [
    {
     "data": {
      "image/png": "[encoded data removed]",
      "text/plain": [
       "<Figure size 576x432 with 1 Axes>"
      ]
     },
     "metadata": {
      "needs_background": "light"
     },
     "output_type": "display_data"
    }
   ],
   "source": [
    "plt.errorbar(z_bin_centers,N_clusters_z,yerr=np.sqrt(N_clusters_z),marker='o',markersize=3.,ls='none')\n",
    "plt.grid()"
   ]
  },
  {
   "cell_type": "code",
   "execution_count": 15,
   "metadata": {},
   "outputs": [
    {
     "data": {
      "text/plain": [
       "1.505149978319906"
      ]
     },
     "execution_count": 15,
     "metadata": {},
     "output_type": "execute_result"
    }
   ],
   "source": [
    "np.log10(32.)"
   ]
  },
  {
   "cell_type": "code",
   "execution_count": 16,
   "metadata": {},
   "outputs": [],
   "source": [
    "# snr bins\n",
    "dlnsnr = 0.1\n",
    "lnsnr_min = np.log10(snrcut)\n",
    "lnsnr_max = np.log10(snr.max()+1.)"
   ]
  },
  {
   "cell_type": "code",
   "execution_count": 17,
   "metadata": {},
   "outputs": [
    {
     "data": {
      "text/plain": [
       "0.6989700043360189"
      ]
     },
     "execution_count": 17,
     "metadata": {},
     "output_type": "execute_result"
    }
   ],
   "source": [
    "lnsnr_min"
   ]
  },
  {
   "cell_type": "code",
   "execution_count": 18,
   "metadata": {},
   "outputs": [
    {
     "data": {
      "text/plain": [
       "1.8124259665302023"
      ]
     },
     "execution_count": 18,
     "metadata": {},
     "output_type": "execute_result"
    }
   ],
   "source": [
    "lnsnr_max"
   ]
  },
  {
   "cell_type": "code",
   "execution_count": 19,
   "metadata": {},
   "outputs": [
    {
     "data": {
      "text/plain": [
       "12"
      ]
     },
     "execution_count": 19,
     "metadata": {},
     "output_type": "execute_result"
    }
   ],
   "source": [
    "nbins_lnsnr = int( np.floor((lnsnr_max-lnsnr_min)/dlnsnr) + 1)\n",
    "nbins_lnsnr"
   ]
  },
  {
   "cell_type": "code",
   "execution_count": 20,
   "metadata": {},
   "outputs": [
    {
     "data": {
      "text/plain": [
       "array([ 5.61009227,  7.06268772,  8.89139705, 11.19360569, 14.09191466,\n",
       "       17.74066946, 22.33417961, 28.11706626, 35.39728922, 44.56254691,\n",
       "       56.10092272, 70.62687723, 88.9139705 ])"
      ]
     },
     "execution_count": 20,
     "metadata": {},
     "output_type": "execute_result"
    }
   ],
   "source": [
    "lnsnr_bin_edges = np.zeros(nbins_lnsnr+2)\n",
    "lnsnr_bin_edges[0] = lnsnr_min \n",
    "for i in range(1,nbins_lnsnr+2):\n",
    "    lnsnr_bin_edges[i] = lnsnr_bin_edges[i-1]+dlnsnr\n",
    "# lnsnr_bin_edges[nbins_lnsnr] = lnsnr_max + dlnsnr\n",
    "lnsnr_bin_centers = np.zeros(nbins_lnsnr+1)\n",
    "for i in range(0,nbins_lnsnr+1):\n",
    "    lnsnr_bin_centers[i] = lnsnr_bin_edges[i]+dlnsnr/2.\n",
    "10**lnsnr_bin_centers"
   ]
  },
  {
   "cell_type": "code",
   "execution_count": 21,
   "metadata": {},
   "outputs": [
    {
     "data": {
      "text/plain": [
       "array([0.69897, 0.79897, 0.89897, 0.99897, 1.09897, 1.19897, 1.29897,\n",
       "       1.39897, 1.49897, 1.59897, 1.69897, 1.79897, 1.89897, 1.99897])"
      ]
     },
     "execution_count": 21,
     "metadata": {},
     "output_type": "execute_result"
    }
   ],
   "source": [
    "lnsnr_bin_edges"
   ]
  },
  {
   "cell_type": "code",
   "execution_count": 22,
   "metadata": {},
   "outputs": [
    {
     "data": {
      "text/plain": [
       "array([8756, 4234, 2242, 1209,  608,  308,  126,   72,   28,   11,    0,\n",
       "          1,    0])"
      ]
     },
     "execution_count": 22,
     "metadata": {},
     "output_type": "execute_result"
    }
   ],
   "source": [
    "N_clusters_lnsnr, xedges = np.histogram(np.log10(snr), bins=lnsnr_bin_edges)\n",
    "N_clusters_lnsnr"
   ]
  },
  {
   "cell_type": "code",
   "execution_count": 23,
   "metadata": {
    "scrolled": false
   },
   "outputs": [
    {
     "data": {
      "image/png": "[encoded data removed]",
      "text/plain": [
       "<Figure size 576x432 with 1 Axes>"
      ]
     },
     "metadata": {
      "needs_background": "light"
     },
     "output_type": "display_data"
    }
   ],
   "source": [
    "plt.errorbar(lnsnr_bin_centers,N_clusters_lnsnr,yerr=np.sqrt(N_clusters_lnsnr),marker='o',markersize=3.,ls='none')\n",
    "plt.grid()"
   ]
  },
  {
   "cell_type": "code",
   "execution_count": 24,
   "metadata": {},
   "outputs": [
    {
     "data": {
      "text/plain": [
       "17595"
      ]
     },
     "execution_count": 24,
     "metadata": {},
     "output_type": "execute_result"
    }
   ],
   "source": [
    "N_clusters_lnsnr.sum()"
   ]
  },
  {
   "cell_type": "code",
   "execution_count": 25,
   "metadata": {},
   "outputs": [],
   "source": [
    "# SO RMS data\n",
    "import os"
   ]
  },
  {
   "cell_type": "code",
   "execution_count": 38,
   "metadata": {},
   "outputs": [],
   "source": [
    "path_to_selfn = '/Users/boris/Work/CLASS-SZ/SO-SZ/class_sz_external_data_and_scripts/MFMF_SOSim_3freq_tiles/selFn/'\n",
    "RMS_table = path_to_selfn +'RMSTab.fits'\n",
    "tile_area = np.genfromtxt(os.path.join(path_to_selfn, 'tileAreas.txt'), dtype=str)"
   ]
  },
  {
   "cell_type": "code",
   "execution_count": 39,
   "metadata": {},
   "outputs": [],
   "source": [
    "list = fits.open(RMS_table)\n",
    "data = list[1].data"
   ]
  },
  {
   "cell_type": "code",
   "execution_count": null,
   "metadata": {},
   "outputs": [],
   "source": []
  },
  {
   "cell_type": "code",
   "execution_count": 40,
   "metadata": {},
   "outputs": [
    {
     "data": {
      "text/plain": [
       "61256"
      ]
     },
     "execution_count": 40,
     "metadata": {},
     "output_type": "execute_result"
    }
   ],
   "source": [
    "skyfracs = data.field(\"areaDeg2\")\n",
    "noise = data.field(\"y0RMS\")\n",
    "tname = data.field(\"tileName\")\n",
    "tilename = tile_area[:,0]\n",
    "np.size(tilename)\n",
    "skyfracs.size"
   ]
  },
  {
   "cell_type": "code",
   "execution_count": 29,
   "metadata": {},
   "outputs": [],
   "source": [
    "full_area_deg2 = np.sum(skyfracs)"
   ]
  },
  {
   "cell_type": "code",
   "execution_count": 30,
   "metadata": {},
   "outputs": [
    {
     "name": "stdout",
     "output_type": "stream",
     "text": [
      "\r",
      " Noise map is downsampled to speed up a completeness compuation by 50\n",
      "\r",
      " Number of sky patches =  447\n",
      "\r",
      " Entire survey area =  17826.852438162376 deg2\n"
     ]
    }
   ],
   "source": [
    "# downsampling\n",
    "skyfracs0 = []\n",
    "noise0 = []\n",
    "tname0 = []\n",
    "\n",
    "downsample = 50\n",
    "stepSize = downsample*1e-7\n",
    "binEdges = np.arange(min(noise), max(noise)+stepSize, stepSize)\n",
    "#print(len(binEdges)-1)\n",
    "\n",
    "for i in range(len(tilename)):\n",
    "     noise_tile = []\n",
    "     skyfracs_tile = []\n",
    "     tname_tile = []\n",
    "\n",
    "     for j in range(len(noise)):\n",
    "         if tname[j] == tilename[i]:\n",
    "             noise_tile.append(noise[j])\n",
    "             skyfracs_tile.append(skyfracs[j])\n",
    "             tname_tile.append(tname[j])\n",
    "\n",
    "     noise_arr = np.array(noise_tile)\n",
    "     skyfracs_arr = np.array(skyfracs_tile)\n",
    "     tname_arr = np.array(tname_tile)\n",
    "\n",
    "     skyfracs_masked = []\n",
    "     noise_masked = []\n",
    "     tname_masked = []\n",
    "\n",
    "     for k in range(len(binEdges)-1):\n",
    "         mask = np.logical_and(noise_arr >= binEdges[k], noise_arr < binEdges[k+1])\n",
    "         if mask.sum() > 0:\n",
    "             noise_masked.append(np.average(noise_arr[mask], weights=skyfracs_arr[mask]))\n",
    "             skyfracs_masked.append(np.sum(skyfracs_arr[mask]))\n",
    "             tname_masked.append(tilename[i])\n",
    "\n",
    "     noise0.append(noise_masked)\n",
    "     skyfracs0.append(skyfracs_masked)\n",
    "     tname0.append(tname_masked)\n",
    "\n",
    "#print(len(noise0))\n",
    "noise = np.array([item for singleList in noise0 for item in singleList])\n",
    "skyfracs = np.array([item for singleList in skyfracs0 for item in singleList])*np.deg2rad(1.)**2.\n",
    "tname_reduced = np.array([item for singleList in tname0 for item in singleList])\n",
    "\n",
    "tname = []\n",
    "\n",
    "for i in range(len(tname_reduced)):\n",
    "    for j in range(len(tilename)):\n",
    "        if tname_reduced[i] == tilename[j]:\n",
    "            tname.append(j+1)\n",
    "\n",
    "tname = np.array(tname)\n",
    "\n",
    "print(\"\\r Noise map is downsampled to speed up a completeness compuation by %d\" %downsample)\n",
    "print(\"\\r Number of sky patches = \", skyfracs.size)\n",
    "\n",
    "\n",
    "print(\"\\r Entire survey area = \", skyfracs.sum()/(np.deg2rad(1.)**2.), \"deg2\")\n"
   ]
  },
  {
   "cell_type": "code",
   "execution_count": 31,
   "metadata": {},
   "outputs": [
    {
     "data": {
      "text/plain": [
       "[<matplotlib.lines.Line2D at 0x7f86085bc100>]"
      ]
     },
     "execution_count": 31,
     "metadata": {},
     "output_type": "execute_result"
    },
    {
     "data": {
      "image/png": "[encoded data removed]",
      "text/plain": [
       "<Figure size 576x432 with 1 Axes>"
      ]
     },
     "metadata": {
      "needs_background": "light"
     },
     "output_type": "display_data"
    }
   ],
   "source": [
    "plt.plot(np.log10(noise),marker='o',markersize=0.3)"
   ]
  },
  {
   "cell_type": "code",
   "execution_count": 32,
   "metadata": {},
   "outputs": [],
   "source": [
    "# Q function"
   ]
  },
  {
   "cell_type": "code",
   "execution_count": 15,
   "metadata": {},
   "outputs": [],
   "source": [
    "path_to_selfn = '/Users/boris/Work/CLASS-SZ/SO-SZ/class_sz_external_data_and_scripts/MFMF_SOSim_3freq_tiles/selFn/'\n",
    "Qfits  = path_to_selfn + 'QFit.fits'"
   ]
  },
  {
   "cell_type": "code",
   "execution_count": 16,
   "metadata": {},
   "outputs": [
    {
     "name": "stdout",
     "output_type": "stream",
     "text": [
      "\r",
      " Number of tiles =  346\n"
     ]
    }
   ],
   "source": [
    "Nt = len(tilename)\n",
    "print(\"\\r Number of tiles = \", Nt)\n",
    "\n",
    "\n",
    "list = fits.open(Qfits)\n",
    "data = list[1].data\n",
    "tt500 = data.field(\"theta500Arcmin\")"
   ]
  },
  {
   "cell_type": "code",
   "execution_count": 17,
   "metadata": {},
   "outputs": [
    {
     "data": {
      "text/plain": [
       "XTENSION= 'BINTABLE'           / binary table extension                         \n",
       "BITPIX  =                    8 / array data type                                \n",
       "NAXIS   =                    2 / number of array dimensions                     \n",
       "NAXIS1  =                 2776 / length of dimension 1                          \n",
       "NAXIS2  =                   51 / length of dimension 2                          \n",
       "PCOUNT  =                    0 / number of group parameters                     \n",
       "GCOUNT  =                    1 / number of groups                               \n",
       "TFIELDS =                  347 / number of table fields                         \n",
       "TTYPE1  = 'theta500Arcmin'                                                      \n",
       "TFORM1  = 'D       '                                                            \n",
       "TTYPE2  = '1_0_0   '                                                            \n",
       "TFORM2  = 'D       '                                                            \n",
       "TTYPE3  = '1_0_1   '                                                            \n",
       "TFORM3  = 'D       '                                                            \n",
       "TTYPE4  = '1_0_2   '                                                            \n",
       "TFORM4  = 'D       '                                                            \n",
       "TTYPE5  = '1_0_3   '                                                            \n",
       "TFORM5  = 'D       '                                                            \n",
       "TTYPE6  = '1_0_4   '                                                            \n",
       "TFORM6  = 'D       '                                                            \n",
       "TTYPE7  = '1_0_5   '                                                            \n",
       "TFORM7  = 'D       '                                                            \n",
       "TTYPE8  = '1_0_6   '                                                            \n",
       "TFORM8  = 'D       '                                                            \n",
       "TTYPE9  = '1_0_7   '                                                            \n",
       "TFORM9  = 'D       '                                                            \n",
       "TTYPE10 = '1_0_8   '                                                            \n",
       "TFORM10 = 'D       '                                                            \n",
       "TTYPE11 = '1_0_9   '                                                            \n",
       "TFORM11 = 'D       '                                                            \n",
       "TTYPE12 = '1_0_10  '                                                            \n",
       "TFORM12 = 'D       '                                                            \n",
       "TTYPE13 = '1_0_11  '                                                            \n",
       "TFORM13 = 'D       '                                                            \n",
       "TTYPE14 = '1_1_0   '                                                            \n",
       "TFORM14 = 'D       '                                                            \n",
       "TTYPE15 = '1_1_1   '                                                            \n",
       "TFORM15 = 'D       '                                                            \n",
       "TTYPE16 = '1_1_2   '                                                            \n",
       "TFORM16 = 'D       '                                                            \n",
       "TTYPE17 = '1_1_3   '                                                            \n",
       "TFORM17 = 'D       '                                                            \n",
       "TTYPE18 = '1_1_4   '                                                            \n",
       "TFORM18 = 'D       '                                                            \n",
       "TTYPE19 = '1_1_5   '                                                            \n",
       "TFORM19 = 'D       '                                                            \n",
       "TTYPE20 = '1_1_6   '                                                            \n",
       "TFORM20 = 'D       '                                                            \n",
       "TTYPE21 = '1_1_7   '                                                            \n",
       "TFORM21 = 'D       '                                                            \n",
       "TTYPE22 = '1_1_8   '                                                            \n",
       "TFORM22 = 'D       '                                                            \n",
       "TTYPE23 = '1_1_9   '                                                            \n",
       "TFORM23 = 'D       '                                                            \n",
       "TTYPE24 = '1_1_10  '                                                            \n",
       "TFORM24 = 'D       '                                                            \n",
       "TTYPE25 = '1_1_11  '                                                            \n",
       "TFORM25 = 'D       '                                                            \n",
       "TTYPE26 = '1_1_12  '                                                            \n",
       "TFORM26 = 'D       '                                                            \n",
       "TTYPE27 = '1_2_0   '                                                            \n",
       "TFORM27 = 'D       '                                                            \n",
       "TTYPE28 = '1_2_1   '                                                            \n",
       "TFORM28 = 'D       '                                                            \n",
       "TTYPE29 = '1_2_2   '                                                            \n",
       "TFORM29 = 'D       '                                                            \n",
       "TTYPE30 = '1_2_3   '                                                            \n",
       "TFORM30 = 'D       '                                                            \n",
       "TTYPE31 = '1_2_4   '                                                            \n",
       "TFORM31 = 'D       '                                                            \n",
       "TTYPE32 = '1_2_5   '                                                            \n",
       "TFORM32 = 'D       '                                                            \n",
       "TTYPE33 = '1_2_6   '                                                            \n",
       "TFORM33 = 'D       '                                                            \n",
       "TTYPE34 = '1_2_7   '                                                            \n",
       "TFORM34 = 'D       '                                                            \n",
       "TTYPE35 = '1_2_8   '                                                            \n",
       "TFORM35 = 'D       '                                                            \n",
       "TTYPE36 = '1_2_9   '                                                            \n",
       "TFORM36 = 'D       '                                                            \n",
       "TTYPE37 = '1_2_10  '                                                            \n",
       "TFORM37 = 'D       '                                                            \n",
       "TTYPE38 = '1_2_11  '                                                            \n",
       "TFORM38 = 'D       '                                                            \n",
       "TTYPE39 = '1_2_12  '                                                            \n",
       "TFORM39 = 'D       '                                                            \n",
       "TTYPE40 = '1_2_13  '                                                            \n",
       "TFORM40 = 'D       '                                                            \n",
       "TTYPE41 = '1_2_14  '                                                            \n",
       "TFORM41 = 'D       '                                                            \n",
       "TTYPE42 = '1_3_0   '                                                            \n",
       "TFORM42 = 'D       '                                                            \n",
       "TTYPE43 = '1_3_1   '                                                            \n",
       "TFORM43 = 'D       '                                                            \n",
       "TTYPE44 = '1_3_2   '                                                            \n",
       "TFORM44 = 'D       '                                                            \n",
       "TTYPE45 = '1_3_3   '                                                            \n",
       "TFORM45 = 'D       '                                                            \n",
       "TTYPE46 = '1_3_4   '                                                            \n",
       "TFORM46 = 'D       '                                                            \n",
       "TTYPE47 = '1_3_5   '                                                            \n",
       "TFORM47 = 'D       '                                                            \n",
       "TTYPE48 = '1_3_6   '                                                            \n",
       "TFORM48 = 'D       '                                                            \n",
       "TTYPE49 = '1_3_7   '                                                            \n",
       "TFORM49 = 'D       '                                                            \n",
       "TTYPE50 = '1_3_8   '                                                            \n",
       "TFORM50 = 'D       '                                                            \n",
       "TTYPE51 = '1_3_9   '                                                            \n",
       "TFORM51 = 'D       '                                                            \n",
       "TTYPE52 = '1_3_10  '                                                            \n",
       "TFORM52 = 'D       '                                                            \n",
       "TTYPE53 = '1_3_11  '                                                            \n",
       "TFORM53 = 'D       '                                                            \n",
       "TTYPE54 = '1_3_12  '                                                            \n",
       "TFORM54 = 'D       '                                                            \n",
       "TTYPE55 = '1_3_13  '                                                            \n",
       "TFORM55 = 'D       '                                                            \n",
       "TTYPE56 = '1_3_14  '                                                            \n",
       "TFORM56 = 'D       '                                                            \n",
       "TTYPE57 = '1_4_0   '                                                            \n",
       "TFORM57 = 'D       '                                                            \n",
       "TTYPE58 = '1_4_1   '                                                            \n",
       "TFORM58 = 'D       '                                                            \n",
       "TTYPE59 = '1_4_2   '                                                            \n",
       "TFORM59 = 'D       '                                                            \n",
       "TTYPE60 = '1_4_3   '                                                            \n",
       "TFORM60 = 'D       '                                                            \n",
       "TTYPE61 = '1_4_4   '                                                            \n",
       "TFORM61 = 'D       '                                                            \n",
       "TTYPE62 = '1_4_5   '                                                            \n",
       "TFORM62 = 'D       '                                                            \n",
       "TTYPE63 = '1_4_6   '                                                            \n",
       "TFORM63 = 'D       '                                                            \n",
       "TTYPE64 = '1_4_7   '                                                            \n",
       "TFORM64 = 'D       '                                                            \n",
       "TTYPE65 = '1_4_8   '                                                            \n",
       "TFORM65 = 'D       '                                                            \n",
       "TTYPE66 = '1_4_9   '                                                            \n",
       "TFORM66 = 'D       '                                                            \n",
       "TTYPE67 = '1_4_10  '                                                            \n",
       "TFORM67 = 'D       '                                                            \n",
       "TTYPE68 = '1_4_11  '                                                            \n",
       "TFORM68 = 'D       '                                                            \n",
       "TTYPE69 = '1_4_12  '                                                            \n",
       "TFORM69 = 'D       '                                                            \n",
       "TTYPE70 = '1_4_13  '                                                            \n",
       "TFORM70 = 'D       '                                                            \n",
       "TTYPE71 = '1_4_14  '                                                            \n",
       "TFORM71 = 'D       '                                                            \n",
       "TTYPE72 = '1_4_15  '                                                            \n",
       "TFORM72 = 'D       '                                                            \n",
       "TTYPE73 = '1_5_0   '                                                            \n",
       "TFORM73 = 'D       '                                                            \n",
       "TTYPE74 = '1_5_1   '                                                            \n",
       "TFORM74 = 'D       '                                                            \n",
       "TTYPE75 = '1_5_2   '                                                            \n",
       "TFORM75 = 'D       '                                                            \n",
       "TTYPE76 = '1_5_3   '                                                            \n",
       "TFORM76 = 'D       '                                                            \n",
       "TTYPE77 = '1_5_4   '                                                            \n",
       "TFORM77 = 'D       '                                                            \n",
       "TTYPE78 = '1_5_5   '                                                            \n",
       "TFORM78 = 'D       '                                                            \n",
       "TTYPE79 = '1_5_6   '                                                            \n",
       "TFORM79 = 'D       '                                                            \n",
       "TTYPE80 = '1_5_7   '                                                            \n",
       "TFORM80 = 'D       '                                                            \n",
       "TTYPE81 = '1_5_8   '                                                            \n",
       "TFORM81 = 'D       '                                                            \n",
       "TTYPE82 = '1_5_9   '                                                            \n",
       "TFORM82 = 'D       '                                                            \n",
       "TTYPE83 = '1_5_10  '                                                            \n",
       "TFORM83 = 'D       '                                                            \n",
       "TTYPE84 = '1_5_11  '                                                            \n",
       "TFORM84 = 'D       '                                                            \n",
       "TTYPE85 = '1_5_12  '                                                            \n",
       "TFORM85 = 'D       '                                                            \n",
       "TTYPE86 = '1_5_13  '                                                            \n",
       "TFORM86 = 'D       '                                                            \n",
       "TTYPE87 = '1_5_14  '                                                            \n",
       "TFORM87 = 'D       '                                                            \n",
       "TTYPE88 = '1_5_15  '                                                            \n",
       "TFORM88 = 'D       '                                                            \n",
       "TTYPE89 = '1_6_0   '                                                            \n",
       "TFORM89 = 'D       '                                                            \n",
       "TTYPE90 = '1_6_1   '                                                            \n",
       "TFORM90 = 'D       '                                                            \n",
       "TTYPE91 = '1_6_2   '                                                            \n",
       "TFORM91 = 'D       '                                                            \n",
       "TTYPE92 = '1_6_3   '                                                            \n",
       "TFORM92 = 'D       '                                                            \n",
       "TTYPE93 = '1_6_4   '                                                            \n",
       "TFORM93 = 'D       '                                                            \n",
       "TTYPE94 = '1_6_5   '                                                            \n",
       "TFORM94 = 'D       '                                                            \n",
       "TTYPE95 = '1_6_6   '                                                            \n",
       "TFORM95 = 'D       '                                                            \n",
       "TTYPE96 = '1_6_7   '                                                            \n",
       "TFORM96 = 'D       '                                                            \n",
       "TTYPE97 = '1_6_8   '                                                            \n",
       "TFORM97 = 'D       '                                                            \n",
       "TTYPE98 = '1_6_9   '                                                            \n",
       "TFORM98 = 'D       '                                                            \n",
       "TTYPE99 = '1_6_10  '                                                            \n",
       "TFORM99 = 'D       '                                                            \n",
       "TTYPE100= '1_6_11  '                                                            \n",
       "TFORM100= 'D       '                                                            \n",
       "TTYPE101= '1_6_12  '                                                            \n",
       "TFORM101= 'D       '                                                            \n",
       "TTYPE102= '1_6_13  '                                                            \n",
       "TFORM102= 'D       '                                                            \n",
       "TTYPE103= '1_6_14  '                                                            \n",
       "TFORM103= 'D       '                                                            \n",
       "TTYPE104= '1_6_15  '                                                            \n",
       "TFORM104= 'D       '                                                            \n",
       "TTYPE105= '1_6_16  '                                                            \n",
       "TFORM105= 'D       '                                                            \n",
       "TTYPE106= '1_7_0   '                                                            \n",
       "TFORM106= 'D       '                                                            \n",
       "TTYPE107= '1_7_1   '                                                            \n",
       "TFORM107= 'D       '                                                            \n",
       "TTYPE108= '1_7_2   '                                                            \n",
       "TFORM108= 'D       '                                                            \n",
       "TTYPE109= '1_7_3   '                                                            \n",
       "TFORM109= 'D       '                                                            \n",
       "TTYPE110= '1_7_4   '                                                            \n",
       "TFORM110= 'D       '                                                            \n",
       "TTYPE111= '1_7_5   '                                                            \n",
       "TFORM111= 'D       '                                                            \n",
       "TTYPE112= '1_7_6   '                                                            \n",
       "TFORM112= 'D       '                                                            \n",
       "TTYPE113= '1_7_7   '                                                            \n",
       "TFORM113= 'D       '                                                            \n",
       "TTYPE114= '1_7_8   '                                                            \n",
       "TFORM114= 'D       '                                                            \n",
       "TTYPE115= '1_7_9   '                                                            \n",
       "TFORM115= 'D       '                                                            \n",
       "TTYPE116= '1_7_10  '                                                            \n",
       "TFORM116= 'D       '                                                            \n",
       "TTYPE117= '1_7_11  '                                                            \n",
       "TFORM117= 'D       '                                                            \n",
       "TTYPE118= '1_7_12  '                                                            \n",
       "TFORM118= 'D       '                                                            \n",
       "TTYPE119= '1_7_13  '                                                            \n",
       "TFORM119= 'D       '                                                            \n",
       "TTYPE120= '1_7_14  '                                                            \n",
       "TFORM120= 'D       '                                                            \n",
       "TTYPE121= '1_8_0   '                                                            \n",
       "TFORM121= 'D       '                                                            \n",
       "TTYPE122= '1_8_1   '                                                            \n",
       "TFORM122= 'D       '                                                            \n",
       "TTYPE123= '1_8_2   '                                                            \n",
       "TFORM123= 'D       '                                                            \n",
       "TTYPE124= '1_8_3   '                                                            \n",
       "TFORM124= 'D       '                                                            \n",
       "TTYPE125= '1_8_4   '                                                            \n",
       "TFORM125= 'D       '                                                            \n",
       "TTYPE126= '1_8_5   '                                                            \n",
       "TFORM126= 'D       '                                                            \n",
       "TTYPE127= '1_8_6   '                                                            \n",
       "TFORM127= 'D       '                                                            \n",
       "TTYPE128= '1_8_7   '                                                            \n",
       "TFORM128= 'D       '                                                            \n",
       "TTYPE129= '1_8_8   '                                                            \n",
       "TFORM129= 'D       '                                                            \n",
       "TTYPE130= '1_8_9   '                                                            \n",
       "TFORM130= 'D       '                                                            \n",
       "TTYPE131= '1_8_10  '                                                            \n",
       "TFORM131= 'D       '                                                            \n",
       "TTYPE132= '1_8_11  '                                                            \n",
       "TFORM132= 'D       '                                                            \n",
       "TTYPE133= '1_8_12  '                                                            \n",
       "TFORM133= 'D       '                                                            \n",
       "TTYPE134= '1_8_13  '                                                            \n",
       "TFORM134= 'D       '                                                            \n",
       "TTYPE135= '1_8_14  '                                                            \n",
       "TFORM135= 'D       '                                                            \n",
       "TTYPE136= '1_9_0   '                                                            \n",
       "TFORM136= 'D       '                                                            \n",
       "TTYPE137= '1_9_1   '                                                            \n",
       "TFORM137= 'D       '                                                            \n",
       "TTYPE138= '1_9_2   '                                                            \n",
       "TFORM138= 'D       '                                                            \n",
       "TTYPE139= '1_9_3   '                                                            \n",
       "TFORM139= 'D       '                                                            \n",
       "TTYPE140= '1_9_4   '                                                            \n",
       "TFORM140= 'D       '                                                            \n",
       "TTYPE141= '1_9_5   '                                                            \n",
       "TFORM141= 'D       '                                                            \n",
       "TTYPE142= '1_9_6   '                                                            \n",
       "TFORM142= 'D       '                                                            \n",
       "TTYPE143= '1_9_7   '                                                            \n",
       "TFORM143= 'D       '                                                            \n",
       "TTYPE144= '1_9_8   '                                                            \n",
       "TFORM144= 'D       '                                                            \n",
       "TTYPE145= '1_9_9   '                                                            \n",
       "TFORM145= 'D       '                                                            \n",
       "TTYPE146= '1_9_10  '                                                            \n",
       "TFORM146= 'D       '                                                            \n",
       "TTYPE147= '1_9_11  '                                                            \n",
       "TFORM147= 'D       '                                                            \n",
       "TTYPE148= '1_9_12  '                                                            \n",
       "TFORM148= 'D       '                                                            \n",
       "TTYPE149= '1_9_13  '                                                            \n",
       "TFORM149= 'D       '                                                            \n",
       "TTYPE150= '1_9_14  '                                                            \n",
       "TFORM150= 'D       '                                                            \n",
       "TTYPE151= '1_9_15  '                                                            \n",
       "TFORM151= 'D       '                                                            \n",
       "TTYPE152= '1_10_0  '                                                            \n",
       "TFORM152= 'D       '                                                            \n",
       "TTYPE153= '1_10_1  '                                                            \n",
       "TFORM153= 'D       '                                                            \n",
       "TTYPE154= '1_10_2  '                                                            \n",
       "TFORM154= 'D       '                                                            \n",
       "TTYPE155= '1_10_3  '                                                            \n",
       "TFORM155= 'D       '                                                            \n",
       "TTYPE156= '1_10_4  '                                                            \n",
       "TFORM156= 'D       '                                                            \n",
       "TTYPE157= '1_10_5  '                                                            \n",
       "TFORM157= 'D       '                                                            \n",
       "TTYPE158= '1_10_6  '                                                            \n",
       "TFORM158= 'D       '                                                            \n",
       "TTYPE159= '1_10_7  '                                                            \n",
       "TFORM159= 'D       '                                                            \n",
       "TTYPE160= '1_10_8  '                                                            \n",
       "TFORM160= 'D       '                                                            \n",
       "TTYPE161= '1_10_9  '                                                            \n",
       "TFORM161= 'D       '                                                            \n",
       "TTYPE162= '1_10_10 '                                                            \n",
       "TFORM162= 'D       '                                                            \n",
       "TTYPE163= '1_10_11 '                                                            \n",
       "TFORM163= 'D       '                                                            \n",
       "TTYPE164= '1_10_12 '                                                            \n",
       "TFORM164= 'D       '                                                            \n",
       "TTYPE165= '1_10_13 '                                                            \n",
       "TFORM165= 'D       '                                                            \n",
       "TTYPE166= '1_11_0  '                                                            \n",
       "TFORM166= 'D       '                                                            \n",
       "TTYPE167= '1_11_1  '                                                            \n",
       "TFORM167= 'D       '                                                            \n",
       "TTYPE168= '1_11_2  '                                                            \n",
       "TFORM168= 'D       '                                                            \n",
       "TTYPE169= '1_11_3  '                                                            \n",
       "TFORM169= 'D       '                                                            \n",
       "TTYPE170= '1_11_4  '                                                            \n",
       "TFORM170= 'D       '                                                            \n",
       "TTYPE171= '1_11_5  '                                                            \n",
       "TFORM171= 'D       '                                                            \n",
       "TTYPE172= '1_11_6  '                                                            \n",
       "TFORM172= 'D       '                                                            \n",
       "TTYPE173= '1_11_7  '                                                            \n",
       "TFORM173= 'D       '                                                            \n",
       "TTYPE174= '1_11_8  '                                                            \n",
       "TFORM174= 'D       '                                                            \n",
       "TTYPE175= '1_11_9  '                                                            \n",
       "TFORM175= 'D       '                                                            \n",
       "TTYPE176= '1_11_10 '                                                            \n",
       "TFORM176= 'D       '                                                            \n",
       "TTYPE177= '1_11_11 '                                                            \n",
       "TFORM177= 'D       '                                                            \n",
       "TTYPE178= '1_11_12 '                                                            \n",
       "TFORM178= 'D       '                                                            \n",
       "TTYPE179= '1_11_13 '                                                            \n",
       "TFORM179= 'D       '                                                            \n",
       "TTYPE180= '1_12_0  '                                                            \n",
       "TFORM180= 'D       '                                                            \n",
       "TTYPE181= '1_12_1  '                                                            \n",
       "TFORM181= 'D       '                                                            \n",
       "TTYPE182= '1_12_2  '                                                            \n",
       "TFORM182= 'D       '                                                            \n",
       "TTYPE183= '1_12_3  '                                                            \n",
       "TFORM183= 'D       '                                                            \n",
       "TTYPE184= '1_12_4  '                                                            \n",
       "TFORM184= 'D       '                                                            \n",
       "TTYPE185= '1_12_5  '                                                            \n",
       "TFORM185= 'D       '                                                            \n",
       "TTYPE186= '1_12_6  '                                                            \n",
       "TFORM186= 'D       '                                                            \n",
       "TTYPE187= '1_12_7  '                                                            \n",
       "TFORM187= 'D       '                                                            \n",
       "TTYPE188= '1_12_8  '                                                            \n",
       "TFORM188= 'D       '                                                            \n",
       "TTYPE189= '1_12_9  '                                                            \n",
       "TFORM189= 'D       '                                                            \n",
       "TTYPE190= '1_12_10 '                                                            \n",
       "TFORM190= 'D       '                                                            \n",
       "TTYPE191= '1_12_11 '                                                            \n",
       "TFORM191= 'D       '                                                            \n",
       "TTYPE192= '1_12_12 '                                                            \n",
       "TFORM192= 'D       '                                                            \n",
       "TTYPE193= '1_12_13 '                                                            \n",
       "TFORM193= 'D       '                                                            \n",
       "TTYPE194= '1_12_14 '                                                            \n",
       "TFORM194= 'D       '                                                            \n",
       "TTYPE195= '2_0_0   '                                                            \n",
       "TFORM195= 'D       '                                                            \n",
       "TTYPE196= '2_0_1   '                                                            \n",
       "TFORM196= 'D       '                                                            \n",
       "TTYPE197= '2_0_2   '                                                            \n",
       "TFORM197= 'D       '                                                            \n",
       "TTYPE198= '2_1_0   '                                                            \n",
       "TFORM198= 'D       '                                                            \n",
       "TTYPE199= '2_1_1   '                                                            \n",
       "TFORM199= 'D       '                                                            \n",
       "TTYPE200= '2_1_2   '                                                            \n",
       "TFORM200= 'D       '                                                            \n",
       "TTYPE201= '2_1_3   '                                                            \n",
       "TFORM201= 'D       '                                                            \n",
       "TTYPE202= '2_2_0   '                                                            \n",
       "TFORM202= 'D       '                                                            \n",
       "TTYPE203= '2_2_1   '                                                            \n",
       "TFORM203= 'D       '                                                            \n",
       "TTYPE204= '2_2_2   '                                                            \n",
       "TFORM204= 'D       '                                                            \n",
       "TTYPE205= '2_2_3   '                                                            \n",
       "TFORM205= 'D       '                                                            \n",
       "TTYPE206= '2_2_4   '                                                            \n",
       "TFORM206= 'D       '                                                            \n",
       "TTYPE207= '2_3_0   '                                                            \n",
       "TFORM207= 'D       '                                                            \n",
       "TTYPE208= '2_3_1   '                                                            \n",
       "TFORM208= 'D       '                                                            \n",
       "TTYPE209= '2_3_2   '                                                            \n",
       "TFORM209= 'D       '                                                            \n",
       "TTYPE210= '2_3_3   '                                                            \n",
       "TFORM210= 'D       '                                                            \n",
       "TTYPE211= '2_3_4   '                                                            \n",
       "TFORM211= 'D       '                                                            \n",
       "TTYPE212= '2_4_0   '                                                            \n",
       "TFORM212= 'D       '                                                            \n",
       "TTYPE213= '2_4_1   '                                                            \n",
       "TFORM213= 'D       '                                                            \n",
       "TTYPE214= '2_4_2   '                                                            \n",
       "TFORM214= 'D       '                                                            \n",
       "TTYPE215= '2_4_3   '                                                            \n",
       "TFORM215= 'D       '                                                            \n",
       "TTYPE216= '2_4_4   '                                                            \n",
       "TFORM216= 'D       '                                                            \n",
       "TTYPE217= '2_4_5   '                                                            \n",
       "TFORM217= 'D       '                                                            \n",
       "TTYPE218= '2_5_0   '                                                            \n",
       "TFORM218= 'D       '                                                            \n",
       "TTYPE219= '2_5_1   '                                                            \n",
       "TFORM219= 'D       '                                                            \n",
       "TTYPE220= '2_5_2   '                                                            \n",
       "TFORM220= 'D       '                                                            \n",
       "TTYPE221= '2_5_3   '                                                            \n",
       "TFORM221= 'D       '                                                            \n",
       "TTYPE222= '2_5_4   '                                                            \n",
       "TFORM222= 'D       '                                                            \n",
       "TTYPE223= '2_5_5   '                                                            \n",
       "TFORM223= 'D       '                                                            \n",
       "TTYPE224= '2_6_0   '                                                            \n",
       "TFORM224= 'D       '                                                            \n",
       "TTYPE225= '2_6_1   '                                                            \n",
       "TFORM225= 'D       '                                                            \n",
       "TTYPE226= '2_6_2   '                                                            \n",
       "TFORM226= 'D       '                                                            \n",
       "TTYPE227= '2_6_3   '                                                            \n",
       "TFORM227= 'D       '                                                            \n",
       "TTYPE228= '2_6_4   '                                                            \n",
       "TFORM228= 'D       '                                                            \n",
       "TTYPE229= '2_6_5   '                                                            \n",
       "TFORM229= 'D       '                                                            \n",
       "TTYPE230= '2_7_0   '                                                            \n",
       "TFORM230= 'D       '                                                            \n",
       "TTYPE231= '2_7_1   '                                                            \n",
       "TFORM231= 'D       '                                                            \n",
       "TTYPE232= '2_7_2   '                                                            \n",
       "TFORM232= 'D       '                                                            \n",
       "TTYPE233= '2_7_3   '                                                            \n",
       "TFORM233= 'D       '                                                            \n",
       "TTYPE234= '2_7_4   '                                                            \n",
       "TFORM234= 'D       '                                                            \n",
       "TTYPE235= '2_7_5   '                                                            \n",
       "TFORM235= 'D       '                                                            \n",
       "TTYPE236= '2_7_6   '                                                            \n",
       "TFORM236= 'D       '                                                            \n",
       "TTYPE237= '2_8_0   '                                                            \n",
       "TFORM237= 'D       '                                                            \n",
       "TTYPE238= '2_8_1   '                                                            \n",
       "TFORM238= 'D       '                                                            \n",
       "TTYPE239= '2_8_2   '                                                            \n",
       "TFORM239= 'D       '                                                            \n",
       "TTYPE240= '2_8_3   '                                                            \n",
       "TFORM240= 'D       '                                                            \n",
       "TTYPE241= '2_8_4   '                                                            \n",
       "TFORM241= 'D       '                                                            \n",
       "TTYPE242= '2_8_5   '                                                            \n",
       "TFORM242= 'D       '                                                            \n",
       "TTYPE243= '2_8_6   '                                                            \n",
       "TFORM243= 'D       '                                                            \n",
       "TTYPE244= '2_9_0   '                                                            \n",
       "TFORM244= 'D       '                                                            \n",
       "TTYPE245= '2_9_1   '                                                            \n",
       "TFORM245= 'D       '                                                            \n",
       "TTYPE246= '2_9_2   '                                                            \n",
       "TFORM246= 'D       '                                                            \n",
       "TTYPE247= '2_9_3   '                                                            \n",
       "TFORM247= 'D       '                                                            \n",
       "TTYPE248= '2_9_4   '                                                            \n",
       "TFORM248= 'D       '                                                            \n",
       "TTYPE249= '2_9_5   '                                                            \n",
       "TFORM249= 'D       '                                                            \n",
       "TTYPE250= '2_9_6   '                                                            \n",
       "TFORM250= 'D       '                                                            \n",
       "TTYPE251= '2_10_0  '                                                            \n",
       "TFORM251= 'D       '                                                            \n",
       "TTYPE252= '2_10_1  '                                                            \n",
       "TFORM252= 'D       '                                                            \n",
       "TTYPE253= '2_10_2  '                                                            \n",
       "TFORM253= 'D       '                                                            \n",
       "TTYPE254= '2_10_3  '                                                            \n",
       "TFORM254= 'D       '                                                            \n",
       "TTYPE255= '2_10_4  '                                                            \n",
       "TFORM255= 'D       '                                                            \n",
       "TTYPE256= '2_10_5  '                                                            \n",
       "TFORM256= 'D       '                                                            \n",
       "TTYPE257= '2_10_6  '                                                            \n",
       "TFORM257= 'D       '                                                            \n",
       "TTYPE258= '2_11_0  '                                                            \n",
       "TFORM258= 'D       '                                                            \n",
       "TTYPE259= '2_11_1  '                                                            \n",
       "TFORM259= 'D       '                                                            \n",
       "TTYPE260= '2_11_2  '                                                            \n",
       "TFORM260= 'D       '                                                            \n",
       "TTYPE261= '2_11_3  '                                                            \n",
       "TFORM261= 'D       '                                                            \n",
       "TTYPE262= '2_11_4  '                                                            \n",
       "TFORM262= 'D       '                                                            \n",
       "TTYPE263= '2_11_5  '                                                            \n",
       "TFORM263= 'D       '                                                            \n",
       "TTYPE264= '2_11_6  '                                                            \n",
       "TFORM264= 'D       '                                                            \n",
       "TTYPE265= '3_0_0   '                                                            \n",
       "TFORM265= 'D       '                                                            \n",
       "TTYPE266= '3_0_1   '                                                            \n",
       "TFORM266= 'D       '                                                            \n",
       "TTYPE267= '3_0_2   '                                                            \n",
       "TFORM267= 'D       '                                                            \n",
       "TTYPE268= '3_0_3   '                                                            \n",
       "TFORM268= 'D       '                                                            \n",
       "TTYPE269= '3_1_0   '                                                            \n",
       "TFORM269= 'D       '                                                            \n",
       "TTYPE270= '3_1_1   '                                                            \n",
       "TFORM270= 'D       '                                                            \n",
       "TTYPE271= '3_1_2   '                                                            \n",
       "TFORM271= 'D       '                                                            \n",
       "TTYPE272= '3_1_3   '                                                            \n",
       "TFORM272= 'D       '                                                            \n",
       "TTYPE273= '3_1_4   '                                                            \n",
       "TFORM273= 'D       '                                                            \n",
       "TTYPE274= '3_2_0   '                                                            \n",
       "TFORM274= 'D       '                                                            \n",
       "TTYPE275= '3_2_1   '                                                            \n",
       "TFORM275= 'D       '                                                            \n",
       "TTYPE276= '3_2_2   '                                                            \n",
       "TFORM276= 'D       '                                                            \n",
       "TTYPE277= '3_2_3   '                                                            \n",
       "TFORM277= 'D       '                                                            \n",
       "TTYPE278= '3_2_4   '                                                            \n",
       "TFORM278= 'D       '                                                            \n",
       "TTYPE279= '3_3_0   '                                                            \n",
       "TFORM279= 'D       '                                                            \n",
       "TTYPE280= '3_3_1   '                                                            \n",
       "TFORM280= 'D       '                                                            \n",
       "TTYPE281= '3_3_2   '                                                            \n",
       "TFORM281= 'D       '                                                            \n",
       "TTYPE282= '3_3_3   '                                                            \n",
       "TFORM282= 'D       '                                                            \n",
       "TTYPE283= '3_3_4   '                                                            \n",
       "TFORM283= 'D       '                                                            \n",
       "TTYPE284= '3_4_0   '                                                            \n",
       "TFORM284= 'D       '                                                            \n",
       "TTYPE285= '3_4_1   '                                                            \n",
       "TFORM285= 'D       '                                                            \n",
       "TTYPE286= '3_4_2   '                                                            \n",
       "TFORM286= 'D       '                                                            \n",
       "TTYPE287= '3_4_3   '                                                            \n",
       "TFORM287= 'D       '                                                            \n",
       "TTYPE288= '3_4_4   '                                                            \n",
       "TFORM288= 'D       '                                                            \n",
       "TTYPE289= '3_4_5   '                                                            \n",
       "TFORM289= 'D       '                                                            \n",
       "TTYPE290= '3_5_0   '                                                            \n",
       "TFORM290= 'D       '                                                            \n",
       "TTYPE291= '3_5_1   '                                                            \n",
       "TFORM291= 'D       '                                                            \n",
       "TTYPE292= '3_5_2   '                                                            \n",
       "TFORM292= 'D       '                                                            \n",
       "TTYPE293= '3_5_3   '                                                            \n",
       "TFORM293= 'D       '                                                            \n",
       "TTYPE294= '3_5_4   '                                                            \n",
       "TFORM294= 'D       '                                                            \n",
       "TTYPE295= '3_5_5   '                                                            \n",
       "TFORM295= 'D       '                                                            \n",
       "TTYPE296= '3_6_0   '                                                            \n",
       "TFORM296= 'D       '                                                            \n",
       "TTYPE297= '3_6_1   '                                                            \n",
       "TFORM297= 'D       '                                                            \n",
       "TTYPE298= '3_6_2   '                                                            \n",
       "TFORM298= 'D       '                                                            \n",
       "TTYPE299= '3_6_3   '                                                            \n",
       "TFORM299= 'D       '                                                            \n",
       "TTYPE300= '3_6_4   '                                                            \n",
       "TFORM300= 'D       '                                                            \n",
       "TTYPE301= '3_6_5   '                                                            \n",
       "TFORM301= 'D       '                                                            \n",
       "TTYPE302= '3_6_6   '                                                            \n",
       "TFORM302= 'D       '                                                            \n",
       "TTYPE303= '3_7_0   '                                                            \n",
       "TFORM303= 'D       '                                                            \n",
       "TTYPE304= '3_7_1   '                                                            \n",
       "TFORM304= 'D       '                                                            \n",
       "TTYPE305= '3_7_2   '                                                            \n",
       "TFORM305= 'D       '                                                            \n",
       "TTYPE306= '3_7_3   '                                                            \n",
       "TFORM306= 'D       '                                                            \n",
       "TTYPE307= '3_7_4   '                                                            \n",
       "TFORM307= 'D       '                                                            \n",
       "TTYPE308= '3_7_5   '                                                            \n",
       "TFORM308= 'D       '                                                            \n",
       "TTYPE309= '3_7_6   '                                                            \n",
       "TFORM309= 'D       '                                                            \n",
       "TTYPE310= '3_7_7   '                                                            \n",
       "TFORM310= 'D       '                                                            \n",
       "TTYPE311= '3_7_8   '                                                            \n",
       "TFORM311= 'D       '                                                            \n",
       "TTYPE312= '3_8_0   '                                                            \n",
       "TFORM312= 'D       '                                                            \n",
       "TTYPE313= '3_8_1   '                                                            \n",
       "TFORM313= 'D       '                                                            \n",
       "TTYPE314= '3_8_2   '                                                            \n",
       "TFORM314= 'D       '                                                            \n",
       "TTYPE315= '3_8_3   '                                                            \n",
       "TFORM315= 'D       '                                                            \n",
       "TTYPE316= '3_8_4   '                                                            \n",
       "TFORM316= 'D       '                                                            \n",
       "TTYPE317= '3_8_5   '                                                            \n",
       "TFORM317= 'D       '                                                            \n",
       "TTYPE318= '3_8_6   '                                                            \n",
       "TFORM318= 'D       '                                                            \n",
       "TTYPE319= '3_8_7   '                                                            \n",
       "TFORM319= 'D       '                                                            \n",
       "TTYPE320= '3_8_8   '                                                            \n",
       "TFORM320= 'D       '                                                            \n",
       "TTYPE321= '3_9_0   '                                                            \n",
       "TFORM321= 'D       '                                                            \n",
       "TTYPE322= '3_9_1   '                                                            \n",
       "TFORM322= 'D       '                                                            \n",
       "TTYPE323= '3_9_2   '                                                            \n",
       "TFORM323= 'D       '                                                            \n",
       "TTYPE324= '3_9_3   '                                                            \n",
       "TFORM324= 'D       '                                                            \n",
       "TTYPE325= '3_9_4   '                                                            \n",
       "TFORM325= 'D       '                                                            \n",
       "TTYPE326= '3_9_5   '                                                            \n",
       "TFORM326= 'D       '                                                            \n",
       "TTYPE327= '3_9_6   '                                                            \n",
       "TFORM327= 'D       '                                                            \n",
       "TTYPE328= '3_9_7   '                                                            \n",
       "TFORM328= 'D       '                                                            \n",
       "TTYPE329= '3_9_8   '                                                            \n",
       "TFORM329= 'D       '                                                            \n",
       "TTYPE330= '3_10_0  '                                                            \n",
       "TFORM330= 'D       '                                                            \n",
       "TTYPE331= '3_10_1  '                                                            \n",
       "TFORM331= 'D       '                                                            \n",
       "TTYPE332= '3_10_2  '                                                            \n",
       "TFORM332= 'D       '                                                            \n",
       "TTYPE333= '3_10_3  '                                                            \n",
       "TFORM333= 'D       '                                                            \n",
       "TTYPE334= '3_10_4  '                                                            \n",
       "TFORM334= 'D       '                                                            \n",
       "TTYPE335= '3_10_5  '                                                            \n",
       "TFORM335= 'D       '                                                            \n",
       "TTYPE336= '3_10_6  '                                                            \n",
       "TFORM336= 'D       '                                                            \n",
       "TTYPE337= '3_10_7  '                                                            \n",
       "TFORM337= 'D       '                                                            \n",
       "TTYPE338= '3_10_8  '                                                            \n",
       "TFORM338= 'D       '                                                            \n",
       "TTYPE339= '3_11_0  '                                                            \n",
       "TFORM339= 'D       '                                                            \n",
       "TTYPE340= '3_11_1  '                                                            \n",
       "TFORM340= 'D       '                                                            \n",
       "TTYPE341= '3_11_2  '                                                            \n",
       "TFORM341= 'D       '                                                            \n",
       "TTYPE342= '3_11_3  '                                                            \n",
       "TFORM342= 'D       '                                                            \n",
       "TTYPE343= '3_11_4  '                                                            \n",
       "TFORM343= 'D       '                                                            \n",
       "TTYPE344= '3_11_5  '                                                            \n",
       "TFORM344= 'D       '                                                            \n",
       "TTYPE345= '3_11_6  '                                                            \n",
       "TFORM345= 'D       '                                                            \n",
       "TTYPE346= '3_11_7  '                                                            \n",
       "TFORM346= 'D       '                                                            \n",
       "TTYPE347= '3_11_8  '                                                            \n",
       "TFORM347= 'D       '                                                            "
      ]
     },
     "execution_count": 17,
     "metadata": {},
     "output_type": "execute_result"
    }
   ],
   "source": [
    "list[1].header"
   ]
  },
  {
   "cell_type": "code",
   "execution_count": 18,
   "metadata": {},
   "outputs": [
    {
     "name": "stdout",
     "output_type": "stream",
     "text": [
      "\r",
      " Number of tiles =  346\n",
      "\r",
      " Number of Q functions =  1\n",
      "\r",
      " Using one averaged Q function for optimisation\n"
     ]
    }
   ],
   "source": [
    "Nt = len(tilename)\n",
    "print(\"\\r Number of tiles = \", Nt)\n",
    "\n",
    "\n",
    "list = fits.open(Qfits)\n",
    "data = list[1].data\n",
    "tt500 = data.field(\"theta500Arcmin\")\n",
    "\n",
    "# reading in all Q functions\n",
    "allQ = np.zeros((len(tt500),Nt))\n",
    "for i in range(Nt):\n",
    "    allQ[:,i] = data.field(tilename[i])\n",
    "assert len(tt500) == len(allQ[:,0])\n",
    "\n",
    "\n",
    "meanQ = np.delete(allQ, np.s_[103,328], axis=1) # manually for now\n",
    "Q = np.mean(meanQ, axis=1)\n",
    "print(\"\\r Number of Q functions = \", Q.ndim)\n",
    "print(\"\\r Using one averaged Q function for optimisation\")\n",
    "\n"
   ]
  },
  {
   "cell_type": "code",
   "execution_count": 19,
   "metadata": {},
   "outputs": [
    {
     "name": "stdout",
     "output_type": "stream",
     "text": [
      "1_0_0 [0.00194169 0.00337121 0.00570464 0.00939087 0.01505322 0.02348173\n",
      " 0.03568572 0.05289286 0.07656471 0.10832515 0.14999697 0.20339362\n",
      " 0.27023019 0.35184962 0.4489453  0.56123983 0.68696171 0.82255091\n",
      " 0.9624626  1.         1.09920005 1.22384869 1.32757208 1.40231929\n",
      " 1.44197964 1.44380945 1.40904177 1.34240415 1.25093349 1.14284971\n",
      " 1.02650094 0.90918586 0.79656061 0.6923414  0.59874906 0.51708411\n",
      " 0.44758648 0.38950711 0.34143984 0.30122258 0.26586148 0.23255087\n",
      " 0.20038777 0.17074376 0.14503454 0.12314062 0.15797568 0.22043041\n",
      " 0.29701337 0.38701687 0.48859193]\n"
     ]
    }
   ],
   "source": [
    "\n",
    "print(tilename[0],data.field(tilename[0]))"
   ]
  },
  {
   "cell_type": "code",
   "execution_count": 52,
   "metadata": {},
   "outputs": [
    {
     "data": {
      "text/plain": [
       "XTENSION= 'BINTABLE'           / binary table extension                         \n",
       "BITPIX  =                    8 / array data type                                \n",
       "NAXIS   =                    2 / number of array dimensions                     \n",
       "NAXIS1  =                 2776 / length of dimension 1                          \n",
       "NAXIS2  =                   51 / length of dimension 2                          \n",
       "PCOUNT  =                    0 / number of group parameters                     \n",
       "GCOUNT  =                    1 / number of groups                               \n",
       "TFIELDS =                  347 / number of table fields                         \n",
       "TTYPE1  = 'theta500Arcmin'                                                      \n",
       "TFORM1  = 'D       '                                                            \n",
       "TTYPE2  = '1_0_0   '                                                            \n",
       "TFORM2  = 'D       '                                                            \n",
       "TTYPE3  = '1_0_1   '                                                            \n",
       "TFORM3  = 'D       '                                                            \n",
       "TTYPE4  = '1_0_2   '                                                            \n",
       "TFORM4  = 'D       '                                                            \n",
       "TTYPE5  = '1_0_3   '                                                            \n",
       "TFORM5  = 'D       '                                                            \n",
       "TTYPE6  = '1_0_4   '                                                            \n",
       "TFORM6  = 'D       '                                                            \n",
       "TTYPE7  = '1_0_5   '                                                            \n",
       "TFORM7  = 'D       '                                                            \n",
       "TTYPE8  = '1_0_6   '                                                            \n",
       "TFORM8  = 'D       '                                                            \n",
       "TTYPE9  = '1_0_7   '                                                            \n",
       "TFORM9  = 'D       '                                                            \n",
       "TTYPE10 = '1_0_8   '                                                            \n",
       "TFORM10 = 'D       '                                                            \n",
       "TTYPE11 = '1_0_9   '                                                            \n",
       "TFORM11 = 'D       '                                                            \n",
       "TTYPE12 = '1_0_10  '                                                            \n",
       "TFORM12 = 'D       '                                                            \n",
       "TTYPE13 = '1_0_11  '                                                            \n",
       "TFORM13 = 'D       '                                                            \n",
       "TTYPE14 = '1_1_0   '                                                            \n",
       "TFORM14 = 'D       '                                                            \n",
       "TTYPE15 = '1_1_1   '                                                            \n",
       "TFORM15 = 'D       '                                                            \n",
       "TTYPE16 = '1_1_2   '                                                            \n",
       "TFORM16 = 'D       '                                                            \n",
       "TTYPE17 = '1_1_3   '                                                            \n",
       "TFORM17 = 'D       '                                                            \n",
       "TTYPE18 = '1_1_4   '                                                            \n",
       "TFORM18 = 'D       '                                                            \n",
       "TTYPE19 = '1_1_5   '                                                            \n",
       "TFORM19 = 'D       '                                                            \n",
       "TTYPE20 = '1_1_6   '                                                            \n",
       "TFORM20 = 'D       '                                                            \n",
       "TTYPE21 = '1_1_7   '                                                            \n",
       "TFORM21 = 'D       '                                                            \n",
       "TTYPE22 = '1_1_8   '                                                            \n",
       "TFORM22 = 'D       '                                                            \n",
       "TTYPE23 = '1_1_9   '                                                            \n",
       "TFORM23 = 'D       '                                                            \n",
       "TTYPE24 = '1_1_10  '                                                            \n",
       "TFORM24 = 'D       '                                                            \n",
       "TTYPE25 = '1_1_11  '                                                            \n",
       "TFORM25 = 'D       '                                                            \n",
       "TTYPE26 = '1_1_12  '                                                            \n",
       "TFORM26 = 'D       '                                                            \n",
       "TTYPE27 = '1_2_0   '                                                            \n",
       "TFORM27 = 'D       '                                                            \n",
       "TTYPE28 = '1_2_1   '                                                            \n",
       "TFORM28 = 'D       '                                                            \n",
       "TTYPE29 = '1_2_2   '                                                            \n",
       "TFORM29 = 'D       '                                                            \n",
       "TTYPE30 = '1_2_3   '                                                            \n",
       "TFORM30 = 'D       '                                                            \n",
       "TTYPE31 = '1_2_4   '                                                            \n",
       "TFORM31 = 'D       '                                                            \n",
       "TTYPE32 = '1_2_5   '                                                            \n",
       "TFORM32 = 'D       '                                                            \n",
       "TTYPE33 = '1_2_6   '                                                            \n",
       "TFORM33 = 'D       '                                                            \n",
       "TTYPE34 = '1_2_7   '                                                            \n",
       "TFORM34 = 'D       '                                                            \n",
       "TTYPE35 = '1_2_8   '                                                            \n",
       "TFORM35 = 'D       '                                                            \n",
       "TTYPE36 = '1_2_9   '                                                            \n",
       "TFORM36 = 'D       '                                                            \n",
       "TTYPE37 = '1_2_10  '                                                            \n",
       "TFORM37 = 'D       '                                                            \n",
       "TTYPE38 = '1_2_11  '                                                            \n",
       "TFORM38 = 'D       '                                                            \n",
       "TTYPE39 = '1_2_12  '                                                            \n",
       "TFORM39 = 'D       '                                                            \n",
       "TTYPE40 = '1_2_13  '                                                            \n",
       "TFORM40 = 'D       '                                                            \n",
       "TTYPE41 = '1_2_14  '                                                            \n",
       "TFORM41 = 'D       '                                                            \n",
       "TTYPE42 = '1_3_0   '                                                            \n",
       "TFORM42 = 'D       '                                                            \n",
       "TTYPE43 = '1_3_1   '                                                            \n",
       "TFORM43 = 'D       '                                                            \n",
       "TTYPE44 = '1_3_2   '                                                            \n",
       "TFORM44 = 'D       '                                                            \n",
       "TTYPE45 = '1_3_3   '                                                            \n",
       "TFORM45 = 'D       '                                                            \n",
       "TTYPE46 = '1_3_4   '                                                            \n",
       "TFORM46 = 'D       '                                                            \n",
       "TTYPE47 = '1_3_5   '                                                            \n",
       "TFORM47 = 'D       '                                                            \n",
       "TTYPE48 = '1_3_6   '                                                            \n",
       "TFORM48 = 'D       '                                                            \n",
       "TTYPE49 = '1_3_7   '                                                            \n",
       "TFORM49 = 'D       '                                                            \n",
       "TTYPE50 = '1_3_8   '                                                            \n",
       "TFORM50 = 'D       '                                                            \n",
       "TTYPE51 = '1_3_9   '                                                            \n",
       "TFORM51 = 'D       '                                                            \n",
       "TTYPE52 = '1_3_10  '                                                            \n",
       "TFORM52 = 'D       '                                                            \n",
       "TTYPE53 = '1_3_11  '                                                            \n",
       "TFORM53 = 'D       '                                                            \n",
       "TTYPE54 = '1_3_12  '                                                            \n",
       "TFORM54 = 'D       '                                                            \n",
       "TTYPE55 = '1_3_13  '                                                            \n",
       "TFORM55 = 'D       '                                                            \n",
       "TTYPE56 = '1_3_14  '                                                            \n",
       "TFORM56 = 'D       '                                                            \n",
       "TTYPE57 = '1_4_0   '                                                            \n",
       "TFORM57 = 'D       '                                                            \n",
       "TTYPE58 = '1_4_1   '                                                            \n",
       "TFORM58 = 'D       '                                                            \n",
       "TTYPE59 = '1_4_2   '                                                            \n",
       "TFORM59 = 'D       '                                                            \n",
       "TTYPE60 = '1_4_3   '                                                            \n",
       "TFORM60 = 'D       '                                                            \n",
       "TTYPE61 = '1_4_4   '                                                            \n",
       "TFORM61 = 'D       '                                                            \n",
       "TTYPE62 = '1_4_5   '                                                            \n",
       "TFORM62 = 'D       '                                                            \n",
       "TTYPE63 = '1_4_6   '                                                            \n",
       "TFORM63 = 'D       '                                                            \n",
       "TTYPE64 = '1_4_7   '                                                            \n",
       "TFORM64 = 'D       '                                                            \n",
       "TTYPE65 = '1_4_8   '                                                            \n",
       "TFORM65 = 'D       '                                                            \n",
       "TTYPE66 = '1_4_9   '                                                            \n",
       "TFORM66 = 'D       '                                                            \n",
       "TTYPE67 = '1_4_10  '                                                            \n",
       "TFORM67 = 'D       '                                                            \n",
       "TTYPE68 = '1_4_11  '                                                            \n",
       "TFORM68 = 'D       '                                                            \n",
       "TTYPE69 = '1_4_12  '                                                            \n",
       "TFORM69 = 'D       '                                                            \n",
       "TTYPE70 = '1_4_13  '                                                            \n",
       "TFORM70 = 'D       '                                                            \n",
       "TTYPE71 = '1_4_14  '                                                            \n",
       "TFORM71 = 'D       '                                                            \n",
       "TTYPE72 = '1_4_15  '                                                            \n",
       "TFORM72 = 'D       '                                                            \n",
       "TTYPE73 = '1_5_0   '                                                            \n",
       "TFORM73 = 'D       '                                                            \n",
       "TTYPE74 = '1_5_1   '                                                            \n",
       "TFORM74 = 'D       '                                                            \n",
       "TTYPE75 = '1_5_2   '                                                            \n",
       "TFORM75 = 'D       '                                                            \n",
       "TTYPE76 = '1_5_3   '                                                            \n",
       "TFORM76 = 'D       '                                                            \n",
       "TTYPE77 = '1_5_4   '                                                            \n",
       "TFORM77 = 'D       '                                                            \n",
       "TTYPE78 = '1_5_5   '                                                            \n",
       "TFORM78 = 'D       '                                                            \n",
       "TTYPE79 = '1_5_6   '                                                            \n",
       "TFORM79 = 'D       '                                                            \n",
       "TTYPE80 = '1_5_7   '                                                            \n",
       "TFORM80 = 'D       '                                                            \n",
       "TTYPE81 = '1_5_8   '                                                            \n",
       "TFORM81 = 'D       '                                                            \n",
       "TTYPE82 = '1_5_9   '                                                            \n",
       "TFORM82 = 'D       '                                                            \n",
       "TTYPE83 = '1_5_10  '                                                            \n",
       "TFORM83 = 'D       '                                                            \n",
       "TTYPE84 = '1_5_11  '                                                            \n",
       "TFORM84 = 'D       '                                                            \n",
       "TTYPE85 = '1_5_12  '                                                            \n",
       "TFORM85 = 'D       '                                                            \n",
       "TTYPE86 = '1_5_13  '                                                            \n",
       "TFORM86 = 'D       '                                                            \n",
       "TTYPE87 = '1_5_14  '                                                            \n",
       "TFORM87 = 'D       '                                                            \n",
       "TTYPE88 = '1_5_15  '                                                            \n",
       "TFORM88 = 'D       '                                                            \n",
       "TTYPE89 = '1_6_0   '                                                            \n",
       "TFORM89 = 'D       '                                                            \n",
       "TTYPE90 = '1_6_1   '                                                            \n",
       "TFORM90 = 'D       '                                                            \n",
       "TTYPE91 = '1_6_2   '                                                            \n",
       "TFORM91 = 'D       '                                                            \n",
       "TTYPE92 = '1_6_3   '                                                            \n",
       "TFORM92 = 'D       '                                                            \n",
       "TTYPE93 = '1_6_4   '                                                            \n",
       "TFORM93 = 'D       '                                                            \n",
       "TTYPE94 = '1_6_5   '                                                            \n",
       "TFORM94 = 'D       '                                                            \n",
       "TTYPE95 = '1_6_6   '                                                            \n",
       "TFORM95 = 'D       '                                                            \n",
       "TTYPE96 = '1_6_7   '                                                            \n",
       "TFORM96 = 'D       '                                                            \n",
       "TTYPE97 = '1_6_8   '                                                            \n",
       "TFORM97 = 'D       '                                                            \n",
       "TTYPE98 = '1_6_9   '                                                            \n",
       "TFORM98 = 'D       '                                                            \n",
       "TTYPE99 = '1_6_10  '                                                            \n",
       "TFORM99 = 'D       '                                                            \n",
       "TTYPE100= '1_6_11  '                                                            \n",
       "TFORM100= 'D       '                                                            \n",
       "TTYPE101= '1_6_12  '                                                            \n",
       "TFORM101= 'D       '                                                            \n",
       "TTYPE102= '1_6_13  '                                                            \n",
       "TFORM102= 'D       '                                                            \n",
       "TTYPE103= '1_6_14  '                                                            \n",
       "TFORM103= 'D       '                                                            \n",
       "TTYPE104= '1_6_15  '                                                            \n",
       "TFORM104= 'D       '                                                            \n",
       "TTYPE105= '1_6_16  '                                                            \n",
       "TFORM105= 'D       '                                                            \n",
       "TTYPE106= '1_7_0   '                                                            \n",
       "TFORM106= 'D       '                                                            \n",
       "TTYPE107= '1_7_1   '                                                            \n",
       "TFORM107= 'D       '                                                            \n",
       "TTYPE108= '1_7_2   '                                                            \n",
       "TFORM108= 'D       '                                                            \n",
       "TTYPE109= '1_7_3   '                                                            \n",
       "TFORM109= 'D       '                                                            \n",
       "TTYPE110= '1_7_4   '                                                            \n",
       "TFORM110= 'D       '                                                            \n",
       "TTYPE111= '1_7_5   '                                                            \n",
       "TFORM111= 'D       '                                                            \n",
       "TTYPE112= '1_7_6   '                                                            \n",
       "TFORM112= 'D       '                                                            \n",
       "TTYPE113= '1_7_7   '                                                            \n",
       "TFORM113= 'D       '                                                            \n",
       "TTYPE114= '1_7_8   '                                                            \n",
       "TFORM114= 'D       '                                                            \n",
       "TTYPE115= '1_7_9   '                                                            \n",
       "TFORM115= 'D       '                                                            \n",
       "TTYPE116= '1_7_10  '                                                            \n",
       "TFORM116= 'D       '                                                            \n",
       "TTYPE117= '1_7_11  '                                                            \n",
       "TFORM117= 'D       '                                                            \n",
       "TTYPE118= '1_7_12  '                                                            \n",
       "TFORM118= 'D       '                                                            \n",
       "TTYPE119= '1_7_13  '                                                            \n",
       "TFORM119= 'D       '                                                            \n",
       "TTYPE120= '1_7_14  '                                                            \n",
       "TFORM120= 'D       '                                                            \n",
       "TTYPE121= '1_8_0   '                                                            \n",
       "TFORM121= 'D       '                                                            \n",
       "TTYPE122= '1_8_1   '                                                            \n",
       "TFORM122= 'D       '                                                            \n",
       "TTYPE123= '1_8_2   '                                                            \n",
       "TFORM123= 'D       '                                                            \n",
       "TTYPE124= '1_8_3   '                                                            \n",
       "TFORM124= 'D       '                                                            \n",
       "TTYPE125= '1_8_4   '                                                            \n",
       "TFORM125= 'D       '                                                            \n",
       "TTYPE126= '1_8_5   '                                                            \n",
       "TFORM126= 'D       '                                                            \n",
       "TTYPE127= '1_8_6   '                                                            \n",
       "TFORM127= 'D       '                                                            \n",
       "TTYPE128= '1_8_7   '                                                            \n",
       "TFORM128= 'D       '                                                            \n",
       "TTYPE129= '1_8_8   '                                                            \n",
       "TFORM129= 'D       '                                                            \n",
       "TTYPE130= '1_8_9   '                                                            \n",
       "TFORM130= 'D       '                                                            \n",
       "TTYPE131= '1_8_10  '                                                            \n",
       "TFORM131= 'D       '                                                            \n",
       "TTYPE132= '1_8_11  '                                                            \n",
       "TFORM132= 'D       '                                                            \n",
       "TTYPE133= '1_8_12  '                                                            \n",
       "TFORM133= 'D       '                                                            \n",
       "TTYPE134= '1_8_13  '                                                            \n",
       "TFORM134= 'D       '                                                            \n",
       "TTYPE135= '1_8_14  '                                                            \n",
       "TFORM135= 'D       '                                                            \n",
       "TTYPE136= '1_9_0   '                                                            \n",
       "TFORM136= 'D       '                                                            \n",
       "TTYPE137= '1_9_1   '                                                            \n",
       "TFORM137= 'D       '                                                            \n",
       "TTYPE138= '1_9_2   '                                                            \n",
       "TFORM138= 'D       '                                                            \n",
       "TTYPE139= '1_9_3   '                                                            \n",
       "TFORM139= 'D       '                                                            \n",
       "TTYPE140= '1_9_4   '                                                            \n",
       "TFORM140= 'D       '                                                            \n",
       "TTYPE141= '1_9_5   '                                                            \n",
       "TFORM141= 'D       '                                                            \n",
       "TTYPE142= '1_9_6   '                                                            \n",
       "TFORM142= 'D       '                                                            \n",
       "TTYPE143= '1_9_7   '                                                            \n",
       "TFORM143= 'D       '                                                            \n",
       "TTYPE144= '1_9_8   '                                                            \n",
       "TFORM144= 'D       '                                                            \n",
       "TTYPE145= '1_9_9   '                                                            \n",
       "TFORM145= 'D       '                                                            \n",
       "TTYPE146= '1_9_10  '                                                            \n",
       "TFORM146= 'D       '                                                            \n",
       "TTYPE147= '1_9_11  '                                                            \n",
       "TFORM147= 'D       '                                                            \n",
       "TTYPE148= '1_9_12  '                                                            \n",
       "TFORM148= 'D       '                                                            \n",
       "TTYPE149= '1_9_13  '                                                            \n",
       "TFORM149= 'D       '                                                            \n",
       "TTYPE150= '1_9_14  '                                                            \n",
       "TFORM150= 'D       '                                                            \n",
       "TTYPE151= '1_9_15  '                                                            \n",
       "TFORM151= 'D       '                                                            \n",
       "TTYPE152= '1_10_0  '                                                            \n",
       "TFORM152= 'D       '                                                            \n",
       "TTYPE153= '1_10_1  '                                                            \n",
       "TFORM153= 'D       '                                                            \n",
       "TTYPE154= '1_10_2  '                                                            \n",
       "TFORM154= 'D       '                                                            \n",
       "TTYPE155= '1_10_3  '                                                            \n",
       "TFORM155= 'D       '                                                            \n",
       "TTYPE156= '1_10_4  '                                                            \n",
       "TFORM156= 'D       '                                                            \n",
       "TTYPE157= '1_10_5  '                                                            \n",
       "TFORM157= 'D       '                                                            \n",
       "TTYPE158= '1_10_6  '                                                            \n",
       "TFORM158= 'D       '                                                            \n",
       "TTYPE159= '1_10_7  '                                                            \n",
       "TFORM159= 'D       '                                                            \n",
       "TTYPE160= '1_10_8  '                                                            \n",
       "TFORM160= 'D       '                                                            \n",
       "TTYPE161= '1_10_9  '                                                            \n",
       "TFORM161= 'D       '                                                            \n",
       "TTYPE162= '1_10_10 '                                                            \n",
       "TFORM162= 'D       '                                                            \n",
       "TTYPE163= '1_10_11 '                                                            \n",
       "TFORM163= 'D       '                                                            \n",
       "TTYPE164= '1_10_12 '                                                            \n",
       "TFORM164= 'D       '                                                            \n",
       "TTYPE165= '1_10_13 '                                                            \n",
       "TFORM165= 'D       '                                                            \n",
       "TTYPE166= '1_11_0  '                                                            \n",
       "TFORM166= 'D       '                                                            \n",
       "TTYPE167= '1_11_1  '                                                            \n",
       "TFORM167= 'D       '                                                            \n",
       "TTYPE168= '1_11_2  '                                                            \n",
       "TFORM168= 'D       '                                                            \n",
       "TTYPE169= '1_11_3  '                                                            \n",
       "TFORM169= 'D       '                                                            \n",
       "TTYPE170= '1_11_4  '                                                            \n",
       "TFORM170= 'D       '                                                            \n",
       "TTYPE171= '1_11_5  '                                                            \n",
       "TFORM171= 'D       '                                                            \n",
       "TTYPE172= '1_11_6  '                                                            \n",
       "TFORM172= 'D       '                                                            \n",
       "TTYPE173= '1_11_7  '                                                            \n",
       "TFORM173= 'D       '                                                            \n",
       "TTYPE174= '1_11_8  '                                                            \n",
       "TFORM174= 'D       '                                                            \n",
       "TTYPE175= '1_11_9  '                                                            \n",
       "TFORM175= 'D       '                                                            \n",
       "TTYPE176= '1_11_10 '                                                            \n",
       "TFORM176= 'D       '                                                            \n",
       "TTYPE177= '1_11_11 '                                                            \n",
       "TFORM177= 'D       '                                                            \n",
       "TTYPE178= '1_11_12 '                                                            \n",
       "TFORM178= 'D       '                                                            \n",
       "TTYPE179= '1_11_13 '                                                            \n",
       "TFORM179= 'D       '                                                            \n",
       "TTYPE180= '1_12_0  '                                                            \n",
       "TFORM180= 'D       '                                                            \n",
       "TTYPE181= '1_12_1  '                                                            \n",
       "TFORM181= 'D       '                                                            \n",
       "TTYPE182= '1_12_2  '                                                            \n",
       "TFORM182= 'D       '                                                            \n",
       "TTYPE183= '1_12_3  '                                                            \n",
       "TFORM183= 'D       '                                                            \n",
       "TTYPE184= '1_12_4  '                                                            \n",
       "TFORM184= 'D       '                                                            \n",
       "TTYPE185= '1_12_5  '                                                            \n",
       "TFORM185= 'D       '                                                            \n",
       "TTYPE186= '1_12_6  '                                                            \n",
       "TFORM186= 'D       '                                                            \n",
       "TTYPE187= '1_12_7  '                                                            \n",
       "TFORM187= 'D       '                                                            \n",
       "TTYPE188= '1_12_8  '                                                            \n",
       "TFORM188= 'D       '                                                            \n",
       "TTYPE189= '1_12_9  '                                                            \n",
       "TFORM189= 'D       '                                                            \n",
       "TTYPE190= '1_12_10 '                                                            \n",
       "TFORM190= 'D       '                                                            \n",
       "TTYPE191= '1_12_11 '                                                            \n",
       "TFORM191= 'D       '                                                            \n",
       "TTYPE192= '1_12_12 '                                                            \n",
       "TFORM192= 'D       '                                                            \n",
       "TTYPE193= '1_12_13 '                                                            \n",
       "TFORM193= 'D       '                                                            \n",
       "TTYPE194= '1_12_14 '                                                            \n",
       "TFORM194= 'D       '                                                            \n",
       "TTYPE195= '2_0_0   '                                                            \n",
       "TFORM195= 'D       '                                                            \n",
       "TTYPE196= '2_0_1   '                                                            \n",
       "TFORM196= 'D       '                                                            \n",
       "TTYPE197= '2_0_2   '                                                            \n",
       "TFORM197= 'D       '                                                            \n",
       "TTYPE198= '2_1_0   '                                                            \n",
       "TFORM198= 'D       '                                                            \n",
       "TTYPE199= '2_1_1   '                                                            \n",
       "TFORM199= 'D       '                                                            \n",
       "TTYPE200= '2_1_2   '                                                            \n",
       "TFORM200= 'D       '                                                            \n",
       "TTYPE201= '2_1_3   '                                                            \n",
       "TFORM201= 'D       '                                                            \n",
       "TTYPE202= '2_2_0   '                                                            \n",
       "TFORM202= 'D       '                                                            \n",
       "TTYPE203= '2_2_1   '                                                            \n",
       "TFORM203= 'D       '                                                            \n",
       "TTYPE204= '2_2_2   '                                                            \n",
       "TFORM204= 'D       '                                                            \n",
       "TTYPE205= '2_2_3   '                                                            \n",
       "TFORM205= 'D       '                                                            \n",
       "TTYPE206= '2_2_4   '                                                            \n",
       "TFORM206= 'D       '                                                            \n",
       "TTYPE207= '2_3_0   '                                                            \n",
       "TFORM207= 'D       '                                                            \n",
       "TTYPE208= '2_3_1   '                                                            \n",
       "TFORM208= 'D       '                                                            \n",
       "TTYPE209= '2_3_2   '                                                            \n",
       "TFORM209= 'D       '                                                            \n",
       "TTYPE210= '2_3_3   '                                                            \n",
       "TFORM210= 'D       '                                                            \n",
       "TTYPE211= '2_3_4   '                                                            \n",
       "TFORM211= 'D       '                                                            \n",
       "TTYPE212= '2_4_0   '                                                            \n",
       "TFORM212= 'D       '                                                            \n",
       "TTYPE213= '2_4_1   '                                                            \n",
       "TFORM213= 'D       '                                                            \n",
       "TTYPE214= '2_4_2   '                                                            \n",
       "TFORM214= 'D       '                                                            \n",
       "TTYPE215= '2_4_3   '                                                            \n",
       "TFORM215= 'D       '                                                            \n",
       "TTYPE216= '2_4_4   '                                                            \n",
       "TFORM216= 'D       '                                                            \n",
       "TTYPE217= '2_4_5   '                                                            \n",
       "TFORM217= 'D       '                                                            \n",
       "TTYPE218= '2_5_0   '                                                            \n",
       "TFORM218= 'D       '                                                            \n",
       "TTYPE219= '2_5_1   '                                                            \n",
       "TFORM219= 'D       '                                                            \n",
       "TTYPE220= '2_5_2   '                                                            \n",
       "TFORM220= 'D       '                                                            \n",
       "TTYPE221= '2_5_3   '                                                            \n",
       "TFORM221= 'D       '                                                            \n",
       "TTYPE222= '2_5_4   '                                                            \n",
       "TFORM222= 'D       '                                                            \n",
       "TTYPE223= '2_5_5   '                                                            \n",
       "TFORM223= 'D       '                                                            \n",
       "TTYPE224= '2_6_0   '                                                            \n",
       "TFORM224= 'D       '                                                            \n",
       "TTYPE225= '2_6_1   '                                                            \n",
       "TFORM225= 'D       '                                                            \n",
       "TTYPE226= '2_6_2   '                                                            \n",
       "TFORM226= 'D       '                                                            \n",
       "TTYPE227= '2_6_3   '                                                            \n",
       "TFORM227= 'D       '                                                            \n",
       "TTYPE228= '2_6_4   '                                                            \n",
       "TFORM228= 'D       '                                                            \n",
       "TTYPE229= '2_6_5   '                                                            \n",
       "TFORM229= 'D       '                                                            \n",
       "TTYPE230= '2_7_0   '                                                            \n",
       "TFORM230= 'D       '                                                            \n",
       "TTYPE231= '2_7_1   '                                                            \n",
       "TFORM231= 'D       '                                                            \n",
       "TTYPE232= '2_7_2   '                                                            \n",
       "TFORM232= 'D       '                                                            \n",
       "TTYPE233= '2_7_3   '                                                            \n",
       "TFORM233= 'D       '                                                            \n",
       "TTYPE234= '2_7_4   '                                                            \n",
       "TFORM234= 'D       '                                                            \n",
       "TTYPE235= '2_7_5   '                                                            \n",
       "TFORM235= 'D       '                                                            \n",
       "TTYPE236= '2_7_6   '                                                            \n",
       "TFORM236= 'D       '                                                            \n",
       "TTYPE237= '2_8_0   '                                                            \n",
       "TFORM237= 'D       '                                                            \n",
       "TTYPE238= '2_8_1   '                                                            \n",
       "TFORM238= 'D       '                                                            \n",
       "TTYPE239= '2_8_2   '                                                            \n",
       "TFORM239= 'D       '                                                            \n",
       "TTYPE240= '2_8_3   '                                                            \n",
       "TFORM240= 'D       '                                                            \n",
       "TTYPE241= '2_8_4   '                                                            \n",
       "TFORM241= 'D       '                                                            \n",
       "TTYPE242= '2_8_5   '                                                            \n",
       "TFORM242= 'D       '                                                            \n",
       "TTYPE243= '2_8_6   '                                                            \n",
       "TFORM243= 'D       '                                                            \n",
       "TTYPE244= '2_9_0   '                                                            \n",
       "TFORM244= 'D       '                                                            \n",
       "TTYPE245= '2_9_1   '                                                            \n",
       "TFORM245= 'D       '                                                            \n",
       "TTYPE246= '2_9_2   '                                                            \n",
       "TFORM246= 'D       '                                                            \n",
       "TTYPE247= '2_9_3   '                                                            \n",
       "TFORM247= 'D       '                                                            \n",
       "TTYPE248= '2_9_4   '                                                            \n",
       "TFORM248= 'D       '                                                            \n",
       "TTYPE249= '2_9_5   '                                                            \n",
       "TFORM249= 'D       '                                                            \n",
       "TTYPE250= '2_9_6   '                                                            \n",
       "TFORM250= 'D       '                                                            \n",
       "TTYPE251= '2_10_0  '                                                            \n",
       "TFORM251= 'D       '                                                            \n",
       "TTYPE252= '2_10_1  '                                                            \n",
       "TFORM252= 'D       '                                                            \n",
       "TTYPE253= '2_10_2  '                                                            \n",
       "TFORM253= 'D       '                                                            \n",
       "TTYPE254= '2_10_3  '                                                            \n",
       "TFORM254= 'D       '                                                            \n",
       "TTYPE255= '2_10_4  '                                                            \n",
       "TFORM255= 'D       '                                                            \n",
       "TTYPE256= '2_10_5  '                                                            \n",
       "TFORM256= 'D       '                                                            \n",
       "TTYPE257= '2_10_6  '                                                            \n",
       "TFORM257= 'D       '                                                            \n",
       "TTYPE258= '2_11_0  '                                                            \n",
       "TFORM258= 'D       '                                                            \n",
       "TTYPE259= '2_11_1  '                                                            \n",
       "TFORM259= 'D       '                                                            \n",
       "TTYPE260= '2_11_2  '                                                            \n",
       "TFORM260= 'D       '                                                            \n",
       "TTYPE261= '2_11_3  '                                                            \n",
       "TFORM261= 'D       '                                                            \n",
       "TTYPE262= '2_11_4  '                                                            \n",
       "TFORM262= 'D       '                                                            \n",
       "TTYPE263= '2_11_5  '                                                            \n",
       "TFORM263= 'D       '                                                            \n",
       "TTYPE264= '2_11_6  '                                                            \n",
       "TFORM264= 'D       '                                                            \n",
       "TTYPE265= '3_0_0   '                                                            \n",
       "TFORM265= 'D       '                                                            \n",
       "TTYPE266= '3_0_1   '                                                            \n",
       "TFORM266= 'D       '                                                            \n",
       "TTYPE267= '3_0_2   '                                                            \n",
       "TFORM267= 'D       '                                                            \n",
       "TTYPE268= '3_0_3   '                                                            \n",
       "TFORM268= 'D       '                                                            \n",
       "TTYPE269= '3_1_0   '                                                            \n",
       "TFORM269= 'D       '                                                            \n",
       "TTYPE270= '3_1_1   '                                                            \n",
       "TFORM270= 'D       '                                                            \n",
       "TTYPE271= '3_1_2   '                                                            \n",
       "TFORM271= 'D       '                                                            \n",
       "TTYPE272= '3_1_3   '                                                            \n",
       "TFORM272= 'D       '                                                            \n",
       "TTYPE273= '3_1_4   '                                                            \n",
       "TFORM273= 'D       '                                                            \n",
       "TTYPE274= '3_2_0   '                                                            \n",
       "TFORM274= 'D       '                                                            \n",
       "TTYPE275= '3_2_1   '                                                            \n",
       "TFORM275= 'D       '                                                            \n",
       "TTYPE276= '3_2_2   '                                                            \n",
       "TFORM276= 'D       '                                                            \n",
       "TTYPE277= '3_2_3   '                                                            \n",
       "TFORM277= 'D       '                                                            \n",
       "TTYPE278= '3_2_4   '                                                            \n",
       "TFORM278= 'D       '                                                            \n",
       "TTYPE279= '3_3_0   '                                                            \n",
       "TFORM279= 'D       '                                                            \n",
       "TTYPE280= '3_3_1   '                                                            \n",
       "TFORM280= 'D       '                                                            \n",
       "TTYPE281= '3_3_2   '                                                            \n",
       "TFORM281= 'D       '                                                            \n",
       "TTYPE282= '3_3_3   '                                                            \n",
       "TFORM282= 'D       '                                                            \n",
       "TTYPE283= '3_3_4   '                                                            \n",
       "TFORM283= 'D       '                                                            \n",
       "TTYPE284= '3_4_0   '                                                            \n",
       "TFORM284= 'D       '                                                            \n",
       "TTYPE285= '3_4_1   '                                                            \n",
       "TFORM285= 'D       '                                                            \n",
       "TTYPE286= '3_4_2   '                                                            \n",
       "TFORM286= 'D       '                                                            \n",
       "TTYPE287= '3_4_3   '                                                            \n",
       "TFORM287= 'D       '                                                            \n",
       "TTYPE288= '3_4_4   '                                                            \n",
       "TFORM288= 'D       '                                                            \n",
       "TTYPE289= '3_4_5   '                                                            \n",
       "TFORM289= 'D       '                                                            \n",
       "TTYPE290= '3_5_0   '                                                            \n",
       "TFORM290= 'D       '                                                            \n",
       "TTYPE291= '3_5_1   '                                                            \n",
       "TFORM291= 'D       '                                                            \n",
       "TTYPE292= '3_5_2   '                                                            \n",
       "TFORM292= 'D       '                                                            \n",
       "TTYPE293= '3_5_3   '                                                            \n",
       "TFORM293= 'D       '                                                            \n",
       "TTYPE294= '3_5_4   '                                                            \n",
       "TFORM294= 'D       '                                                            \n",
       "TTYPE295= '3_5_5   '                                                            \n",
       "TFORM295= 'D       '                                                            \n",
       "TTYPE296= '3_6_0   '                                                            \n",
       "TFORM296= 'D       '                                                            \n",
       "TTYPE297= '3_6_1   '                                                            \n",
       "TFORM297= 'D       '                                                            \n",
       "TTYPE298= '3_6_2   '                                                            \n",
       "TFORM298= 'D       '                                                            \n",
       "TTYPE299= '3_6_3   '                                                            \n",
       "TFORM299= 'D       '                                                            \n",
       "TTYPE300= '3_6_4   '                                                            \n",
       "TFORM300= 'D       '                                                            \n",
       "TTYPE301= '3_6_5   '                                                            \n",
       "TFORM301= 'D       '                                                            \n",
       "TTYPE302= '3_6_6   '                                                            \n",
       "TFORM302= 'D       '                                                            \n",
       "TTYPE303= '3_7_0   '                                                            \n",
       "TFORM303= 'D       '                                                            \n",
       "TTYPE304= '3_7_1   '                                                            \n",
       "TFORM304= 'D       '                                                            \n",
       "TTYPE305= '3_7_2   '                                                            \n",
       "TFORM305= 'D       '                                                            \n",
       "TTYPE306= '3_7_3   '                                                            \n",
       "TFORM306= 'D       '                                                            \n",
       "TTYPE307= '3_7_4   '                                                            \n",
       "TFORM307= 'D       '                                                            \n",
       "TTYPE308= '3_7_5   '                                                            \n",
       "TFORM308= 'D       '                                                            \n",
       "TTYPE309= '3_7_6   '                                                            \n",
       "TFORM309= 'D       '                                                            \n",
       "TTYPE310= '3_7_7   '                                                            \n",
       "TFORM310= 'D       '                                                            \n",
       "TTYPE311= '3_7_8   '                                                            \n",
       "TFORM311= 'D       '                                                            \n",
       "TTYPE312= '3_8_0   '                                                            \n",
       "TFORM312= 'D       '                                                            \n",
       "TTYPE313= '3_8_1   '                                                            \n",
       "TFORM313= 'D       '                                                            \n",
       "TTYPE314= '3_8_2   '                                                            \n",
       "TFORM314= 'D       '                                                            \n",
       "TTYPE315= '3_8_3   '                                                            \n",
       "TFORM315= 'D       '                                                            \n",
       "TTYPE316= '3_8_4   '                                                            \n",
       "TFORM316= 'D       '                                                            \n",
       "TTYPE317= '3_8_5   '                                                            \n",
       "TFORM317= 'D       '                                                            \n",
       "TTYPE318= '3_8_6   '                                                            \n",
       "TFORM318= 'D       '                                                            \n",
       "TTYPE319= '3_8_7   '                                                            \n",
       "TFORM319= 'D       '                                                            \n",
       "TTYPE320= '3_8_8   '                                                            \n",
       "TFORM320= 'D       '                                                            \n",
       "TTYPE321= '3_9_0   '                                                            \n",
       "TFORM321= 'D       '                                                            \n",
       "TTYPE322= '3_9_1   '                                                            \n",
       "TFORM322= 'D       '                                                            \n",
       "TTYPE323= '3_9_2   '                                                            \n",
       "TFORM323= 'D       '                                                            \n",
       "TTYPE324= '3_9_3   '                                                            \n",
       "TFORM324= 'D       '                                                            \n",
       "TTYPE325= '3_9_4   '                                                            \n",
       "TFORM325= 'D       '                                                            \n",
       "TTYPE326= '3_9_5   '                                                            \n",
       "TFORM326= 'D       '                                                            \n",
       "TTYPE327= '3_9_6   '                                                            \n",
       "TFORM327= 'D       '                                                            \n",
       "TTYPE328= '3_9_7   '                                                            \n",
       "TFORM328= 'D       '                                                            \n",
       "TTYPE329= '3_9_8   '                                                            \n",
       "TFORM329= 'D       '                                                            \n",
       "TTYPE330= '3_10_0  '                                                            \n",
       "TFORM330= 'D       '                                                            \n",
       "TTYPE331= '3_10_1  '                                                            \n",
       "TFORM331= 'D       '                                                            \n",
       "TTYPE332= '3_10_2  '                                                            \n",
       "TFORM332= 'D       '                                                            \n",
       "TTYPE333= '3_10_3  '                                                            \n",
       "TFORM333= 'D       '                                                            \n",
       "TTYPE334= '3_10_4  '                                                            \n",
       "TFORM334= 'D       '                                                            \n",
       "TTYPE335= '3_10_5  '                                                            \n",
       "TFORM335= 'D       '                                                            \n",
       "TTYPE336= '3_10_6  '                                                            \n",
       "TFORM336= 'D       '                                                            \n",
       "TTYPE337= '3_10_7  '                                                            \n",
       "TFORM337= 'D       '                                                            \n",
       "TTYPE338= '3_10_8  '                                                            \n",
       "TFORM338= 'D       '                                                            \n",
       "TTYPE339= '3_11_0  '                                                            \n",
       "TFORM339= 'D       '                                                            \n",
       "TTYPE340= '3_11_1  '                                                            \n",
       "TFORM340= 'D       '                                                            \n",
       "TTYPE341= '3_11_2  '                                                            \n",
       "TFORM341= 'D       '                                                            \n",
       "TTYPE342= '3_11_3  '                                                            \n",
       "TFORM342= 'D       '                                                            \n",
       "TTYPE343= '3_11_4  '                                                            \n",
       "TFORM343= 'D       '                                                            \n",
       "TTYPE344= '3_11_5  '                                                            \n",
       "TFORM344= 'D       '                                                            \n",
       "TTYPE345= '3_11_6  '                                                            \n",
       "TFORM345= 'D       '                                                            \n",
       "TTYPE346= '3_11_7  '                                                            \n",
       "TFORM346= 'D       '                                                            \n",
       "TTYPE347= '3_11_8  '                                                            \n",
       "TFORM347= 'D       '                                                            "
      ]
     },
     "execution_count": 52,
     "metadata": {},
     "output_type": "execute_result"
    }
   ],
   "source": [
    "list[1].header"
   ]
  },
  {
   "cell_type": "code",
   "execution_count": 55,
   "metadata": {},
   "outputs": [
    {
     "data": {
      "image/png": "[encoded data removed]",
      "text/plain": [
       "<Figure size 576x432 with 1 Axes>"
      ]
     },
     "metadata": {
      "needs_background": "light"
     },
     "output_type": "display_data"
    }
   ],
   "source": [
    "plt.plot(tt500,Q,marker='o',markersize=1.)\n",
    "plt.yscale('log')\n",
    "import scipy\n",
    "Q_interp = scipy.interpolate.interp1d(tt500,Q)\n",
    "new_th = np.geomspace(1.0001*(tt500.min()),0.999*(tt500.max()),500)\n",
    "plt.plot(new_th,Q_interp(new_th),c='r')\n",
    "Q_new_th = Q_interp(new_th)"
   ]
  },
  {
   "cell_type": "code",
   "execution_count": 52,
   "metadata": {},
   "outputs": [],
   "source": [
    "rad_in_deg2 = (np.deg2rad(1.))**2.\n",
    "np.savetxt(path_to_catalogue+'so_3freqs_020621_theta500arcmin_Q.txt',np.c_[tt500,Q])\n",
    "\n",
    "np.savetxt(path_to_catalogue+'so_3freqs_020621_skyfracs.txt',np.c_[skyfracs/rad_in_deg2/41253.])"
   ]
  },
  {
   "cell_type": "code",
   "execution_count": 53,
   "metadata": {},
   "outputs": [],
   "source": [
    "plc_skyfracs = np.loadtxt('/Users/boris/Work/CLASS-SZ/SO-SZ/class_sz/sz_auxiliary_files/SZ_skyfracs.txt')\n",
    "so_skyfracs = np.loadtxt('/Users/boris/Work/CLASS-SZ/SO-SZ/class_sz/sz_auxiliary_files/so_3freqs_020621_skyfracs.txt')"
   ]
  },
  {
   "cell_type": "code",
   "execution_count": 54,
   "metadata": {},
   "outputs": [],
   "source": [
    "plc_ylims = np.loadtxt('/Users/boris/Work/CLASS-SZ/SO-SZ/class_sz/sz_auxiliary_files/SZ_ylims.txt')"
   ]
  },
  {
   "cell_type": "code",
   "execution_count": 56,
   "metadata": {},
   "outputs": [],
   "source": [
    "so_ylims = []\n",
    "for index_thetas in range(Q.size):\n",
    "    for id_patches in range(so_skyfracs.size):\n",
    "        so_ylims.append(noise[id_patches]/Q[index_thetas])\n",
    "so_ylims = np.asarray(so_ylims)\n",
    "np.savetxt(path_to_catalogue+'so_3freqs_020621_ylims.txt',np.c_[so_ylims])\n",
    "np.savetxt(path_to_catalogue+'so_3freqs_020621_thetas.txt',np.c_[tt500])"
   ]
  },
  {
   "cell_type": "code",
   "execution_count": 59,
   "metadata": {},
   "outputs": [],
   "source": [
    "so_ylims = []\n",
    "for index_thetas in range(Q_new_th.size):\n",
    "    for id_patches in range(so_skyfracs.size):\n",
    "        so_ylims.append(noise[id_patches]/Q_new_th[index_thetas])\n",
    "so_ylims = np.asarray(so_ylims)\n",
    "np.savetxt(path_to_catalogue+'so_3freqs_020621_ylims_fine.txt',np.c_[so_ylims])\n",
    "np.savetxt(path_to_catalogue+'so_3freqs_020621_thetas_fine.txt',np.c_[new_th])"
   ]
  },
  {
   "cell_type": "code",
   "execution_count": 58,
   "metadata": {},
   "outputs": [
    {
     "data": {
      "text/plain": [
       "0.43213469173544644"
      ]
     },
     "execution_count": 58,
     "metadata": {},
     "output_type": "execute_result"
    }
   ],
   "source": [
    "so_skyfracs.sum()"
   ]
  },
  {
   "cell_type": "code",
   "execution_count": 6,
   "metadata": {},
   "outputs": [
    {
     "data": {
      "text/plain": [
       "<matplotlib.legend.Legend at 0x7fa7e88b7b80>"
      ]
     },
     "execution_count": 6,
     "metadata": {},
     "output_type": "execute_result"
    },
    {
     "data": {
      "image/png": "[encoded data removed]",
      "text/plain": [
       "<Figure size 576x432 with 1 Axes>"
      ]
     },
     "metadata": {
      "needs_background": "light"
     },
     "output_type": "display_data"
    }
   ],
   "source": [
    "#############################################\n",
    "#\n",
    "# Cosmological parameters and other CLASS parameters\n",
    "#\n",
    "common_settings = {# wich output? ClTT, transfer functions delta_i and theta_i\n",
    "                   'output':'tCl,pCl,lCl',\n",
    "                   # LambdaCDM parameters\n",
    "                   'h':0.67556,\n",
    "                   'omega_b':0.022032,\n",
    "                   'omega_cdm':0.12038,\n",
    "                   'A_s':2.215e-9,\n",
    "                   'tau_reio':0.0925,\n",
    "                   # Take fixed value for primordial Helium (instead of automatic BBN adjustment)\n",
    "                   'YHe':0.246}\n",
    "                   # other output and precision parameters\n",
    "                   #'l_max_scalars':3000}\n",
    "###############\n",
    "#    \n",
    "# call CLASS \n",
    "#\n",
    "###############\n",
    "#\n",
    "# scalars only\n",
    "#\n",
    "M = Class()\n",
    "M.set(common_settings)\n",
    "M.set({'output':'tCl,pCl','modes':'s','lensing':'no','n_s':0.9619,'l_max_scalars':3000})\n",
    "M.compute()\n",
    "cls = M.raw_cl(3000)\n",
    "M.struct_cleanup()\n",
    "M.empty()\n",
    "#\n",
    "# tensors only\n",
    "#\n",
    "M = Class()\n",
    "M.set(common_settings)\n",
    "l_max_tensors = 600\n",
    "M.set({'output':'tCl,pCl','modes':'t','lensing':'no','r':0.1,'n_t':0,'l_max_tensors':l_max_tensors})\n",
    "# for l_max=600 we can keep default precision\n",
    "# for l_max = 3000 we would need to import many high precision settings from the file cl_ref.pre\n",
    "#M.set({'output':'tCl,pCl','modes':'t','lensing':'no','r':0.1,'n_t':0,'l_max_tensors':3000})\n",
    "#M.set({\n",
    "#'recfast_Nz0':100000,\n",
    "#'tol_thermo_integration':1.e-5,\n",
    "#'recfast_x_He0_trigger_delta':0.01,\n",
    "#'recfast_x_H0_trigger_delta':0.01,\n",
    "#'evolver':0,\n",
    "#'k_min_tau0':0.002,\n",
    "#'k_max_tau0_over_l_max':3.,\n",
    "#'k_step_sub':0.015,\n",
    "#'k_step_super':0.0001,\n",
    "#'k_step_super_reduction':0.1,\n",
    "#'start_small_k_at_tau_c_over_tau_h':0.0004,\n",
    "#'start_large_k_at_tau_h_over_tau_k':0.05,\n",
    "#'tight_coupling_trigger_tau_c_over_tau_h':0.005,\n",
    "#'tight_coupling_trigger_tau_c_over_tau_k':0.008,\n",
    "#'start_sources_at_tau_c_over_tau_h':0.006,\n",
    "#'l_max_g':50,\n",
    "#'l_max_pol_g':25,\n",
    "#'l_max_ur':50,\n",
    "#'tol_perturb_integration':1.e-6,\n",
    "#'perturb_sampling_stepsize':0.01,\n",
    "#'radiation_streaming_approximation':2,\n",
    "#'radiation_streaming_trigger_tau_over_tau_k':240.,\n",
    "#'radiation_streaming_trigger_tau_c_over_tau':100.,\n",
    "#'ur_fluid_approximation':2,\n",
    "#'ur_fluid_trigger_tau_over_tau_k':50.,\n",
    "#'l_logstep':1.026,\n",
    "#'l_linstep':25,\n",
    "#'hyper_sampling_flat':12.,\n",
    "#'hyper_nu_sampling_step':10.,\n",
    "#'hyper_phi_min_abs':1.e-10,\n",
    "#'hyper_x_tol':1.e-4,\n",
    "#'hyper_flat_approximation_nu':1.e6,\n",
    "#'q_linstep':0.20,\n",
    "#'q_logstep_spline':20.,\n",
    "#'q_logstep_trapzd':0.5,\n",
    "#'q_numstep_transition':250,\n",
    "#'transfer_neglect_delta_k_T_t2':100.,\n",
    "#'transfer_neglect_delta_k_T_e':100.,\n",
    "#'transfer_neglect_delta_k_T_b':100.,\n",
    "#'neglect_CMB_sources_below_visibility':1.e-30,\n",
    "#'transfer_neglect_late_source':3000.\n",
    "#})\n",
    "M.compute()\n",
    "clt = M.raw_cl(l_max_tensors)\n",
    "M.struct_cleanup()\n",
    "M.empty()\n",
    "#\n",
    "# scalars + tensors (only in this case we can get the correct lensed ClBB)\n",
    "#\n",
    "M = Class()\n",
    "M.set(common_settings)\n",
    "M.set({'output':'tCl,pCl,lCl','modes':'s,t','lensing':'yes','r':0.1,'n_s':0.9619,'n_t':0,'l_max_scalars':3000,'l_max_tensors':l_max_tensors})\n",
    "M.compute()\n",
    "cl_tot = M.raw_cl(3000)\n",
    "cl_lensed = M.lensed_cl(3000)\n",
    "M.struct_cleanup()\n",
    "M.empty()\n",
    "#\n",
    "#################\n",
    "#\n",
    "# start plotting\n",
    "#\n",
    "#################\n",
    "#\n",
    "plt.xlim([2,3000])\n",
    "plt.ylim([1.e-8,10])\n",
    "plt.xlabel(r\"$\\ell$\")\n",
    "plt.ylabel(r\"$\\ell (\\ell+1) C_l^{XY} / 2 \\pi \\,\\,\\, [\\times 10^{10}]$\")\n",
    "plt.title(r\"$r=0.1$\")\n",
    "plt.grid()\n",
    "#\n",
    "ell = cl_tot['ell']\n",
    "ellt = clt['ell']\n",
    "factor = 1.e10*ell*(ell+1.)/2./math.pi\n",
    "factort = 1.e10*ellt*(ellt+1.)/2./math.pi\n",
    "#\n",
    "plt.loglog(ell,factor*cls['tt'],'r-',label=r'$\\mathrm{TT(s)}$')\n",
    "plt.loglog(ellt,factort*clt['tt'],'r:',label=r'$\\mathrm{TT(t)}$')\n",
    "plt.loglog(ell,factor*cls['ee'],'b-',label=r'$\\mathrm{EE(s)}$')\n",
    "plt.loglog(ellt,factort*clt['ee'],'b:',label=r'$\\mathrm{EE(t)}$')\n",
    "plt.loglog(ellt,factort*clt['bb'],'g:',label=r'$\\mathrm{BB(t)}$')\n",
    "plt.loglog(ell,factor*(cl_lensed['bb']-cl_tot['bb']),'g-',label=r'$\\mathrm{BB(lensing)}$')\n",
    "plt.legend(loc='right',bbox_to_anchor=(1.4, 0.5))"
   ]
  },
  {
   "cell_type": "code",
   "execution_count": null,
   "metadata": {},
   "outputs": [],
   "source": [
    "plt.savefig('cl_ST.pdf',bbox_inches='tight')"
   ]
  }
 ],
 "metadata": {
  "kernelspec": {
   "display_name": "Python 3 (ipykernel)",
   "language": "python",
   "name": "python3"
  },
  "language_info": {
   "codemirror_mode": {
    "name": "ipython",
    "version": 3
   },
   "file_extension": ".py",
   "mimetype": "text/x-python",
   "name": "python",
   "nbconvert_exporter": "python",
   "pygments_lexer": "ipython3",
   "version": "3.8.5"
  }
 },
 "nbformat": 4,
 "nbformat_minor": 1
}
