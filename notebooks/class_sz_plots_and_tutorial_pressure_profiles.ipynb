{
 "cells": [
  {
   "cell_type": "markdown",
   "metadata": {},
   "source": [
    "Notebook initialization:\n",
    "\n",
    "You need to run the next 3 cells!"
   ]
  },
  {
   "cell_type": "code",
   "execution_count": 1,
   "metadata": {},
   "outputs": [],
   "source": [
    "# import necessary modules\n",
    "# uncomment to get plots displayed in notebook\n",
    "%matplotlib inline\n",
    "import matplotlib\n",
    "import matplotlib.pyplot as plt\n",
    "import numpy as np\n",
    "from classy_sz import Class\n",
    "from scipy.optimize import fsolve\n",
    "from scipy.interpolate import interp1d\n",
    "import math"
   ]
  },
  {
   "cell_type": "markdown",
   "metadata": {},
   "source": [
    "Esthetic definitions for the plots"
   ]
  },
  {
   "cell_type": "code",
   "execution_count": 2,
   "metadata": {},
   "outputs": [],
   "source": [
    "font = {'size'   : 16, 'family':'STIXGeneral'}\n",
    "axislabelfontsize='large'\n",
    "matplotlib.rc('font', **font)\n",
    "matplotlib.mathtext.rcParams['legend.fontsize']='medium'\n",
    "plt.rcParams[\"figure.figsize\"] = [8.0,6.0]"
   ]
  },
  {
   "cell_type": "markdown",
   "metadata": {},
   "source": [
    "Common settings for cosmological parameters and other CLASS parameters"
   ]
  },
  {
   "cell_type": "code",
   "execution_count": 3,
   "metadata": {},
   "outputs": [],
   "source": [
    "common_settings = {\n",
    "                   'output':'tCl,pCl,lCl',\n",
    "                   # LambdaCDM parameters\n",
    "                   'h':0.67556,\n",
    "                   'omega_b':0.022032,\n",
    "                   'omega_cdm':0.12038,\n",
    "                   'A_s':2.215e-9,\n",
    "                   'tau_reio':0.0925,\n",
    "                   # Take fixed value for primordial Helium (instead of automatic BBN adjustment)\n",
    "                   'YHe':0.246,\n",
    "                   'mass function' : 'T08M200c',\n",
    "}\n",
    "\n",
    "\n",
    "p18_cosmo = {\n",
    "    \n",
    "     # P18 1st column table 1 of https://arxiv.org/pdf/1807.06209.pdf\n",
    "    'omega_b': 0.022383,\n",
    "    'omega_cdm': 0.12011,\n",
    "    'h': 0.6732,\n",
    "    'tau_reio': 0.0543,\n",
    "    'ln10^{10}A_s': 3.0448,\n",
    "    'n_s': 0.96605,\n",
    "    'k_pivot': 0.05,\n",
    "    'N_ncdm': 1,\n",
    "    'N_ur': 2.0328,\n",
    "    'm_ncdm': 0.06\n",
    "}\n",
    "\n",
    "\n",
    "gil_marin = {\n",
    "    'h':0.7,\n",
    "    'omega_b': 0.023,\n",
    "    'omega_cdm': 0.1093,\n",
    "    'n_s':0.95,\n",
    "    'sigma8': 0.7913,\n",
    "    'tau_reio': 0.0543,\n",
    "}\n",
    "\n",
    "simone = {}\n",
    "\n",
    "lazanu = {\n",
    "    'h':0.71,\n",
    "    'omega_b': 0.0226,\n",
    "    'omega_cdm': 0.11,\n",
    "    'n_s':0.963,\n",
    "    'A_s': 2.43e-9,\n",
    "    'k_pivot': 0.002,\n",
    "}\n",
    "\n",
    "planck_2015 = {\n",
    "    'omega_b' : 0.02226,\n",
    "    'omega_cdm' : 0.1186,\n",
    "    'A_s':  2.139e-9,\n",
    "    'k_pivot': 0.05,\n",
    "    'n_s': 0.9677,\n",
    "    'h' : 0.6781\n",
    "}\n",
    "\n",
    "battaglia_16 = {\n",
    "    'h':0.72,\n",
    "    'Omega_b':0.043,\n",
    "    'Omega_cdm':0.25-0.043,\n",
    "    'n_s':0.96,\n",
    "    'sigma8':0.8\n",
    "    \n",
    "}\n",
    "\n",
    "\n",
    "z_for_pk_hm = 1.\n",
    "M_min = 1e8\n",
    "k_max_for_pk_class_sz = 1e2\n",
    "z_max = 4.\n",
    "\n",
    "pk_setup = {\n",
    "'output': 'pk_at_z_1h,pk_at_z_2h,mPk,pk_gg_at_z_1h,pk_gg_at_z_2h',\n",
    "'M_min' : M_min,\n",
    "'m_min_counter_terms' : M_min,\n",
    "'M_max' : 1e17,\n",
    "'hm_consistency' : 1,\n",
    "'z_min' : 1.e-6,\n",
    "'z_max' : 4.,\n",
    "\n",
    "\"dlnk_for_pk_hm\" : 0.01,\n",
    "\"z_for_pk_hm\" : z_for_pk_hm,\n",
    "\"z_pk\" : z_for_pk_hm ,\n",
    "\"k_min_for_pk_hm\" : 1e-4,\n",
    "\"k_max_for_pk_hm\" : 2e1,\n",
    "    \n",
    "}\n",
    "\n",
    "factor_sz = 1e-2"
   ]
  },
  {
   "cell_type": "markdown",
   "metadata": {},
   "source": [
    "# connection between pressure profiles and y-m relations"
   ]
  },
  {
   "cell_type": "code",
   "execution_count": 4,
   "metadata": {},
   "outputs": [],
   "source": [
    "M = Class()\n",
    "cosmo_settings = {\n",
    "                  'omega_cdm': 0.125,\n",
    "                  'omega_b': 0.0224,\n",
    "                  'A_s': 1.9e-9,\n",
    "                  'n_s': 0.96,\n",
    "                  'H0': 70.,\n",
    "                  'tau_reio': 0.054, # planck 2018 value (in abstract of 1807.06209)\n",
    "                  'YHe': 'BBN',\n",
    "\n",
    "                  # 1 massive neutrino (planck 2018 baseline)\n",
    "                  'N_ur': 2.0328,\n",
    "                  'N_ncdm': 1,\n",
    "                  'm_ncdm': 0.06,\n",
    "                  'T_ncdm': 0.71611,\n",
    "                   \n",
    "                  'M_max': 5e16,\n",
    "\n",
    "\n",
    "                  # X ray mass bias (if applicable)\n",
    "                  'B' : 1.,\n",
    "                  'output' : 'tSZ_1h,m200c_to_m500c,m500c_to_m200c',\n",
    "                  'pressure profile': 'Custom. GNFW',\n",
    "                  'P0GNFW': 8.403,\n",
    "                  'c500':1.177,\n",
    "                  'gammaGNFW':0.3081,\n",
    "                  'alphaGNFW':1.0510,\n",
    "                  'betaGNFW':5.4905\n",
    "}\n",
    "\n",
    "M.set(cosmo_settings)\n",
    "M.compute()"
   ]
  },
  {
   "cell_type": "code",
   "execution_count": 21,
   "metadata": {},
   "outputs": [
    {
     "data": {
      "text/plain": [
       "Text(0.5, 0, 'angular size $\\\\theta = r/d_A$ in arcmin')"
      ]
     },
     "execution_count": 21,
     "metadata": {},
     "output_type": "execute_result"
    },
    {
     "data": {
      "image/png": "[encoded data removed]",
      "text/plain": [
       "<Figure size 576x432 with 1 Axes>"
      ]
     },
     "metadata": {
      "needs_background": "light"
     },
     "output_type": "display_data"
    }
   ],
   "source": [
    "# chose a mass and redshift for a given halo of interest\n",
    "z = 0.1\n",
    "m200c = 1e14\n",
    "\n",
    "# load the profile formula and vectorize:\n",
    "vec_get_dy_classy_battaglia = np.vectorize(M.get_1e6xdy_from_battaglia_pressure_at_x_z_and_m200c)\n",
    "\n",
    "# define array of x=r/r200c:\n",
    "x_arr = np.geomspace(1e-2,1e1)\n",
    "x_200c = x_arr\n",
    "\n",
    "# dimensonfull radial array:\n",
    "r200c = M.get_r_delta_of_m_delta_at_z(200,m200c,z)\n",
    "r = x_200c*r200c\n",
    "theta_arcmin = M.get_rad_to_arcmin(r/M.get_dA(z))\n",
    "\n",
    "def x200c_to_theta_arcmin(X):\n",
    "    return M.get_rad_to_arcmin(r200c*X/M.get_dA(z))\n",
    "def theta_arcmin_to_x200c(X):\n",
    "    theta_rad = M.get_arcmin_to_rad(X)\n",
    "    r = M.get_dA(z)*theta_rad\n",
    "    return r/r200c\n",
    "\n",
    "fig = plt.figure()\n",
    "ax1 = fig.add_subplot(111)\n",
    "ax1.plot(x_arr,vec_get_dy_classy_battaglia(x_arr,z,m200c)*x_arr**3.,label='battaglia et al 2012')\n",
    "ax1.loglog()\n",
    "ax1.legend()\n",
    "ax1.set_xlabel(r'$\\lambda=r/r_{200c}$')\n",
    "ax1.set_ylabel(r'$P_\\mathrm{gas}\\lambda^3$')\n",
    "\n",
    "secax = ax1.secondary_xaxis('top', functions=(x200c_to_theta_arcmin, theta_arcmin_to_x200c))\n",
    "\n",
    "secax.set_xlabel(r'angular size $\\theta = r/d_A$ in arcmin')\n",
    "\n",
    "\n"
   ]
  },
  {
   "cell_type": "code",
   "execution_count": 11,
   "metadata": {},
   "outputs": [],
   "source": [
    "M.struct_cleanup()\n",
    "M.empty()"
   ]
  }
 ],
 "metadata": {
  "kernelspec": {
   "display_name": "Python 3 (ipykernel)",
   "language": "python",
   "name": "python3"
  },
  "language_info": {
   "codemirror_mode": {
    "name": "ipython",
    "version": 3
   },
   "file_extension": ".py",
   "mimetype": "text/x-python",
   "name": "python",
   "nbconvert_exporter": "python",
   "pygments_lexer": "ipython3",
   "version": "3.8.5"
  }
 },
 "nbformat": 4,
 "nbformat_minor": 1
}
