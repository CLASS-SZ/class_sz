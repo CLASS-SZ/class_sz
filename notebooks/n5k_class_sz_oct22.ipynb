{
 "cells": [
  {
   "cell_type": "code",
   "execution_count": 1,
   "id": "2d55b973",
   "metadata": {},
   "outputs": [],
   "source": [
    "%matplotlib inline\n",
    "import matplotlib\n",
    "import matplotlib.pyplot as plt\n",
    "import numpy as np\n",
    "from classy_sz import Class\n",
    "from scipy.optimize import fsolve\n",
    "from scipy.interpolate import interp1d\n",
    "import math"
   ]
  },
  {
   "cell_type": "code",
   "execution_count": 6,
   "id": "e2f28378",
   "metadata": {},
   "outputs": [],
   "source": [
    "Pk = np.load('/Users/boris/Work/CLASS-SZ/SO-SZ/N5K/input/pk.npz')"
   ]
  },
  {
   "cell_type": "code",
   "execution_count": 11,
   "id": "7a66847c",
   "metadata": {},
   "outputs": [
    {
     "data": {
      "text/plain": [
       "['k', 'z', 'pk_nl', 'pk_lin']"
      ]
     },
     "execution_count": 11,
     "metadata": {},
     "output_type": "execute_result"
    }
   ],
   "source": [
    "Pk.files"
   ]
  },
  {
   "cell_type": "code",
   "execution_count": 23,
   "id": "5794c5fb",
   "metadata": {},
   "outputs": [
    {
     "data": {
      "text/plain": [
       "array([0.        , 0.07142857, 0.14285714, 0.21428571, 0.28571429,\n",
       "       0.35714286, 0.42857143, 0.5       , 0.57142857, 0.64285714,\n",
       "       0.71428571, 0.78571429, 0.85714286, 0.92857143, 1.        ,\n",
       "       1.07142857, 1.14285714, 1.21428571, 1.28571429, 1.35714286,\n",
       "       1.42857143, 1.5       , 1.57142857, 1.64285714, 1.71428571,\n",
       "       1.78571429, 1.85714286, 1.92857143, 2.        , 2.07142857,\n",
       "       2.14285714, 2.21428571, 2.28571429, 2.35714286, 2.42857143,\n",
       "       2.5       , 2.57142857, 2.64285714, 2.71428571, 2.78571429,\n",
       "       2.85714286, 2.92857143, 3.        , 3.07142857, 3.14285714,\n",
       "       3.21428571, 3.28571429, 3.35714286, 3.42857143, 3.5       ])"
      ]
     },
     "execution_count": 23,
     "metadata": {},
     "output_type": "execute_result"
    }
   ],
   "source": [
    "Pk['z']"
   ]
  },
  {
   "cell_type": "code",
   "execution_count": 13,
   "id": "7bc929ad",
   "metadata": {},
   "outputs": [
    {
     "data": {
      "text/plain": [
       "(50, 200)"
      ]
     },
     "execution_count": 13,
     "metadata": {},
     "output_type": "execute_result"
    }
   ],
   "source": [
    "np.shape(Pk['pk_nl'])"
   ]
  },
  {
   "cell_type": "code",
   "execution_count": 14,
   "id": "01997fcf",
   "metadata": {},
   "outputs": [],
   "source": [
    "np.savetxt('/Users/boris/Work/CLASS-SZ/SO-SZ/class_sz/sz_auxiliary_files/n5k_pk_nl.txt',Pk['pk_nl'])"
   ]
  },
  {
   "cell_type": "code",
   "execution_count": 15,
   "id": "ead072d1",
   "metadata": {},
   "outputs": [],
   "source": [
    "np.savetxt('/Users/boris/Work/CLASS-SZ/SO-SZ/class_sz/sz_auxiliary_files/n5k_k.txt',Pk['k'])"
   ]
  },
  {
   "cell_type": "code",
   "execution_count": 16,
   "id": "22b67a53",
   "metadata": {},
   "outputs": [],
   "source": [
    "np.savetxt('/Users/boris/Work/CLASS-SZ/SO-SZ/class_sz/sz_auxiliary_files/n5k_z.txt',Pk['z'])"
   ]
  },
  {
   "cell_type": "code",
   "execution_count": 34,
   "id": "587b1292",
   "metadata": {},
   "outputs": [
    {
     "data": {
      "text/plain": [
       "(50, 200)"
      ]
     },
     "execution_count": 34,
     "metadata": {},
     "output_type": "execute_result"
    }
   ],
   "source": [
    "pkz = np.loadtxt('/Users/boris/Work/CLASS-SZ/SO-SZ/class_sz/sz_auxiliary_files/n5k_pk_nl.txt')\n",
    "np.shape(pkz)"
   ]
  },
  {
   "cell_type": "code",
   "execution_count": 37,
   "id": "a19f7d2a",
   "metadata": {},
   "outputs": [
    {
     "data": {
      "text/plain": [
       "(200,)"
      ]
     },
     "execution_count": 37,
     "metadata": {},
     "output_type": "execute_result"
    }
   ],
   "source": [
    "pkz_k = np.loadtxt('/Users/boris/Work/CLASS-SZ/SO-SZ/class_sz/sz_auxiliary_files/n5k_k.txt')\n",
    "np.shape(pkz_k)\n"
   ]
  },
  {
   "cell_type": "code",
   "execution_count": 38,
   "id": "01809bca",
   "metadata": {},
   "outputs": [
    {
     "data": {
      "text/plain": [
       "(50,)"
      ]
     },
     "execution_count": 38,
     "metadata": {},
     "output_type": "execute_result"
    }
   ],
   "source": [
    "pkz_z = np.loadtxt('/Users/boris/Work/CLASS-SZ/SO-SZ/class_sz/sz_auxiliary_files/n5k_z.txt')\n",
    "np.shape(pkz_z)"
   ]
  },
  {
   "cell_type": "code",
   "execution_count": 17,
   "id": "299907b1",
   "metadata": {},
   "outputs": [
    {
     "data": {
      "text/plain": [
       "['z_cl', 'chi_cl', 'kernels_cl', 'z_sh', 'chi_sh', 'kernels_sh']"
      ]
     },
     "execution_count": 17,
     "metadata": {},
     "output_type": "execute_result"
    }
   ],
   "source": [
    "Ks = np.load('/Users/boris/Work/CLASS-SZ/SO-SZ/N5K/input/kernels_fullwidth.npz')\n",
    "Ks.files"
   ]
  },
  {
   "cell_type": "code",
   "execution_count": 19,
   "id": "3b096d88",
   "metadata": {},
   "outputs": [
    {
     "data": {
      "text/plain": [
       "(10, 2000)"
      ]
     },
     "execution_count": 19,
     "metadata": {},
     "output_type": "execute_result"
    }
   ],
   "source": [
    "np.shape(Ks['kernels_cl'])"
   ]
  },
  {
   "cell_type": "code",
   "execution_count": 20,
   "id": "22835ca4",
   "metadata": {},
   "outputs": [
    {
     "data": {
      "text/plain": [
       "(2000,)"
      ]
     },
     "execution_count": 20,
     "metadata": {},
     "output_type": "execute_result"
    }
   ],
   "source": [
    "np.shape(Ks['z_cl'])"
   ]
  },
  {
   "cell_type": "code",
   "execution_count": 31,
   "id": "8e3abdd5",
   "metadata": {},
   "outputs": [
    {
     "data": {
      "text/plain": [
       "(5, 2000)"
      ]
     },
     "execution_count": 31,
     "metadata": {},
     "output_type": "execute_result"
    }
   ],
   "source": [
    "np.shape(Ks['kernels_sh'])"
   ]
  },
  {
   "cell_type": "code",
   "execution_count": 45,
   "id": "0df1b716",
   "metadata": {},
   "outputs": [
    {
     "data": {
      "text/plain": [
       "[<matplotlib.lines.Line2D at 0x127117700>]"
      ]
     },
     "execution_count": 45,
     "metadata": {},
     "output_type": "execute_result"
    },
    {
     "data": {
      "image/png": "[encoded data removed]",
      "text/plain": [
       "<Figure size 640x480 with 1 Axes>"
      ]
     },
     "metadata": {},
     "output_type": "display_data"
    }
   ],
   "source": [
    "plt.plot(Ks['chi_cl'],Ks['kernels_cl'][0],marker='o',ls='None',markersize=0.2)"
   ]
  },
  {
   "cell_type": "code",
   "execution_count": 41,
   "id": "93430e43",
   "metadata": {},
   "outputs": [],
   "source": [
    "for i in range(10):\n",
    "    np.savetxt('/Users/boris/Work/CLASS-SZ/SO-SZ/class_sz/sz_auxiliary_files/n5k_gg_chi_K%d.txt'%i,np.c_[Ks['chi_cl'],Ks['kernels_cl'][i]])"
   ]
  },
  {
   "cell_type": "code",
   "execution_count": 43,
   "id": "c5028bcc",
   "metadata": {},
   "outputs": [],
   "source": [
    "for i in range(5):\n",
    "    np.savetxt('/Users/boris/Work/CLASS-SZ/SO-SZ/class_sz/sz_auxiliary_files/n5k_ss_chi_K%d.txt'%i,np.c_[Ks['chi_sh'],Ks['kernels_sh'][i]])"
   ]
  },
  {
   "cell_type": "code",
   "execution_count": 25,
   "id": "e01d9ef7",
   "metadata": {},
   "outputs": [
    {
     "data": {
      "text/plain": [
       "array([  25.96064105,   33.71271985,   41.45840015, ..., 6952.86614787,\n",
       "       6954.30233692, 6955.73771953])"
      ]
     },
     "execution_count": 25,
     "metadata": {},
     "output_type": "execute_result"
    }
   ],
   "source": [
    "Ks['chi_cl']"
   ]
  },
  {
   "cell_type": "code",
   "execution_count": 26,
   "id": "d59a06e1",
   "metadata": {},
   "outputs": [],
   "source": [
    "np.savetxt('/Users/boris/Work/CLASS-SZ/SO-SZ/class_sz/sz_auxiliary_files/n5k_z_chi.txt',\n",
    "           np.c_[Ks['z_cl'],Ks['chi_cl']]\n",
    "          )"
   ]
  },
  {
   "cell_type": "code",
   "execution_count": 28,
   "id": "fe9230b4",
   "metadata": {},
   "outputs": [
    {
     "data": {
      "text/plain": [
       "0.0"
      ]
     },
     "execution_count": 28,
     "metadata": {},
     "output_type": "execute_result"
    }
   ],
   "source": [
    "np.sum(Ks['chi_cl']-Ks['chi_sh'])"
   ]
  },
  {
   "cell_type": "code",
   "execution_count": 29,
   "id": "985e0faa",
   "metadata": {},
   "outputs": [
    {
     "data": {
      "text/plain": [
       "0.0"
      ]
     },
     "execution_count": 29,
     "metadata": {},
     "output_type": "execute_result"
    }
   ],
   "source": [
    "np.sum(Ks['z_cl']-Ks['z_sh'])"
   ]
  },
  {
   "cell_type": "code",
   "execution_count": 46,
   "id": "ae196290",
   "metadata": {},
   "outputs": [
    {
     "data": {
      "text/plain": [
       "array([0.00583333, 0.00757837, 0.00932341, ..., 3.49067592, 3.49242096,\n",
       "       3.494166  ])"
      ]
     },
     "execution_count": 46,
     "metadata": {},
     "output_type": "execute_result"
    }
   ],
   "source": [
    "Ks['z_cl']"
   ]
  },
  {
   "cell_type": "code",
   "execution_count": 47,
   "id": "b288a876",
   "metadata": {},
   "outputs": [
    {
     "data": {
      "text/plain": [
       "array([  25.96064105,   33.71271985,   41.45840015, ..., 6952.86614787,\n",
       "       6954.30233692, 6955.73771953])"
      ]
     },
     "execution_count": 47,
     "metadata": {},
     "output_type": "execute_result"
    }
   ],
   "source": [
    "Ks['chi_cl']"
   ]
  },
  {
   "cell_type": "code",
   "execution_count": 48,
   "id": "8b73646a",
   "metadata": {},
   "outputs": [],
   "source": [
    "clgg = np.load('/Users/boris/Work/CLASS-SZ/SO-SZ/N5K/tests/benchmarks_nl_clgg.npz')"
   ]
  },
  {
   "cell_type": "code",
   "execution_count": 51,
   "id": "c7490b82",
   "metadata": {},
   "outputs": [
    {
     "data": {
      "text/plain": [
       "(55, 103)"
      ]
     },
     "execution_count": 51,
     "metadata": {},
     "output_type": "execute_result"
    }
   ],
   "source": [
    "np.shape(clgg['cls'])"
   ]
  },
  {
   "cell_type": "code",
   "execution_count": 52,
   "id": "e3709c22",
   "metadata": {},
   "outputs": [
    {
     "data": {
      "text/plain": [
       "(103,)"
      ]
     },
     "execution_count": 52,
     "metadata": {},
     "output_type": "execute_result"
    }
   ],
   "source": [
    "np.shape(clgg['ls'])"
   ]
  },
  {
   "cell_type": "code",
   "execution_count": 57,
   "id": "4354e7bb",
   "metadata": {},
   "outputs": [
    {
     "data": {
      "text/plain": [
       "[<matplotlib.lines.Line2D at 0x1378b91c0>]"
      ]
     },
     "execution_count": 57,
     "metadata": {},
     "output_type": "execute_result"
    },
    {
     "data": {
      "image/png": "[encoded data removed]",
      "text/plain": [
       "<Figure size 640x480 with 1 Axes>"
      ]
     },
     "metadata": {},
     "output_type": "display_data"
    }
   ],
   "source": [
    "plt.plot(clgg['ls'],clgg['cls'][0])"
   ]
  },
  {
   "cell_type": "code",
   "execution_count": 161,
   "id": "2641cba1",
   "metadata": {},
   "outputs": [
    {
     "data": {
      "text/plain": [
       "(103,)"
      ]
     },
     "execution_count": 161,
     "metadata": {},
     "output_type": "execute_result"
    }
   ],
   "source": [
    "l_csz = l_csz\n",
    "cls_csz = np.loadtxt('/Users/boris/Work/CLASS-SZ/SO-SZ/class_sz/output/class_sz_test_n5k05_n5k_F.txt')\n",
    "np.shape(cls_csz)"
   ]
  },
  {
   "cell_type": "code",
   "execution_count": 163,
   "id": "86d2d2c9",
   "metadata": {},
   "outputs": [
    {
     "name": "stderr",
     "output_type": "stream",
     "text": [
      "/var/folders/h0/4_tf3pcn1h32ks9grh325v400000gn/T/ipykernel_64321/3920329121.py:5: UserWarning: Attempt to set non-positive xlim on a log-scaled axis will be ignored.\n",
      "  plt.xlim(0,2200)\n"
     ]
    },
    {
     "data": {
      "text/plain": [
       "<matplotlib.legend.Legend at 0x14714c370>"
      ]
     },
     "execution_count": 163,
     "metadata": {},
     "output_type": "execute_result"
    },
    {
     "data": {
      "image/png": "[encoded data removed]",
      "text/plain": [
       "<Figure size 640x480 with 1 Axes>"
      ]
     },
     "metadata": {},
     "output_type": "display_data"
    }
   ],
   "source": [
    "plt.plot(clgg['ls'],clgg['cls'][0],marker='o',markersize=2.)\n",
    "plt.plot(l_csz,cls_csz,marker='o',markersize=2.,label='class_sz cl K0')\n",
    "plt.xscale('log')\n",
    "plt.ylim(0,1.7e-4)\n",
    "plt.xlim(0,2200)\n",
    "plt.legend()"
   ]
  },
  {
   "cell_type": "code",
   "execution_count": 93,
   "id": "ad17b135",
   "metadata": {},
   "outputs": [
    {
     "data": {
      "text/plain": [
       "array([1.63445458e+01, 1.63144588e+01, 1.62793815e+01, 1.62416905e+01,\n",
       "       1.62042289e+01, 1.61678925e+01, 1.61307159e+01, 1.60886160e+01,\n",
       "       1.60440349e+01, 1.60067460e+01, 1.59694172e+01, 1.59219603e+01,\n",
       "       1.58848435e+01, 1.58514109e+01, 1.58039339e+01, 1.57766556e+01,\n",
       "       1.57411551e+01, 1.57050177e+01, 1.56873578e+01, 1.56502275e+01,\n",
       "       1.56132078e+01, 1.56017639e+01, 1.55928338e+01, 1.55843570e+01,\n",
       "       1.55736742e+01, 1.55812484e+01, 1.55971971e+01, 1.56183051e+01,\n",
       "       1.56373719e+01, 1.56529308e+01, 1.56613168e+01, 1.56530107e+01,\n",
       "       1.56409829e+01, 1.56194818e+01, 1.55593257e+01, 1.54988298e+01,\n",
       "       1.54415417e+01, 1.53859141e+01, 1.53389716e+01, 1.53114437e+01,\n",
       "       1.53182604e+01, 1.53418283e+01, 1.53844639e+01, 1.54330814e+01,\n",
       "       1.54582892e+01, 1.54576894e+01, 1.54289457e+01, 1.53847869e+01,\n",
       "       1.53424514e+01, 1.53156479e+01, 1.53230146e+01, 1.53389659e+01,\n",
       "       1.53696050e+01, 1.53907313e+01, 1.53876418e+01, 1.53698518e+01,\n",
       "       1.53611909e+01, 1.53651482e+01, 1.53660053e+01, 1.53644431e+01,\n",
       "       1.53231945e+01, 1.52059942e+01, 1.51144793e+01, 1.46403248e+01,\n",
       "       1.34503355e+01, 1.25702459e+01, 9.37726498e+00, 5.42629321e+00,\n",
       "       3.83624782e+00, 1.55347321e+00, 5.42871952e-01, 3.48634980e-01,\n",
       "       1.13558396e-01, 3.52137853e-02, 1.11414251e-02, 6.87121660e-03,\n",
       "       2.16730400e-03, 6.95622728e-04, 2.28361058e-04, 1.48972762e-04,\n",
       "       5.28333502e-05, 1.98112712e-05, 8.16112443e-06, 6.08341983e-06,\n",
       "       3.02317461e-06, 1.75463973e-06, 1.24294234e-06, 1.27966055e-06,\n",
       "       1.37926511e-06, 2.50178150e-06, 1.99775881e-05, 6.74607738e-04,\n",
       "       3.09397504e-06, 1.08071402e-06, 9.77308296e-07, 1.38426679e-06,\n",
       "       4.30834176e-06, 3.46806645e-05, 8.72512274e-04, 7.98153217e-03,\n",
       "       8.77454544e-01, 1.50556683e+00, 1.31151313e+00])"
      ]
     },
     "execution_count": 93,
     "metadata": {},
     "output_type": "execute_result"
    }
   ],
   "source": [
    "clgg['cls'][0]/cls_csz"
   ]
  },
  {
   "cell_type": "code",
   "execution_count": 64,
   "id": "f443cb24",
   "metadata": {},
   "outputs": [
    {
     "data": {
      "text/plain": [
       "103"
      ]
     },
     "execution_count": 64,
     "metadata": {},
     "output_type": "execute_result"
    }
   ],
   "source": [
    "len(clgg['ls'])"
   ]
  },
  {
   "cell_type": "code",
   "execution_count": null,
   "id": "a5b66c95",
   "metadata": {},
   "outputs": [],
   "source": []
  }
 ],
 "metadata": {
  "kernelspec": {
   "display_name": "Python 3 (ipykernel)",
   "language": "python",
   "name": "python3"
  },
  "language_info": {
   "codemirror_mode": {
    "name": "ipython",
    "version": 3
   },
   "file_extension": ".py",
   "mimetype": "text/x-python",
   "name": "python",
   "nbconvert_exporter": "python",
   "pygments_lexer": "ipython3",
   "version": "3.9.13"
  }
 },
 "nbformat": 4,
 "nbformat_minor": 5
}
