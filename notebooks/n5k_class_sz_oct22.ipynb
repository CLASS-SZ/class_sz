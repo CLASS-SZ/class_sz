{
 "cells": [
  {
   "cell_type": "code",
   "execution_count": 1,
   "id": "2d55b973",
   "metadata": {},
   "outputs": [
    {
     "name": "stdout",
     "output_type": "stream",
     "text": [
      "Metal device set to: Apple M1 Pro\n",
      "WARNING:tensorflow:Please fix your imports. Module tensorflow.python.training.tracking.data_structures has been moved to tensorflow.python.trackable.data_structures. The old module will be deleted in version 2.11.\n"
     ]
    },
    {
     "name": "stderr",
     "output_type": "stream",
     "text": [
      "2023-03-25 00:32:54.869948: I tensorflow/core/common_runtime/pluggable_device/pluggable_device_factory.cc:306] Could not identify NUMA node of platform GPU ID 0, defaulting to 0. Your kernel may not have been built with NUMA support.\n",
      "2023-03-25 00:32:54.870078: I tensorflow/core/common_runtime/pluggable_device/pluggable_device_factory.cc:272] Created TensorFlow device (/job:localhost/replica:0/task:0/device:GPU:0 with 0 MB memory) -> physical PluggableDevice (device: 0, name: METAL, pci bus id: <undefined>)\n"
     ]
    }
   ],
   "source": [
    "%matplotlib inline\n",
    "import matplotlib\n",
    "import matplotlib.pyplot as plt\n",
    "import numpy as np\n",
    "from classy_sz import Class\n",
    "from scipy.optimize import fsolve\n",
    "from scipy.interpolate import interp1d\n",
    "import math"
   ]
  },
  {
   "cell_type": "markdown",
   "id": "416aed88-2af9-4ed9-a39e-0ea6f0619417",
   "metadata": {},
   "source": [
    "# instructions:\n",
    "\n",
    "this is run from terminal:\n",
    "\n",
    "$ ./class class_sz_test_n5k.ini\n",
    "\n",
    "A file is printed. We plot it against the reference"
   ]
  },
  {
   "cell_type": "code",
   "execution_count": null,
   "id": "52d30a09-5782-4b47-b72f-f48e61385979",
   "metadata": {},
   "outputs": [],
   "source": []
  },
  {
   "cell_type": "code",
   "execution_count": 2,
   "id": "e2f28378",
   "metadata": {},
   "outputs": [],
   "source": [
    "Pk = np.load('/Users/boris/Work/CLASS-SZ/SO-SZ/N5K/input/pk.npz')"
   ]
  },
  {
   "cell_type": "code",
   "execution_count": 3,
   "id": "7a66847c",
   "metadata": {},
   "outputs": [
    {
     "data": {
      "text/plain": [
       "['k', 'z', 'pk_nl', 'pk_lin']"
      ]
     },
     "execution_count": 3,
     "metadata": {},
     "output_type": "execute_result"
    }
   ],
   "source": [
    "Pk.files"
   ]
  },
  {
   "cell_type": "code",
   "execution_count": 4,
   "id": "5794c5fb",
   "metadata": {},
   "outputs": [
    {
     "data": {
      "text/plain": [
       "array([0.        , 0.07142857, 0.14285714, 0.21428571, 0.28571429,\n",
       "       0.35714286, 0.42857143, 0.5       , 0.57142857, 0.64285714,\n",
       "       0.71428571, 0.78571429, 0.85714286, 0.92857143, 1.        ,\n",
       "       1.07142857, 1.14285714, 1.21428571, 1.28571429, 1.35714286,\n",
       "       1.42857143, 1.5       , 1.57142857, 1.64285714, 1.71428571,\n",
       "       1.78571429, 1.85714286, 1.92857143, 2.        , 2.07142857,\n",
       "       2.14285714, 2.21428571, 2.28571429, 2.35714286, 2.42857143,\n",
       "       2.5       , 2.57142857, 2.64285714, 2.71428571, 2.78571429,\n",
       "       2.85714286, 2.92857143, 3.        , 3.07142857, 3.14285714,\n",
       "       3.21428571, 3.28571429, 3.35714286, 3.42857143, 3.5       ])"
      ]
     },
     "execution_count": 4,
     "metadata": {},
     "output_type": "execute_result"
    }
   ],
   "source": [
    "Pk['z']"
   ]
  },
  {
   "cell_type": "code",
   "execution_count": 13,
   "id": "7bc929ad",
   "metadata": {},
   "outputs": [
    {
     "data": {
      "text/plain": [
       "(50, 200)"
      ]
     },
     "execution_count": 13,
     "metadata": {},
     "output_type": "execute_result"
    }
   ],
   "source": [
    "np.shape(Pk['pk_nl'])"
   ]
  },
  {
   "cell_type": "code",
   "execution_count": 14,
   "id": "01997fcf",
   "metadata": {},
   "outputs": [],
   "source": [
    "np.savetxt('/Users/boris/Work/CLASS-SZ/SO-SZ/class_sz/sz_auxiliary_files/n5k_pk_nl.txt',Pk['pk_nl'])"
   ]
  },
  {
   "cell_type": "code",
   "execution_count": 15,
   "id": "ead072d1",
   "metadata": {},
   "outputs": [],
   "source": [
    "np.savetxt('/Users/boris/Work/CLASS-SZ/SO-SZ/class_sz/sz_auxiliary_files/n5k_k.txt',Pk['k'])"
   ]
  },
  {
   "cell_type": "code",
   "execution_count": 16,
   "id": "22b67a53",
   "metadata": {},
   "outputs": [],
   "source": [
    "np.savetxt('/Users/boris/Work/CLASS-SZ/SO-SZ/class_sz/sz_auxiliary_files/n5k_z.txt',Pk['z'])"
   ]
  },
  {
   "cell_type": "code",
   "execution_count": 8,
   "id": "587b1292",
   "metadata": {},
   "outputs": [
    {
     "data": {
      "text/plain": [
       "(50, 200)"
      ]
     },
     "execution_count": 8,
     "metadata": {},
     "output_type": "execute_result"
    }
   ],
   "source": [
    "pkz = np.loadtxt('/Users/boris/Work/CLASS-SZ/SO-SZ/class_sz/class_sz_auxiliary_files/n5k_pk_nl.txt')\n",
    "np.shape(pkz)"
   ]
  },
  {
   "cell_type": "code",
   "execution_count": 9,
   "id": "a19f7d2a",
   "metadata": {},
   "outputs": [
    {
     "data": {
      "text/plain": [
       "(200,)"
      ]
     },
     "execution_count": 9,
     "metadata": {},
     "output_type": "execute_result"
    }
   ],
   "source": [
    "pkz_k = np.loadtxt('/Users/boris/Work/CLASS-SZ/SO-SZ/class_sz/class_sz_auxiliary_files/n5k_k.txt')\n",
    "np.shape(pkz_k)\n"
   ]
  },
  {
   "cell_type": "code",
   "execution_count": 10,
   "id": "01809bca",
   "metadata": {},
   "outputs": [
    {
     "data": {
      "text/plain": [
       "(50,)"
      ]
     },
     "execution_count": 10,
     "metadata": {},
     "output_type": "execute_result"
    }
   ],
   "source": [
    "pkz_z = np.loadtxt('/Users/boris/Work/CLASS-SZ/SO-SZ/class_sz/class_sz_auxiliary_files/n5k_z.txt')\n",
    "np.shape(pkz_z)"
   ]
  },
  {
   "cell_type": "code",
   "execution_count": 11,
   "id": "299907b1",
   "metadata": {},
   "outputs": [
    {
     "data": {
      "text/plain": [
       "['z_cl', 'chi_cl', 'kernels_cl', 'z_sh', 'chi_sh', 'kernels_sh']"
      ]
     },
     "execution_count": 11,
     "metadata": {},
     "output_type": "execute_result"
    }
   ],
   "source": [
    "Ks = np.load('/Users/boris/Work/CLASS-SZ/SO-SZ/N5K/input/kernels_fullwidth.npz')\n",
    "Ks.files"
   ]
  },
  {
   "cell_type": "code",
   "execution_count": 12,
   "id": "3b096d88",
   "metadata": {},
   "outputs": [
    {
     "data": {
      "text/plain": [
       "(10, 2000)"
      ]
     },
     "execution_count": 12,
     "metadata": {},
     "output_type": "execute_result"
    }
   ],
   "source": [
    "np.shape(Ks['kernels_cl'])"
   ]
  },
  {
   "cell_type": "code",
   "execution_count": 13,
   "id": "22835ca4",
   "metadata": {},
   "outputs": [
    {
     "data": {
      "text/plain": [
       "(2000,)"
      ]
     },
     "execution_count": 13,
     "metadata": {},
     "output_type": "execute_result"
    }
   ],
   "source": [
    "np.shape(Ks['z_cl'])"
   ]
  },
  {
   "cell_type": "code",
   "execution_count": 14,
   "id": "8e3abdd5",
   "metadata": {},
   "outputs": [
    {
     "data": {
      "text/plain": [
       "(5, 2000)"
      ]
     },
     "execution_count": 14,
     "metadata": {},
     "output_type": "execute_result"
    }
   ],
   "source": [
    "np.shape(Ks['kernels_sh'])"
   ]
  },
  {
   "cell_type": "code",
   "execution_count": 41,
   "id": "79dcb616-233d-4d8a-99c2-5d07c965f982",
   "metadata": {},
   "outputs": [
    {
     "data": {
      "text/plain": [
       "[<matplotlib.lines.Line2D at 0x2e57a24c0>]"
      ]
     },
     "execution_count": 41,
     "metadata": {},
     "output_type": "execute_result"
    },
    {
     "data": {
      "image/png": "[encoded data removed]",
      "text/plain": [
       "<Figure size 640x480 with 1 Axes>"
      ]
     },
     "metadata": {},
     "output_type": "display_data"
    }
   ],
   "source": [
    "plt.plot(Ks['z_cl'],Ks['kernels_cl'][0],marker='o',ls='None',markersize=0.2)"
   ]
  },
  {
   "cell_type": "code",
   "execution_count": 15,
   "id": "0df1b716",
   "metadata": {},
   "outputs": [
    {
     "data": {
      "text/plain": [
       "[<matplotlib.lines.Line2D at 0x17f20acd0>]"
      ]
     },
     "execution_count": 15,
     "metadata": {},
     "output_type": "execute_result"
    },
    {
     "data": {
      "image/png": "[encoded data removed]",
      "text/plain": [
       "<Figure size 640x480 with 1 Axes>"
      ]
     },
     "metadata": {},
     "output_type": "display_data"
    }
   ],
   "source": [
    "plt.plot(Ks['chi_cl'],Ks['kernels_cl'][0],marker='o',ls='None',markersize=0.2)"
   ]
  },
  {
   "cell_type": "code",
   "execution_count": 41,
   "id": "93430e43",
   "metadata": {},
   "outputs": [],
   "source": [
    "for i in range(10):\n",
    "    np.savetxt('/Users/boris/Work/CLASS-SZ/SO-SZ/class_sz/sz_auxiliary_files/n5k_gg_chi_K%d.txt'%i,np.c_[Ks['chi_cl'],Ks['kernels_cl'][i]])"
   ]
  },
  {
   "cell_type": "code",
   "execution_count": 43,
   "id": "c5028bcc",
   "metadata": {},
   "outputs": [],
   "source": [
    "for i in range(5):\n",
    "    np.savetxt('/Users/boris/Work/CLASS-SZ/SO-SZ/class_sz/sz_auxiliary_files/n5k_ss_chi_K%d.txt'%i,np.c_[Ks['chi_sh'],Ks['kernels_sh'][i]])"
   ]
  },
  {
   "cell_type": "code",
   "execution_count": 16,
   "id": "e01d9ef7",
   "metadata": {},
   "outputs": [
    {
     "data": {
      "text/plain": [
       "array([  25.96064105,   33.71271985,   41.45840015, ..., 6952.86614787,\n",
       "       6954.30233692, 6955.73771953])"
      ]
     },
     "execution_count": 16,
     "metadata": {},
     "output_type": "execute_result"
    }
   ],
   "source": [
    "Ks['chi_cl']"
   ]
  },
  {
   "cell_type": "code",
   "execution_count": 26,
   "id": "d59a06e1",
   "metadata": {},
   "outputs": [],
   "source": [
    "np.savetxt('/Users/boris/Work/CLASS-SZ/SO-SZ/class_sz/sz_auxiliary_files/n5k_z_chi.txt',\n",
    "           np.c_[Ks['z_cl'],Ks['chi_cl']]\n",
    "          )"
   ]
  },
  {
   "cell_type": "code",
   "execution_count": 17,
   "id": "fe9230b4",
   "metadata": {},
   "outputs": [
    {
     "data": {
      "text/plain": [
       "0.0"
      ]
     },
     "execution_count": 17,
     "metadata": {},
     "output_type": "execute_result"
    }
   ],
   "source": [
    "np.sum(Ks['chi_cl']-Ks['chi_sh'])"
   ]
  },
  {
   "cell_type": "code",
   "execution_count": 18,
   "id": "985e0faa",
   "metadata": {},
   "outputs": [
    {
     "data": {
      "text/plain": [
       "0.0"
      ]
     },
     "execution_count": 18,
     "metadata": {},
     "output_type": "execute_result"
    }
   ],
   "source": [
    "np.sum(Ks['z_cl']-Ks['z_sh'])"
   ]
  },
  {
   "cell_type": "code",
   "execution_count": 19,
   "id": "ae196290",
   "metadata": {},
   "outputs": [
    {
     "data": {
      "text/plain": [
       "array([0.00583333, 0.00757837, 0.00932341, ..., 3.49067592, 3.49242096,\n",
       "       3.494166  ])"
      ]
     },
     "execution_count": 19,
     "metadata": {},
     "output_type": "execute_result"
    }
   ],
   "source": [
    "Ks['z_cl']"
   ]
  },
  {
   "cell_type": "code",
   "execution_count": 20,
   "id": "b288a876",
   "metadata": {},
   "outputs": [
    {
     "data": {
      "text/plain": [
       "array([  25.96064105,   33.71271985,   41.45840015, ..., 6952.86614787,\n",
       "       6954.30233692, 6955.73771953])"
      ]
     },
     "execution_count": 20,
     "metadata": {},
     "output_type": "execute_result"
    }
   ],
   "source": [
    "Ks['chi_cl']"
   ]
  },
  {
   "cell_type": "code",
   "execution_count": 21,
   "id": "8b73646a",
   "metadata": {},
   "outputs": [],
   "source": [
    "clgg = np.load('/Users/boris/Work/CLASS-SZ/SO-SZ/N5K/tests/benchmarks_nl_clgg.npz')"
   ]
  },
  {
   "cell_type": "code",
   "execution_count": 22,
   "id": "c7490b82",
   "metadata": {},
   "outputs": [
    {
     "data": {
      "text/plain": [
       "(55, 103)"
      ]
     },
     "execution_count": 22,
     "metadata": {},
     "output_type": "execute_result"
    }
   ],
   "source": [
    "np.shape(clgg['cls'])"
   ]
  },
  {
   "cell_type": "code",
   "execution_count": 27,
   "id": "e3709c22",
   "metadata": {},
   "outputs": [
    {
     "data": {
      "text/plain": [
       "(103,)"
      ]
     },
     "execution_count": 27,
     "metadata": {},
     "output_type": "execute_result"
    }
   ],
   "source": [
    "np.shape(clgg['ls'])"
   ]
  },
  {
   "cell_type": "code",
   "execution_count": 82,
   "id": "86d2d2c9",
   "metadata": {},
   "outputs": [
    {
     "name": "stderr",
     "output_type": "stream",
     "text": [
      "/var/folders/h0/4_tf3pcn1h32ks9grh325v400000gn/T/ipykernel_53679/2112643896.py:11: UserWarning: Attempt to set non-positive xlim on a log-scaled axis will be ignored.\n",
      "  plt.xlim(0,2200)\n"
     ]
    },
    {
     "data": {
      "image/png": "[encoded data removed]",
      "text/plain": [
       "<Figure size 640x480 with 1 Axes>"
      ]
     },
     "metadata": {},
     "output_type": "display_data"
    }
   ],
   "source": [
    "l_csz = clgg['ls']\n",
    "cls_csz = np.loadtxt('/Users/boris/Work/CLASS-SZ/SO-SZ/class_sz/output/class_sz_test_n5k41_n5k_F.txt',unpack=True)\n",
    "\n",
    "np.shape(cls_csz)\n",
    "\n",
    "plt.plot(clgg['ls'],clgg['cls'][0],marker='o',markersize=2.,label='N5K - Leonard et al')\n",
    "plt.plot(l_csz,cls_csz,marker='o',markersize=0.,label='class_sz cl K0',ls='-',lw=0.8)\n",
    "plt.xscale('log')\n",
    "plt.yscale('log')\n",
    "plt.ylim(4e-7,3e-4)\n",
    "plt.xlim(0,2200)\n",
    "plt.legend()\n",
    "plt.xlabel(r'$\\ell$',size=16)\n",
    "plt.ylabel(r'$C_\\ell$',size=16)\n",
    "plt.savefig('n5k.pdf')"
   ]
  },
  {
   "cell_type": "code",
   "execution_count": 81,
   "id": "ad17b135",
   "metadata": {},
   "outputs": [
    {
     "data": {
      "text/plain": [
       "array([1.13849652e-02, 1.25846005e-02, 1.26788371e-02, 1.22957525e-02,\n",
       "       1.09913831e-02, 9.83551586e-03, 7.89318713e-03, 5.50508108e-03,\n",
       "       1.78591779e-03, 2.23316624e-04, 4.94151180e-03, 6.98942355e-03,\n",
       "       1.06321953e-02, 1.54829213e-02, 1.77623304e-02, 2.34255562e-02,\n",
       "       2.73612616e-02, 3.06304886e-02, 3.64362009e-02, 3.85456778e-02,\n",
       "       4.63852432e-02, 4.72646574e-02, 5.12297478e-02, 5.32729289e-02,\n",
       "       5.58164580e-02, 5.61013574e-02, 5.45700295e-02, 5.57414531e-02,\n",
       "       5.36780273e-02, 5.16761474e-02, 5.20218970e-02, 5.32341199e-02,\n",
       "       5.74780432e-02, 6.38005818e-02, 7.35399655e-02, 8.62091408e-02,\n",
       "       1.01805585e-01, 1.18191816e-01, 1.31755838e-01, 1.39061901e-01,\n",
       "       1.45784781e-01, 1.42587429e-01, 1.42314676e-01, 1.32409094e-01,\n",
       "       1.28912733e-01, 1.32906437e-01, 1.44150011e-01, 1.59877595e-01,\n",
       "       1.76100600e-01, 1.85696020e-01, 1.94191689e-01, 1.86925055e-01,\n",
       "       1.76712290e-01, 1.69954365e-01, 1.76643496e-01, 1.81029676e-01,\n",
       "       1.89860609e-01, 1.95647061e-01, 1.98923172e-01, 2.00246297e-01,\n",
       "       2.07894227e-01, 2.10614213e-01, 2.17700795e-01, 2.14984928e-01,\n",
       "       2.16322181e-01, 2.19967511e-01, 2.21020898e-01, 2.22901863e-01,\n",
       "       2.23295235e-01, 2.23821361e-01, 2.24350944e-01, 2.26229164e-01,\n",
       "       2.29659238e-01, 2.30592557e-01, 2.33554788e-01, 2.37676293e-01,\n",
       "       2.42094193e-01, 2.46545975e-01, 2.54983396e-01, 2.56590664e-01,\n",
       "       2.70173223e-01, 2.78115836e-01, 2.83771965e-01, 2.98754326e-01,\n",
       "       3.12818660e-01, 3.18808967e-01, 3.41425263e-01, 3.56997535e-01,\n",
       "       3.67498302e-01, 3.86382034e-01, 4.05443828e-01, 4.27198505e-01,\n",
       "       4.50256510e-01, 4.74560078e-01, 5.04204235e-01, 5.26385960e-01,\n",
       "       5.60568549e-01, 5.93379771e-01, 6.20128427e-01, 6.54952521e-01,\n",
       "       7.01361874e-01, 7.28645463e-01, 7.74114105e-01])"
      ]
     },
     "execution_count": 81,
     "metadata": {},
     "output_type": "execute_result"
    }
   ],
   "source": [
    "\n",
    "err = np.sqrt(2./(2.*clgg['ls']+1.))*clgg['cls'][0]\n",
    "np.abs((clgg['cls'][0]-cls_csz)/err)"
   ]
  },
  {
   "cell_type": "code",
   "execution_count": 64,
   "id": "f443cb24",
   "metadata": {},
   "outputs": [
    {
     "data": {
      "text/plain": [
       "103"
      ]
     },
     "execution_count": 64,
     "metadata": {},
     "output_type": "execute_result"
    }
   ],
   "source": [
    "len(clgg['ls'])"
   ]
  },
  {
   "cell_type": "code",
   "execution_count": null,
   "id": "a5b66c95",
   "metadata": {},
   "outputs": [],
   "source": []
  }
 ],
 "metadata": {
  "kernelspec": {
   "display_name": "Python 3 (ipykernel)",
   "language": "python",
   "name": "python3"
  },
  "language_info": {
   "codemirror_mode": {
    "name": "ipython",
    "version": 3
   },
   "file_extension": ".py",
   "mimetype": "text/x-python",
   "name": "python",
   "nbconvert_exporter": "python",
   "pygments_lexer": "ipython3",
   "version": "3.9.13"
  }
 },
 "nbformat": 4,
 "nbformat_minor": 5
}
