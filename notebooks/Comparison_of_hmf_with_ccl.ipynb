{
 "cells": [
  {
   "cell_type": "code",
   "execution_count": 9,
   "id": "005317b1",
   "metadata": {},
   "outputs": [],
   "source": [
    "# import necessary modules\n",
    "# uncomment to get plots displayed in notebook\n",
    "%matplotlib inline\n",
    "import matplotlib\n",
    "import matplotlib.pyplot as plt\n",
    "import numpy as np\n",
    "from classy_sz import Class\n",
    "from scipy.optimize import fsolve\n",
    "from scipy.interpolate import interp1d\n",
    "import math\n",
    "import pyccl as ccl\n",
    "plt.rcParams.update({\n",
    "    \"text.usetex\": False,\n",
    "    \"font.family\": \"sans-serif\",\n",
    "    \"font.sans-serif\": [\"Helvetica\"]})"
   ]
  },
  {
   "cell_type": "code",
   "execution_count": 10,
   "id": "2bff8a83",
   "metadata": {},
   "outputs": [],
   "source": [
    "font = {'size'   : 16}#, 'family':'STIXGeneral'}\n",
    "axislabelfontsize='large'\n",
    "matplotlib.rc('font', **font)\n",
    "# matplotlib.mathtext.rcParams['legend.fontsize']='medium'\n",
    "# plt.rcParams[\"figure.figsize\"] = [8.0,6.0]"
   ]
  },
  {
   "cell_type": "code",
   "execution_count": 12,
   "id": "e9c82008-4e6b-4570-9965-a9c7c1ca69d9",
   "metadata": {},
   "outputs": [
    {
     "data": {
      "text/plain": [
       "'v2.9.4'"
      ]
     },
     "execution_count": 12,
     "metadata": {},
     "output_type": "execute_result"
    }
   ],
   "source": [
    "import classy_sz\n",
    "classy_sz.__version__"
   ]
  },
  {
   "cell_type": "code",
   "execution_count": 13,
   "id": "4f569f79-b846-487c-af9e-d935fd54b343",
   "metadata": {},
   "outputs": [],
   "source": [
    "# import classy\n",
    "# classy.__version__"
   ]
  },
  {
   "cell_type": "markdown",
   "id": "ed7ae283-946a-4c05-8a16-d4e040f4f1b1",
   "metadata": {},
   "source": [
    "note that ccl seems to break with the latest class version. I had to switch to class v2.9.4"
   ]
  },
  {
   "cell_type": "code",
   "execution_count": 14,
   "id": "6e447fc1-5189-45f3-9406-eb6e74f0574f",
   "metadata": {},
   "outputs": [
    {
     "data": {
      "text/plain": [
       "'2.5.2.dev14+g0708c592'"
      ]
     },
     "execution_count": 14,
     "metadata": {},
     "output_type": "execute_result"
    }
   ],
   "source": [
    "import pyccl\n",
    "pyccl.__version__"
   ]
  },
  {
   "cell_type": "code",
   "execution_count": 61,
   "id": "6bee10c7-d144-47d4-8327-0cd0c2f47410",
   "metadata": {},
   "outputs": [
    {
     "name": "stdout",
     "output_type": "stream",
     "text": [
      "{'Neff': 3.046000000000001}\n",
      "{'sigma8': 0.8143634852740608}\n",
      "CPU times: user 1.72 s, sys: 4.98 ms, total: 1.72 s\n",
      "Wall time: 353 ms\n"
     ]
    }
   ],
   "source": [
    "%%time\n",
    "cosmology = {\n",
    "'h' : 0.6774,\n",
    "'Omega_b' : 0.04860,\n",
    "'Omega_cdm' : 0.315-0.04860,\n",
    "'A_s': 2e-9,\n",
    "'n_s' : 0.9667,\n",
    "# this takes ages:\n",
    "# 'N_ncdm': 1,\n",
    "# # 'N_ur': 2.0328,\n",
    "# 'm_ncdm': 0.0\n",
    "\n",
    "}\n",
    "\n",
    "M = Class()\n",
    "M.set(cosmology)\n",
    "M.set({'output':\"mPk\"})\n",
    "M.compute()\n",
    "print(M.get_current_derived_parameters(['Neff']))\n",
    "print(M.get_current_derived_parameters(['sigma8']))"
   ]
  },
  {
   "cell_type": "code",
   "execution_count": 33,
   "id": "93928073-f8fd-42d0-a76c-d16061593c23",
   "metadata": {},
   "outputs": [
    {
     "name": "stdout",
     "output_type": "stream",
     "text": [
      "0.8146662402674019\n",
      "CPU times: user 1.59 s, sys: 7.43 ms, total: 1.59 s\n",
      "Wall time: 491 ms\n"
     ]
    }
   ],
   "source": [
    "%%time\n",
    "cosmo = ccl.Cosmology(\n",
    "    Omega_c=cosmology['Omega_cdm'], \n",
    "    Omega_b=cosmology['Omega_b'],\n",
    "    h=cosmology['h'], \n",
    "    A_s = cosmology['A_s'],\n",
    "    n_s=cosmology['n_s'],\n",
    "    m_nu=0,\n",
    "    m_nu_type='normal',\n",
    "    Neff=M.get_current_derived_parameters(['Neff'])['Neff'],   \n",
    "    transfer_function='boltzmann_class',\n",
    "                     )\n",
    "\n",
    "print(ccl.sigma8(cosmo))\n",
    "hmd_200c = ccl.halos.MassDef200c()\n",
    "hmd_200m = ccl.halos.MassDef200m()"
   ]
  },
  {
   "cell_type": "code",
   "execution_count": 34,
   "id": "1f887faa-56c2-4621-9165-447ebb66e52e",
   "metadata": {},
   "outputs": [
    {
     "data": {
      "text/plain": [
       "<pyccl.ccllib.cosmology; proxy of <Swig Object of type 'struct ccl_cosmology *' at 0x1640a64b0> >"
      ]
     },
     "execution_count": 34,
     "metadata": {},
     "output_type": "execute_result"
    }
   ],
   "source": [
    "cosmo.cosmo"
   ]
  },
  {
   "cell_type": "code",
   "execution_count": 40,
   "id": "1d35a52a-54b1-4fd0-9a01-bff2cb649e4b",
   "metadata": {},
   "outputs": [
    {
     "name": "stdout",
     "output_type": "stream",
     "text": [
      "CPU times: user 16.7 s, sys: 43.8 ms, total: 16.8 s\n",
      "Wall time: 2.73 s\n"
     ]
    }
   ],
   "source": [
    "%%time\n",
    "# cosmology = {\n",
    "\n",
    "\n",
    "M = Class()\n",
    "M.set(cosmology)\n",
    "M.set({\n",
    "'output':'dndlnM',\n",
    "# 'output':'mPk',\n",
    "    \n",
    "\"P_k_max_1/Mpc\": 50.,   \n",
    "# \"z_max_pk\": 1./0.01-1.,\n",
    "\n",
    "\"non linear\": \"none\",\n",
    "    \n",
    "'mass function':'T08',\n",
    "\n",
    "'M_min':1e11,\n",
    "'M_max':1e15,\n",
    "# 'mass_epsrel': 1e-8,\n",
    "# 'mass_epsabs': 1e-60,\n",
    "    \n",
    "'z_min':0.,\n",
    "'z_max': 6.,\n",
    "    \n",
    "# 'hm_consistency' : 0,\n",
    "# 'ndim_redshifts': 200,\n",
    "# 'ndim_masses': 200,\n",
    "# 'class_sz_verbose':10\n",
    "\n",
    "    \n",
    "'no_spline_in_tinker' : 1\n",
    "\n",
    "})\n",
    "\n",
    "\n",
    "M.compute()"
   ]
  },
  {
   "cell_type": "code",
   "execution_count": null,
   "id": "de492cfc-0e39-41a7-ba4e-27b7500e3756",
   "metadata": {},
   "outputs": [],
   "source": []
  },
  {
   "cell_type": "code",
   "execution_count": 41,
   "id": "bffbe530-6493-43a2-8188-6c3cf616f7ff",
   "metadata": {},
   "outputs": [
    {
     "data": {
      "text/plain": [
       "{'Neff': 3.0459982214534222}"
      ]
     },
     "execution_count": 41,
     "metadata": {},
     "output_type": "execute_result"
    }
   ],
   "source": [
    "M.get_current_derived_parameters(['Neff'])"
   ]
  },
  {
   "cell_type": "code",
   "execution_count": 42,
   "id": "111ea378-892a-4f26-8103-d028d4ca3bb1",
   "metadata": {},
   "outputs": [
    {
     "data": {
      "text/plain": [
       "<function Class.get_sigma_at_z_and_m>"
      ]
     },
     "execution_count": 42,
     "metadata": {},
     "output_type": "execute_result"
    }
   ],
   "source": [
    "M.get_sigma_at_z_and_m"
   ]
  },
  {
   "cell_type": "code",
   "execution_count": 43,
   "id": "96cf9ac8-7f92-49c1-98b0-29f1bbe62cbd",
   "metadata": {},
   "outputs": [],
   "source": [
    "# TBD: compare with colossus\n",
    "\n",
    "zp = 5.\n",
    "Masses = np.geomspace(1e11,1e15,300)\n",
    "dndm = 1./Masses*np.vectorize(M.get_dndlnM_at_z_and_M)(zp,Masses)"
   ]
  },
  {
   "cell_type": "code",
   "execution_count": 44,
   "id": "e3724a6d-5812-43e8-b2a6-d6ceb5cfdcff",
   "metadata": {},
   "outputs": [
    {
     "data": {
      "text/plain": [
       "[]"
      ]
     },
     "execution_count": 44,
     "metadata": {},
     "output_type": "execute_result"
    },
    {
     "data": {
      "image/png": "[encoded data removed]",
      "text/plain": [
       "<Figure size 640x480 with 1 Axes>"
      ]
     },
     "metadata": {},
     "output_type": "display_data"
    }
   ],
   "source": [
    "plt.plot(Masses,dndm)\n",
    "plt.loglog()\n",
    "\n"
   ]
  },
  {
   "cell_type": "code",
   "execution_count": 45,
   "id": "aad5976b-37d0-4a97-95d0-3e9b59a982cb",
   "metadata": {},
   "outputs": [],
   "source": [
    "# ccl.Cosmology("
   ]
  },
  {
   "cell_type": "code",
   "execution_count": 46,
   "id": "af8b85d9-90e8-479f-81ec-b08fbc2720f7",
   "metadata": {},
   "outputs": [],
   "source": [
    "# ccl.halos.MassFuncTinker08("
   ]
  },
  {
   "cell_type": "code",
   "execution_count": 47,
   "id": "e55293d2-af1b-4312-be7c-fc6664b27afd",
   "metadata": {},
   "outputs": [
    {
     "name": "stdout",
     "output_type": "stream",
     "text": [
      "CPU times: user 1.39 ms, sys: 373 µs, total: 1.76 ms\n",
      "Wall time: 1.47 ms\n"
     ]
    }
   ],
   "source": [
    "\n",
    "\n",
    "\n",
    "%%time\n",
    "# hmfs = ccl.halos.MassFuncTinker08(cosmo,mass_def=hmd_200c)\n",
    "hmfs = ccl.halos.MassFuncTinker08(cosmo,mass_def=hmd_200m)\n"
   ]
  },
  {
   "cell_type": "code",
   "execution_count": 50,
   "id": "05186613-1fb6-430c-8c1f-d68ce54b4577",
   "metadata": {},
   "outputs": [],
   "source": [
    "# from pyccl import ccllib as lib"
   ]
  },
  {
   "cell_type": "code",
   "execution_count": 51,
   "id": "247e400c-d77b-4786-ab0a-2853849b4b6b",
   "metadata": {},
   "outputs": [],
   "source": [
    "# a = .4\n",
    "# logM = Masses\n",
    "# status = 0\n",
    "# cosmo.compute_sigma()\n",
    "# sigM, status = lib.sigM_vec(cosmo.cosmo, a, logM,\n",
    "#                             len(logM), status)\n",
    "# sigM"
   ]
  },
  {
   "cell_type": "code",
   "execution_count": null,
   "id": "8c0f4a54-f470-44a4-aaa9-908b466cff5e",
   "metadata": {},
   "outputs": [],
   "source": []
  },
  {
   "cell_type": "code",
   "execution_count": 52,
   "id": "67ec9ed2-9175-4232-a6f4-2062022ceb52",
   "metadata": {},
   "outputs": [],
   "source": [
    "\n",
    "\n",
    "# Array of redshifts\n",
    "# z_arr = np.linspace(0.,1.,16)\n",
    "nm = hmfs.get_mass_function(cosmo, Masses/cosmology['h'], 1./(1.+zp))"
   ]
  },
  {
   "cell_type": "code",
   "execution_count": 55,
   "id": "78d6c4d7-3cdf-45c8-86f2-e16317b3ccb3",
   "metadata": {},
   "outputs": [
    {
     "data": {
      "image/png": "[encoded data removed]",
      "text/plain": [
       "<Figure size 640x480 with 1 Axes>"
      ]
     },
     "metadata": {},
     "output_type": "display_data"
    }
   ],
   "source": [
    "# Let's plot all of them at z=0\n",
    "plt.figure()\n",
    "\n",
    "\n",
    "plt.plot(Masses,\n",
    "        nm/np.log(10)/cosmology['h']**3/Masses, label='ccl')\n",
    "# plt.plot(Mhod,dndm_no_spline,c='k')\n",
    "plt.loglog()\n",
    "# plt.ylim([1E9,8.5E9])\n",
    "plt.legend()\n",
    "plt.xlabel(r'$M_\\odot/h$', fontsize=14)\n",
    "plt.ylabel(r'$\\frac{dn}{dM}$',\n",
    "           fontsize=14);"
   ]
  },
  {
   "cell_type": "code",
   "execution_count": 54,
   "id": "3b430932-be6f-4fbc-84d4-5be0d0e748e1",
   "metadata": {},
   "outputs": [
    {
     "data": {
      "image/png": "[encoded data removed]",
      "text/plain": [
       "<Figure size 640x480 with 1 Axes>"
      ]
     },
     "metadata": {},
     "output_type": "display_data"
    }
   ],
   "source": [
    "plt.plot(Masses,\n",
    "         dndm/(nm/np.log(10)/cosmology['h']**3/Masses), label='ratio')\n",
    "plt.xscale('log')"
   ]
  },
  {
   "cell_type": "code",
   "execution_count": null,
   "id": "8e4b4f10-eff4-45d6-a1fc-f6076d491460",
   "metadata": {},
   "outputs": [],
   "source": []
  },
  {
   "cell_type": "code",
   "execution_count": null,
   "id": "a0aaa3f6-b1ac-4853-883a-71d55e710aff",
   "metadata": {},
   "outputs": [],
   "source": []
  },
  {
   "cell_type": "code",
   "execution_count": null,
   "id": "bd360a69-5c68-486d-8015-5452a7d61b95",
   "metadata": {},
   "outputs": [],
   "source": []
  },
  {
   "cell_type": "code",
   "execution_count": null,
   "id": "4f9a8207-2f0b-429d-9b08-5818f7529541",
   "metadata": {},
   "outputs": [],
   "source": []
  },
  {
   "cell_type": "code",
   "execution_count": null,
   "id": "b6db10b0-4aa0-40c3-a61c-6127b17c22db",
   "metadata": {},
   "outputs": [],
   "source": []
  },
  {
   "cell_type": "code",
   "execution_count": null,
   "id": "6c576a6b-2c83-4eb1-8404-5ad497788fc2",
   "metadata": {},
   "outputs": [],
   "source": []
  },
  {
   "cell_type": "code",
   "execution_count": null,
   "id": "01b74eae",
   "metadata": {},
   "outputs": [],
   "source": []
  }
 ],
 "metadata": {
  "kernelspec": {
   "display_name": "Python 3 (ipykernel)",
   "language": "python",
   "name": "python3"
  },
  "language_info": {
   "codemirror_mode": {
    "name": "ipython",
    "version": 3
   },
   "file_extension": ".py",
   "mimetype": "text/x-python",
   "name": "python",
   "nbconvert_exporter": "python",
   "pygments_lexer": "ipython3",
   "version": "3.9.13"
  }
 },
 "nbformat": 4,
 "nbformat_minor": 5
}
