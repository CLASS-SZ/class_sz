{
 "cells": [
  {
   "cell_type": "markdown",
   "metadata": {},
   "source": [
    "Notebook initialization:\n",
    "\n",
    "You need to run the next 3 cells!"
   ]
  },
  {
   "cell_type": "code",
   "execution_count": 1,
   "metadata": {},
   "outputs": [],
   "source": [
    "# import necessary modules\n",
    "# uncomment to get plots displayed in notebook\n",
    "%matplotlib notebook\n",
    "%matplotlib inline\n",
    "import matplotlib\n",
    "import matplotlib.pyplot as plt\n",
    "import numpy as np\n",
    "from classy_sz import Class\n",
    "from scipy.optimize import fsolve\n",
    "from scipy.interpolate import interp1d\n",
    "import math\n",
    "from astropy.io import fits\n",
    "import pandas as pd\n",
    "\n",
    "import uncertainties as un\n",
    "from uncertainties import unumpy\n",
    "\n",
    "from scipy.optimize import fmin\n",
    "\n",
    "\n",
    "font = {'size'   : 16, 'family':'STIXGeneral'}\n",
    "axislabelfontsize='large'\n",
    "matplotlib.rc('font', **font)\n",
    "matplotlib.mathtext.rcParams['legend.fontsize']='medium'\n",
    "plt.rcParams[\"figure.figsize\"] = [8.0,6.0]"
   ]
  },
  {
   "cell_type": "markdown",
   "metadata": {},
   "source": [
    "Common settings for cosmological parameters and other CLASS parameters"
   ]
  },
  {
   "cell_type": "code",
   "execution_count": 2,
   "metadata": {},
   "outputs": [],
   "source": [
    "common_settings = {\n",
    "                   'output':'tCl,pCl,lCl',\n",
    "                   # LambdaCDM parameters\n",
    "                   'h':0.67556,\n",
    "                   'omega_b':0.022032,\n",
    "                   'omega_cdm':0.12038,\n",
    "                   'A_s':2.215e-9,\n",
    "                   'tau_reio':0.0925,\n",
    "                   # Take fixed value for primordial Helium (instead of automatic BBN adjustment)\n",
    "                   'YHe':0.246,\n",
    "                   'mass function' : 'T10',\n",
    "                   'integrate_wrt_m200m' : 1\n",
    "}\n",
    "\n",
    "\n",
    "p18_cosmo = {\n",
    "    \n",
    "     # P18 1st column table 1 of https://arxiv.org/pdf/1807.06209.pdf\n",
    "    'omega_b': 0.022383,\n",
    "    'omega_cdm': 0.12011,\n",
    "    'h': 0.6732,\n",
    "    'tau_reio': 0.0543,\n",
    "    'ln10^{10}A_s': 3.0448,\n",
    "    'n_s': 0.96605,\n",
    "    'k_pivot': 0.05,\n",
    "    'N_ncdm': 1,\n",
    "    'N_ur': 2.0328,\n",
    "    'm_ncdm': 0.06\n",
    "}\n",
    "factor_sz = 1e-2"
   ]
  },
  {
   "cell_type": "code",
   "execution_count": 3,
   "metadata": {},
   "outputs": [],
   "source": [
    "# copied from : https://github.com/simonsobs/websky_model/blob/a93bbf758432a936c0ec2b59775683b695d3d191/websky_model/websky.py#L55\n",
    "websky_Omega_M = 0.31\n",
    "websky_Omega_B = 0.049\n",
    "websky_Omega_L = 0.69\n",
    "websky_h = 0.68\n",
    "websky_sigma_8 = 0.81\n",
    "websky_n_s = 0.965\n",
    "\n",
    "\n",
    "websky_cosmo = {\n",
    "    'omega_b': websky_Omega_B*websky_h**2.,\n",
    "    'omega_cdm': (websky_Omega_M-websky_Omega_B)*websky_h**2.,\n",
    "    'h': websky_h,\n",
    "    'tau_reio': 0.0543,\n",
    "    'sigma8': websky_sigma_8,\n",
    "    'n_s': websky_n_s,   \n",
    "}\n",
    "\n",
    "\n",
    "omegab = websky_Omega_B\n",
    "omegac = websky_Omega_M-websky_Omega_B\n",
    "omegam = omegab + omegac\n",
    "h      = websky_h\n",
    "ns     = websky_n_s\n",
    "sigma8 = websky_sigma_8\n",
    "\n",
    "c = 3e5\n",
    "\n",
    "H0 = 100*h\n",
    "nz = 100000\n",
    "z1 = 0.0\n",
    "z2 = 6.0\n",
    "za = np.linspace(z1,z2,nz)\n",
    "dz = za[1]-za[0]\n",
    "\n",
    "H      = lambda z: H0*np.sqrt(omegam*(1+z)**3+1-omegam)\n",
    "dchidz = lambda z: c/H(z)\n",
    "\n",
    "chia = np.cumsum(dchidz(za))*dz\n",
    "\n",
    "zofchi = interp1d(chia,za)"
   ]
  },
  {
   "cell_type": "code",
   "execution_count": 22,
   "metadata": {},
   "outputs": [
    {
     "name": "stdout",
     "output_type": "stream",
     "text": [
      "0.8100000957137263\n",
      "0.8103068145505946\n"
     ]
    }
   ],
   "source": [
    "M = Class()\n",
    "M.set(websky_cosmo)\n",
    "has_selfn = 1\n",
    "snrcut = 6.5\n",
    "M.set({\n",
    "          'non linear': 'halofit',\n",
    "#           'output' :'sz_cluster_counts,m200m_to_m500c',\n",
    "          'output' :'sz_cluster_counts',#,m200m_to_m500c',\n",
    "          'mass function' : 'M500',\n",
    "#     'mass function' : 'T08',\n",
    "    \n",
    "#           'integrate_wrt_m500c' : 1,\n",
    "          'concentration parameter': 'B13',\n",
    "          'has_selection_function' : has_selfn,\n",
    "          'sky area in deg2': 41253.,\n",
    "#     'sky area in deg2': 599.,\n",
    "          'experiment' : 1, # simons observatory 1\n",
    "          'y_m_relation' : 1,\n",
    "          'signal-to-noise cut-off for survey cluster completeness' : snrcut,\n",
    "#           'SO_skyfracs_file': \"/sz_auxiliary_files/so_3freqs_120921_pass2_skyfracs.txt\",\n",
    "#           'SO_ylims_file': \"/sz_auxiliary_files/so_3freqs_120921_pass2_ylims.txt\",\n",
    "#           'SO_thetas_file': \"/sz_auxiliary_files/so_3freqs_120921_pass2_thetas.txt\",\n",
    "\n",
    "          'M_min' : 1e14,#*websky_h, # bounds in websky m200m:8.06216e+13 2.35569e+15\n",
    "          'M_max' : 5e15,\n",
    "          'B': 1.,\n",
    "\n",
    "          'N_ur': 2.0328,\n",
    "          'N_ncdm': 1,\n",
    "          'm_ncdm': 0.0,\n",
    "          'T_ncdm': 0.71611,\n",
    "          'input_verbose' : 0,\n",
    "          'background_verbose': 0,\n",
    "          'perturbations_verbose': 0,\n",
    "          'sz_verbose'  : 0,\n",
    "\n",
    "          'bin_z_min_cluster_counts' : 0.,\n",
    "          'bin_z_max_cluster_counts' : 2.,\n",
    "          'bin_dz_cluster_counts' : 0.1,\n",
    "          'bin_dlog10_snr': 0.25,\n",
    "\n",
    "          'dlny' : 0.02,\n",
    "          'lnymin' : -11., # planck  -11.5 so -11\n",
    "          'lnymax' : -5.,  # planck 10. so -5\n",
    "          'dlnM_cluster_count_completeness_grid' : 0.02,\n",
    "\n",
    "\n",
    "          'cluster_count_completeness_grid_z_cutoff_low' : 0.2,\n",
    "          'cluster_count_completeness_grid_z_cutoff_mid' : 1.,\n",
    "\n",
    "          'dz_cluster_count_completeness_grid_low_z' : 1e-3,\n",
    "          'dz_cluster_count_completeness_grid_mid_z' : 1e-2,\n",
    "          'dz_cluster_count_completeness_grid_high_z' : 1e-1,\n",
    "\n",
    "\n",
    "\n",
    "          'mass_epsrel_cluster_counts' : 1e-6,\n",
    "          'mass_epsabs_cluster_counts' : 1e-40,\n",
    "\n",
    "          'redshift_epsrel_cluster_counts' : 1e-4,\n",
    "          'redshift_epsabs_cluster_counts' : 1e-40,\n",
    "    \n",
    "          'A_ym': 4.35e-05,#4.68912e-05,#4.35e-05,#4.62e-05,#A_ym_websky,4.68912e-05 b=1.054969e+00\n",
    "          'B_ym':0.08,#5.496869e-02, #0.08, #B_ym_websky,\n",
    "          'C_ym' : 0.,\n",
    "          'sigmaM_ym' : 0.,\n",
    "    \n",
    "\n",
    "#           # # tabulation of mass function:\n",
    "          'n_z_dndlnM' : 200,\n",
    "          'n_m_dndlnM' : 200,\n",
    "#           #\n",
    "#           # # computation of mass function\n",
    "#           # # (grid in mass and redshifts for sigma and dsigma)\n",
    "          'ndim_masses' : 200,\n",
    "          'ndim_redshifts' : 200,\n",
    "\n",
    "#           # pk setup for computation of sigma and dsigma\n",
    "    \n",
    "          'k_per_decade_class_sz' : 40., #important parameter\n",
    "          'k_min_for_pk_class_sz' : 1e-4,\n",
    "          'k_max_for_pk_class_sz' : 10.,\n",
    "\n",
    "          'P_k_max_h/Mpc' : 2e1\n",
    "    \n",
    "})\n",
    "M.compute()\n",
    "print(M.sigma8())\n",
    "print(M.get_sigma8_at_z(0.0002))\n",
    "# print(M.get_sigma8_at_z(0.0))"
   ]
  },
  {
   "cell_type": "code",
   "execution_count": 23,
   "metadata": {},
   "outputs": [],
   "source": [
    "dNdzdy_theoretical = M.dndzdy_theoretical()['dndzdy']\n",
    "z_center = M.dndzdy_theoretical()['z_center']\n",
    "z_edges = M.dndzdy_theoretical()['z_edges']\n",
    "log10y_center = M.dndzdy_theoretical()['log10y_center']\n",
    "log10y_edges = M.dndzdy_theoretical()['log10y_edges']\n",
    "# M.struct_cleanup()\n",
    "# M.empty()"
   ]
  },
  {
   "cell_type": "code",
   "execution_count": 24,
   "metadata": {},
   "outputs": [
    {
     "data": {
      "text/plain": [
       "27096.322175781734"
      ]
     },
     "execution_count": 24,
     "metadata": {},
     "output_type": "execute_result"
    }
   ],
   "source": [
    "np.sum(dNdzdy_theoretical)"
   ]
  },
  {
   "cell_type": "code",
   "execution_count": 9,
   "metadata": {},
   "outputs": [],
   "source": [
    "#m200ms = np.geomspace(1e12,1e15)\n",
    "#m500ms = np.vectorize(M.get_m200m_to_m500c_at_z_and_M)(1e-5,m200ms)"
   ]
  },
  {
   "cell_type": "code",
   "execution_count": 10,
   "metadata": {},
   "outputs": [],
   "source": [
    "N_z,N_y = np.shape(dNdzdy_theoretical)\n",
    "N_clusters_z_theory = []\n",
    "N_clusters_z_theory_actlike = []\n",
    "# N_clusters_z_theory_plancklike = []\n",
    "for iz in range(N_z):\n",
    "    if (has_selfn == 1):\n",
    "        N_clusters_z_theory.append(np.sum(dNdzdy_theoretical[iz]))\n",
    "    elif (has_selfn == 0):\n",
    "        N_clusters_z_theory.append(dNdzdy_theoretical[iz][0])\n",
    "#     N_clusters_z_theory_actlike.append(np.sum(dNdzdy_theoretical[iz])/4.)\n",
    "#     N_clusters_z_theory_plancklike.append(np.sum(dNdzdy_theoretical[iz])/25.)\n",
    "N_clusters_y_theory = []\n",
    "for iy in range(N_y):\n",
    "    N_clusters_y_theory.append(np.sum(np.asarray(dNdzdy_theoretical)[:,iy]))\n",
    "\n",
    "\n"
   ]
  },
  {
   "cell_type": "code",
   "execution_count": 11,
   "metadata": {},
   "outputs": [
    {
     "data": {
      "text/plain": [
       "27096.322175781734"
      ]
     },
     "execution_count": 11,
     "metadata": {},
     "output_type": "execute_result"
    }
   ],
   "source": [
    "np.sum(N_clusters_z_theory)"
   ]
  },
  {
   "cell_type": "code",
   "execution_count": 12,
   "metadata": {},
   "outputs": [
    {
     "name": "stdout",
     "output_type": "stream",
     "text": [
      "sky fraction: 0.43353265345590863\n",
      "area: 17884.5225530166\n",
      "N clusters: 21252 21252\n"
     ]
    }
   ],
   "source": [
    "# here puth the path to the directory : MFMF_SOSim_3freq_tiles\n",
    "# path_to_catalogue = '/Users/boris/Work/CLASS-SZ/SO-SZ/class_sz_external_data_and_scripts/MFMF_SOSim_3freq_tiles/'\n",
    "# path_to_catalogue = '/Users/boris/Work/CLASS-SZ/SO-SZ/so_cluster_counts/MFMF_WebSkyHalos_A10tSZ_3freq_tiles/'\n",
    "path_to_catalogue = '/Users/boris/Work/CLASS-SZ/SO-SZ/so_cluster_counts/MFMF_WebSkyHalos_A10tSZ_3freq_tiles_pass2/MFMF_WebSkyHalos_A10tSZ_3freq_tiles/'\n",
    "\n",
    "#\"fits_image_filename = fits.util.get_testdata_filepath(path_to_catalogue+'MFMF_SOSim_3freq_tiles_M500.fits')\n",
    "tcat = path_to_catalogue+'MFMF_WebSkyHalos_A10tSZ_3freq_tiles_mass.fits'\n",
    "# tcat = path_to_catalogue+'WebSky_A10_mock.fits'\n",
    "# tcat = path_to_catalogue+'MFMF_WebSkyHalos_A10tSZ_3freq_tiles_optimalCatalog.fits'\n",
    "list = fits.open(tcat)\n",
    "data = list[1].data\n",
    "z = data.field(\"redshift\")\n",
    "snr = data.field(\"fixed_SNR\")\n",
    "# snr = np.sqrt(snr**2-3.)\n",
    "tile = data.field(\"tileName\")\n",
    "\n",
    "z = z[snr > snrcut]\n",
    "# snr = np.sqrt(snr[snr > snrcut]**2-3.)\n",
    "snr = snr[snr > snrcut]\n",
    "sf = np.loadtxt('/Users/boris/Work/CLASS-SZ/SO-SZ/class_sz/sz_auxiliary_files/so_3freqs_120921_pass2_skyfracs.txt')\n",
    "print('sky fraction:',sf.sum())\n",
    "print('area:',sf.sum()*41253.)\n",
    "print('N clusters:',z.size,snr.size)"
   ]
  },
  {
   "cell_type": "code",
   "execution_count": 13,
   "metadata": {},
   "outputs": [
    {
     "name": "stdout",
     "output_type": "stream",
     "text": [
      ">>> Setting up SNR > 6.50 selection function ...\n",
      "Total area = 17884.523 square degrees\n"
     ]
    }
   ],
   "source": [
    "from nemo import *\n",
    "path_to_selfn = '/Users/boris/Work/CLASS-SZ/SO-SZ/so_cluster_counts/MFMF_WebSkyHalos_A10tSZ_3freq_tiles_pass2/MFMF_WebSkyHalos_A10tSZ_3freq_tiles_pass2/selFn/'\n",
    "\n",
    "\n",
    "configFileName=path_to_selfn+'config.yml'\n",
    "selFnDir=path_to_selfn\n",
    "SNRCut=6.5\n",
    "zStep=0.1\n",
    "footprintLabel=None\n",
    "\n",
    "print(\">>> Setting up SNR > %.2f selection function ...\" % (SNRCut))\n",
    "selFn=completeness.SelFn(selFnDir, SNRCut, configFileName = configFileName, \n",
    "                         footprintLabel = footprintLabel, zStep = zStep)\n",
    "\n",
    "scalingRelationDict=selFn.scalingRelationDict\n",
    "H0, Om0, Ob0, sigma8, ns = websky_h*100., websky_Omega_M,websky_Omega_B, websky_sigma_8, websky_n_s\n",
    "h=H0/100.0\n",
    "selFn.update(H0, Om0, Ob0, sigma8, ns, scalingRelationDict = scalingRelationDict)\n",
    "print(\"Total area = %.3f square degrees\" % (selFn.totalAreaDeg2))\n",
    "\n",
    "# N(z) with M500c > 5e13 MSun - no selection function applied\n",
    "countsByRedshift=selFn.mockSurvey.clusterCount[:, np.greater(selFn.mockSurvey.log10M, np.log10(5e13/h))].sum(axis = 1)\n",
    "z_nemo = []\n",
    "Nz_noselfn = []\n",
    "Nz_selfn = []\n",
    "\n",
    "# with open(\"NzCheck_noSelFn.csv\", \"w\") as outFile:\n",
    "for i in range(len(selFn.mockSurvey.z)):\n",
    "    z_nemo.append((selFn.mockSurvey.zBinEdges[i]+selFn.mockSurvey.zBinEdges[i+1])/2.)\n",
    "    Nz_noselfn.append(countsByRedshift[i])\n",
    "#     print(\"%.1f <= z < %.1f\\t%.3f\\n\" % (selFn.mockSurvey.zBinEdges[i], selFn.mockSurvey.zBinEdges[i+1], countsByRedshift[i]))\n",
    "\n",
    "# N(z) with M500c > 5e13 MSun - with S/N > 5 selection function applied\n",
    "predMz=selFn.compMz*selFn.mockSurvey.clusterCount\n",
    "countsByRedshift=predMz[:, np.greater(selFn.mockSurvey.log10M, np.log10(5e13/h))].sum(axis = 1)\n",
    "# with open(\"NzCheck_withSelFn.csv\", \"w\") as outFile:\n",
    "for i in range(len(selFn.mockSurvey.z)):\n",
    "#     z.append(selFn.mockSurvey.zBinEdges[i]+selFn.mockSurvey.zBinEdges[i+1])/2.)\n",
    "    Nz_selfn.append(countsByRedshift[i])\n",
    "#     print(\"%.1f <= z < %.1f\\t%.3f\\n\" % (selFn.mockSurvey.zBinEdges[i], selFn.mockSurvey.zBinEdges[i+1], countsByRedshift[i]))\n"
   ]
  },
  {
   "cell_type": "code",
   "execution_count": 14,
   "metadata": {},
   "outputs": [
    {
     "data": {
      "text/plain": [
       "25533.01917422139"
      ]
     },
     "execution_count": 14,
     "metadata": {},
     "output_type": "execute_result"
    }
   ],
   "source": [
    "np.sum(Nz_selfn)"
   ]
  },
  {
   "cell_type": "code",
   "execution_count": 15,
   "metadata": {},
   "outputs": [
    {
     "data": {
      "image/png": "[encoded data removed]",
      "text/plain": [
       "<Figure size 576x432 with 1 Axes>"
      ]
     },
     "metadata": {
      "needs_background": "light"
     },
     "output_type": "display_data"
    }
   ],
   "source": [
    "N_clusters_z, xedges = np.histogram(z, bins=z_edges)\n",
    "fig = plt.figure()\n",
    "\n",
    "plt.errorbar(z_center,N_clusters_z,yerr=np.sqrt(N_clusters_z),marker='o',markersize=3.,ls='none',label=r'Websky (mock SO catalogue - Matt H)',capsize=5,c='k')\n",
    "#plt.hist(z_center,N_clusters_z_theory,marker='o',markersize=3.,ls=':',label='theory',c='orange')\n",
    "n, bins, patches = plt.hist(x=np.repeat(z_center,N_clusters_z_theory), bins=z_edges, color='orange',alpha=0.7, rwidth=0.95,label=r'class_sz')\n",
    "# n, bins, patches = plt.hist(x=np.repeat(z_center,N_clusters_z_theory_actlike), bins=z_edges, color='green',alpha=0.3, rwidth=0.95,label=r'ACT (~$10^{3}$)')\n",
    "# n, bins, patches = plt.hist(x=np.repeat(z_center_planck,N_clusters_z_theory_planck), bins=z_edges_planck, color='red',alpha=0.7, rwidth=0.95,label=r'PLANCK (~$10^{2}$)')\n",
    "# n, bins, patches = plt.hist(x=np.repeat(z_center,N_clusters_z_theory), bins=z_edges, color='orange',alpha=0.7, rwidth=0.95,label=r'SO (~$10^{4}$) - class_sz')\n",
    "plt.errorbar(z_nemo,Nz_selfn,yerr=np.sqrt(Nz_selfn),marker='o',markersize=3.,ls='none',label=r'Nemo (Matt H)',capsize=5,c='b')\n",
    "\n",
    "\n",
    "\n",
    "\n",
    "\n",
    "plt.grid()\n",
    "plt.legend(loc=1,fontsize=11)\n",
    "plt.xlabel(r'redshift $z$')\n",
    "plt.ylabel(r'Number of clusters $N$')\n",
    "plt.yscale('linear')\n",
    "plt.show()\n",
    "# plt.savefig('Nz_compare.pdf')\n",
    "# plt.ylim(1e0,5e3)"
   ]
  },
  {
   "cell_type": "code",
   "execution_count": 28,
   "metadata": {},
   "outputs": [
    {
     "data": {
      "text/plain": [
       "1.4278445084810019"
      ]
     },
     "execution_count": 28,
     "metadata": {},
     "output_type": "execute_result"
    }
   ],
   "source": [
    " data.field(\"M200m\").min()"
   ]
  },
  {
   "cell_type": "code",
   "execution_count": 31,
   "metadata": {},
   "outputs": [
    {
     "data": {
      "image/png": "[encoded data removed]",
      "text/plain": [
       "<Figure size 576x432 with 1 Axes>"
      ]
     },
     "metadata": {
      "needs_background": "light"
     },
     "output_type": "display_data"
    }
   ],
   "source": [
    "N_clusters_y, xedges = np.histogram(np.log10(snr), bins=log10y_edges)\n",
    "plt.errorbar(log10y_center,N_clusters_y,yerr=np.sqrt(N_clusters_y),marker='o',markersize=3.,ls='none',label='catalogue data',capsize=5,c='k')\n",
    "#plt.plot(log10y_center,N_clusters_y_theory,marker='o',markersize=3.,ls=':',label='theory',c='orange')\n",
    "n, bins, patches = plt.hist(x=np.repeat(log10y_center,N_clusters_y_theory), bins=log10y_edges, color='orange',alpha=0.7, rwidth=0.95)\n",
    "\n",
    "\n",
    "plt.grid()\n",
    "plt.legend()\n",
    "plt.xlabel(r'$\\log_{10}(SNR)$')\n",
    "plt.ylabel(r'$N$')\n",
    "plt.yscale('log')\n",
    "plt.show()"
   ]
  },
  {
   "cell_type": "code",
   "execution_count": null,
   "metadata": {},
   "outputs": [],
   "source": []
  }
 ],
 "metadata": {
  "kernelspec": {
   "display_name": "Python 3 (ipykernel)",
   "language": "python",
   "name": "python3"
  },
  "language_info": {
   "codemirror_mode": {
    "name": "ipython",
    "version": 3
   },
   "file_extension": ".py",
   "mimetype": "text/x-python",
   "name": "python",
   "nbconvert_exporter": "python",
   "pygments_lexer": "ipython3",
   "version": "3.8.5"
  }
 },
 "nbformat": 4,
 "nbformat_minor": 1
}
