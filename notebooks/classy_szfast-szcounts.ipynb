{
 "cells": [
  {
   "cell_type": "markdown",
   "id": "a3461285-3f18-4ba7-9619-4ead5fa207c5",
   "metadata": {},
   "source": [
    "# Intialize"
   ]
  },
  {
   "cell_type": "code",
   "execution_count": 1,
   "id": "dd77bdd4-5984-4527-9a21-82574543d1e8",
   "metadata": {},
   "outputs": [
    {
     "name": "stdout",
     "output_type": "stream",
     "text": [
      "Metal device set to: Apple M1 Pro\n",
      "WARNING:tensorflow:Please fix your imports. Module tensorflow.python.training.tracking.data_structures has been moved to tensorflow.python.trackable.data_structures. The old module will be deleted in version 2.11.\n"
     ]
    },
    {
     "name": "stderr",
     "output_type": "stream",
     "text": [
      "2023-02-20 09:31:45.717119: I tensorflow/core/common_runtime/pluggable_device/pluggable_device_factory.cc:306] Could not identify NUMA node of platform GPU ID 0, defaulting to 0. Your kernel may not have been built with NUMA support.\n",
      "2023-02-20 09:31:45.717221: I tensorflow/core/common_runtime/pluggable_device/pluggable_device_factory.cc:272] Created TensorFlow device (/job:localhost/replica:0/task:0/device:GPU:0 with 0 MB memory) -> physical PluggableDevice (device: 0, name: METAL, pci bus id: <undefined>)\n"
     ]
    }
   ],
   "source": [
    "%matplotlib inline\n",
    "import matplotlib\n",
    "import matplotlib.pyplot as plt\n",
    "import numpy as np\n",
    "from classy_sz import Class\n",
    "import os\n",
    "import time\n",
    "\n",
    "\n",
    "# the parameters needed for cosmology:\n",
    "# use the last column of Planck 2018 (https://arxiv.org/pdf/1807.06209.pdf)\n",
    "# TT,TE,EE+lowE+lensing+BAO\n",
    "cosmo_params = {\n",
    "'omega_b': 0.02242,\n",
    "'omega_cdm':  0.11933,\n",
    "'H0': 67.66,\n",
    "'tau_reio': 0.0561,\n",
    "'ln10^{10}A_s': 3.047,\n",
    "'n_s': 0.9665,\n",
    "\n",
    "'k_pivot': 0.05,\n",
    "'N_ncdm': 1,\n",
    "'N_ur': 2.0328,\n",
    "'m_ncdm': 0.06    \n",
    "\n",
    "}\n",
    "\n"
   ]
  },
  {
   "cell_type": "markdown",
   "id": "b4a2f523-cf36-4eda-a79e-6a01443c1971",
   "metadata": {},
   "source": [
    "# Binned cluster counts"
   ]
  },
  {
   "cell_type": "markdown",
   "id": "69a7c005-8aa8-4583-afb0-546da1e6044c",
   "metadata": {},
   "source": [
    "## compute class_sz slow"
   ]
  },
  {
   "cell_type": "code",
   "execution_count": 72,
   "id": "9bf78d8a-f1d8-42c7-aa43-0fd56a343424",
   "metadata": {},
   "outputs": [
    {
     "name": "stdout",
     "output_type": "stream",
     "text": [
      "CPU times: user 8.33 s, sys: 18.3 ms, total: 8.35 s\n",
      "Wall time: 1.11 s\n"
     ]
    }
   ],
   "source": [
    "%%time\n",
    "\n",
    "M = Class()\n",
    "\n",
    "M.set(cosmo_params)\n",
    "M.set({\n",
    "    \n",
    "'output' : 'sz_cluster_counts',\n",
    "'mass function' :  'M500',\n",
    "'has_selection_function' : 1,\n",
    "'experiment' : 0,\n",
    "\n",
    "'y_m_relation' : 0,\n",
    "\n",
    "'use_planck_binned_proba' : 1,\n",
    "\n",
    "\n",
    "'M_min' : 5e11,\n",
    "'M_max' : 1e16,\n",
    "\n",
    "'z_min' : 0.,\n",
    "'z_max' : 1.,\n",
    "\n",
    "'m_pivot_ym [Msun]' : 3e14,\n",
    "\n",
    "\n",
    "\n",
    "'bin_z_min_cluster_counts' : 0.,\n",
    "'bin_z_max_cluster_counts' : 1.,\n",
    "'bin_dz_cluster_counts' : 0.1,\n",
    "'bin_dlog10_snr': 0.25,\n",
    "\n",
    "#the paramater dlny is crucial, it controls the speed of the calculation\n",
    "#important to check that lnymin and lnymax are broad enough\n",
    "'dlny' : 0.05,\n",
    "'lnymin' : -11.,\n",
    "'lnymax' : -5.,\n",
    "'sigmaM_ym' : 0.173,\n",
    "\n",
    "#case with no scatter:\n",
    "#sigmaM_ym = 0.\n",
    "\n",
    "'dlnM_cluster_count_completeness_grid' : 0.05,\n",
    "\n",
    "\n",
    "'cluster_count_completeness_grid_z_cutoff_low' : 0.5,\n",
    "'cluster_count_completeness_grid_z_cutoff_mid' : 1.5,\n",
    "'dz_cluster_count_completeness_grid_low_z' : 5e-3,\n",
    "'dz_cluster_count_completeness_grid_mid_z' : 1e-2,\n",
    "'dz_cluster_count_completeness_grid_high_z' : 1e-1,\n",
    "\n",
    "\n",
    "\n",
    "\n",
    "\n",
    "'signal-to-noise cut-off for survey cluster completeness' : 6,\n",
    "\n",
    "\n",
    "# X ray mass bias (if applicable)\n",
    "'B' : 1.,\n",
    "\n",
    "\n",
    "\n",
    "\n",
    "# tabulation of mass function:\n",
    "'n_z_dndlnM' : 40,\n",
    "'n_m_dndlnM' : 500,\n",
    "\n",
    "# computation of mass function\n",
    "# (grid in mass and redshifts for sigma and dsigma)\n",
    "'ndim_masses' : 500,\n",
    "'ndim_redshifts' : 40,\n",
    "\n",
    "# pk setup for computation of sigma and dsigma\n",
    "'k_per_decade_class_sz' : 20.,\n",
    "'k_min_for_pk_class_sz' : 1e-3,\n",
    "'k_max_for_pk_class_sz' : 1e1,\n",
    "'P_k_max_h/Mpc' : 1e1,\n",
    "})\n",
    "M.compute()"
   ]
  },
  {
   "cell_type": "code",
   "execution_count": 73,
   "id": "33357913-98a2-4f60-8059-8c7ef1e28c94",
   "metadata": {},
   "outputs": [],
   "source": [
    "dNdzdy_theoretical = M.dndzdy_theoretical()['dndzdy']\n",
    "z_center = M.dndzdy_theoretical()['z_center']\n",
    "z_edges = M.dndzdy_theoretical()['z_edges']\n",
    "log10y_center = M.dndzdy_theoretical()['log10y_center']\n",
    "log10y_edges = M.dndzdy_theoretical()['log10y_edges']"
   ]
  },
  {
   "cell_type": "code",
   "execution_count": 74,
   "id": "a316e3a1-b7af-449f-a8a7-e12a8f970949",
   "metadata": {},
   "outputs": [],
   "source": [
    "N_z,N_y = np.shape(dNdzdy_theoretical)\n",
    "N_clusters_z_theory = []\n",
    "N_clusters_z_theory_with_rel = []\n",
    "for iz in range(N_z):\n",
    "    N_clusters_z_theory.append(np.sum(dNdzdy_theoretical[iz]))\n",
    "N_clusters_y_theory = []\n",
    "N_clusters_y_theory_with_rel = []\n",
    "for iy in range(N_y):\n",
    "    N_clusters_y_theory.append(np.sum(np.asarray(dNdzdy_theoretical)[:,iy]))\n"
   ]
  },
  {
   "cell_type": "code",
   "execution_count": 75,
   "id": "edef547a-c654-4b69-bf38-589d634e2d7d",
   "metadata": {},
   "outputs": [
    {
     "data": {
      "text/plain": [
       "[228.17599725490928,\n",
       " 467.28398542794577,\n",
       " 409.41263126847167,\n",
       " 302.98479339439865,\n",
       " 208.3874594185129,\n",
       " 136.08174517465235,\n",
       " 84.48046208284634,\n",
       " 50.23751351795535,\n",
       " 28.739325136888798,\n",
       " 14.627214999486574]"
      ]
     },
     "execution_count": 75,
     "metadata": {},
     "output_type": "execute_result"
    }
   ],
   "source": [
    "N_clusters_z_theory"
   ]
  },
  {
   "cell_type": "code",
   "execution_count": 76,
   "id": "ccda8acf-0d6f-4b5d-8617-e735a3f30d52",
   "metadata": {},
   "outputs": [
    {
     "data": {
      "text/plain": [
       "Text(0, 0.5, '$N$')"
      ]
     },
     "execution_count": 76,
     "metadata": {},
     "output_type": "execute_result"
    },
    {
     "data": {
      "image/png": "[encoded data removed]",
      "text/plain": [
       "<Figure size 640x480 with 1 Axes>"
      ]
     },
     "metadata": {},
     "output_type": "display_data"
    }
   ],
   "source": [
    "plt.errorbar(z_center,N_clusters_z_theory,yerr=np.sqrt(N_clusters_z_theory),marker='o',markersize=3.,ls='none',label='class_sz',capsize=5,c='green')\n",
    "\n",
    "plt.grid()\n",
    "plt.legend(loc=1)\n",
    "plt.xlabel(r'$z$')\n",
    "plt.ylabel(r'$N$')\n"
   ]
  },
  {
   "cell_type": "code",
   "execution_count": 77,
   "id": "14c71ccd-a0ed-4c29-95a5-f789aac098c4",
   "metadata": {},
   "outputs": [
    {
     "data": {
      "image/png": "[encoded data removed]",
      "text/plain": [
       "<Figure size 640x480 with 1 Axes>"
      ]
     },
     "metadata": {},
     "output_type": "display_data"
    }
   ],
   "source": [
    "plt.errorbar(log10y_center,N_clusters_y_theory,yerr=np.sqrt(N_clusters_y_theory),marker='o',markersize=3.,ls='none',label='class_sz',capsize=9,c='green')\n",
    "plt.grid()\n",
    "plt.legend()\n",
    "plt.xlabel(r'$\\log_{10}(SNR)$')\n",
    "plt.ylabel(r'$N$')\n",
    "plt.yscale('log')\n"
   ]
  },
  {
   "cell_type": "markdown",
   "id": "f1c75f66-043e-46f0-9836-9c7760b8ba7d",
   "metadata": {},
   "source": [
    "## compute class_szfast"
   ]
  },
  {
   "cell_type": "code",
   "execution_count": 90,
   "id": "4d948c2a-b228-441d-8c7e-374ba1fd2b31",
   "metadata": {},
   "outputs": [
    {
     "name": "stdout",
     "output_type": "stream",
     "text": [
      "CPU times: user 1.14 s, sys: 82.8 ms, total: 1.23 s\n",
      "Wall time: 475 ms\n"
     ]
    }
   ],
   "source": [
    "%%time\n",
    "\n",
    "M = Class()\n",
    "\n",
    "M.set(cosmo_params)\n",
    "M.set({\n",
    "    \n",
    "'output' : 'sz_cluster_counts',\n",
    "'mass function' :  'M500',\n",
    "'has_selection_function' : 1,\n",
    "'experiment' : 0,\n",
    "\n",
    "'y_m_relation' : 0,\n",
    "\n",
    "'use_planck_binned_proba' : 1,\n",
    "\n",
    "\n",
    "'M_min' : 5e11,\n",
    "'M_max' : 1e16,\n",
    "\n",
    "'z_min' : 0.,\n",
    "'z_max' : 1.,\n",
    "\n",
    "'m_pivot_ym [Msun]' : 3e14,\n",
    "\n",
    "\n",
    "\n",
    "'bin_z_min_cluster_counts' : 0.,\n",
    "'bin_z_max_cluster_counts' : 1.,\n",
    "'bin_dz_cluster_counts' : 0.1,\n",
    "'bin_dlog10_snr': 0.25,\n",
    "\n",
    "#the paramater dlny is crucial, it controls the speed of the calculation\n",
    "#important to check that lnymin and lnymax are broad enough\n",
    "'dlny' : 0.05,\n",
    "'lnymin' : -11.,\n",
    "'lnymax' : -5.,\n",
    "'sigmaM_ym' : 0.173,\n",
    "\n",
    "#case with no scatter:\n",
    "#sigmaM_ym = 0.\n",
    "\n",
    "'dlnM_cluster_count_completeness_grid' : 0.05,\n",
    "\n",
    "\n",
    "'cluster_count_completeness_grid_z_cutoff_low' : 0.5,\n",
    "'cluster_count_completeness_grid_z_cutoff_mid' : 1.5,\n",
    "'dz_cluster_count_completeness_grid_low_z' : 5e-3,\n",
    "'dz_cluster_count_completeness_grid_mid_z' : 1e-2,\n",
    "'dz_cluster_count_completeness_grid_high_z' : 1e-1,\n",
    "\n",
    "\n",
    "\n",
    "\n",
    "\n",
    "'signal-to-noise cut-off for survey cluster completeness' : 6,\n",
    "\n",
    "\n",
    "# X ray mass bias (if applicable)\n",
    "'B' : 1.,\n",
    "\n",
    "\n",
    "\n",
    "\n",
    "# tabulation of mass function:\n",
    "'n_z_dndlnM' : 40,\n",
    "'n_m_dndlnM' : 500,\n",
    "\n",
    "# computation of mass function's sigma/dsigm\n",
    "# (grid in redshifts for sigma and dsigma)\n",
    "'ndim_redshifts' : 40,\n",
    "\n",
    "})\n",
    "M.compute_class_szfast()"
   ]
  },
  {
   "cell_type": "code",
   "execution_count": 91,
   "id": "d5eb0bbe-9a63-4b37-96da-78f42e0deb88",
   "metadata": {},
   "outputs": [],
   "source": [
    "dNdzdy_theoretical = M.dndzdy_theoretical()['dndzdy']\n",
    "z_center = M.dndzdy_theoretical()['z_center']\n",
    "z_edges = M.dndzdy_theoretical()['z_edges']\n",
    "log10y_center = M.dndzdy_theoretical()['log10y_center']\n",
    "log10y_edges = M.dndzdy_theoretical()['log10y_edges']"
   ]
  },
  {
   "cell_type": "code",
   "execution_count": 92,
   "id": "ebe39d6d-274d-4ea5-a8e9-c46d82d788b4",
   "metadata": {},
   "outputs": [],
   "source": [
    "N_z,N_y = np.shape(dNdzdy_theoretical)\n",
    "N_clusters_z_theory = []\n",
    "N_clusters_z_theory_with_rel = []\n",
    "for iz in range(N_z):\n",
    "    N_clusters_z_theory.append(np.sum(dNdzdy_theoretical[iz]))\n",
    "N_clusters_y_theory = []\n",
    "N_clusters_y_theory_with_rel = []\n",
    "for iy in range(N_y):\n",
    "    N_clusters_y_theory.append(np.sum(np.asarray(dNdzdy_theoretical)[:,iy]))\n"
   ]
  },
  {
   "cell_type": "code",
   "execution_count": 93,
   "id": "8b90a822-f952-4312-9478-fa47fa584e27",
   "metadata": {},
   "outputs": [
    {
     "data": {
      "text/plain": [
       "[221.29068690365636,\n",
       " 447.33003672369307,\n",
       " 387.56252992030073,\n",
       " 283.9616390394404,\n",
       " 193.62897896993624,\n",
       " 125.5187090464395,\n",
       " 77.34639671372304,\n",
       " 45.63138469675464,\n",
       " 25.89497843575253,\n",
       " 13.079835891880325]"
      ]
     },
     "execution_count": 93,
     "metadata": {},
     "output_type": "execute_result"
    }
   ],
   "source": [
    "N_clusters_z_theory"
   ]
  },
  {
   "cell_type": "code",
   "execution_count": 94,
   "id": "15b29747-a8d4-474e-9f9b-c0411bbf4635",
   "metadata": {},
   "outputs": [
    {
     "data": {
      "text/plain": [
       "Text(0, 0.5, '$N$')"
      ]
     },
     "execution_count": 94,
     "metadata": {},
     "output_type": "execute_result"
    },
    {
     "data": {
      "image/png": "[encoded data removed]",
      "text/plain": [
       "<Figure size 640x480 with 1 Axes>"
      ]
     },
     "metadata": {},
     "output_type": "display_data"
    }
   ],
   "source": [
    "plt.errorbar(z_center,N_clusters_z_theory,yerr=np.sqrt(N_clusters_z_theory),marker='o',markersize=3.,ls='none',label='class_sz',capsize=5,c='green')\n",
    "\n",
    "plt.grid()\n",
    "plt.legend(loc=1)\n",
    "plt.xlabel(r'$z$')\n",
    "plt.ylabel(r'$N$')\n"
   ]
  },
  {
   "cell_type": "code",
   "execution_count": 95,
   "id": "686b4dca-6f1a-4f07-950d-de0e56a06bd4",
   "metadata": {},
   "outputs": [
    {
     "data": {
      "image/png": "[encoded data removed]",
      "text/plain": [
       "<Figure size 640x480 with 1 Axes>"
      ]
     },
     "metadata": {},
     "output_type": "display_data"
    }
   ],
   "source": [
    "plt.errorbar(log10y_center,N_clusters_y_theory,yerr=np.sqrt(N_clusters_y_theory),marker='o',markersize=3.,ls='none',label='class_sz',capsize=9,c='green')\n",
    "plt.grid()\n",
    "plt.legend()\n",
    "plt.xlabel(r'$\\log_{10}(SNR)$')\n",
    "plt.ylabel(r'$N$')\n",
    "plt.yscale('log')\n"
   ]
  },
  {
   "cell_type": "markdown",
   "id": "cf5398c1-a2c9-4965-97ba-6900823e455e",
   "metadata": {},
   "source": [
    "# Unbinned cluster counts"
   ]
  },
  {
   "cell_type": "markdown",
   "id": "b85f6d67-f839-4f93-9677-f7f8fd5fbd3d",
   "metadata": {},
   "source": [
    "## compute class_sz slow"
   ]
  },
  {
   "cell_type": "code",
   "execution_count": 110,
   "id": "6ef3b0eb-2c5f-454c-9b6a-fd6def9de140",
   "metadata": {},
   "outputs": [
    {
     "name": "stdout",
     "output_type": "stream",
     "text": [
      "CPU times: user 7.32 s, sys: 28.9 ms, total: 7.35 s\n",
      "Wall time: 972 ms\n"
     ]
    }
   ],
   "source": [
    "%%time\n",
    "\n",
    "M = Class()\n",
    "\n",
    "M.set(cosmo_params)\n",
    "M.set({\n",
    "          # 'non_linear': 'halofit',\n",
    "          'output' : 'sz_unbinned_cluster_counts',\n",
    "          'mass function' : 'M500',\n",
    "\n",
    "          'has_selection_function' : 1,\n",
    "          'experiment' : 0, # Planck\n",
    "          'y_m_relation' : 0,\n",
    "          'signal-to-noise cut-off for survey cluster completeness' : 6.,\n",
    "          # 'use_planck_binned_proba' : 1,\n",
    "\n",
    "          'M_min' : 5e13,\n",
    "          'M_max' : 5e15,\n",
    "\n",
    "          'z_min': 0.,\n",
    "          'z_max': 1.,\n",
    "          \n",
    "          # # tabulation of mass function:\n",
    "          'n_z_dndlnM' : 500,\n",
    "          'n_m_dndlnM' : 80,\n",
    "          #\n",
    "          # # computation of mass function\n",
    "          # # (grid in mass and redshifts for sigma and dsigma)\n",
    "          'ndim_masses' : 500,\n",
    "          'ndim_redshifts' : 40,\n",
    "          #\n",
    "          # pk setup for computation of sigma and dsigma\n",
    "          'k_per_decade_class_sz' : 20.,\n",
    "          'k_min_for_pk_class_sz' : 1e-3,\n",
    "          'k_max_for_pk_class_sz' : 1e1,\n",
    "\n",
    "          'P_k_max_h/Mpc' : 1e1,\n",
    "\n",
    "\n",
    "})\n",
    "M.compute()"
   ]
  },
  {
   "cell_type": "code",
   "execution_count": 109,
   "id": "066437b1-e290-4b2e-98ed-6f46da130982",
   "metadata": {},
   "outputs": [
    {
     "data": {
      "text/plain": [
       "-1793.416278887355"
      ]
     },
     "execution_count": 109,
     "metadata": {},
     "output_type": "execute_result"
    }
   ],
   "source": [
    "M.szunbinned_loglike()"
   ]
  },
  {
   "cell_type": "markdown",
   "id": "26236d4e-08af-49fe-bfed-23e93a365d23",
   "metadata": {},
   "source": [
    "## compute class_szfast"
   ]
  },
  {
   "cell_type": "code",
   "execution_count": 112,
   "id": "d58acb02-f5b2-47e1-8fab-6faef2a83126",
   "metadata": {},
   "outputs": [
    {
     "name": "stdout",
     "output_type": "stream",
     "text": [
      "CPU times: user 342 ms, sys: 71.4 ms, total: 413 ms\n",
      "Wall time: 288 ms\n"
     ]
    }
   ],
   "source": [
    "%%time\n",
    "\n",
    "M = Class()\n",
    "\n",
    "M.set(cosmo_params)\n",
    "M.set({\n",
    "\n",
    "  'output' : 'sz_unbinned_cluster_counts',\n",
    "  'mass function' : 'M500',\n",
    "\n",
    "  'has_selection_function' : 1,\n",
    "  'experiment' : 0, # Planck\n",
    "  'y_m_relation' : 0,\n",
    "  'signal-to-noise cut-off for survey cluster completeness' : 6.,\n",
    "  # 'use_planck_binned_proba' : 1,\n",
    "\n",
    "  'M_min' : 5e13,\n",
    "  'M_max' : 5e15,\n",
    "\n",
    "  'z_min': 0.,\n",
    "  'z_max': 1.,\n",
    "\n",
    "  # # tabulation of mass function:\n",
    "  'n_z_dndlnM' : 80,\n",
    "  'n_m_dndlnM' : 500,\n",
    "  #\n",
    "  # # computation of mass function\n",
    "  # # (grid in mass and redshifts for sigma and dsigma)\n",
    "\n",
    "  'ndim_redshifts' : 40,\n",
    "\n",
    "})\n",
    "M.compute_class_szfast()"
   ]
  },
  {
   "cell_type": "code",
   "execution_count": 113,
   "id": "d09e2827-e89a-4da4-ad4a-65e1c95939fc",
   "metadata": {},
   "outputs": [
    {
     "data": {
      "text/plain": [
       "-1690.6746632342515"
      ]
     },
     "execution_count": 113,
     "metadata": {},
     "output_type": "execute_result"
    }
   ],
   "source": [
    "M.szunbinned_loglike()"
   ]
  },
  {
   "cell_type": "code",
   "execution_count": null,
   "id": "1c8a636e-3f64-42bb-9bac-1fc79bb59aa0",
   "metadata": {},
   "outputs": [],
   "source": []
  }
 ],
 "metadata": {
  "kernelspec": {
   "display_name": "Python 3 (ipykernel)",
   "language": "python",
   "name": "python3"
  },
  "language_info": {
   "codemirror_mode": {
    "name": "ipython",
    "version": 3
   },
   "file_extension": ".py",
   "mimetype": "text/x-python",
   "name": "python",
   "nbconvert_exporter": "python",
   "pygments_lexer": "ipython3",
   "version": "3.9.13"
  }
 },
 "nbformat": 4,
 "nbformat_minor": 5
}
