{
 "cells": [
  {
   "cell_type": "code",
   "execution_count": 1,
   "id": "680e53ee",
   "metadata": {},
   "outputs": [],
   "source": [
    "# initialization cell\n",
    "\n",
    "%matplotlib inline\n",
    "import matplotlib\n",
    "import matplotlib.pyplot as plt\n",
    "import numpy as np\n",
    "from classy_sz import Class\n",
    "from scipy.optimize import fsolve\n",
    "from scipy.interpolate import interp1d\n",
    "import math\n",
    "import time\n",
    "import os\n",
    "current_path = os.getcwd()\n",
    "path_to_files = current_path + '/../sz_auxiliary_files/'\n",
    "import matplotlib.patches as mpatches\n",
    "\n",
    "font = {'size'   : 16, 'family':'STIXGeneral'}\n",
    "axislabelfontsize='large'\n",
    "matplotlib.rc('font', **font)\n",
    "matplotlib.mathtext.rcParams['legend.fontsize']='medium'\n",
    "plt.rcParams[\"figure.figsize\"] = [8.0,6.0]\n",
    "plt.rcParams.update({\n",
    "    \"text.usetex\": True,\n",
    "    \"font.family\": \"sans-serif\",\n",
    "    \"font.sans-serif\": [\"Helvetica\"]})\n",
    "\n",
    "arcmin_to_radians = np.pi/(60.*180.)"
   ]
  },
  {
   "cell_type": "code",
   "execution_count": null,
   "id": "c1097f2b",
   "metadata": {},
   "outputs": [],
   "source": []
  },
  {
   "cell_type": "code",
   "execution_count": null,
   "id": "bc110280",
   "metadata": {},
   "outputs": [],
   "source": []
  },
  {
   "cell_type": "code",
   "execution_count": null,
   "id": "a78796ad",
   "metadata": {},
   "outputs": [],
   "source": []
  },
  {
   "cell_type": "code",
   "execution_count": 2,
   "id": "9a940c17",
   "metadata": {},
   "outputs": [],
   "source": [
    "# the parameters needed for the ksz calculations:\n",
    "ksz_params = {\n",
    "#fiducial ksz params\n",
    "\n",
    "'k_min_for_pk_class_sz' : 0.001,\n",
    "'k_max_for_pk_class_sz' : 60.0,\n",
    "'k_per_decade_class_sz' : 50,\n",
    "'P_k_max_h/Mpc' : 100.0,\n",
    "# 'non linear' : 'halofit',\n",
    "\n",
    "\n",
    "# 'sz_verbose' : 0, # for full output when not using python wrapper set to >100, this doesnt work with python wrapper\n",
    "\n",
    "'nfw_profile_epsabs' : 1e-33,\n",
    "'nfw_profile_epsrel' : 0.001,\n",
    "\n",
    "\n",
    "\n",
    "# 'nonlinear_verbose' : 0,\n",
    "'ndim_masses' : 80,\n",
    "'ndim_redshifts' : 80,\n",
    "#'l_max_scalars' : 5000,\n",
    "\n",
    "\n",
    "\n",
    "'n_ell_density_profile' : 50,\n",
    "'n_m_density_profile' : 50,\n",
    "'n_z_density_profile' : 50,\n",
    "'k_per_decade_for_pk' : 50,\n",
    "'z_max_pk' : 4.0,\n",
    "    \n",
    "\n",
    "# slow:\n",
    "# 'n_z_psi_b1g' : 100,\n",
    "# 'n_l_psi_b1g' : 400,\n",
    "\n",
    "# 'n_z_psi_b2g' : 100,\n",
    "# 'n_l_psi_b2g' : 400,\n",
    "\n",
    "# 'n_z_psi_b2t' : 100,\n",
    "# 'n_l_psi_b2t' : 400,\n",
    "\n",
    "# 'n_z_psi_b1t' : 100,\n",
    "# 'n_l_psi_b1t' : 100,\n",
    "\n",
    "# 'n_z_psi_b1gt' : 100,\n",
    "# 'n_l_psi_b1gt' : 100,\n",
    "    \n",
    "    \n",
    "# fast:\n",
    "'n_z_psi_b1g' : 50,\n",
    "'n_l_psi_b1g' : 50,\n",
    "\n",
    "'n_z_psi_b2g' : 50,\n",
    "'n_l_psi_b2g' : 50,\n",
    "\n",
    "'n_z_psi_b2t' : 50,\n",
    "'n_l_psi_b2t' : 50,\n",
    "\n",
    "'n_z_psi_b1t' : 50,\n",
    "'n_l_psi_b1t' : 50,\n",
    "\n",
    "'n_z_psi_b1gt' : 50,\n",
    "'n_l_psi_b1gt' : 50,\n",
    "\n",
    "'N_samp_fftw' : 800, # fast: 800 ;  slow: 2000\n",
    "'l_min_samp_fftw' : 1e-9,\n",
    "'l_max_samp_fftw' : 1e9,\n",
    "    \n",
    "'N_kSZ2_gal_multipole_grid' :  70,\n",
    "'N_kSZ2_gal_theta_grid' :  70,\n",
    "'ell_min_kSZ2_gal_multipole_grid' : 2.,\n",
    "'ell_max_kSZ2_gal_multipole_grid' : 2e5,\n",
    "}\n",
    "\n",
    "# the parameters needed for cosmology:\n",
    "\n",
    "cosmo_params = {\n",
    "'omega_b': 0.02242,\n",
    "'omega_cdm':  0.11933,\n",
    "'h': 0.6766,\n",
    "'tau_reio': 0.0561,\n",
    "'ln10^{10}A_s': 3.047,\n",
    "'n_s': 0.9665,\n",
    "\n",
    "'k_pivot': 0.05,\n",
    "'N_ncdm': 1,\n",
    "'N_ur': 2.0328,\n",
    "'m_ncdm': 0.06    \n",
    "\n",
    "}\n",
    "\n",
    "# the common parameters:\n",
    "\n",
    "common_params = {\n",
    "\n",
    "'z_min' : 0.005,\n",
    "'z_max' : 4.0,\n",
    "'M_min' : 7.0e8, \n",
    "'M_max' : 3.5e15,\n",
    "    \n",
    "\n",
    "'delta for galaxies' : \"200c\",\n",
    "'delta for matter density' : \"200c\",\n",
    "'mass function' : 'T08M200c',\n",
    "'concentration parameter' : 'B13',\n",
    "\n",
    "'redshift_epsabs': 1.0e-40,\n",
    "'redshift_epsrel': 0.0005,\n",
    "'mass_epsabs': 1.0e-40,\n",
    "'mass_epsrel': 0.0005,\n",
    "\n",
    "\n",
    "'ell_max': 1600.0,\n",
    "'ell_min': 2.0,\n",
    "'dell': 10,\n",
    "\n",
    "'non linear' : 'halofit',\n",
    "'pk_nonlinear_for_vrms2' : 1,\n",
    "'hm_consistency' : 1,\n",
    "    \n",
    "'f_free' : 1.0,\n",
    "    \n",
    "\n",
    "# 'ndim_masses': 150,\n",
    "# 'ndim_redshifts': 150,\n",
    "\n",
    "# 'P_k_max_h/Mpc': 50.0,\n",
    "# 'k_min_for_pk_class_sz': 0.0001,\n",
    "# 'k_max_for_pk_class_sz': 10.0,\n",
    "# 'k_per_decade_class_sz': 20.0,\n",
    "}\n",
    "\n",
    "\n",
    "# HOD params for kSZ2-g\n",
    "\n",
    "bestfit_blue_hod_params = {\n",
    "'galaxy_sample': 'unwise',\n",
    "'galaxy_sample_id': \"blue\",\n",
    "'UNWISE_dndz_file' : \"/Users/boris/Work/CLASS-SZ/SO-SZ/class_sz/sz_auxiliary_files/UNWISE_galaxy_distributions/normalised_dndz_cosmos.txt\",\n",
    "   \n",
    "\n",
    "'sigma_log10M_HOD' : 0.69,\n",
    "'alpha_s_HOD' :  1.30,\n",
    "'M1_prime_HOD' : 5.03e12, # Msun/h\n",
    "'M_min_HOD' : 6.25e11, # Msun/h\n",
    "'cl_gal_gal_A_sn' : -0.26e-7, \n",
    "'x_out_truncated_nfw_profile_satellite_galaxies' : 1.09,\n",
    "\n",
    "\n",
    "'M0_HOD':0,  # Msun/h\n",
    "'M0 equal M_min (HOD)': 'no',\n",
    "'x_out_truncated_nfw_profile':1.0,    \n",
    "    \n",
    "}\n",
    "\n",
    "bestfit_green_hod_params = {\n",
    "'galaxy_sample': 'unwise',\n",
    "'galaxy_sample_id': \"green\",\n",
    "'UNWISE_dndz_file' : \"/Users/boris/Work/CLASS-SZ/SO-SZ/class_sz/sz_auxiliary_files/UNWISE_galaxy_distributions/normalised_dndz_cosmos.txt\",\n",
    "   \n",
    "\n",
    "'sigma_log10M_HOD' : 0.97,\n",
    "'alpha_s_HOD' :  1.30,\n",
    "'M1_prime_HOD' : 2.76e13, # Msun/h\n",
    "'M_min_HOD' : 1.34e13, # Msun/h\n",
    "'cl_gal_gal_A_sn' : 1.38e-7, \n",
    "'x_out_truncated_nfw_profile_satellite_galaxies' : 2.75,\n",
    "\n",
    "\n",
    "'M0_HOD':0,  # Msun/h\n",
    "'M0 equal M_min (HOD)': 'no',\n",
    "'x_out_truncated_nfw_profile':1.0,    \n",
    "    \n",
    "}\n"
   ]
  },
  {
   "cell_type": "markdown",
   "id": "a23a8a5f",
   "metadata": {},
   "source": [
    "FERRARO, HILL +, Planck kSZ2-g"
   ]
  },
  {
   "cell_type": "code",
   "execution_count": 3,
   "id": "dd059ff5",
   "metadata": {},
   "outputs": [
    {
     "data": {
      "text/plain": [
       "[<matplotlib.lines.Line2D at 0x7f99b87574f0>]"
      ]
     },
     "execution_count": 3,
     "metadata": {},
     "output_type": "execute_result"
    },
    {
     "data": {
      "image/png": "[encoded data removed]",
      "text/plain": [
       "<Figure size 576x432 with 1 Axes>"
      ]
     },
     "metadata": {
      "needs_background": "light"
     },
     "output_type": "display_data"
    }
   ],
   "source": [
    "l_planck, F_planck = np.loadtxt('/Users/boris/Work/CLASS-SZ/SO-SZ/class_sz/sz_auxiliary_files/UNWISE_galaxy_distributions/unwise_filter_functions_l_fl.txt',unpack=True)\n",
    "plt.plot(l_planck,F_planck,label='ola planck',ls='--',c='b')"
   ]
  },
  {
   "cell_type": "markdown",
   "id": "64cc405d",
   "metadata": {},
   "source": [
    "use fsky = 0.7 see table II of https://arxiv.org/pdf/1605.02722.pdf <br>\n",
    "beam of 5 arcmin and noise of 47 uK as us in planck_nl.txt  <br>\n",
    "multipole range : 100 - 3000  <br>\n",
    "galaxy density:  50 million galaxies over half of the sky <br>\n",
    "means 50x10^6/2pi so Shot-noise = 1.2566370614359172e-07 <br>\n",
    "galaxy bias assumed constant to be bg = 1.13 ± 0.02 (see fig 7 of https://arxiv.org/pdf/1605.02722.pdf)"
   ]
  },
  {
   "cell_type": "markdown",
   "id": "47ef1df3",
   "metadata": {},
   "source": [
    "WISE redshift distribution:"
   ]
  },
  {
   "cell_type": "code",
   "execution_count": 4,
   "id": "c608c0d3",
   "metadata": {},
   "outputs": [
    {
     "data": {
      "text/plain": [
       "[<matplotlib.lines.Line2D at 0x7f9978150c10>]"
      ]
     },
     "execution_count": 4,
     "metadata": {},
     "output_type": "execute_result"
    },
    {
     "data": {
      "image/png": "[encoded data removed]",
      "text/plain": [
       "<Figure size 576x432 with 1 Axes>"
      ]
     },
     "metadata": {
      "needs_background": "light"
     },
     "output_type": "display_data"
    }
   ],
   "source": [
    "l_planck, F_planck = np.loadtxt('/Users/boris/Work/CLASS-SZ/SO-SZ/class_sz/sz_auxiliary_files/UNWISE_galaxy_distributions/wise.txt',unpack=True)\n",
    "plt.plot(l_planck,F_planck,label='wise dndz',ls='--',c='b')"
   ]
  },
  {
   "cell_type": "markdown",
   "id": "4ec726d6",
   "metadata": {},
   "source": [
    "kSZ2-wise templates"
   ]
  },
  {
   "cell_type": "code",
   "execution_count": 5,
   "id": "5d0db329",
   "metadata": {},
   "outputs": [
    {
     "data": {
      "text/plain": [
       "<matplotlib.legend.Legend at 0x7f9998ff6eb0>"
      ]
     },
     "execution_count": 5,
     "metadata": {},
     "output_type": "execute_result"
    },
    {
     "data": {
      "image/png": "[encoded data removed]",
      "text/plain": [
       "<Figure size 576x432 with 1 Axes>"
      ]
     },
     "metadata": {
      "needs_background": "light"
     },
     "output_type": "display_data"
    }
   ],
   "source": [
    "F = np.loadtxt('/Users/boris/Work/CLASS-SZ/SO-SZ/class_sz/sz_auxiliary_files/UNWISE_galaxy_distributions/ksz2g_wise_simone16template.txt')\n",
    "ls = F[0,:]\n",
    "cls_planck = F[1,:]\n",
    "cls_advact = F[2,:]\n",
    "cls_s4 = F[3,:]\n",
    "plt.plot(ls,cls_planck,label='planck',ls='--',c='b',marker='o')\n",
    "plt.plot(ls,cls_advact,label='act',ls='--',c='r',marker='o')\n",
    "plt.plot(ls,cls_s4,label='s4',ls='--',c='g',marker='o')\n",
    "plt.legend()"
   ]
  },
  {
   "cell_type": "code",
   "execution_count": 6,
   "id": "b63ae3d9",
   "metadata": {},
   "outputs": [
    {
     "name": "stdout",
     "output_type": "stream",
     "text": [
      "computed in 79.5516 seconds\n"
     ]
    }
   ],
   "source": [
    "M = Class()\n",
    "M.set(ksz_params)\n",
    "M.set(common_params)\n",
    "M.set(cosmo_params)\n",
    "# M.set(bestfit_green_hod_params)\n",
    "\n",
    "\n",
    "M.set(\n",
    "    {\n",
    "'output':'gal_gal_hf,kSZ_kSZ_gal_hf,kSZ_kSZ_gal_covmat',\n",
    "'full_path_to_dndz_gal':'/Users/boris/Work/CLASS-SZ/SO-SZ/class_sz/sz_auxiliary_files/UNWISE_galaxy_distributions/wise.txt',\n",
    "\n",
    "'ksz_filter_file' : '/Users/boris/Work/CLASS-SZ/SO-SZ/class_sz/sz_auxiliary_files/UNWISE_galaxy_distributions/unwise_filter_functions_l_fl.txt',\n",
    "'full_path_to_noise_curve_for_t_t': '/Users/boris/Work/CLASS-SZ/SO-SZ/class_sz/sz_auxiliary_files/noise_curves/planck_nl.txt',\n",
    "\n",
    "        \n",
    "'pk_nonlinear_for_vrms2' : 0,        \n",
    "\n",
    "'dlogell' : 0.,\n",
    "'dell': 564.,\n",
    "'ell_max' : 3000.0,\n",
    "'ell_min' : 100.0,\n",
    "'f_sky':0.7, \n",
    "\n",
    "'effective_galaxy_bias': 1.13,\n",
    "'cl_gal_gal_A_sn' : 1.2566370614359172e-07, \n",
    "    \n",
    "'use_bg_at_z_in_ksz2g_eff' : 0,\n",
    "'use_bg_eff_in_ksz2g_eff' : 1,\n",
    "'use_fdndz_for_ksz2g_eff':0,\n",
    "      })\n",
    "\n",
    "ti = time.perf_counter()\n",
    "M.compute()\n",
    "tf = time.perf_counter()\n",
    "print(f\"computed in {tf - ti:0.4f} seconds\")"
   ]
  },
  {
   "cell_type": "code",
   "execution_count": 7,
   "id": "bf607283",
   "metadata": {
    "scrolled": false
   },
   "outputs": [
    {
     "data": {
      "text/plain": [
       "[<matplotlib.lines.Line2D at 0x7f99782964f0>]"
      ]
     },
     "execution_count": 7,
     "metadata": {},
     "output_type": "execute_result"
    },
    {
     "data": {
      "image/png": "[encoded data removed]",
      "text/plain": [
       "<Figure size 576x432 with 1 Axes>"
      ]
     },
     "metadata": {
      "needs_background": "light"
     },
     "output_type": "display_data"
    }
   ],
   "source": [
    "plt.plot(M.cl_gg()['ell'],M.cl_gg()['hf'],marker='o')"
   ]
  },
  {
   "cell_type": "code",
   "execution_count": 8,
   "id": "ff4fe966",
   "metadata": {},
   "outputs": [
    {
     "name": "stdout",
     "output_type": "stream",
     "text": [
      "1.9255536674038012\n",
      "3.8511073348076024\n"
     ]
    }
   ],
   "source": [
    "cl_kSZ_kSZ_g_planck = M.cl_kSZ_kSZ_g()\n",
    "\n",
    "cl_kSZ_kSZ_g = cl_kSZ_kSZ_g_planck.copy()\n",
    "cl_tot = np.asarray(np.asarray(cl_kSZ_kSZ_g['hf']))\n",
    "cl_lensing = 0.*np.asarray(cl_kSZ_kSZ_g['lensing term'])\n",
    "covll = np.asarray(cl_kSZ_kSZ_g['covmat'])\n",
    "\n",
    "fac_plc = (2.726e6)**2*np.asarray(cl_kSZ_kSZ_g_planck['ell'])*(np.asarray(cl_kSZ_kSZ_g_planck['ell'])+1.)/2./np.pi\n",
    "l_max_plc= 3000\n",
    "l = np.asarray(cl_kSZ_kSZ_g['ell'])\n",
    "cl_hf = np.asarray(cl_kSZ_kSZ_g['hf'])\n",
    "snrl = cl_tot**2/covll\n",
    "                   \n",
    "snrl = np.sqrt(np.sum(snrl[l<l_max_plc]))\n",
    "print(snrl)\n",
    "print(2.*snrl)"
   ]
  },
  {
   "cell_type": "code",
   "execution_count": 9,
   "id": "19a0f4c3",
   "metadata": {},
   "outputs": [
    {
     "data": {
      "text/plain": [
       "(0.0, 3000.0)"
      ]
     },
     "execution_count": 9,
     "metadata": {},
     "output_type": "execute_result"
    },
    {
     "data": {
      "image/png": "[encoded data removed]",
      "text/plain": [
       "<Figure size 648x360 with 1 Axes>"
      ]
     },
     "metadata": {
      "needs_background": "light"
     },
     "output_type": "display_data"
    }
   ],
   "source": [
    "label_size = 17\n",
    "title_size = 22\n",
    "legend_size = 13\n",
    "handle_length = 1.5\n",
    "fig, (ax1) = plt.subplots(1,1,figsize=(9,5),sharey=True)\n",
    "\n",
    "ax=ax1\n",
    "\n",
    "ax.errorbar(l,fac_plc*cl_tot,yerr=fac_plc*np.sqrt(covll),label='class\\_sz effective approach')\n",
    "ax.plot(ls,1.13*cls_planck,label='simo template',ls='--',c='b',marker='o')\n",
    "# ax.plot(l,fac_plc*cl_lensing)\n",
    "ax.legend(loc=2)\n",
    "ax.set_xlim(0.,3000)\n"
   ]
  },
  {
   "cell_type": "code",
   "execution_count": 28,
   "id": "54ca1f2f",
   "metadata": {},
   "outputs": [
    {
     "data": {
      "text/plain": [
       "0.15745030410017352"
      ]
     },
     "execution_count": 28,
     "metadata": {},
     "output_type": "execute_result"
    }
   ],
   "source": [
    "# Ferraro + : 0.155 see https://arxiv.org/pdf/1605.02722.pdf\n",
    "M.get_f_b()\n"
   ]
  },
  {
   "cell_type": "code",
   "execution_count": 29,
   "id": "ad6c3058",
   "metadata": {},
   "outputs": [
    {
     "data": {
      "text/plain": [
       "1.0"
      ]
     },
     "execution_count": 29,
     "metadata": {},
     "output_type": "execute_result"
    }
   ],
   "source": [
    "M.get_f_free()"
   ]
  },
  {
   "cell_type": "markdown",
   "id": "c33e5ff3",
   "metadata": {},
   "source": [
    "FERRARO, HILL +, AdvACT kSZ2-g"
   ]
  },
  {
   "cell_type": "code",
   "execution_count": 10,
   "id": "09d55b26",
   "metadata": {},
   "outputs": [
    {
     "data": {
      "text/plain": [
       "[<matplotlib.lines.Line2D at 0x7f999fb76f70>]"
      ]
     },
     "execution_count": 10,
     "metadata": {},
     "output_type": "execute_result"
    },
    {
     "data": {
      "image/png": "[encoded data removed]",
      "text/plain": [
       "<Figure size 576x432 with 1 Axes>"
      ]
     },
     "metadata": {
      "needs_background": "light"
     },
     "output_type": "display_data"
    }
   ],
   "source": [
    "l_planck, F_planck = np.loadtxt('/Users/boris/Work/CLASS-SZ/SO-SZ/class_sz/sz_auxiliary_files/UNWISE_galaxy_distributions/AdvACT_kSZfilt_ellmax8000_smoothed_tapered_nosqrt_w1p5arcminbeam.txt',unpack=True)\n",
    "plt.plot(l_planck,F_planck,label='colin advact',ls='--',c='b')"
   ]
  },
  {
   "cell_type": "markdown",
   "id": "7e42dfdc",
   "metadata": {},
   "source": [
    "use fsky = 0.5 see table II of https://arxiv.org/pdf/1605.02722.pdf <br>\n",
    "beam of 1.4 arcmin and noise of 10 uK see Table I of  https://arxiv.org/pdf/1605.02722.pdf <br>\n",
    "multipole range : 100 - 3000  <br>\n",
    "galaxy density:  50 million galaxies over half of the sky <br>\n",
    "means 50x10^6/2pi so Shot-noise = 1.2566370614359172e-07 <br>\n",
    "galaxy bias assumed constant to be bg = 1.13 ± 0.02 (see fig 7 of https://arxiv.org/pdf/1605.02722.pdf)"
   ]
  },
  {
   "cell_type": "markdown",
   "id": "8854e768",
   "metadata": {},
   "source": [
    "WISE redshift distribution:"
   ]
  },
  {
   "cell_type": "code",
   "execution_count": 11,
   "id": "8172651c",
   "metadata": {},
   "outputs": [
    {
     "data": {
      "text/plain": [
       "[<matplotlib.lines.Line2D at 0x7f999fb2ec70>]"
      ]
     },
     "execution_count": 11,
     "metadata": {},
     "output_type": "execute_result"
    },
    {
     "data": {
      "image/png": "[encoded data removed]",
      "text/plain": [
       "<Figure size 576x432 with 1 Axes>"
      ]
     },
     "metadata": {
      "needs_background": "light"
     },
     "output_type": "display_data"
    }
   ],
   "source": [
    "l_planck, F_planck = np.loadtxt('/Users/boris/Work/CLASS-SZ/SO-SZ/class_sz/sz_auxiliary_files/UNWISE_galaxy_distributions/wise.txt',unpack=True)\n",
    "plt.plot(l_planck,F_planck,label='wise dndz',ls='--',c='b')"
   ]
  },
  {
   "cell_type": "markdown",
   "id": "9dd90a7a",
   "metadata": {},
   "source": [
    "kSZ2-wise templates"
   ]
  },
  {
   "cell_type": "code",
   "execution_count": 12,
   "id": "283e0cce",
   "metadata": {},
   "outputs": [
    {
     "data": {
      "text/plain": [
       "<matplotlib.legend.Legend at 0x7f999fbb8eb0>"
      ]
     },
     "execution_count": 12,
     "metadata": {},
     "output_type": "execute_result"
    },
    {
     "data": {
      "image/png": "[encoded data removed]",
      "text/plain": [
       "<Figure size 576x432 with 1 Axes>"
      ]
     },
     "metadata": {
      "needs_background": "light"
     },
     "output_type": "display_data"
    }
   ],
   "source": [
    "F = np.loadtxt('/Users/boris/Work/CLASS-SZ/SO-SZ/class_sz/sz_auxiliary_files/UNWISE_galaxy_distributions/ksz2g_wise_simone16template.txt')\n",
    "ls = F[0,:]\n",
    "cls_planck = F[1,:]\n",
    "cls_advact = F[2,:]\n",
    "cls_s4 = F[3,:]\n",
    "plt.plot(ls,cls_planck,label='planck',ls='--',c='b',marker='o')\n",
    "plt.plot(ls,cls_advact,label='act',ls='--',c='r',marker='o')\n",
    "plt.plot(ls,cls_s4,label='s4',ls='--',c='g',marker='o')\n",
    "plt.legend()"
   ]
  },
  {
   "cell_type": "code",
   "execution_count": 13,
   "id": "d0ee60fe",
   "metadata": {},
   "outputs": [
    {
     "name": "stdout",
     "output_type": "stream",
     "text": [
      "computed in 123.0413 seconds\n"
     ]
    }
   ],
   "source": [
    "M = Class()\n",
    "M.set(ksz_params)\n",
    "M.set(common_params)\n",
    "M.set(cosmo_params)\n",
    "# M.set(bestfit_green_hod_params)\n",
    "\n",
    "\n",
    "M.set(\n",
    "    {\n",
    "'output':'gal_gal_hf,kSZ_kSZ_gal_hf,kSZ_kSZ_gal_covmat',\n",
    "'full_path_to_dndz_gal':'/Users/boris/Work/CLASS-SZ/SO-SZ/class_sz/sz_auxiliary_files/UNWISE_galaxy_distributions/wise.txt',\n",
    "\n",
    "'ksz_filter_file' : '/Users/boris/Work/CLASS-SZ/SO-SZ/class_sz/sz_auxiliary_files/UNWISE_galaxy_distributions/AdvACT_kSZfilt_ellmax8000_smoothed_tapered_nosqrt_w1p5arcminbeam.txt',\n",
    "'full_path_to_noise_curve_for_t_t': '/Users/boris/Work/CLASS-SZ/SO-SZ/class_sz/sz_auxiliary_files/noise_curves/advact_nl_10uk_1p4arcmin.txt',\n",
    "\n",
    "        \n",
    "'pk_nonlinear_for_vrms2' : 0,        \n",
    "\n",
    "'dlogell' : 0.,\n",
    "'dell': 564.,\n",
    "'ell_max' : 8000.0,\n",
    "'ell_min' : 100.0,\n",
    "'f_sky':0.5, \n",
    "\n",
    "'effective_galaxy_bias': 1.13,\n",
    "'cl_gal_gal_A_sn' : 1.2566370614359172e-07, \n",
    "    \n",
    "'use_bg_at_z_in_ksz2g_eff' : 0,\n",
    "'use_bg_eff_in_ksz2g_eff' : 1,\n",
    "'use_fdndz_for_ksz2g_eff':0,\n",
    "      })\n",
    "\n",
    "ti = time.perf_counter()\n",
    "M.compute()\n",
    "tf = time.perf_counter()\n",
    "print(f\"computed in {tf - ti:0.4f} seconds\")"
   ]
  },
  {
   "cell_type": "code",
   "execution_count": null,
   "id": "0acb99cb",
   "metadata": {},
   "outputs": [],
   "source": []
  },
  {
   "cell_type": "code",
   "execution_count": 14,
   "id": "4d560483",
   "metadata": {
    "scrolled": false
   },
   "outputs": [
    {
     "data": {
      "text/plain": [
       "[<matplotlib.lines.Line2D at 0x7f99a8ac24f0>]"
      ]
     },
     "execution_count": 14,
     "metadata": {},
     "output_type": "execute_result"
    },
    {
     "data": {
      "image/png": "[encoded data removed]",
      "text/plain": [
       "<Figure size 576x432 with 1 Axes>"
      ]
     },
     "metadata": {
      "needs_background": "light"
     },
     "output_type": "display_data"
    }
   ],
   "source": [
    "plt.plot(M.cl_gg()['ell'],M.cl_gg()['hf'],marker='o')"
   ]
  },
  {
   "cell_type": "code",
   "execution_count": 15,
   "id": "3b5bf6e8",
   "metadata": {},
   "outputs": [
    {
     "name": "stdout",
     "output_type": "stream",
     "text": [
      "69.66368300235004\n",
      "139.32736600470008\n"
     ]
    }
   ],
   "source": [
    "cl_kSZ_kSZ_g_planck = M.cl_kSZ_kSZ_g()\n",
    "\n",
    "cl_kSZ_kSZ_g = cl_kSZ_kSZ_g_planck.copy()\n",
    "cl_tot = np.asarray(np.asarray(cl_kSZ_kSZ_g['hf']))\n",
    "cl_lensing = 0.*np.asarray(cl_kSZ_kSZ_g['lensing term'])\n",
    "covll = np.asarray(cl_kSZ_kSZ_g['covmat'])\n",
    "\n",
    "fac_plc = (2.726e6)**2*np.asarray(cl_kSZ_kSZ_g_planck['ell'])*(np.asarray(cl_kSZ_kSZ_g_planck['ell'])+1.)/2./np.pi\n",
    "l_max_plc= 3000\n",
    "l = np.asarray(cl_kSZ_kSZ_g['ell'])\n",
    "cl_hf = np.asarray(cl_kSZ_kSZ_g['hf'])\n",
    "snrl = cl_tot**2/covll\n",
    "                   \n",
    "snrl = np.sqrt(np.sum(snrl[l<l_max_plc]))\n",
    "print(snrl)\n",
    "print(2.*snrl)"
   ]
  },
  {
   "cell_type": "code",
   "execution_count": 16,
   "id": "5c579aa0",
   "metadata": {},
   "outputs": [
    {
     "data": {
      "text/plain": [
       "(0.0, 9000.0)"
      ]
     },
     "execution_count": 16,
     "metadata": {},
     "output_type": "execute_result"
    },
    {
     "data": {
      "image/png": "[encoded data removed]",
      "text/plain": [
       "<Figure size 648x360 with 1 Axes>"
      ]
     },
     "metadata": {
      "needs_background": "light"
     },
     "output_type": "display_data"
    }
   ],
   "source": [
    "label_size = 17\n",
    "title_size = 22\n",
    "legend_size = 13\n",
    "handle_length = 1.5\n",
    "fig, (ax1) = plt.subplots(1,1,figsize=(9,5),sharey=True)\n",
    "\n",
    "ax=ax1\n",
    "\n",
    "ax.errorbar(l,fac_plc*cl_tot,yerr=fac_plc*np.sqrt(covll),label='class\\_sz effective approach')\n",
    "ax.plot(ls,1.13*cls_advact,label='simo template',ls='--',c='b',marker='o')\n",
    "# ax.plot(l,fac_plc*cl_lensing)\n",
    "ax.legend(loc=2)\n",
    "ax.set_xlim(0.,9000)\n"
   ]
  },
  {
   "cell_type": "code",
   "execution_count": 28,
   "id": "dde348bb",
   "metadata": {},
   "outputs": [
    {
     "data": {
      "text/plain": [
       "0.15745030410017352"
      ]
     },
     "execution_count": 28,
     "metadata": {},
     "output_type": "execute_result"
    }
   ],
   "source": [
    "# Ferraro + : 0.155 see https://arxiv.org/pdf/1605.02722.pdf\n",
    "M.get_f_b()\n"
   ]
  },
  {
   "cell_type": "code",
   "execution_count": 29,
   "id": "44cab63c",
   "metadata": {},
   "outputs": [
    {
     "data": {
      "text/plain": [
       "1.0"
      ]
     },
     "execution_count": 29,
     "metadata": {},
     "output_type": "execute_result"
    }
   ],
   "source": [
    "M.get_f_free()"
   ]
  },
  {
   "cell_type": "markdown",
   "id": "417997db",
   "metadata": {},
   "source": [
    "Planck kSZ2-g"
   ]
  },
  {
   "cell_type": "code",
   "execution_count": 3,
   "id": "db11efd3",
   "metadata": {},
   "outputs": [
    {
     "name": "stdout",
     "output_type": "stream",
     "text": [
      "computed in 141.7266 seconds\n"
     ]
    }
   ],
   "source": [
    "M = Class()\n",
    "M.set(ksz_params)\n",
    "M.set(common_params)\n",
    "M.set(cosmo_params)\n",
    "M.set(bestfit_green_hod_params)\n",
    "\n",
    "\n",
    "M.set(\n",
    "    {\n",
    "'output':'gal_gal_1h,gal_gal_2h,gal_lensmag_1h,gal_lensmag_2h, lensmag_lensmag_1h, lensmag_lensmag_2h,kSZ_kSZ_gal_hf,kSZ_kSZ_gal fft (1h),kSZ_kSZ_gal fft (2h),kSZ_kSZ_gal fft (3h),kSZ_kSZ_gal_covmat,kSZ_kSZ_gal_lensing_term',\n",
    "\n",
    "'ksz_filter_file' : '/Users/boris/Work/CLASS-SZ/SO-SZ/class_sz/sz_auxiliary_files/UNWISE_galaxy_distributions/planck_filter_in_num_filter_functions_l_fl_190122.txt',\n",
    "'full_path_to_noise_curve_for_t_t': '/Users/boris/Work/CLASS-SZ/SO-SZ/class_sz/sz_auxiliary_files/noise_curves/planck_nl.txt',\n",
    "\n",
    "'dlogell' : 0.,\n",
    "'dell': 200.,\n",
    "'ell_max' : 2800.0,\n",
    "'ell_min' : 400.0,\n",
    "'f_sky':0.6, \n",
    "'gas profile' : 'nfw',\n",
    "'gas profile mode' : 'agn',\n",
    "'normalize_gas_density_profile': 1,\n",
    "'use_bg_at_z_in_ksz2g_eff' : 0,\n",
    "'use_fdndz_for_ksz2g_eff':0,\n",
    "      })\n",
    "\n",
    "ti = time.perf_counter()\n",
    "M.compute()\n",
    "tf = time.perf_counter()\n",
    "print(f\"computed in {tf - ti:0.4f} seconds\")"
   ]
  },
  {
   "cell_type": "code",
   "execution_count": 7,
   "id": "7f31aca4",
   "metadata": {},
   "outputs": [
    {
     "name": "stdout",
     "output_type": "stream",
     "text": [
      "1.0362823248392565\n"
     ]
    }
   ],
   "source": [
    "cl_kSZ_kSZ_g_planck = M.cl_kSZ_kSZ_g()\n",
    "\n",
    "cl_kSZ_kSZ_g = cl_kSZ_kSZ_g_planck.copy()\n",
    "cl_tot = np.asarray(cl_kSZ_kSZ_g['1h'])+np.asarray(cl_kSZ_kSZ_g['2h'])+np.asarray(cl_kSZ_kSZ_g['3h'])\n",
    "cl_lensing = np.asarray(cl_kSZ_kSZ_g['lensing term'])\n",
    "covll = np.asarray(cl_kSZ_kSZ_g['covmat'])\n",
    "\n",
    "fac_plc = (2.726e6)**2*np.asarray(cl_kSZ_kSZ_g_planck['ell'])*(np.asarray(cl_kSZ_kSZ_g_planck['ell'])+1.)/2./np.pi\n",
    "l_max_plc= 3000\n",
    "l = np.asarray(cl_kSZ_kSZ_g['ell'])\n",
    "cl_hf = np.asarray(cl_kSZ_kSZ_g['hf'])\n",
    "snrl = cl_tot**2/covll\n",
    "                   \n",
    "snrl = np.sqrt(np.sum(snrl[l<l_max_plc]))\n",
    "print(snrl)"
   ]
  },
  {
   "cell_type": "code",
   "execution_count": 11,
   "id": "5d51b0a7",
   "metadata": {},
   "outputs": [
    {
     "data": {
      "text/plain": [
       "[<matplotlib.lines.Line2D at 0x7fc2b1fd6250>]"
      ]
     },
     "execution_count": 11,
     "metadata": {},
     "output_type": "execute_result"
    },
    {
     "data": {
      "image/png": "[encoded data removed]",
      "text/plain": [
       "<Figure size 648x360 with 1 Axes>"
      ]
     },
     "metadata": {
      "needs_background": "light"
     },
     "output_type": "display_data"
    }
   ],
   "source": [
    "label_size = 17\n",
    "title_size = 22\n",
    "legend_size = 13\n",
    "handle_length = 1.5\n",
    "fig, (ax1) = plt.subplots(1,1,figsize=(9,5),sharey=True)\n",
    "\n",
    "ax=ax1\n",
    "\n",
    "ax.errorbar(l,fac_plc*cl_tot,yerr=fac_plc*np.sqrt(covll))\n",
    "ax.plot(l,fac_plc*cl_lensing)"
   ]
  },
  {
   "cell_type": "code",
   "execution_count": 54,
   "id": "e1b241d8",
   "metadata": {},
   "outputs": [],
   "source": [
    "cl_kSZ_kSZ_g_fiducial = cl_kSZ_kSZ_g_planck.copy()\n",
    "ell_array = np.asarray(cl_kSZ_kSZ_g_fiducial['ell'])\n",
    "\n",
    "# fac_cov = 1e0\n",
    "covmat_data = np.diag(covll)\n",
    "\n",
    "inv_covmat_data = np.linalg.inv(covmat_data)\n",
    "det_covmat_data = np.linalg.det(covmat_data)\n",
    "\n",
    "fac_cl_to_dl = (2.726e6)**2*np.asarray(cl_kSZ_kSZ_g_fiducial['ell'])*(np.asarray(cl_kSZ_kSZ_g_fiducial['ell'])+1.)/2./np.pi\n",
    "\n",
    "cl_ksz_tot = np.asarray(cl_kSZ_kSZ_g_fiducial['1h'])+np.asarray(cl_kSZ_kSZ_g_fiducial['2h'])+np.asarray(cl_kSZ_kSZ_g_fiducial['3h'])\n",
    "cl_lens = np.asarray(cl_kSZ_kSZ_g['lensing term'])\n"
   ]
  },
  {
   "cell_type": "code",
   "execution_count": null,
   "id": "afc71a7a",
   "metadata": {},
   "outputs": [],
   "source": []
  },
  {
   "cell_type": "code",
   "execution_count": 55,
   "id": "d53032a2",
   "metadata": {},
   "outputs": [
    {
     "name": "stdout",
     "output_type": "stream",
     "text": [
      "computed in 0.0000 seconds\n",
      "computed in 0.0000 seconds\n"
     ]
    }
   ],
   "source": [
    "dcl_kSZ_kSZ_g_tot = []\n",
    "dl_kSZ_kSZ_g_tot_plus = []\n",
    "dl_kSZ_kSZ_g_tot_minus = []\n",
    "\n",
    "delta_p_over_p = 1e-7\n",
    "param_list = ['A_ksz','A_lens']\n",
    "param_fiducial_values = [1.,1.]\n",
    "comps_list = [cl_ksz_tot,cl_lens]\n",
    "\n",
    "\n",
    "cl_ksz_obs = param_fiducial_values[0]*cl_ksz_tot + param_fiducial_values[1]*cl_lens\n",
    "\n",
    "for i in range(len(param_list)):\n",
    "    ti = time.perf_counter()\n",
    "    \n",
    "    cl_kSZ_kSZ_g_tot_plus = cl_ksz_obs + delta_p_over_p*param_fiducial_values[i]*comps_list[i]\n",
    "    dl_kSZ_kSZ_g_tot_plus.append(fac_cl_to_dl*cl_kSZ_kSZ_g_tot_plus)\n",
    "    \n",
    "    cl_kSZ_kSZ_g_tot_minus = cl_ksz_obs - delta_p_over_p*param_fiducial_values[i]*comps_list[i]\n",
    "    dl_kSZ_kSZ_g_tot_minus.append(fac_cl_to_dl*cl_kSZ_kSZ_g_tot_minus)\n",
    "    \n",
    "    \n",
    "\n",
    "    dcl_kSZ_kSZ_g_tot.append((cl_kSZ_kSZ_g_tot_plus-cl_kSZ_kSZ_g_tot_minus)/2./param_fiducial_values[i]/delta_p_over_p)\n",
    "    tf = time.perf_counter()\n",
    "    print(f\"computed in {tf - ti:0.4f} seconds\")"
   ]
  },
  {
   "cell_type": "code",
   "execution_count": 57,
   "id": "3a326a08",
   "metadata": {},
   "outputs": [
    {
     "name": "stdout",
     "output_type": "stream",
     "text": [
      "[0.97899605 0.0513717 ]\n"
     ]
    }
   ],
   "source": [
    "#theory parameters\n",
    "M_parameters = len(param_list)\n",
    "\n",
    "\n",
    "\n",
    "\n",
    "dmu_parameters = []\n",
    "for m in range(M_parameters):\n",
    "    dmu_parameters.append(np.asarray(dcl_kSZ_kSZ_g_tot[m]))#/np.sqrt(fac_cov))\n",
    "\n",
    "\n",
    "fisher_F = np.zeros((M_parameters,M_parameters))\n",
    "for a in range(M_parameters):\n",
    "    for b in range(M_parameters):\n",
    "        fisher_M_ab = np.outer(dmu_parameters[a],dmu_parameters[b]) + np.outer(dmu_parameters[b],dmu_parameters[a])\n",
    "        fisher_F[a][b]=0.5*np.trace(np.matmul(inv_covmat_data,fisher_M_ab))\n",
    "\n",
    "inverse_fisher_F = np.linalg.inv(fisher_F)\n",
    "fisher_sigmas = []\n",
    "for m in range(M_parameters):\n",
    "    fisher_sigmas.append(np.sqrt(inverse_fisher_F[m][m]))\n",
    "fisher_sigmas = np.asarray(fisher_sigmas)\n",
    "print(fisher_sigmas) "
   ]
  },
  {
   "cell_type": "code",
   "execution_count": 85,
   "id": "4700bd87",
   "metadata": {},
   "outputs": [
    {
     "data": {
      "text/plain": [
       "1.0214545809454492"
      ]
     },
     "execution_count": 85,
     "metadata": {},
     "output_type": "execute_result"
    }
   ],
   "source": [
    "1/0.97899605"
   ]
  },
  {
   "cell_type": "markdown",
   "id": "57309044",
   "metadata": {},
   "source": [
    "advACT kSZ2-g"
   ]
  },
  {
   "cell_type": "code",
   "execution_count": 94,
   "id": "ef0858da",
   "metadata": {},
   "outputs": [
    {
     "name": "stdout",
     "output_type": "stream",
     "text": [
      "computed in 95.4821 seconds\n"
     ]
    }
   ],
   "source": [
    "M = Class()\n",
    "M.set(ksz_params)\n",
    "M.set(common_params)\n",
    "M.set(cosmo_params)\n",
    "M.set(bestfit_green_hod_params)\n",
    "\n",
    "\n",
    "M.set(\n",
    "    {\n",
    "'output':'gal_gal_1h,gal_gal_2h,gal_lensmag_1h,gal_lensmag_2h, lensmag_lensmag_1h, lensmag_lensmag_2h,kSZ_kSZ_gal fft (1h),kSZ_kSZ_gal fft (2h),kSZ_kSZ_gal fft (3h),kSZ_kSZ_gal_covmat,kSZ_kSZ_gal_lensing_term',\n",
    "\n",
    "'ksz_filter_file' : '/Users/boris/Work/CLASS-SZ/SO-SZ/class_sz/sz_auxiliary_files/UNWISE_galaxy_distributions/advact_filter_functions_l_fl_230222.txt',        \n",
    "'full_path_to_noise_curve_for_t_t': '/Users/boris/Work/CLASS-SZ/SO-SZ/class_sz/sz_auxiliary_files/noise_curves/adv_act_nl.txt',\n",
    "'dlogell' : 0.,\n",
    "'dell': 200.,\n",
    "'ell_max' : 7800.0,\n",
    "'ell_min' : 400.0,\n",
    "'f_sky':0.3, \n",
    "'gas profile' : 'nfw',\n",
    "'gas profile mode' : 'agn',\n",
    "'normalize_gas_density_profile': 1,\n",
    "'use_bg_at_z_in_ksz2g_eff' : 0,\n",
    "'use_fdndz_for_ksz2g_eff':0,\n",
    "      })\n",
    "\n",
    "ti = time.perf_counter()\n",
    "M.compute()\n",
    "tf = time.perf_counter()\n",
    "print(f\"computed in {tf - ti:0.4f} seconds\")"
   ]
  },
  {
   "cell_type": "code",
   "execution_count": 95,
   "id": "1870173e",
   "metadata": {},
   "outputs": [
    {
     "name": "stdout",
     "output_type": "stream",
     "text": [
      "22.37082133203438\n"
     ]
    }
   ],
   "source": [
    "cl_kSZ_kSZ_g_planck = M.cl_kSZ_kSZ_g()\n",
    "\n",
    "cl_kSZ_kSZ_g = cl_kSZ_kSZ_g_planck.copy()\n",
    "cl_tot = np.asarray(cl_kSZ_kSZ_g['1h'])+np.asarray(cl_kSZ_kSZ_g['2h'])+np.asarray(cl_kSZ_kSZ_g['3h'])\n",
    "cl_lensing = np.asarray(cl_kSZ_kSZ_g['lensing term'])\n",
    "covll = np.asarray(cl_kSZ_kSZ_g['covmat'])\n",
    "\n",
    "fac_plc = (2.726e6)**2*np.asarray(cl_kSZ_kSZ_g_planck['ell'])*(np.asarray(cl_kSZ_kSZ_g_planck['ell'])+1.)/2./np.pi\n",
    "l_max_plc= 10000\n",
    "l = np.asarray(cl_kSZ_kSZ_g['ell'])\n",
    "cl_hf = np.asarray(cl_kSZ_kSZ_g['hf'])\n",
    "snrl = cl_tot**2/covll\n",
    "                   \n",
    "snrl = np.sqrt(np.sum(snrl[l<l_max_plc]))\n",
    "print(snrl)"
   ]
  },
  {
   "cell_type": "code",
   "execution_count": 96,
   "id": "73c37502",
   "metadata": {},
   "outputs": [
    {
     "data": {
      "text/plain": [
       "[<matplotlib.lines.Line2D at 0x7fc2b1d9d190>]"
      ]
     },
     "execution_count": 96,
     "metadata": {},
     "output_type": "execute_result"
    },
    {
     "data": {
      "image/png": "[encoded data removed]",
      "text/plain": [
       "<Figure size 648x360 with 1 Axes>"
      ]
     },
     "metadata": {
      "needs_background": "light"
     },
     "output_type": "display_data"
    }
   ],
   "source": [
    "label_size = 17\n",
    "title_size = 22\n",
    "legend_size = 13\n",
    "handle_length = 1.5\n",
    "fig, (ax1) = plt.subplots(1,1,figsize=(9,5),sharey=True)\n",
    "\n",
    "ax=ax1\n",
    "\n",
    "ax.errorbar(l,fac_plc*cl_tot,yerr=fac_plc*np.sqrt(covll))\n",
    "ax.plot(l,fac_plc*cl_lensing)"
   ]
  },
  {
   "cell_type": "code",
   "execution_count": 97,
   "id": "90942fd0",
   "metadata": {},
   "outputs": [],
   "source": [
    "cl_kSZ_kSZ_g_fiducial = cl_kSZ_kSZ_g_planck.copy()\n",
    "ell_array = np.asarray(cl_kSZ_kSZ_g_fiducial['ell'])\n",
    "\n",
    "# fac_cov = 1e0\n",
    "covmat_data = np.diag(covll)\n",
    "\n",
    "inv_covmat_data = np.linalg.inv(covmat_data)\n",
    "det_covmat_data = np.linalg.det(covmat_data)\n",
    "\n",
    "fac_cl_to_dl = (2.726e6)**2*np.asarray(cl_kSZ_kSZ_g_fiducial['ell'])*(np.asarray(cl_kSZ_kSZ_g_fiducial['ell'])+1.)/2./np.pi\n",
    "\n",
    "cl_ksz_tot = np.asarray(cl_kSZ_kSZ_g_fiducial['1h'])+np.asarray(cl_kSZ_kSZ_g_fiducial['2h'])+np.asarray(cl_kSZ_kSZ_g_fiducial['3h'])\n",
    "cl_lens = np.asarray(cl_kSZ_kSZ_g['lensing term'])\n"
   ]
  },
  {
   "cell_type": "code",
   "execution_count": null,
   "id": "d6160e79",
   "metadata": {},
   "outputs": [],
   "source": []
  },
  {
   "cell_type": "code",
   "execution_count": 98,
   "id": "51367421",
   "metadata": {},
   "outputs": [
    {
     "name": "stdout",
     "output_type": "stream",
     "text": [
      "computed in 0.0000 seconds\n",
      "computed in 0.0000 seconds\n"
     ]
    }
   ],
   "source": [
    "dcl_kSZ_kSZ_g_tot = []\n",
    "dl_kSZ_kSZ_g_tot_plus = []\n",
    "dl_kSZ_kSZ_g_tot_minus = []\n",
    "\n",
    "delta_p_over_p = 1e-7\n",
    "param_list = ['A_ksz','A_lens']\n",
    "param_fiducial_values = [1.,1.]\n",
    "comps_list = [cl_ksz_tot,cl_lens]\n",
    "\n",
    "\n",
    "cl_ksz_obs = param_fiducial_values[0]*cl_ksz_tot + param_fiducial_values[1]*cl_lens\n",
    "\n",
    "for i in range(len(param_list)):\n",
    "    ti = time.perf_counter()\n",
    "    \n",
    "    cl_kSZ_kSZ_g_tot_plus = cl_ksz_obs + delta_p_over_p*param_fiducial_values[i]*comps_list[i]\n",
    "    dl_kSZ_kSZ_g_tot_plus.append(fac_cl_to_dl*cl_kSZ_kSZ_g_tot_plus)\n",
    "    \n",
    "    cl_kSZ_kSZ_g_tot_minus = cl_ksz_obs - delta_p_over_p*param_fiducial_values[i]*comps_list[i]\n",
    "    dl_kSZ_kSZ_g_tot_minus.append(fac_cl_to_dl*cl_kSZ_kSZ_g_tot_minus)\n",
    "    \n",
    "    \n",
    "\n",
    "    dcl_kSZ_kSZ_g_tot.append((cl_kSZ_kSZ_g_tot_plus-cl_kSZ_kSZ_g_tot_minus)/2./param_fiducial_values[i]/delta_p_over_p)\n",
    "    tf = time.perf_counter()\n",
    "    print(f\"computed in {tf - ti:0.4f} seconds\")"
   ]
  },
  {
   "cell_type": "code",
   "execution_count": 99,
   "id": "b620c7ed",
   "metadata": {},
   "outputs": [
    {
     "name": "stdout",
     "output_type": "stream",
     "text": [
      "[0.05017583 0.02136475]\n"
     ]
    }
   ],
   "source": [
    "#theory parameters\n",
    "M_parameters = len(param_list)\n",
    "\n",
    "\n",
    "\n",
    "\n",
    "dmu_parameters = []\n",
    "for m in range(M_parameters):\n",
    "    dmu_parameters.append(np.asarray(dcl_kSZ_kSZ_g_tot[m]))#/np.sqrt(fac_cov))\n",
    "\n",
    "\n",
    "fisher_F = np.zeros((M_parameters,M_parameters))\n",
    "for a in range(M_parameters):\n",
    "    for b in range(M_parameters):\n",
    "        fisher_M_ab = np.outer(dmu_parameters[a],dmu_parameters[b]) + np.outer(dmu_parameters[b],dmu_parameters[a])\n",
    "        fisher_F[a][b]=0.5*np.trace(np.matmul(inv_covmat_data,fisher_M_ab))\n",
    "\n",
    "inverse_fisher_F = np.linalg.inv(fisher_F)\n",
    "fisher_sigmas = []\n",
    "for m in range(M_parameters):\n",
    "    fisher_sigmas.append(np.sqrt(inverse_fisher_F[m][m]))\n",
    "fisher_sigmas = np.asarray(fisher_sigmas)\n",
    "print(fisher_sigmas) "
   ]
  },
  {
   "cell_type": "code",
   "execution_count": 100,
   "id": "7c61d4c3",
   "metadata": {},
   "outputs": [
    {
     "data": {
      "text/plain": [
       "array([19.92991565, 46.80606379])"
      ]
     },
     "execution_count": 100,
     "metadata": {},
     "output_type": "execute_result"
    }
   ],
   "source": [
    "1./fisher_sigmas"
   ]
  },
  {
   "cell_type": "code",
   "execution_count": 76,
   "id": "5cd781e3",
   "metadata": {},
   "outputs": [
    {
     "data": {
      "text/plain": [
       "23.013084779744066"
      ]
     },
     "execution_count": 76,
     "metadata": {},
     "output_type": "execute_result"
    }
   ],
   "source": [
    "1./0.04345354"
   ]
  },
  {
   "cell_type": "markdown",
   "id": "ef6c4b5f",
   "metadata": {},
   "source": [
    "SO kSZ2-g"
   ]
  },
  {
   "cell_type": "code",
   "execution_count": 86,
   "id": "32cc1a59",
   "metadata": {},
   "outputs": [
    {
     "name": "stdout",
     "output_type": "stream",
     "text": [
      "computed in 118.9926 seconds\n"
     ]
    }
   ],
   "source": [
    "M = Class()\n",
    "M.set(ksz_params)\n",
    "M.set(common_params)\n",
    "M.set(cosmo_params)\n",
    "M.set(bestfit_green_hod_params)\n",
    "\n",
    "\n",
    "M.set(\n",
    "    {\n",
    "'output':'gal_gal_1h,gal_gal_2h,gal_lensmag_1h,gal_lensmag_2h, lensmag_lensmag_1h, lensmag_lensmag_2h,kSZ_kSZ_gal fft (1h),kSZ_kSZ_gal fft (2h),kSZ_kSZ_gal fft (3h),kSZ_kSZ_gal_covmat,kSZ_kSZ_gal_lensing_term',\n",
    "\n",
    "'ksz_filter_file' : '/Users/boris/Work/CLASS-SZ/SO-SZ/class_sz/sz_auxiliary_files/UNWISE_galaxy_distributions/so_goal_filter_functions_l_fl_230222.txt',        \n",
    "'full_path_to_noise_curve_for_t_t': '/Users/boris/Work/CLASS-SZ/SO-SZ/class_sz/sz_auxiliary_files/noise_curves/so_goal_nl.txt',\n",
    "'dlogell' : 0.,\n",
    "'dell': 200.,\n",
    "'ell_max' : 9800.0,\n",
    "'ell_min' : 400.0,\n",
    "'f_sky':0.4, \n",
    "'gas profile' : 'nfw',\n",
    "'gas profile mode' : 'agn',\n",
    "'normalize_gas_density_profile': 1,\n",
    "'use_bg_at_z_in_ksz2g_eff' : 0,\n",
    "'use_fdndz_for_ksz2g_eff':0,\n",
    "      })\n",
    "\n",
    "ti = time.perf_counter()\n",
    "M.compute()\n",
    "tf = time.perf_counter()\n",
    "print(f\"computed in {tf - ti:0.4f} seconds\")"
   ]
  },
  {
   "cell_type": "code",
   "execution_count": 87,
   "id": "7aaa0b2e",
   "metadata": {},
   "outputs": [
    {
     "name": "stdout",
     "output_type": "stream",
     "text": [
      "120.47904228071909\n"
     ]
    }
   ],
   "source": [
    "cl_kSZ_kSZ_g_planck = M.cl_kSZ_kSZ_g()\n",
    "\n",
    "cl_kSZ_kSZ_g = cl_kSZ_kSZ_g_planck.copy()\n",
    "cl_tot = np.asarray(cl_kSZ_kSZ_g['1h'])+np.asarray(cl_kSZ_kSZ_g['2h'])+np.asarray(cl_kSZ_kSZ_g['3h'])\n",
    "cl_lensing = np.asarray(cl_kSZ_kSZ_g['lensing term'])\n",
    "covll = np.asarray(cl_kSZ_kSZ_g['covmat'])\n",
    "\n",
    "fac_plc = (2.726e6)**2*np.asarray(cl_kSZ_kSZ_g_planck['ell'])*(np.asarray(cl_kSZ_kSZ_g_planck['ell'])+1.)/2./np.pi\n",
    "l_max_plc= 10000\n",
    "l = np.asarray(cl_kSZ_kSZ_g['ell'])\n",
    "cl_hf = np.asarray(cl_kSZ_kSZ_g['hf'])\n",
    "snrl = cl_tot**2/covll\n",
    "                   \n",
    "snrl = np.sqrt(np.sum(snrl[l<l_max_plc]))\n",
    "print(snrl)"
   ]
  },
  {
   "cell_type": "code",
   "execution_count": 89,
   "id": "c0b563b9",
   "metadata": {},
   "outputs": [
    {
     "data": {
      "text/plain": [
       "[<matplotlib.lines.Line2D at 0x7fc2b1cb77f0>]"
      ]
     },
     "execution_count": 89,
     "metadata": {},
     "output_type": "execute_result"
    },
    {
     "data": {
      "image/png": "[encoded data removed]",
      "text/plain": [
       "<Figure size 648x360 with 1 Axes>"
      ]
     },
     "metadata": {
      "needs_background": "light"
     },
     "output_type": "display_data"
    }
   ],
   "source": [
    "label_size = 17\n",
    "title_size = 22\n",
    "legend_size = 13\n",
    "handle_length = 1.5\n",
    "fig, (ax1) = plt.subplots(1,1,figsize=(9,5),sharey=True)\n",
    "\n",
    "ax=ax1\n",
    "\n",
    "ax.errorbar(l,fac_plc*cl_tot,yerr=fac_plc*np.sqrt(covll))\n",
    "ax.plot(l,fac_plc*cl_lensing)"
   ]
  },
  {
   "cell_type": "code",
   "execution_count": 90,
   "id": "a3917d31",
   "metadata": {},
   "outputs": [],
   "source": [
    "cl_kSZ_kSZ_g_fiducial = cl_kSZ_kSZ_g_planck.copy()\n",
    "ell_array = np.asarray(cl_kSZ_kSZ_g_fiducial['ell'])\n",
    "\n",
    "# fac_cov = 1e0\n",
    "covmat_data = np.diag(covll)\n",
    "\n",
    "inv_covmat_data = np.linalg.inv(covmat_data)\n",
    "det_covmat_data = np.linalg.det(covmat_data)\n",
    "\n",
    "fac_cl_to_dl = (2.726e6)**2*np.asarray(cl_kSZ_kSZ_g_fiducial['ell'])*(np.asarray(cl_kSZ_kSZ_g_fiducial['ell'])+1.)/2./np.pi\n",
    "\n",
    "cl_ksz_tot = np.asarray(cl_kSZ_kSZ_g_fiducial['1h'])+np.asarray(cl_kSZ_kSZ_g_fiducial['2h'])+np.asarray(cl_kSZ_kSZ_g_fiducial['3h'])\n",
    "cl_lens = np.asarray(cl_kSZ_kSZ_g['lensing term'])\n"
   ]
  },
  {
   "cell_type": "code",
   "execution_count": null,
   "id": "0fc67b4e",
   "metadata": {},
   "outputs": [],
   "source": []
  },
  {
   "cell_type": "code",
   "execution_count": 91,
   "id": "fb0945ec",
   "metadata": {},
   "outputs": [
    {
     "name": "stdout",
     "output_type": "stream",
     "text": [
      "computed in 0.0000 seconds\n",
      "computed in 0.0000 seconds\n"
     ]
    }
   ],
   "source": [
    "dcl_kSZ_kSZ_g_tot = []\n",
    "dl_kSZ_kSZ_g_tot_plus = []\n",
    "dl_kSZ_kSZ_g_tot_minus = []\n",
    "\n",
    "delta_p_over_p = 1e-7\n",
    "param_list = ['A_ksz','A_lens']\n",
    "param_fiducial_values = [1.,1.]\n",
    "comps_list = [cl_ksz_tot,cl_lens]\n",
    "\n",
    "\n",
    "cl_ksz_obs = param_fiducial_values[0]*cl_ksz_tot + param_fiducial_values[1]*cl_lens\n",
    "\n",
    "for i in range(len(param_list)):\n",
    "    ti = time.perf_counter()\n",
    "    \n",
    "    cl_kSZ_kSZ_g_tot_plus = cl_ksz_obs + delta_p_over_p*param_fiducial_values[i]*comps_list[i]\n",
    "    dl_kSZ_kSZ_g_tot_plus.append(fac_cl_to_dl*cl_kSZ_kSZ_g_tot_plus)\n",
    "    \n",
    "    cl_kSZ_kSZ_g_tot_minus = cl_ksz_obs - delta_p_over_p*param_fiducial_values[i]*comps_list[i]\n",
    "    dl_kSZ_kSZ_g_tot_minus.append(fac_cl_to_dl*cl_kSZ_kSZ_g_tot_minus)\n",
    "    \n",
    "    \n",
    "\n",
    "    dcl_kSZ_kSZ_g_tot.append((cl_kSZ_kSZ_g_tot_plus-cl_kSZ_kSZ_g_tot_minus)/2./param_fiducial_values[i]/delta_p_over_p)\n",
    "    tf = time.perf_counter()\n",
    "    print(f\"computed in {tf - ti:0.4f} seconds\")"
   ]
  },
  {
   "cell_type": "code",
   "execution_count": 92,
   "id": "07628e0c",
   "metadata": {},
   "outputs": [
    {
     "name": "stdout",
     "output_type": "stream",
     "text": [
      "[0.00973757 0.02014536]\n"
     ]
    }
   ],
   "source": [
    "#theory parameters\n",
    "M_parameters = len(param_list)\n",
    "\n",
    "\n",
    "\n",
    "\n",
    "dmu_parameters = []\n",
    "for m in range(M_parameters):\n",
    "    dmu_parameters.append(np.asarray(dcl_kSZ_kSZ_g_tot[m]))#/np.sqrt(fac_cov))\n",
    "\n",
    "\n",
    "fisher_F = np.zeros((M_parameters,M_parameters))\n",
    "for a in range(M_parameters):\n",
    "    for b in range(M_parameters):\n",
    "        fisher_M_ab = np.outer(dmu_parameters[a],dmu_parameters[b]) + np.outer(dmu_parameters[b],dmu_parameters[a])\n",
    "        fisher_F[a][b]=0.5*np.trace(np.matmul(inv_covmat_data,fisher_M_ab))\n",
    "\n",
    "inverse_fisher_F = np.linalg.inv(fisher_F)\n",
    "fisher_sigmas = []\n",
    "for m in range(M_parameters):\n",
    "    fisher_sigmas.append(np.sqrt(inverse_fisher_F[m][m]))\n",
    "fisher_sigmas = np.asarray(fisher_sigmas)\n",
    "print(fisher_sigmas) "
   ]
  },
  {
   "cell_type": "code",
   "execution_count": 93,
   "id": "35b4aef8",
   "metadata": {},
   "outputs": [
    {
     "data": {
      "text/plain": [
       "array([102.69504609,  49.63923155])"
      ]
     },
     "execution_count": 93,
     "metadata": {},
     "output_type": "execute_result"
    }
   ],
   "source": [
    "1./fisher_sigmas"
   ]
  },
  {
   "cell_type": "markdown",
   "id": "60129d53",
   "metadata": {},
   "source": [
    "S4 kSZ2-g"
   ]
  },
  {
   "cell_type": "code",
   "execution_count": 102,
   "id": "38052f08",
   "metadata": {},
   "outputs": [
    {
     "name": "stdout",
     "output_type": "stream",
     "text": [
      "computed in 122.3076 seconds\n"
     ]
    }
   ],
   "source": [
    "M = Class()\n",
    "M.set(ksz_params)\n",
    "M.set(common_params)\n",
    "M.set(cosmo_params)\n",
    "M.set(bestfit_green_hod_params)\n",
    "\n",
    "\n",
    "M.set(\n",
    "    {\n",
    "'output':'gal_gal_1h,gal_gal_2h,gal_lensmag_1h,gal_lensmag_2h, lensmag_lensmag_1h, lensmag_lensmag_2h,kSZ_kSZ_gal fft (1h),kSZ_kSZ_gal fft (2h),kSZ_kSZ_gal fft (3h),kSZ_kSZ_gal_covmat,kSZ_kSZ_gal_lensing_term',\n",
    "\n",
    "'ksz_filter_file' : '/Users/boris/Work/CLASS-SZ/SO-SZ/class_sz/sz_auxiliary_files/UNWISE_galaxy_distributions/s4_filter_functions_l_fl_230222.txt',        \n",
    "'full_path_to_noise_curve_for_t_t': '/Users/boris/Work/CLASS-SZ/SO-SZ/class_sz/sz_auxiliary_files/noise_curves/s4_nl.txt',\n",
    "'dlogell' : 0.,\n",
    "'dell': 200.,\n",
    "'ell_max' : 9800.0,\n",
    "'ell_min' : 400.0,\n",
    "'f_sky':0.4, \n",
    "'gas profile' : 'nfw',\n",
    "'gas profile mode' : 'agn',\n",
    "'normalize_gas_density_profile': 1,\n",
    "'use_bg_at_z_in_ksz2g_eff' : 0,\n",
    "'use_fdndz_for_ksz2g_eff':0,\n",
    "      })\n",
    "\n",
    "ti = time.perf_counter()\n",
    "M.compute()\n",
    "tf = time.perf_counter()\n",
    "print(f\"computed in {tf - ti:0.4f} seconds\")"
   ]
  },
  {
   "cell_type": "code",
   "execution_count": 121,
   "id": "4b95c36e",
   "metadata": {},
   "outputs": [
    {
     "name": "stdout",
     "output_type": "stream",
     "text": [
      "246.9284781133154\n"
     ]
    }
   ],
   "source": [
    "cl_kSZ_kSZ_g_planck = M.cl_kSZ_kSZ_g()\n",
    "\n",
    "cl_kSZ_kSZ_g = cl_kSZ_kSZ_g_planck.copy()\n",
    "cl_tot = np.asarray(cl_kSZ_kSZ_g['1h'])+np.asarray(cl_kSZ_kSZ_g['2h'])+np.asarray(cl_kSZ_kSZ_g['3h'])\n",
    "cl_lensing = np.asarray(cl_kSZ_kSZ_g['lensing term'])\n",
    "covll = np.asarray(cl_kSZ_kSZ_g['covmat'])\n",
    "\n",
    "fac_plc = (2.726e6)**2*np.asarray(cl_kSZ_kSZ_g_planck['ell'])*(np.asarray(cl_kSZ_kSZ_g_planck['ell'])+1.)/2./np.pi\n",
    "l_max_plc= 10000\n",
    "l = np.asarray(cl_kSZ_kSZ_g['ell'])\n",
    "cl_hf = np.asarray(cl_kSZ_kSZ_g['hf'])\n",
    "snrl = cl_tot**2/covll\n",
    "                   \n",
    "snrl = np.sqrt(np.sum(snrl[l<l_max_plc]))\n",
    "print(snrl)"
   ]
  },
  {
   "cell_type": "code",
   "execution_count": 104,
   "id": "fd295921",
   "metadata": {},
   "outputs": [
    {
     "data": {
      "text/plain": [
       "[<matplotlib.lines.Line2D at 0x7fc20808c250>]"
      ]
     },
     "execution_count": 104,
     "metadata": {},
     "output_type": "execute_result"
    },
    {
     "data": {
      "image/png": "[encoded data removed]",
      "text/plain": [
       "<Figure size 648x360 with 1 Axes>"
      ]
     },
     "metadata": {
      "needs_background": "light"
     },
     "output_type": "display_data"
    }
   ],
   "source": [
    "label_size = 17\n",
    "title_size = 22\n",
    "legend_size = 13\n",
    "handle_length = 1.5\n",
    "fig, (ax1) = plt.subplots(1,1,figsize=(9,5),sharey=True)\n",
    "\n",
    "ax=ax1\n",
    "\n",
    "ax.errorbar(l,fac_plc*cl_tot,yerr=fac_plc*np.sqrt(covll))\n",
    "ax.plot(l,fac_plc*cl_lensing)"
   ]
  },
  {
   "cell_type": "code",
   "execution_count": 105,
   "id": "8b538c8c",
   "metadata": {},
   "outputs": [],
   "source": [
    "cl_kSZ_kSZ_g_fiducial = cl_kSZ_kSZ_g_planck.copy()\n",
    "ell_array = np.asarray(cl_kSZ_kSZ_g_fiducial['ell'])\n",
    "\n",
    "# fac_cov = 1e0\n",
    "covmat_data = np.diag(covll)\n",
    "\n",
    "inv_covmat_data = np.linalg.inv(covmat_data)\n",
    "det_covmat_data = np.linalg.det(covmat_data)\n",
    "\n",
    "fac_cl_to_dl = (2.726e6)**2*np.asarray(cl_kSZ_kSZ_g_fiducial['ell'])*(np.asarray(cl_kSZ_kSZ_g_fiducial['ell'])+1.)/2./np.pi\n",
    "\n",
    "cl_ksz_tot = np.asarray(cl_kSZ_kSZ_g_fiducial['1h'])+np.asarray(cl_kSZ_kSZ_g_fiducial['2h'])+np.asarray(cl_kSZ_kSZ_g_fiducial['3h'])\n",
    "cl_lens = np.asarray(cl_kSZ_kSZ_g['lensing term'])\n"
   ]
  },
  {
   "cell_type": "code",
   "execution_count": null,
   "id": "42001170",
   "metadata": {},
   "outputs": [],
   "source": []
  },
  {
   "cell_type": "code",
   "execution_count": 118,
   "id": "7bbc680e",
   "metadata": {},
   "outputs": [
    {
     "name": "stdout",
     "output_type": "stream",
     "text": [
      "computed in 0.0000 seconds\n",
      "computed in 0.0000 seconds\n"
     ]
    }
   ],
   "source": [
    "dcl_kSZ_kSZ_g_tot = []\n",
    "dl_kSZ_kSZ_g_tot_plus = []\n",
    "dl_kSZ_kSZ_g_tot_minus = []\n",
    "\n",
    "delta_p_over_p = 1e-7\n",
    "param_list = ['A_ksz','A_lens']\n",
    "param_fiducial_values = [1.,1]\n",
    "comps_list = [cl_ksz_tot,cl_lens]\n",
    "\n",
    "\n",
    "cl_ksz_obs = param_fiducial_values[0]*cl_ksz_tot + param_fiducial_values[1]*cl_lens\n",
    "\n",
    "for i in range(len(param_list)):\n",
    "    ti = time.perf_counter()\n",
    "    \n",
    "    cl_kSZ_kSZ_g_tot_plus = cl_ksz_obs + delta_p_over_p*param_fiducial_values[i]*comps_list[i]\n",
    "    dl_kSZ_kSZ_g_tot_plus.append(fac_cl_to_dl*cl_kSZ_kSZ_g_tot_plus)\n",
    "    \n",
    "    cl_kSZ_kSZ_g_tot_minus = cl_ksz_obs - delta_p_over_p*param_fiducial_values[i]*comps_list[i]\n",
    "    dl_kSZ_kSZ_g_tot_minus.append(fac_cl_to_dl*cl_kSZ_kSZ_g_tot_minus)\n",
    "    \n",
    "    \n",
    "\n",
    "    dcl_kSZ_kSZ_g_tot.append((cl_kSZ_kSZ_g_tot_plus-cl_kSZ_kSZ_g_tot_minus)/2./param_fiducial_values[i]/delta_p_over_p)\n",
    "    tf = time.perf_counter()\n",
    "    print(f\"computed in {tf - ti:0.4f} seconds\")"
   ]
  },
  {
   "cell_type": "code",
   "execution_count": 119,
   "id": "ab0a54e9",
   "metadata": {},
   "outputs": [
    {
     "name": "stdout",
     "output_type": "stream",
     "text": [
      "[0.00485177 0.02041102]\n"
     ]
    }
   ],
   "source": [
    "#theory parameters\n",
    "M_parameters = len(param_list)\n",
    "\n",
    "\n",
    "\n",
    "\n",
    "dmu_parameters = []\n",
    "for m in range(M_parameters):\n",
    "    dmu_parameters.append(np.asarray(dcl_kSZ_kSZ_g_tot[m]))#/np.sqrt(fac_cov))\n",
    "\n",
    "\n",
    "fisher_F = np.zeros((M_parameters,M_parameters))\n",
    "for a in range(M_parameters):\n",
    "    for b in range(M_parameters):\n",
    "        fisher_M_ab = np.outer(dmu_parameters[a],dmu_parameters[b]) + np.outer(dmu_parameters[b],dmu_parameters[a])\n",
    "        fisher_F[a][b]=0.5*np.trace(np.matmul(inv_covmat_data,fisher_M_ab))\n",
    "\n",
    "inverse_fisher_F = np.linalg.inv(fisher_F)\n",
    "fisher_sigmas = []\n",
    "for m in range(M_parameters):\n",
    "    fisher_sigmas.append(np.sqrt(inverse_fisher_F[m][m]))\n",
    "fisher_sigmas = np.asarray(fisher_sigmas)\n",
    "print(fisher_sigmas) "
   ]
  },
  {
   "cell_type": "code",
   "execution_count": 120,
   "id": "78af797f",
   "metadata": {},
   "outputs": [
    {
     "data": {
      "text/plain": [
       "array([206.11017345,  48.99314841])"
      ]
     },
     "execution_count": 120,
     "metadata": {},
     "output_type": "execute_result"
    }
   ],
   "source": [
    "1/fisher_sigmas"
   ]
  },
  {
   "cell_type": "code",
   "execution_count": null,
   "id": "b005683f",
   "metadata": {},
   "outputs": [],
   "source": []
  }
 ],
 "metadata": {
  "kernelspec": {
   "display_name": "Python 3 (ipykernel)",
   "language": "python",
   "name": "python3"
  },
  "language_info": {
   "codemirror_mode": {
    "name": "ipython",
    "version": 3
   },
   "file_extension": ".py",
   "mimetype": "text/x-python",
   "name": "python",
   "nbconvert_exporter": "python",
   "pygments_lexer": "ipython3",
   "version": "3.8.5"
  }
 },
 "nbformat": 4,
 "nbformat_minor": 5
}
