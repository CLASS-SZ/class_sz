{
 "cells": [
  {
   "cell_type": "code",
   "execution_count": 11,
   "id": "1b08a21e",
   "metadata": {},
   "outputs": [],
   "source": [
    "import numpy as np\n",
    "\n",
    "# import necessary modules\n",
    "# uncomment to get plots displayed in notebook\n",
    "%matplotlib inline\n",
    "import matplotlib\n",
    "import matplotlib.pyplot as plt\n",
    "import numpy as np\n",
    "from classy_sz import Class\n",
    "from scipy.optimize import fsolve\n",
    "from scipy.interpolate import interp1d\n",
    "import math\n",
    "import time"
   ]
  },
  {
   "cell_type": "code",
   "execution_count": 6,
   "id": "bb2a13a9",
   "metadata": {},
   "outputs": [],
   "source": [
    "common_settings = {\n",
    "                   'output':'tCl,pCl,lCl',\n",
    "                   # LambdaCDM parameters\n",
    "                   'h':0.67556,\n",
    "                   'omega_b':0.022032,\n",
    "                   'omega_cdm':0.12038,\n",
    "                   'A_s':2.215e-9,\n",
    "                   'tau_reio':0.0925,\n",
    "                   # Take fixed value for primordial Helium (instead of automatic BBN adjustment)\n",
    "                   'YHe':0.246,\n",
    "                   'mass function' : 'T08M200c',\n",
    "}\n",
    "\n",
    "\n",
    "p18_cosmo = {\n",
    "\n",
    "     # P18 1st column table 1 of https://arxiv.org/pdf/1807.06209.pdf\n",
    "    'omega_b': 0.022383,\n",
    "    'omega_cdm': 0.12011,\n",
    "    'h': 0.6732,\n",
    "    'tau_reio': 0.0543,\n",
    "    'ln10^{10}A_s': 3.0448,\n",
    "    'n_s': 0.96605,\n",
    "    'k_pivot': 0.05,\n",
    "    'N_ncdm': 1,\n",
    "    'N_ur': 2.0328,\n",
    "    'm_ncdm': 0.06\n",
    "}\n",
    "\n",
    "\n",
    "gil_marin = {\n",
    "    'h':0.7,\n",
    "    'omega_b': 0.023,\n",
    "    'omega_cdm': 0.1093,\n",
    "    'n_s':0.95,\n",
    "    'sigma8': 0.7913,\n",
    "    'tau_reio': 0.0543,\n",
    "}\n",
    "\n",
    "simone = {}\n",
    "\n",
    "lazanu = {\n",
    "    'h':0.71,\n",
    "    'omega_b': 0.0226,\n",
    "    'omega_cdm': 0.11,\n",
    "    'n_s':0.963,\n",
    "    'A_s': 2.43e-9,\n",
    "    'k_pivot': 0.002,\n",
    "}\n",
    "\n",
    "planck_2015 = {\n",
    "    'omega_b' : 0.02226,\n",
    "    'omega_cdm' : 0.1186,\n",
    "    'A_s':  2.139e-9,\n",
    "    'k_pivot': 0.05,\n",
    "    'n_s': 0.9677,\n",
    "    'h' : 0.6781\n",
    "}\n",
    "\n",
    "battaglia_16 = {\n",
    "    'h':0.72,\n",
    "    'Omega_b':0.043,\n",
    "    'Omega_cdm':0.25-0.043,\n",
    "    'n_s':0.96,\n",
    "    'sigma8':0.8\n",
    "\n",
    "}\n",
    "\n",
    "factor_sz = 1e-2"
   ]
  },
  {
   "cell_type": "code",
   "execution_count": 29,
   "id": "5e764004",
   "metadata": {},
   "outputs": [],
   "source": [
    "def I_cib_old(z_range, nu, dlnnu=0.05, unit='SI', z_ev_Tdust=0.36,Tdust=24.4,emmissivity=1.75,plaw_SED_highnu=1.7,r_ev_LM=3.6, most_efficient_halo=10.**12.6,halo_size=0.5,common_settings=common_settings):\n",
    "\n",
    "    M = Class()\n",
    "    M.set(common_settings)\n",
    "    M.set({# class_sz parameters:\n",
    "           'output':'cib_monopole',\n",
    "           'Redshift evolution of dust temperature' :  z_ev_Tdust,\n",
    "           'Dust temperature today in Kelvins' : Tdust,\n",
    "           'Emissivity index of sed' : emmissivity,\n",
    "           'Power law index of SED at high frequency' : plaw_SED_highnu,\n",
    "           'Redshift evolution of L − M normalisation' : r_ev_LM,\n",
    "           'Most efficient halo mass in Msun' : most_efficient_halo,\n",
    "           'Normalisation of L − M relation in [Jy MPc2/Msun/Hz]' : 6.4e-8,\n",
    "           'Size of of halo masses sourcing CIB emission' : halo_size,\n",
    "\n",
    "            # M_min_HOD is the threshold above which nc = 1:\n",
    "            'M_min_HOD' : 10.**10,\n",
    "            'M1_prime_HOD': 10.**12.51536196*common_settings['h'],\n",
    "\n",
    "\n",
    "            'M_min' : 1e8*common_settings['h'],\n",
    "            'M_max' : 1e16*common_settings['h'],\n",
    "            'z_min' : z_range[0],\n",
    "            'z_max' : z_range[1],\n",
    "            'freq_min': nu[0]/10.0**9,\n",
    "            'freq_max': nu[-1]/10.0**9,\n",
    "            'mass function': 'T10',\n",
    "            'dlogfreq': dlnnu,\n",
    "            'sz_verbose':0\n",
    "\n",
    "            })\n",
    "\n",
    "    M.compute()\n",
    "    nu=np.array(M.cib_monopole()['nu'])\n",
    "    I0=np.array(M.cib_monopole()['I0'])\n",
    "\n",
    "    if unit==\"SI\" or unit==\"si\":\n",
    "        return nu*1e9, I0*1e-26\n",
    "    elif unit==\"jansky\" or unit==\"Jansky\" or unit==\"Jy\":\n",
    "        return nu, I0\n"
   ]
  },
  {
   "cell_type": "code",
   "execution_count": 30,
   "id": "d4929185",
   "metadata": {},
   "outputs": [
    {
     "name": "stdout",
     "output_type": "stream",
     "text": [
      "computed in 3.5276 seconds\n"
     ]
    }
   ],
   "source": [
    "fr=np.linspace(2e2*10**9, 2e4*10**9,1000)\n",
    "ti = time.perf_counter()\n",
    "nucib, Icib=I_cib_old([0,10],fr,common_settings=common_settings)\n",
    "tf = time.perf_counter()\n",
    "print(f\"computed in {tf - ti:0.4f} seconds\")"
   ]
  },
  {
   "cell_type": "code",
   "execution_count": 10,
   "id": "b84ca7a9",
   "metadata": {},
   "outputs": [
    {
     "data": {
      "text/plain": [
       "[]"
      ]
     },
     "execution_count": 10,
     "metadata": {},
     "output_type": "execute_result"
    },
    {
     "data": {
      "image/png": "[encoded data removed]",
      "text/plain": [
       "<Figure size 432x288 with 1 Axes>"
      ]
     },
     "metadata": {
      "needs_background": "light"
     },
     "output_type": "display_data"
    }
   ],
   "source": [
    "plt.plot(nucib,Icib)\n",
    "plt.loglog()"
   ]
  },
  {
   "cell_type": "code",
   "execution_count": 28,
   "id": "7910c1a3",
   "metadata": {},
   "outputs": [
    {
     "name": "stdout",
     "output_type": "stream",
     "text": [
      "computed in 2.4217 seconds\n"
     ]
    }
   ],
   "source": [
    "M = Class()\n",
    "M.set(common_settings)\n",
    "M.set({# class_sz parameters:\n",
    "        'mass function': 'T10',\n",
    "        'concentration parameter' : 'D08',\n",
    "        'hm_consistency': 1,\n",
    "       'output':'dcib0dz', \n",
    "       'Redshift evolution of dust temperature' :  0.36,\n",
    "       'Dust temperature today in Kelvins' : 24.4,\n",
    "       'Emissivity index of sed' : 1.75,\n",
    "       'Power law index of SED at high frequency' : 1.7,\n",
    "       'Redshift evolution of L − M normalisation' : 3.6,\n",
    "       'Most efficient halo mass in Msun' : 10.**12.6,\n",
    "       'Normalisation of L − M relation in [Jy MPc2/Msun/Hz]' : 6.4e-8,\n",
    "       'Size of of halo masses sourcing CIB emission' : 0.5,\n",
    "\n",
    "        \n",
    "        # M_min_HOD is the threshold above which nc = 1:\n",
    "        'M_min_HOD' : 10.**10,\n",
    "       'M1_prime_HOD': 10.**12.51536196*common_settings['h'],\n",
    "\n",
    "\n",
    "        'M_min' : 1e6*common_settings['h'],\n",
    "        'M_max' : 1e16*common_settings['h'],\n",
    "        'z_min' : 1e-3,\n",
    "        'z_max' : 9,\n",
    "        'freq_min': 1e2,\n",
    "        'freq_max': 4e4,\n",
    "        'sz_verbose':0\n",
    "    \n",
    "        })\n",
    "ti = time.perf_counter()    \n",
    "M.compute()\n",
    "tf = time.perf_counter()\n",
    "print(f\"computed in {tf - ti:0.4f} seconds\")"
   ]
  },
  {
   "cell_type": "code",
   "execution_count": 26,
   "id": "7c81da0e",
   "metadata": {},
   "outputs": [],
   "source": [
    "get_dcib0dz_at_z_and_nu = np.vectorize(M.get_dcib0dz_at_z_and_nu)\n",
    "# nu_arr  = [215,353,545,857,3000] # in GHz\n",
    "nu_arr  = np.geomspace(2e2,2e4,1000)\n",
    "for nu in nu_arr:\n",
    "    z = np.linspace(0.01,6.,1000)\n",
    "    dcib0dz = nu*get_dcib0dz_at_z_and_nu(z,nu)\n",
    "    norm = np.trapz(dcib0dz,z)\n",
    "#     plt.plot(z,dcib0dz/norm,label=str(nu))\n",
    "# plt.xlabel('redshift, z')\n",
    "# plt.ylabel('dcib0/dz')\n",
    "# plt.grid(which='both')\n",
    "# plt.legend()"
   ]
  },
  {
   "cell_type": "code",
   "execution_count": null,
   "id": "0aa155d6",
   "metadata": {},
   "outputs": [],
   "source": []
  }
 ],
 "metadata": {
  "kernelspec": {
   "display_name": "Python 3 (ipykernel)",
   "language": "python",
   "name": "python3"
  },
  "language_info": {
   "codemirror_mode": {
    "name": "ipython",
    "version": 3
   },
   "file_extension": ".py",
   "mimetype": "text/x-python",
   "name": "python",
   "nbconvert_exporter": "python",
   "pygments_lexer": "ipython3",
   "version": "3.8.5"
  }
 },
 "nbformat": 4,
 "nbformat_minor": 5
}
