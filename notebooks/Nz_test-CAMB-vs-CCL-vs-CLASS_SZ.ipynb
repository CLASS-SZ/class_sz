{
 "cells": [
  {
   "cell_type": "code",
   "execution_count": 1,
   "metadata": {},
   "outputs": [
    {
     "name": "stdout",
     "output_type": "stream",
     "text": [
      "%pylab is deprecated, use %matplotlib inline and import the required libraries.\n",
      "Populating the interactive namespace from numpy and matplotlib\n"
     ]
    }
   ],
   "source": [
    "import numpy as np\n",
    "import matplotlib\n",
    "import matplotlib.pyplot as plt\n",
    "%matplotlib inline\n",
    "from soliket import BinnedClusterLikelihood\n",
    "from cobaya.model import get_model\n",
    "import camb\n",
    "%pylab inline"
   ]
  },
  {
   "cell_type": "code",
   "execution_count": 17,
   "metadata": {},
   "outputs": [
    {
     "name": "stdout",
     "output_type": "stream",
     "text": [
      "[0.81050087]\n"
     ]
    }
   ],
   "source": [
    "params = {\n",
    "    'cosmomc_theta': 0.0104135,\n",
    "    'ns': 0.965,\n",
    "    'ombh2': 0.0226576,      \n",
    "    'omch2': 0.1206864, \n",
    "    'As': 2.022662e-9,\n",
    "    'tenToA0': 4.35e-5,\n",
    "    'B0': 0.08,\n",
    "    'scatter_sz': 0.,\n",
    "    'bias_sz': 1.,\n",
    "    'tau': 0.055,\n",
    "    'mnu': 0.0,\n",
    "    'nnu': 3.046,\n",
    "    'omnuh2': 0.,\n",
    "    'w': -1,\n",
    "    \n",
    "    'C0': 2.\n",
    "\n",
    "}\n",
    "\n",
    "#Set up a new set of parameters for CAMB\n",
    "pars = camb.CAMBparams()\n",
    "#This function sets up CosmoMC-like settings, with one massive neutrino and helium set using BBN consistency\n",
    "pars.set_cosmology(cosmomc_theta=params['cosmomc_theta'], ombh2=params['ombh2'], omch2=params['omch2'], mnu=0.0, omk=0, \\\n",
    "                   tau=params['tau'])\n",
    "pars.InitPower.set_params(As=params['As'], ns=params['ns'], r=0)\n",
    "pars.set_for_lmax(2500, lens_potential_accuracy=0);\n",
    "\n",
    "#calculate results for these parameters\n",
    "results = camb.get_results(pars)\n",
    "\n",
    "#Note non-linear corrections couples to smaller scales than you want\n",
    "pars.set_matter_power(redshifts=[0.], kmax=2.0)\n",
    "\n",
    "#Linear spectra\n",
    "results = camb.get_results(pars)\n",
    "kh, z, pk = results.get_matter_power_spectrum(minkh=1e-4, maxkh=1, npoints = 200)\n",
    "s8 = np.array(results.get_sigma8())\n",
    "print(s8)"
   ]
  },
  {
   "cell_type": "markdown",
   "metadata": {},
   "source": [
    "# CCL"
   ]
  },
  {
   "cell_type": "code",
   "execution_count": 18,
   "metadata": {},
   "outputs": [
    {
     "name": "stderr",
     "output_type": "stream",
     "text": [
      "Initializing binned_clusters_test.py\n",
      "Downsampling selection function inputs.\n",
      "Considering full map.\n",
      "2D likelihood as a function of redshift and signal-to-noise.\n",
      "Reading data catalog.\n",
      "Total number of clusters in catalogue = 4195.\n",
      "SNR cut = 5.0.\n",
      "Number of clusters above the SNR cut = 2212.\n",
      "The highest redshift = 1.91\n",
      "Number of redshift bins = 28.\n",
      "Number of mass bins for theory calculation 138.\n",
      "The lowest SNR = 5.001384841152361.\n",
      "The highest SNR = 53.52369867212418.\n",
      "Number of SNR bins = 6.\n",
      "Edges of SNR bins = [  3.98107171   7.07945784  12.58925412  22.38721139  39.81071706\n",
      "  70.79457844 125.89254118].\n",
      "Loading files describing selection function.\n",
      "Reading Q as a function of theta.\n",
      "Reading in binned Q function from file.\n",
      "Reading RMS.\n",
      "Reading in binned RMS table from file.\n",
      "Number of rms bins = 5.\n",
      "Number of Q functions = 5.\n",
      "Entire survey area = 13211.395702126332 deg2.\n"
     ]
    },
    {
     "name": "stdout",
     "output_type": "stream",
     "text": [
      " Nz for higher resolution =  114\n"
     ]
    },
    {
     "name": "stderr",
     "output_type": "stream",
     "text": [
      "Number of clusters in redshift bin 0: 16.303307378357708.\n",
      "Number of clusters in redshift bin 1: 185.69334638059377.\n",
      "Number of clusters in redshift bin 2: 377.2698086785761.\n",
      "Number of clusters in redshift bin 3: 461.92560059989324.\n",
      "Number of clusters in redshift bin 4: 456.69961925650233.\n",
      "Number of clusters in redshift bin 5: 400.6204366340885.\n",
      "Number of clusters in redshift bin 6: 324.68890270260255.\n",
      "Number of clusters in redshift bin 7: 248.29017045707664.\n",
      "Number of clusters in redshift bin 8: 181.38969720479562.\n",
      "Number of clusters in redshift bin 9: 127.63794377991516.\n",
      "Number of clusters in redshift bin 10: 87.93476790242106.\n",
      "Number of clusters in redshift bin 11: 58.42698980727753.\n",
      "Number of clusters in redshift bin 12: 37.889190863000515.\n",
      "Number of clusters in redshift bin 13: 24.04071065722499.\n",
      "Number of clusters in redshift bin 14: 14.959734640642717.\n",
      "Number of clusters in redshift bin 15: 9.150971216000467.\n",
      "Number of clusters in redshift bin 16: 5.514839547543254.\n",
      "Number of clusters in redshift bin 17: 3.2812540873788016.\n",
      "Number of clusters in redshift bin 18: 1.9323457723302047.\n",
      "Number of clusters in redshift bin 19: 1.129869529043073.\n",
      "Number of clusters in redshift bin 20: 0.6584783714131353.\n",
      "Number of clusters in redshift bin 21: 0.3842157385422115.\n",
      "Number of clusters in redshift bin 22: 0.2255362659580278.\n",
      "Number of clusters in redshift bin 23: 0.13386962404148206.\n",
      "Number of clusters in redshift bin 24: 0.08079088359024598.\n",
      "Number of clusters in redshift bin 25: 0.04982911756654978.\n",
      "Number of clusters in redshift bin 26: 0.03152445492816451.\n",
      "Number of clusters in redshift bin 27: 0.020486278852736777.\n",
      "Total predicted 2D N = 3026.364237830157.\n",
      "Theory N calculation took 38.812275886535645 seconds.\n"
     ]
    },
    {
     "name": "stdout",
     "output_type": "stream",
     "text": [
      "0 1972.7053985219309\n",
      "1 905.7938426095071\n",
      "2 134.84336056755274\n",
      "3 12.453464210859226\n",
      "4 0.5595410799139389\n",
      "5 0.008630840392881225\n",
      "\r",
      " Total predicted 2D N =  3026.364237830157\n",
      "\r",
      " ::: 2D ln likelihood =  348.77292115736486\n"
     ]
    },
    {
     "data": {
      "text/plain": [
       "array([-348.77292116])"
      ]
     },
     "execution_count": 18,
     "metadata": {},
     "output_type": "execute_result"
    }
   ],
   "source": [
    "params = {\n",
    "    'h': 0.68,\n",
    "    'n_s': 0.965,\n",
    "    'Omega_b': 0.049,      \n",
    "    'Omega_c': 0.26, \n",
    "    'sigma8': 0.81,\n",
    "    'tenToA0': 4.35e-5,\n",
    "    'B0': 0.08,\n",
    "    'scatter_sz': 0.,\n",
    "    'bias_sz': 1.,\n",
    "    'm_nu': 0.0,\n",
    "    'C0': 0. # doesnt matter\n",
    "\n",
    "}\n",
    "\n",
    "path2data = '/Users/boris/Work/CLASS-SZ/SO-SZ/SOLikeT/soliket/binned_clusters/data/advact/'\n",
    "\n",
    "info = {\n",
    "    'params': params,\n",
    "    'likelihood': {'soliket.BinnedClusterLikelihood': {\n",
    "    'verbose': True,\n",
    "    'data': {\n",
    "        'data_path': path2data,\n",
    "        'cat_file': \"DR5_cluster-catalog_v1.1.fits\",\n",
    "        'Q_file': \"DR5ClusterSearch/selFn/QFit.fits\",\n",
    "        'tile_file': \"DR5ClusterSearch/selFn/tileAreas.txt\",\n",
    "        'rms_file': \"DR5ClusterSearch/selFn/RMSTab.fits\"\n",
    "    },\n",
    "    'theorypred': {\n",
    "        'choose_theory': \"CCL\",\n",
    "        'massfunc_mode': 'ccl',\n",
    "        'choose_dim': \"2D\",\n",
    "        'compl_mode': 'erf_diff',\n",
    "        'md_hmf': '200m',\n",
    "        'md_ym': '500c'\n",
    "        \n",
    "    },\n",
    "    'YM': {\n",
    "        'Mpivot': 3e14\n",
    "    },\n",
    "    'selfunc': {\n",
    "        'SNRcut': 5.,\n",
    "        'single_tile_test': \"no\",\n",
    "        'mode': 'downsample',\n",
    "        'dwnsmpl_bins': 5,\n",
    "        'save_dwsmpld': True,\n",
    "        'average_Q': False\n",
    "    },\n",
    "    'binning': {\n",
    "        'z': {\n",
    "            # redshift setting\n",
    "            'zmin': 0.,\n",
    "            'zmax': 2.8,\n",
    "            'dz': 0.1\n",
    "        },\n",
    "        'q': {\n",
    "            # SNR setting\n",
    "            'log10qmin': 0.6,\n",
    "            'log10qmax': 2.0,\n",
    "            'dlog10q': 0.25\n",
    "        },\n",
    "        'M': {\n",
    "            # mass setting\n",
    "            'Mmin': 1e13,\n",
    "            'Mmax': 1e16,\n",
    "            'dlogM': 0.05\n",
    "        }\n",
    "    }\n",
    "    }},\n",
    "    'theory': {'soliket.binned_clusters.CCL': \n",
    "               {'transfer_function': 'boltzmann_camb',\n",
    "                'matter_pk': 'halofit',\n",
    "                'baryons_pk': 'nobaryons',\n",
    "                'md_hmf': '200m'}}\n",
    "}\n",
    "\n",
    "\n",
    "# initialisation \n",
    "model = get_model(info)\n",
    "like = model.likelihood['soliket.BinnedClusterLikelihood']\n",
    "\n",
    "model.loglikes({})[0]"
   ]
  },
  {
   "cell_type": "code",
   "execution_count": 19,
   "metadata": {},
   "outputs": [],
   "source": [
    "pk_intp = like.theory.get_Pk_interpolator((\"delta_nonu\", \"delta_nonu\"), nonlinear=False)\n",
    "SZparams = {\n",
    "    'tenToA0': 4.35e-5,\n",
    "    'B0': 0.08,\n",
    "    'C0': 2.,\n",
    "    'scatter_sz': 0.,\n",
    "    'bias_sz': 1.  \n",
    "}"
   ]
  },
  {
   "cell_type": "code",
   "execution_count": null,
   "metadata": {},
   "outputs": [],
   "source": []
  },
  {
   "cell_type": "code",
   "execution_count": 20,
   "metadata": {},
   "outputs": [
    {
     "name": "stderr",
     "output_type": "stream",
     "text": [
      "Number of clusters in redshift bin 0: 16.303307378357708.\n",
      "Number of clusters in redshift bin 1: 185.69334638059377.\n",
      "Number of clusters in redshift bin 2: 377.2698086785761.\n",
      "Number of clusters in redshift bin 3: 461.92560059989324.\n",
      "Number of clusters in redshift bin 4: 456.69961925650233.\n",
      "Number of clusters in redshift bin 5: 400.6204366340885.\n",
      "Number of clusters in redshift bin 6: 324.68890270260255.\n",
      "Number of clusters in redshift bin 7: 248.29017045707664.\n",
      "Number of clusters in redshift bin 8: 181.38969720479562.\n",
      "Number of clusters in redshift bin 9: 127.63794377991516.\n",
      "Number of clusters in redshift bin 10: 87.93476790242106.\n",
      "Number of clusters in redshift bin 11: 58.42698980727753.\n",
      "Number of clusters in redshift bin 12: 37.889190863000515.\n",
      "Number of clusters in redshift bin 13: 24.04071065722499.\n",
      "Number of clusters in redshift bin 14: 14.959734640642717.\n",
      "Number of clusters in redshift bin 15: 9.150971216000467.\n",
      "Number of clusters in redshift bin 16: 5.514839547543254.\n",
      "Number of clusters in redshift bin 17: 3.2812540873788016.\n",
      "Number of clusters in redshift bin 18: 1.9323457723302047.\n",
      "Number of clusters in redshift bin 19: 1.129869529043073.\n",
      "Number of clusters in redshift bin 20: 0.6584783714131353.\n",
      "Number of clusters in redshift bin 21: 0.3842157385422115.\n",
      "Number of clusters in redshift bin 22: 0.2255362659580278.\n",
      "Number of clusters in redshift bin 23: 0.13386962404148206.\n",
      "Number of clusters in redshift bin 24: 0.08079088359024598.\n",
      "Number of clusters in redshift bin 25: 0.04982911756654978.\n",
      "Number of clusters in redshift bin 26: 0.03152445492816451.\n",
      "Number of clusters in redshift bin 27: 0.020486278852736777.\n",
      "Total predicted 2D N = 3026.364237830157.\n",
      "Theory N calculation took 37.26690196990967 seconds.\n"
     ]
    },
    {
     "name": "stdout",
     "output_type": "stream",
     "text": [
      "0 1972.7053985219309\n",
      "1 905.7938426095071\n",
      "2 134.84336056755274\n",
      "3 12.453464210859226\n",
      "4 0.5595410799139389\n",
      "5 0.008630840392881225\n",
      "\r",
      " Total predicted 2D N =  3026.364237830157\n"
     ]
    }
   ],
   "source": [
    "Nzq = like._get_theory(pk_intp, **SZparams)\n",
    "z, q, catNzq = like.delN2Dcat\n",
    "\n",
    "Nq_ccl = np.zeros(len(q))\n",
    "catNq_ccl = np.zeros(len(q))\n",
    "for i in range(len(q)):\n",
    "    Nq_ccl[i] = Nzq[:,i].sum()    \n",
    "    catNq_ccl[i] = catNzq[:,i].sum()"
   ]
  },
  {
   "cell_type": "markdown",
   "metadata": {},
   "source": [
    "# CAMB"
   ]
  },
  {
   "cell_type": "code",
   "execution_count": 21,
   "metadata": {},
   "outputs": [
    {
     "name": "stdout",
     "output_type": "stream",
     "text": [
      "[camb] `camb` module loaded successfully from /usr/local/anaconda3/envs/cluster_counts_environment/lib/python3.8/site-packages/camb\n",
      " Nz for higher resolution =  114\n",
      "0 1969.4836178639612\n",
      "1 903.9938989097093\n",
      "2 134.6145967257876\n",
      "3 12.456824665917402\n",
      "4 0.5626762633127557\n",
      "5 0.008788031580048332\n",
      " Total predicted 2D N =  3021.120402460269\n",
      " ::: 2D ln likelihood =  347.343159240642\n"
     ]
    },
    {
     "data": {
      "text/plain": [
       "array([-347.34315924])"
      ]
     },
     "execution_count": 21,
     "metadata": {},
     "output_type": "execute_result"
    }
   ],
   "source": [
    "params = {\n",
    "    'cosmomc_theta': 0.0104135,\n",
    "    'ns': 0.965,\n",
    "    'ombh2': 0.0226576,      \n",
    "    'omch2': 0.1206864, \n",
    "    'As': 2.022662e-9,\n",
    "    'tenToA0': 4.35e-5,\n",
    "    'B0': 0.08,\n",
    "    'scatter_sz': 0.,\n",
    "    'bias_sz': 1.,\n",
    "    'tau': 0.055,\n",
    "    'mnu': 0.0,\n",
    "    'nnu': 3.046,\n",
    "    'omnuh2': 0.,\n",
    "    'w': -1,\n",
    "    \n",
    "    'C0': 0.\n",
    "\n",
    "}\n",
    "\n",
    "path2data = path2data\n",
    "\n",
    "info = {\n",
    "    'params': params,\n",
    "    'likelihood': {'soliket.BinnedClusterLikelihood': {\n",
    "    'verbose': False,\n",
    "    'data': {\n",
    "        'data_path': path2data,\n",
    "        'cat_file': \"DR5_cluster-catalog_v1.1.fits\",\n",
    "        'Q_file': \"DR5ClusterSearch/selFn/QFit.fits\",\n",
    "        'tile_file': \"DR5ClusterSearch/selFn/tileAreas.txt\",\n",
    "        'rms_file': \"DR5ClusterSearch/selFn/RMSTab.fits\"\n",
    "    },\n",
    "    'theorypred': {\n",
    "        'choose_theory': \"camb\",\n",
    "        'massfunc_mode': 'internal',\n",
    "        'choose_dim': \"2D\",\n",
    "        'compl_mode': 'erf_diff',\n",
    "        'md_hmf': '200m',\n",
    "        'md_ym': '500c'\n",
    "        \n",
    "    },\n",
    "    'YM': {\n",
    "        'Mpivot': 3e14\n",
    "    },\n",
    "    'selfunc': {\n",
    "        'SNRcut': 5.,\n",
    "        'single_tile_test': \"no\",\n",
    "        'mode': 'downsample',\n",
    "        'dwnsmpl_bins': 5,\n",
    "        'average_Q': False,\n",
    "        'save_dwsmpld': True,\n",
    "    },\n",
    "    'binning': {\n",
    "        'z': {\n",
    "            # redshift setting\n",
    "            'zmin': 0.,\n",
    "            'zmax': 2.8,\n",
    "            'dz': 0.1\n",
    "        },\n",
    "        'q': {\n",
    "            # SNR setting\n",
    "            'log10qmin': 0.6,\n",
    "            'log10qmax': 2.0,\n",
    "            'dlog10q': 0.25\n",
    "        },\n",
    "        'M': {\n",
    "            # mass setting\n",
    "            'Mmin': 1e13,\n",
    "            'Mmax': 1e16,\n",
    "            'dlogM': 0.05\n",
    "        }\n",
    "    }\n",
    "    }},\n",
    "    'theory': {'camb': {'extra_args': {'num_massive_neutrinos': 0}}}\n",
    "}\n",
    "\n",
    "\n",
    "# initialisation \n",
    "model = get_model(info)\n",
    "like = model.likelihood['soliket.BinnedClusterLikelihood']\n",
    "\n",
    "model.loglikes({})[0]"
   ]
  },
  {
   "cell_type": "code",
   "execution_count": 22,
   "metadata": {},
   "outputs": [],
   "source": [
    "pk_intp = like.theory.get_Pk_interpolator((\"delta_nonu\", \"delta_nonu\"), nonlinear=False)\n",
    "SZparams = {\n",
    "    'tenToA0': 4.35e-5,\n",
    "    'B0': 0.08,\n",
    "    'C0': 2.,\n",
    "    'scatter_sz': 0.,\n",
    "    'bias_sz': 1.  \n",
    "}"
   ]
  },
  {
   "cell_type": "code",
   "execution_count": null,
   "metadata": {},
   "outputs": [],
   "source": [
    "Nzq = like._get_theory(pk_intp, **SZparams)\n",
    "z, q, catNzq = like.delN2Dcat"
   ]
  },
  {
   "cell_type": "code",
   "execution_count": 30,
   "metadata": {},
   "outputs": [],
   "source": [
    "Nq = np.zeros(len(q))\n",
    "catNq = np.zeros(len(q))\n",
    "for i in range(len(q)):\n",
    "    Nq[i] = Nzq[:,i].sum()    \n",
    "    catNq[i] = catNzq[:,i].sum()\n",
    "Nz = np.zeros(len(z))\n",
    "catNz = np.zeros(len(z))\n",
    "for i in range(len(z)):\n",
    "    Nz[i] = Nzq[i,:].sum()    \n",
    "    catNz[i] = catNzq[i,:].sum()"
   ]
  },
  {
   "cell_type": "code",
   "execution_count": 28,
   "metadata": {},
   "outputs": [],
   "source": [
    "color_list = plt.cm.magma(np.linspace(0.1,0.8,13))"
   ]
  },
  {
   "cell_type": "code",
   "execution_count": 25,
   "metadata": {},
   "outputs": [
    {
     "data": {
      "image/png": "[encoded data removed]",
      "text/plain": [
       "<Figure size 576x432 with 1 Axes>"
      ]
     },
     "metadata": {
      "needs_background": "light"
     },
     "output_type": "display_data"
    }
   ],
   "source": [
    "plt.figure(figsize=(8,6))\n",
    "plt.plot(q, Nq, color=color_list[2], label='CAMB prediction, nbins=5')\n",
    "plt.plot(q, Nq_ccl, color=color_list[6], label='CCL prediction, nbins=5')\n",
    "plt.errorbar(q, catNq, yerr=np.sqrt(catNq), color='black', fmt='o', ms=3, capsize=5, capthick=2, ls='none', label='mock catalogue')\n",
    "plt.xlabel('signal-to-noise $q$', fontsize=14)\n",
    "plt.ylabel('$N$', fontsize=14)\n",
    "plt.xscale('log')\n",
    "plt.yscale('log')\n",
    "plt.xticks(fontsize=14)\n",
    "plt.yticks(fontsize=14)\n",
    "plt.legend(fontsize=14)\n",
    "plt.grid()\n",
    "plt.show()"
   ]
  },
  {
   "cell_type": "code",
   "execution_count": 33,
   "metadata": {},
   "outputs": [
    {
     "data": {
      "image/png": "[encoded data removed]",
      "text/plain": [
       "<Figure size 576x432 with 1 Axes>"
      ]
     },
     "metadata": {
      "needs_background": "light"
     },
     "output_type": "display_data"
    }
   ],
   "source": [
    "plt.figure(figsize=(8,6))\n",
    "plt.plot(z, Nz, color=color_list[2], label='CAMB prediction, nbins=5')\n",
    "# plt.plot(q, Nq_ccl, color=color_list[6], label='CCL prediction, nbins=5')\n",
    "plt.errorbar(z, catNz, yerr=np.sqrt(catNz), color='black', fmt='o', ms=3, capsize=5, capthick=2, ls='none', label='mock catalogue')\n",
    "plt.xlabel('redshft $z$', fontsize=14)\n",
    "plt.ylabel('$N$', fontsize=14)\n",
    "plt.xscale('linear')\n",
    "plt.yscale('log')\n",
    "plt.xticks(fontsize=14)\n",
    "plt.yticks(fontsize=14)\n",
    "plt.legend(fontsize=14)\n",
    "plt.grid()\n",
    "plt.show()"
   ]
  },
  {
   "cell_type": "code",
   "execution_count": 34,
   "metadata": {},
   "outputs": [
    {
     "data": {
      "image/png": "[encoded data removed]",
      "text/plain": [
       "<Figure size 432x288 with 1 Axes>"
      ]
     },
     "metadata": {
      "needs_background": "light"
     },
     "output_type": "display_data"
    }
   ],
   "source": [
    "plt.semilogx(q, Nq_ccl/Nq, color=color_list[6])\n",
    "plt.xlabel('signal-to-noise $q$', fontsize=14)\n",
    "plt.ylabel('$N_{CCL}/N_{CAMB}$', fontsize=14)\n",
    "plt.show()"
   ]
  },
  {
   "cell_type": "code",
   "execution_count": null,
   "metadata": {},
   "outputs": [],
   "source": []
  },
  {
   "cell_type": "code",
   "execution_count": 12,
   "metadata": {},
   "outputs": [],
   "source": [
    "\n",
    "datafile_Q_dwsmpld = '/Users/boris/Work/CLASS-SZ/SO-SZ/SOLikeT/soliket/binned_clusters/data/advact/DR5ClusterSearch/selFn/QFitdwsmpld_nbins=5.npz'\n",
    "Qfile = np.load(datafile_Q_dwsmpld)\n",
    "allQ = Qfile['Q_dwsmpld']\n",
    "tt500 = Qfile['tt500']\n",
    "\n",
    "datafile_rms_dwsmpld = '/Users/boris/Work/CLASS-SZ/SO-SZ/SOLikeT/soliket/binned_clusters/data/advact/DR5ClusterSearch/selFn/RMSTabdwsmpld_nbins=5..npz'\n",
    "rms = np.load(datafile_rms_dwsmpld)\n",
    "noise = rms['noise']\n",
    "skyfracs = rms['skyfracs']"
   ]
  },
  {
   "cell_type": "code",
   "execution_count": 13,
   "metadata": {},
   "outputs": [
    {
     "data": {
      "image/png": "[encoded data removed]",
      "text/plain": [
       "<Figure size 432x288 with 1 Axes>"
      ]
     },
     "metadata": {
      "needs_background": "light"
     },
     "output_type": "display_data"
    }
   ],
   "source": [
    "plt.plot(tt500,allQ[:,0])\n",
    "plt.plot(tt500,allQ[:,1])\n",
    "plt.show()"
   ]
  },
  {
   "cell_type": "code",
   "execution_count": 14,
   "metadata": {},
   "outputs": [
    {
     "data": {
      "text/plain": [
       "51"
      ]
     },
     "execution_count": 14,
     "metadata": {},
     "output_type": "execute_result"
    }
   ],
   "source": [
    "np.shape(tt500)\n",
    "tt500.size"
   ]
  },
  {
   "cell_type": "code",
   "execution_count": 15,
   "metadata": {},
   "outputs": [
    {
     "data": {
      "text/plain": [
       "array([9.13590715e-06, 1.32191117e-05, 1.73023162e-05, 2.13855207e-05,\n",
       "       2.54687253e-05])"
      ]
     },
     "execution_count": 15,
     "metadata": {},
     "output_type": "execute_result"
    }
   ],
   "source": [
    "noise"
   ]
  },
  {
   "cell_type": "code",
   "execution_count": 17,
   "metadata": {},
   "outputs": [
    {
     "data": {
      "text/plain": [
       "array([0.0488115 , 0.09714411, 0.10777072, 0.06211241, 0.00441423])"
      ]
     },
     "execution_count": 17,
     "metadata": {},
     "output_type": "execute_result"
    }
   ],
   "source": [
    "rad_in_deg2 = (np.deg2rad(1.))**2.\n",
    "skyfracs/rad_in_deg2/41253."
   ]
  },
  {
   "cell_type": "markdown",
   "metadata": {},
   "source": [
    "# CLASS SZ"
   ]
  },
  {
   "cell_type": "code",
   "execution_count": 18,
   "metadata": {},
   "outputs": [],
   "source": [
    "rad_in_deg2 = (np.deg2rad(1.))**2.\n",
    "# np.savetxt(path_to_catalogue+'so_3freqs_191121_theta500arcmin_Q.txt',np.c_[tt500,Q])\n",
    "path_to_save = '/Users/boris/Work/CLASS-SZ/SO-SZ/class_sz/sz_auxiliary_files/'\n",
    "np.savetxt(path_to_save+'advact_dr5_skyfracs_300621_5bins.txt',np.c_[skyfracs/rad_in_deg2/41253.])"
   ]
  },
  {
   "cell_type": "code",
   "execution_count": 19,
   "metadata": {},
   "outputs": [],
   "source": [
    "so_skyfracs = np.loadtxt(path_to_save+'advact_dr5_skyfracs_300621_5bins.txt')\n",
    "so_ylims = []\n",
    "for index_thetas in range(tt500.size):\n",
    "    for id_patches in range(so_skyfracs.size):\n",
    "        so_ylims.append(noise[id_patches]/allQ[index_thetas,id_patches])\n",
    "so_ylims = np.asarray(so_ylims)\n",
    "np.savetxt(path_to_save+'advact_dr5_ylims_300621_5bins.txt',np.c_[so_ylims])\n",
    "np.savetxt(path_to_save+'advact_dr5_thetas_300621_5bins.txt',np.c_[tt500])"
   ]
  },
  {
   "cell_type": "code",
   "execution_count": 95,
   "metadata": {},
   "outputs": [],
   "source": [
    "class_sz_params = {\n",
    "'output' : 'sz_cluster_counts',\n",
    "'mass function'  : 'T08',\n",
    "'concentration parameter' : 'B13',\n",
    "'has_selection_function' : 1,\n",
    "'experiment' : 1.,\n",
    "#'sky_area_deg2' : 599.353 # not used when completeness demanded\n",
    "'y_m_relation' : 1,\n",
    "'use_planck_binned_proba' : 0, #use diff of erfs\n",
    "'class_sz_verbose'  : 0,\n",
    "\n",
    "'M_min' : 1e13,\n",
    "'M_max' : 1e16,\n",
    "    \n",
    "\n",
    "\n",
    "'N_ur' : 2.0328,\n",
    "'N_ncdm' : 1,\n",
    "'m_ncdm' : 0.0,\n",
    "'T_ncdm' : 0.71611,\n",
    "\n",
    "'non linear' : 'halofit',\n",
    "\n",
    "\n",
    "# scaling law parameter\n",
    "# Hilton et al 2020\n",
    "'A_ym'  : 4.35e-5,\n",
    "'B_ym'  : 0.08,\n",
    "'m_pivot_ym [Msun/h]' : 3e14,\n",
    "\n",
    "\n",
    "\n",
    "\n",
    "'bin_z_min_cluster_counts'  : 0.0001,\n",
    "'bin_z_max_cluster_counts'  : 2.8,\n",
    "'bin_dz_cluster_counts'  : 0.1,\n",
    "    \n",
    "'bin_dlog10_snr' : 0.1,\n",
    "'log10_snr_min' : 0.6,\n",
    "'log10_snr_max' : 2.,    \n",
    "    \n",
    "    \n",
    "# 'dlny' : 0.03,\n",
    "# 'lnymin' : -11.,\n",
    "# 'lnymax' : -5.,\n",
    "#sigmaM_ym = 0.075\n",
    "'sigmaM_ym' : 0.,\n",
    "'dlnM_cluster_count_completeness_grid' : 0.05,\n",
    "\n",
    "\n",
    "'cluster_count_completeness_grid_z_cutoff_low' : 0.5,\n",
    "'cluster_count_completeness_grid_z_cutoff_mid' : 1.5,\n",
    "'dz_cluster_count_completeness_grid_low_z' : 5e-3,\n",
    "'dz_cluster_count_completeness_grid_mid_z' : 1e-3,\n",
    "'dz_cluster_count_completeness_grid_high_z' : 1e-3,\n",
    "\n",
    "'mass_epsrel_cluster_counts' : 1e-3,\n",
    "'mass_epsabs_cluster_counts' : 1e-30,\n",
    "\n",
    "'redshift_epsrel_cluster_counts' : 1e-3,\n",
    "'redshift_epsabs_cluster_counts' : 1e-30,\n",
    "\n",
    "\n",
    "\n",
    "'signal-to-noise cut-off for survey cluster completeness' : 5,\n",
    "\n",
    "# 'h' :0.7,\n",
    "# 'Omega_b' :0.04,\n",
    "# 'Omega_cdm' :0.26,\n",
    "# #sigma8=0.8\n",
    "# 'ln10^{10}A_s'  : 3.1,\n",
    "# 'n_s' : 0.95,\n",
    "\n",
    "'100*theta_s': 1.04135,\n",
    "'n_s': 0.965,\n",
    "'omega_b': 0.0226576,      \n",
    "'omega_cdm': 0.1206864, \n",
    "'A_s': 2.022662e-9,    \n",
    "    \n",
    "# X ray mass bias (if applicable)\n",
    "'B' : 1.,\n",
    "\n",
    "\n",
    "\n",
    "\n",
    "# tabulation of mass function:\n",
    "'n_z_dndlnM' : 100,\n",
    "'n_m_dndlnM' : 100,\n",
    "\n",
    "# computation of mass function\n",
    "# (grid in mass and redshifts for sigma and dsigma)\n",
    "'ndim_masses' : 100,\n",
    "'ndim_redshifts' : 100,\n",
    "\n",
    "# pk setup for computation of sigma and dsigma\n",
    "'k_per_decade_class_sz' : 20.,\n",
    "'k_min_for_pk_class_sz' : 1e-3,\n",
    "'k_max_for_pk_class_sz' : 1e1,\n",
    "'P_k_max_h/Mpc' : 1e1,\n",
    "\n",
    "'SO_thetas_file' : '/Users/boris/Work/CLASS-SZ/SO-SZ/class_sz/sz_auxiliary_files/advact_dr5_thetas_300621_5bins.txt',\n",
    "'SO_skyfracs_file' : '/Users/boris/Work/CLASS-SZ/SO-SZ/class_sz/sz_auxiliary_files/advact_dr5_skyfracs_300621_5bins.txt',\n",
    "'SO_ylims_file' : '/Users/boris/Work/CLASS-SZ/SO-SZ/class_sz/sz_auxiliary_files/advact_dr5_ylims_300621_5bins.txt'\n",
    "}\n"
   ]
  },
  {
   "cell_type": "code",
   "execution_count": 96,
   "metadata": {},
   "outputs": [],
   "source": [
    "from classy_sz import Class\n",
    "M = Class()\n",
    "M.set(class_sz_params)\n",
    "M.compute()"
   ]
  },
  {
   "cell_type": "code",
   "execution_count": 97,
   "metadata": {},
   "outputs": [
    {
     "name": "stdout",
     "output_type": "stream",
     "text": [
      "h : 0.677322\n",
      "sigma8 : 0.809357\n",
      "Omega_m : 0.312457\n",
      "n_s : 0.965000\n"
     ]
    }
   ],
   "source": [
    "print('h : %f'%M.h())\n",
    "print('sigma8 : %f'%M.sigma8())\n",
    "print('Omega_m : %f'%M.Omega_m())\n",
    "print('n_s : %f'%M.n_s())"
   ]
  },
  {
   "cell_type": "code",
   "execution_count": 98,
   "metadata": {},
   "outputs": [],
   "source": [
    "dNdzdy_theoretical = M.dndzdy_theoretical()['dndzdy']\n",
    "# dNdzdy_theoretical_with_rel = M_with_rel.dndzdy_theoretical()['dndzdy']\n",
    "z_center = M.dndzdy_theoretical()['z_center']\n",
    "z_edges = M.dndzdy_theoretical()['z_edges']\n",
    "log10y_center = M.dndzdy_theoretical()['log10y_center']\n",
    "log10y_edges = M.dndzdy_theoretical()['log10y_edges']"
   ]
  },
  {
   "cell_type": "code",
   "execution_count": 99,
   "metadata": {},
   "outputs": [],
   "source": [
    "N_z,N_y = np.shape(dNdzdy_theoretical)\n",
    "N_clusters_z_theory = []\n",
    "N_clusters_z_theory_with_rel = []\n",
    "for iz in range(N_z):\n",
    "    N_clusters_z_theory.append(np.sum(dNdzdy_theoretical[iz]))\n",
    "#     N_clusters_z_theory_with_rel.append(np.sum(dNdzdy_theoretical_with_rel[iz]))\n",
    "N_clusters_y_theory = []\n",
    "N_clusters_y_theory_with_rel = []\n",
    "for iy in range(N_y):\n",
    "    N_clusters_y_theory.append(np.sum(np.asarray(dNdzdy_theoretical)[:,iy]))\n",
    "#     N_clusters_y_theory_with_rel.append(np.sum(np.asarray(dNdzdy_theoretical_with_rel)[:,iy]))\n",
    "\n"
   ]
  },
  {
   "cell_type": "code",
   "execution_count": 100,
   "metadata": {},
   "outputs": [
    {
     "data": {
      "image/png": "[encoded data removed]",
      "text/plain": [
       "<Figure size 576x432 with 1 Axes>"
      ]
     },
     "metadata": {
      "needs_background": "light"
     },
     "output_type": "display_data"
    }
   ],
   "source": [
    "plt.figure(figsize=(8,6))\n",
    "plt.plot(q, Nq, color=color_list[2], label='CAMB prediction, nbins=5')\n",
    "plt.plot(q, Nq_ccl, color=color_list[6], label='CCL prediction, nbins=5',marker='o')\n",
    "# plt.errorbar(q, catNq, yerr=np.sqrt(catNq), color='black', fmt='o', ms=3, capsize=5, capthick=2, ls='none', label='mock catalogue')\n",
    "plt.errorbar(10**np.asarray(log10y_center),N_clusters_y_theory,yerr=np.sqrt(N_clusters_y_theory),marker='o',markersize=3.,ls='none',label='class_sz',capsize=9,c='orange')\n",
    "\n",
    "plt.ylim(1e-1,1e5)\n",
    "plt.xlabel('signal-to-noise $q$', fontsize=14)\n",
    "plt.ylabel('$N$', fontsize=14)\n",
    "plt.xscale('log')\n",
    "plt.yscale('log')\n",
    "plt.xticks(fontsize=14)\n",
    "plt.yticks(fontsize=14)\n",
    "plt.legend(fontsize=14)\n",
    "plt.grid()\n",
    "plt.show()"
   ]
  },
  {
   "cell_type": "code",
   "execution_count": 93,
   "metadata": {},
   "outputs": [
    {
     "data": {
      "image/png": "[encoded data removed]",
      "text/plain": [
       "<Figure size 576x432 with 1 Axes>"
      ]
     },
     "metadata": {
      "needs_background": "light"
     },
     "output_type": "display_data"
    }
   ],
   "source": [
    "plt.figure(figsize=(8,6))\n",
    "plt.plot(q, Nq, color=color_list[2], label='CAMB prediction, nbins=5')\n",
    "plt.plot(q, Nq_ccl, color=color_list[6], label='CCL prediction, nbins=5',marker='o')\n",
    "# plt.errorbar(q, catNq, yerr=np.sqrt(catNq), color='black', fmt='o', ms=3, capsize=5, capthick=2, ls='none', label='mock catalogue')\n",
    "plt.errorbar(10**np.asarray(log10y_center),N_clusters_y_theory,yerr=np.sqrt(N_clusters_y_theory),marker='o',markersize=3.,ls='none',label='class_sz',capsize=9,c='orange')\n",
    "\n",
    "plt.ylim(1e-1,1e5)\n",
    "plt.xlabel('signal-to-noise $q$', fontsize=14)\n",
    "plt.ylabel('$N$', fontsize=14)\n",
    "plt.xscale('log')\n",
    "plt.yscale('log')\n",
    "plt.xticks(fontsize=14)\n",
    "plt.yticks(fontsize=14)\n",
    "plt.legend(fontsize=14)\n",
    "plt.grid()\n",
    "plt.show()"
   ]
  },
  {
   "cell_type": "code",
   "execution_count": 94,
   "metadata": {},
   "outputs": [
    {
     "data": {
      "image/png": "[encoded data removed]",
      "text/plain": [
       "<Figure size 576x432 with 1 Axes>"
      ]
     },
     "metadata": {
      "needs_background": "light"
     },
     "output_type": "display_data"
    }
   ],
   "source": [
    "plt.figure(figsize=(8,6))\n",
    "plt.plot(z, Nz, color=color_list[2], label='CAMB prediction, nbins=5',marker='o')\n",
    "# plt.plot(z, Nq_ccl, color=color_list[6], label='CCL prediction, nbins=5',marker='o')\n",
    "plt.errorbar(z, catNz, yerr=np.sqrt(catNz), color='black', fmt='o', ms=3, capsize=5, capthick=2, ls='none', label='mock catalogue')\n",
    "plt.errorbar(z_center,N_clusters_z_theory,yerr=np.sqrt(N_clusters_z_theory),marker='o',markersize=3.,ls='none',label='class_sz',capsize=9,c='orange')\n",
    "\n",
    "\n",
    "plt.xlabel('redshift $z$', fontsize=14)\n",
    "plt.ylabel('$N$', fontsize=14)\n",
    "plt.xscale('linear')\n",
    "plt.yscale('log')\n",
    "plt.xticks(fontsize=14)\n",
    "plt.yticks(fontsize=14)\n",
    "plt.legend(fontsize=14)\n",
    "plt.grid()\n",
    "plt.show()"
   ]
  },
  {
   "cell_type": "code",
   "execution_count": 69,
   "metadata": {},
   "outputs": [
    {
     "data": {
      "text/plain": [
       "array([0.74274592, 0.91830105, 1.12005186, 1.34036269, 1.5727302 ,\n",
       "       1.81249093])"
      ]
     },
     "execution_count": 69,
     "metadata": {},
     "output_type": "execute_result"
    }
   ],
   "source": [
    "np.log10(q)"
   ]
  },
  {
   "cell_type": "code",
   "execution_count": 70,
   "metadata": {},
   "outputs": [
    {
     "data": {
      "text/plain": [
       "[0.725, 0.975, 1.225, 1.475, 1.725, 1.975, 2.225]"
      ]
     },
     "execution_count": 70,
     "metadata": {},
     "output_type": "execute_result"
    }
   ],
   "source": [
    "log10y_center"
   ]
  },
  {
   "cell_type": "code",
   "execution_count": null,
   "metadata": {},
   "outputs": [],
   "source": []
  }
 ],
 "metadata": {
  "kernelspec": {
   "display_name": "Python 3 (ipykernel)",
   "language": "python",
   "name": "python3"
  },
  "language_info": {
   "codemirror_mode": {
    "name": "ipython",
    "version": 3
   },
   "file_extension": ".py",
   "mimetype": "text/x-python",
   "name": "python",
   "nbconvert_exporter": "python",
   "pygments_lexer": "ipython3",
   "version": "3.8.5"
  }
 },
 "nbformat": 4,
 "nbformat_minor": 4
}
