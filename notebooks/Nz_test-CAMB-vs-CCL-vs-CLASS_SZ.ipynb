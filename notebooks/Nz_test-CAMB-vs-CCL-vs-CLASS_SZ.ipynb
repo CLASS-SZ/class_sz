{
 "cells": [
  {
   "cell_type": "markdown",
   "metadata": {},
   "source": [
    "# Initialization\n"
   ]
  },
  {
   "cell_type": "code",
   "execution_count": 1,
   "metadata": {},
   "outputs": [
    {
     "name": "stdout",
     "output_type": "stream",
     "text": [
      "%pylab is deprecated, use %matplotlib inline and import the required libraries.\n",
      "Populating the interactive namespace from numpy and matplotlib\n"
     ]
    }
   ],
   "source": [
    "import numpy as np\n",
    "import matplotlib\n",
    "import matplotlib.pyplot as plt\n",
    "%matplotlib inline\n",
    "from soliket import BinnedClusterLikelihood\n",
    "from cobaya.model import get_model\n",
    "import camb\n",
    "%pylab inline\n",
    "\n",
    "path2data = '/Users/boris/Work/CLASS-SZ/SO-SZ/SOLikeT/soliket/binned_clusters/data/advact/'\n",
    "\n",
    "rad_in_deg2 = (np.deg2rad(1.))**2.\n"
   ]
  },
  {
   "cell_type": "code",
   "execution_count": 2,
   "metadata": {},
   "outputs": [
    {
     "name": "stdout",
     "output_type": "stream",
     "text": [
      "[0.81050087]\n"
     ]
    }
   ],
   "source": [
    "params = {\n",
    "    'cosmomc_theta': 0.0104135,\n",
    "    'ns': 0.965,\n",
    "    'ombh2': 0.0226576,      \n",
    "    'omch2': 0.1206864, \n",
    "    'As': 2.022662e-9,\n",
    "    'tenToA0': 4.35e-5,\n",
    "    'B0': 0.08,\n",
    "    'scatter_sz': 0.,\n",
    "    'bias_sz': 1.,\n",
    "    'tau': 0.055,\n",
    "    'mnu': 0.0,\n",
    "    'nnu': 3.046,\n",
    "    'omnuh2': 0.,\n",
    "    'w': -1,\n",
    "    \n",
    "    'C0': 0. # not used\n",
    "\n",
    "}\n",
    "\n",
    "#Set up a new set of parameters for CAMB\n",
    "pars = camb.CAMBparams()\n",
    "#This function sets up CosmoMC-like settings, with one massive neutrino and helium set using BBN consistency\n",
    "pars.set_cosmology(cosmomc_theta=params['cosmomc_theta'], ombh2=params['ombh2'], omch2=params['omch2'], mnu=0.0, omk=0, \\\n",
    "                   tau=params['tau'])\n",
    "pars.InitPower.set_params(As=params['As'], ns=params['ns'], r=0)\n",
    "pars.set_for_lmax(2500, lens_potential_accuracy=0);\n",
    "\n",
    "#calculate results for these parameters\n",
    "results = camb.get_results(pars)\n",
    "\n",
    "#Note non-linear corrections couples to smaller scales than you want\n",
    "pars.set_matter_power(redshifts=[0.], kmax=2.0)\n",
    "\n",
    "#Linear spectra\n",
    "results = camb.get_results(pars)\n",
    "kh, z, pk = results.get_matter_power_spectrum(minkh=1e-4, maxkh=1, npoints = 200)\n",
    "s8 = np.array(results.get_sigma8())\n",
    "print(s8)"
   ]
  },
  {
   "cell_type": "markdown",
   "metadata": {},
   "source": [
    "# CCL"
   ]
  },
  {
   "cell_type": "code",
   "execution_count": 13,
   "metadata": {},
   "outputs": [
    {
     "name": "stderr",
     "output_type": "stream",
     "text": [
      "Initializing binned_clusters_test.py\n",
      "Initializing binned_clusters_test.py\n",
      "Initializing binned_clusters_test.py\n",
      "Initializing binned_clusters_test.py\n",
      "Initializing binned_clusters_test.py\n",
      "Initializing binned_clusters_test.py\n",
      "Downsampling selection function inputs.\n",
      "Downsampling selection function inputs.\n",
      "Downsampling selection function inputs.\n",
      "Downsampling selection function inputs.\n",
      "Downsampling selection function inputs.\n",
      "Downsampling selection function inputs.\n",
      "Considering full map.\n",
      "Considering full map.\n",
      "Considering full map.\n",
      "Considering full map.\n",
      "Considering full map.\n",
      "Considering full map.\n",
      "2D likelihood as a function of redshift and signal-to-noise.\n",
      "2D likelihood as a function of redshift and signal-to-noise.\n",
      "2D likelihood as a function of redshift and signal-to-noise.\n",
      "2D likelihood as a function of redshift and signal-to-noise.\n",
      "2D likelihood as a function of redshift and signal-to-noise.\n",
      "2D likelihood as a function of redshift and signal-to-noise.\n",
      "Reading data catalog.\n",
      "Reading data catalog.\n",
      "Reading data catalog.\n",
      "Reading data catalog.\n",
      "Reading data catalog.\n",
      "Reading data catalog.\n",
      "Total number of clusters in catalogue = 4195.\n",
      "Total number of clusters in catalogue = 4195.\n",
      "Total number of clusters in catalogue = 4195.\n",
      "Total number of clusters in catalogue = 4195.\n",
      "Total number of clusters in catalogue = 4195.\n",
      "Total number of clusters in catalogue = 4195.\n",
      "SNR cut = 5.0.\n",
      "SNR cut = 5.0.\n",
      "SNR cut = 5.0.\n",
      "SNR cut = 5.0.\n",
      "SNR cut = 5.0.\n",
      "SNR cut = 5.0.\n",
      "Number of clusters above the SNR cut = 2212.\n",
      "Number of clusters above the SNR cut = 2212.\n",
      "Number of clusters above the SNR cut = 2212.\n",
      "Number of clusters above the SNR cut = 2212.\n",
      "Number of clusters above the SNR cut = 2212.\n",
      "Number of clusters above the SNR cut = 2212.\n",
      "The highest redshift = 1.91\n",
      "The highest redshift = 1.91\n",
      "The highest redshift = 1.91\n",
      "The highest redshift = 1.91\n",
      "The highest redshift = 1.91\n",
      "The highest redshift = 1.91\n",
      "Number of redshift bins = 28.\n",
      "Number of redshift bins = 28.\n",
      "Number of redshift bins = 28.\n",
      "Number of redshift bins = 28.\n",
      "Number of redshift bins = 28.\n",
      "Number of redshift bins = 28.\n",
      "Number of mass bins for theory calculation 138.\n",
      "Number of mass bins for theory calculation 138.\n",
      "Number of mass bins for theory calculation 138.\n",
      "Number of mass bins for theory calculation 138.\n",
      "Number of mass bins for theory calculation 138.\n",
      "Number of mass bins for theory calculation 138.\n",
      "The lowest SNR = 5.001384841152361.\n",
      "The lowest SNR = 5.001384841152361.\n",
      "The lowest SNR = 5.001384841152361.\n",
      "The lowest SNR = 5.001384841152361.\n",
      "The lowest SNR = 5.001384841152361.\n",
      "The lowest SNR = 5.001384841152361.\n",
      "The highest SNR = 53.52369867212418.\n",
      "The highest SNR = 53.52369867212418.\n",
      "The highest SNR = 53.52369867212418.\n",
      "The highest SNR = 53.52369867212418.\n",
      "The highest SNR = 53.52369867212418.\n",
      "The highest SNR = 53.52369867212418.\n",
      "Number of SNR bins = 6.\n",
      "Number of SNR bins = 6.\n",
      "Number of SNR bins = 6.\n",
      "Number of SNR bins = 6.\n",
      "Number of SNR bins = 6.\n",
      "Number of SNR bins = 6.\n",
      "Edges of SNR bins = [  3.98107171   7.07945784  12.58925412  22.38721139  39.81071706\n",
      "  70.79457844 125.89254118].\n",
      "Edges of SNR bins = [  3.98107171   7.07945784  12.58925412  22.38721139  39.81071706\n",
      "  70.79457844 125.89254118].\n",
      "Edges of SNR bins = [  3.98107171   7.07945784  12.58925412  22.38721139  39.81071706\n",
      "  70.79457844 125.89254118].\n",
      "Edges of SNR bins = [  3.98107171   7.07945784  12.58925412  22.38721139  39.81071706\n",
      "  70.79457844 125.89254118].\n",
      "Edges of SNR bins = [  3.98107171   7.07945784  12.58925412  22.38721139  39.81071706\n",
      "  70.79457844 125.89254118].\n",
      "Edges of SNR bins = [  3.98107171   7.07945784  12.58925412  22.38721139  39.81071706\n",
      "  70.79457844 125.89254118].\n",
      "Loading files describing selection function.\n",
      "Loading files describing selection function.\n",
      "Loading files describing selection function.\n",
      "Loading files describing selection function.\n",
      "Loading files describing selection function.\n",
      "Loading files describing selection function.\n",
      "Reading Q as a function of theta.\n",
      "Reading Q as a function of theta.\n",
      "Reading Q as a function of theta.\n",
      "Reading Q as a function of theta.\n",
      "Reading Q as a function of theta.\n",
      "Reading Q as a function of theta.\n",
      "Reading in binned Q function from file.\n",
      "Reading in binned Q function from file.\n",
      "Reading in binned Q function from file.\n",
      "Reading in binned Q function from file.\n",
      "Reading in binned Q function from file.\n",
      "Reading in binned Q function from file.\n"
     ]
    },
    {
     "ename": "FileNotFoundError",
     "evalue": "[Errno 2] No such file or directory: '/Users/boris/Work/CLASS-SZ/SO-SZ/SOLikeT/soliket/binned_clusters/data/advact/DR5ClusterSearch/selFn/QFitdwsmpld_nbins=5.npz'",
     "output_type": "error",
     "traceback": [
      "\u001b[0;31m---------------------------------------------------------------------------\u001b[0m",
      "\u001b[0;31mFileNotFoundError\u001b[0m                         Traceback (most recent call last)",
      "Input \u001b[0;32mIn [13]\u001b[0m, in \u001b[0;36m<cell line: 78>\u001b[0;34m()\u001b[0m\n\u001b[1;32m     17\u001b[0m info \u001b[38;5;241m=\u001b[39m {\n\u001b[1;32m     18\u001b[0m     \u001b[38;5;124m'\u001b[39m\u001b[38;5;124mparams\u001b[39m\u001b[38;5;124m'\u001b[39m: params,\n\u001b[1;32m     19\u001b[0m     \u001b[38;5;124m'\u001b[39m\u001b[38;5;124mlikelihood\u001b[39m\u001b[38;5;124m'\u001b[39m: {\u001b[38;5;124m'\u001b[39m\u001b[38;5;124msoliket.BinnedClusterLikelihood\u001b[39m\u001b[38;5;124m'\u001b[39m: {\n\u001b[0;32m   (...)\u001b[0m\n\u001b[1;32m     73\u001b[0m                 \u001b[38;5;124m'\u001b[39m\u001b[38;5;124mmd_hmf\u001b[39m\u001b[38;5;124m'\u001b[39m: \u001b[38;5;124m'\u001b[39m\u001b[38;5;124m200m\u001b[39m\u001b[38;5;124m'\u001b[39m}}\n\u001b[1;32m     74\u001b[0m }\n\u001b[1;32m     77\u001b[0m \u001b[38;5;66;03m# initialisation \u001b[39;00m\n\u001b[0;32m---> 78\u001b[0m model \u001b[38;5;241m=\u001b[39m \u001b[43mget_model\u001b[49m\u001b[43m(\u001b[49m\u001b[43minfo\u001b[49m\u001b[43m)\u001b[49m\n\u001b[1;32m     79\u001b[0m like \u001b[38;5;241m=\u001b[39m model\u001b[38;5;241m.\u001b[39mlikelihood[\u001b[38;5;124m'\u001b[39m\u001b[38;5;124msoliket.BinnedClusterLikelihood\u001b[39m\u001b[38;5;124m'\u001b[39m]\n\u001b[1;32m     81\u001b[0m model\u001b[38;5;241m.\u001b[39mloglikes({})[\u001b[38;5;241m0\u001b[39m]\n",
      "File \u001b[0;32m~/Work/CLASS-SZ/SO-SZ/cobaya_sz/cobaya/model.py:1369\u001b[0m, in \u001b[0;36mget_model\u001b[0;34m(info_or_yaml_or_file, debug, stop_at_error, packages_path, override)\u001b[0m\n\u001b[1;32m   1365\u001b[0m     get_logger(\u001b[38;5;18m__name__\u001b[39m)\u001b[38;5;241m.\u001b[39mdebug(\n\u001b[1;32m   1366\u001b[0m         \u001b[38;5;124m\"\u001b[39m\u001b[38;5;124mInput info updated with defaults (dumped to YAML):\u001b[39m\u001b[38;5;130;01m\\n\u001b[39;00m\u001b[38;5;132;01m%s\u001b[39;00m\u001b[38;5;124m\"\u001b[39m,\n\u001b[1;32m   1367\u001b[0m         yaml_dump(sort_cosmetic(updated_info)))\n\u001b[1;32m   1368\u001b[0m \u001b[38;5;66;03m# Initialize the parameters and posterior\u001b[39;00m\n\u001b[0;32m-> 1369\u001b[0m \u001b[38;5;28;01mreturn\u001b[39;00m \u001b[43mModel\u001b[49m\u001b[43m(\u001b[49m\u001b[43mupdated_info\u001b[49m\u001b[43m[\u001b[49m\u001b[38;5;124;43m\"\u001b[39;49m\u001b[38;5;124;43mparams\u001b[39;49m\u001b[38;5;124;43m\"\u001b[39;49m\u001b[43m]\u001b[49m\u001b[43m,\u001b[49m\u001b[43m \u001b[49m\u001b[43mupdated_info\u001b[49m\u001b[43m[\u001b[49m\u001b[38;5;124;43m\"\u001b[39;49m\u001b[38;5;124;43mlikelihood\u001b[39;49m\u001b[38;5;124;43m\"\u001b[39;49m\u001b[43m]\u001b[49m\u001b[43m,\u001b[49m\n\u001b[1;32m   1370\u001b[0m \u001b[43m             \u001b[49m\u001b[43mupdated_info\u001b[49m\u001b[38;5;241;43m.\u001b[39;49m\u001b[43mget\u001b[49m\u001b[43m(\u001b[49m\u001b[38;5;124;43m\"\u001b[39;49m\u001b[38;5;124;43mprior\u001b[39;49m\u001b[38;5;124;43m\"\u001b[39;49m\u001b[43m)\u001b[49m\u001b[43m,\u001b[49m\u001b[43m \u001b[49m\u001b[43mupdated_info\u001b[49m\u001b[38;5;241;43m.\u001b[39;49m\u001b[43mget\u001b[49m\u001b[43m(\u001b[49m\u001b[38;5;124;43m\"\u001b[39;49m\u001b[38;5;124;43mtheory\u001b[39;49m\u001b[38;5;124;43m\"\u001b[39;49m\u001b[43m)\u001b[49m\u001b[43m,\u001b[49m\n\u001b[1;32m   1371\u001b[0m \u001b[43m             \u001b[49m\u001b[43mpackages_path\u001b[49m\u001b[38;5;241;43m=\u001b[39;49m\u001b[43minfo\u001b[49m\u001b[38;5;241;43m.\u001b[39;49m\u001b[43mget\u001b[49m\u001b[43m(\u001b[49m\u001b[43mpackages_path_input\u001b[49m\u001b[43m)\u001b[49m\u001b[43m,\u001b[49m\n\u001b[1;32m   1372\u001b[0m \u001b[43m             \u001b[49m\u001b[43mtiming\u001b[49m\u001b[38;5;241;43m=\u001b[39;49m\u001b[43mupdated_info\u001b[49m\u001b[38;5;241;43m.\u001b[39;49m\u001b[43mget\u001b[49m\u001b[43m(\u001b[49m\u001b[38;5;124;43m\"\u001b[39;49m\u001b[38;5;124;43mtiming\u001b[39;49m\u001b[38;5;124;43m\"\u001b[39;49m\u001b[43m)\u001b[49m\u001b[43m,\u001b[49m\n\u001b[1;32m   1373\u001b[0m \u001b[43m             \u001b[49m\u001b[43mstop_at_error\u001b[49m\u001b[38;5;241;43m=\u001b[39;49m\u001b[43minfo\u001b[49m\u001b[38;5;241;43m.\u001b[39;49m\u001b[43mget\u001b[49m\u001b[43m(\u001b[49m\u001b[38;5;124;43m\"\u001b[39;49m\u001b[38;5;124;43mstop_at_error\u001b[39;49m\u001b[38;5;124;43m\"\u001b[39;49m\u001b[43m,\u001b[49m\u001b[43m \u001b[49m\u001b[38;5;28;43;01mFalse\u001b[39;49;00m\u001b[43m)\u001b[49m\u001b[43m)\u001b[49m\n",
      "File \u001b[0;32m~/Work/CLASS-SZ/SO-SZ/cobaya_sz/cobaya/model.py:247\u001b[0m, in \u001b[0;36mModel.__init__\u001b[0;34m(self, info_params, info_likelihood, info_prior, info_theory, packages_path, timing, allow_renames, stop_at_error, post, skip_unused_theories, dropped_theory_params)\u001b[0m\n\u001b[1;32m    244\u001b[0m \u001b[38;5;28mself\u001b[39m\u001b[38;5;241m.\u001b[39mtheory \u001b[38;5;241m=\u001b[39m TheoryCollection(info_theory \u001b[38;5;129;01mor\u001b[39;00m {}, packages_path\u001b[38;5;241m=\u001b[39mpackages_path,\n\u001b[1;32m    245\u001b[0m                                timing\u001b[38;5;241m=\u001b[39mtiming)\n\u001b[1;32m    246\u001b[0m info_likelihood \u001b[38;5;241m=\u001b[39m \u001b[38;5;28mself\u001b[39m\u001b[38;5;241m.\u001b[39m_updated_info[\u001b[38;5;124m\"\u001b[39m\u001b[38;5;124mlikelihood\u001b[39m\u001b[38;5;124m\"\u001b[39m]\n\u001b[0;32m--> 247\u001b[0m \u001b[38;5;28mself\u001b[39m\u001b[38;5;241m.\u001b[39mlikelihood \u001b[38;5;241m=\u001b[39m \u001b[43mLikelihoodCollection\u001b[49m\u001b[43m(\u001b[49m\u001b[43minfo_likelihood\u001b[49m\u001b[43m,\u001b[49m\u001b[43m \u001b[49m\u001b[43mtheory\u001b[49m\u001b[38;5;241;43m=\u001b[39;49m\u001b[38;5;28;43mself\u001b[39;49m\u001b[38;5;241;43m.\u001b[39;49m\u001b[43mtheory\u001b[49m\u001b[43m,\u001b[49m\n\u001b[1;32m    248\u001b[0m \u001b[43m                                       \u001b[49m\u001b[43mpackages_path\u001b[49m\u001b[38;5;241;43m=\u001b[39;49m\u001b[43mpackages_path\u001b[49m\u001b[43m,\u001b[49m\u001b[43m \u001b[49m\u001b[43mtiming\u001b[49m\u001b[38;5;241;43m=\u001b[39;49m\u001b[43mtiming\u001b[49m\u001b[43m)\u001b[49m\n\u001b[1;32m    249\u001b[0m \u001b[38;5;28;01mif\u001b[39;00m stop_at_error:\n\u001b[1;32m    250\u001b[0m     \u001b[38;5;28;01mfor\u001b[39;00m component \u001b[38;5;129;01min\u001b[39;00m \u001b[38;5;28mself\u001b[39m\u001b[38;5;241m.\u001b[39mcomponents:\n",
      "File \u001b[0;32m~/Work/CLASS-SZ/SO-SZ/cobaya_sz/cobaya/likelihood.py:275\u001b[0m, in \u001b[0;36mLikelihoodCollection.__init__\u001b[0;34m(self, info_likelihood, packages_path, timing, theory)\u001b[0m\n\u001b[1;32m    270\u001b[0m     \u001b[38;5;28;01massert\u001b[39;00m \u001b[38;5;28misinstance\u001b[39m(info, Mapping)\n\u001b[1;32m    271\u001b[0m     like_class: \u001b[38;5;28mtype\u001b[39m \u001b[38;5;241m=\u001b[39m get_component_class(\n\u001b[1;32m    272\u001b[0m         name, kind\u001b[38;5;241m=\u001b[39m\u001b[38;5;124m\"\u001b[39m\u001b[38;5;124mlikelihood\u001b[39m\u001b[38;5;124m\"\u001b[39m,\n\u001b[1;32m    273\u001b[0m         component_path\u001b[38;5;241m=\u001b[39minfo\u001b[38;5;241m.\u001b[39mget(\u001b[38;5;124m\"\u001b[39m\u001b[38;5;124mpython_path\u001b[39m\u001b[38;5;124m\"\u001b[39m, \u001b[38;5;28;01mNone\u001b[39;00m),\n\u001b[1;32m    274\u001b[0m         class_name\u001b[38;5;241m=\u001b[39minfo\u001b[38;5;241m.\u001b[39mget(\u001b[38;5;124m\"\u001b[39m\u001b[38;5;124mclass\u001b[39m\u001b[38;5;124m\"\u001b[39m), logger\u001b[38;5;241m=\u001b[39m\u001b[38;5;28mself\u001b[39m\u001b[38;5;241m.\u001b[39mlog)\n\u001b[0;32m--> 275\u001b[0m     \u001b[38;5;28mself\u001b[39m\u001b[38;5;241m.\u001b[39madd_instance(name, \u001b[43mlike_class\u001b[49m\u001b[43m(\u001b[49m\u001b[43minfo\u001b[49m\u001b[43m,\u001b[49m\u001b[43m \u001b[49m\u001b[43mpackages_path\u001b[49m\u001b[38;5;241;43m=\u001b[39;49m\u001b[43mpackages_path\u001b[49m\u001b[43m,\u001b[49m\n\u001b[1;32m    276\u001b[0m \u001b[43m                                       \u001b[49m\u001b[43mtiming\u001b[49m\u001b[38;5;241;43m=\u001b[39;49m\u001b[43mtiming\u001b[49m\u001b[43m,\u001b[49m\u001b[43m \u001b[49m\u001b[43mstandalone\u001b[49m\u001b[38;5;241;43m=\u001b[39;49m\u001b[38;5;28;43;01mFalse\u001b[39;49;00m\u001b[43m,\u001b[49m\n\u001b[1;32m    277\u001b[0m \u001b[43m                                       \u001b[49m\u001b[43mname\u001b[49m\u001b[38;5;241;43m=\u001b[39;49m\u001b[43mname\u001b[49m\u001b[43m)\u001b[49m)\n\u001b[1;32m    279\u001b[0m \u001b[38;5;28;01mif\u001b[39;00m \u001b[38;5;129;01mnot\u001b[39;00m is_LikelihoodInterface(\u001b[38;5;28mself\u001b[39m[name]):\n\u001b[1;32m    280\u001b[0m     \u001b[38;5;28;01mraise\u001b[39;00m LoggedError(\u001b[38;5;28mself\u001b[39m\u001b[38;5;241m.\u001b[39mlog, \u001b[38;5;124m\"\u001b[39m\u001b[38;5;124m'\u001b[39m\u001b[38;5;124mLikelihood\u001b[39m\u001b[38;5;124m'\u001b[39m\u001b[38;5;124m \u001b[39m\u001b[38;5;132;01m%s\u001b[39;00m\u001b[38;5;124m is not actually a \u001b[39m\u001b[38;5;124m\"\u001b[39m\n\u001b[1;32m    281\u001b[0m                                 \u001b[38;5;124m\"\u001b[39m\u001b[38;5;124mlikelihood (no current_logp attribute)\u001b[39m\u001b[38;5;124m\"\u001b[39m,\n\u001b[1;32m    282\u001b[0m                       name)\n",
      "File \u001b[0;32m~/Work/CLASS-SZ/SO-SZ/cobaya_sz/cobaya/likelihood.py:89\u001b[0m, in \u001b[0;36mLikelihood.__init__\u001b[0;34m(self, info, name, timing, packages_path, initialize, standalone)\u001b[0m\n\u001b[1;32m     83\u001b[0m \u001b[38;5;28;01mdef\u001b[39;00m \u001b[38;5;21m__init__\u001b[39m(\u001b[38;5;28mself\u001b[39m, info: LikeDictIn \u001b[38;5;241m=\u001b[39m empty_dict,\n\u001b[1;32m     84\u001b[0m              name: Optional[\u001b[38;5;28mstr\u001b[39m] \u001b[38;5;241m=\u001b[39m \u001b[38;5;28;01mNone\u001b[39;00m,\n\u001b[1;32m     85\u001b[0m              timing: Optional[\u001b[38;5;28mbool\u001b[39m] \u001b[38;5;241m=\u001b[39m \u001b[38;5;28;01mNone\u001b[39;00m,\n\u001b[1;32m     86\u001b[0m              packages_path: Optional[\u001b[38;5;28mstr\u001b[39m] \u001b[38;5;241m=\u001b[39m \u001b[38;5;28;01mNone\u001b[39;00m,\n\u001b[1;32m     87\u001b[0m              initialize\u001b[38;5;241m=\u001b[39m\u001b[38;5;28;01mTrue\u001b[39;00m, standalone\u001b[38;5;241m=\u001b[39m\u001b[38;5;28;01mTrue\u001b[39;00m):\n\u001b[1;32m     88\u001b[0m     \u001b[38;5;28mself\u001b[39m\u001b[38;5;241m.\u001b[39mdelay \u001b[38;5;241m=\u001b[39m \u001b[38;5;241m0\u001b[39m\n\u001b[0;32m---> 89\u001b[0m     \u001b[38;5;28;43msuper\u001b[39;49m\u001b[43m(\u001b[49m\u001b[43m)\u001b[49m\u001b[38;5;241;43m.\u001b[39;49m\u001b[38;5;21;43m__init__\u001b[39;49m\u001b[43m(\u001b[49m\u001b[43minfo\u001b[49m\u001b[43m,\u001b[49m\u001b[43m \u001b[49m\u001b[43mname\u001b[49m\u001b[38;5;241;43m=\u001b[39;49m\u001b[43mname\u001b[49m\u001b[43m,\u001b[49m\u001b[43m \u001b[49m\u001b[43mtiming\u001b[49m\u001b[38;5;241;43m=\u001b[39;49m\u001b[43mtiming\u001b[49m\u001b[43m,\u001b[49m\n\u001b[1;32m     90\u001b[0m \u001b[43m                     \u001b[49m\u001b[43mpackages_path\u001b[49m\u001b[38;5;241;43m=\u001b[39;49m\u001b[43mpackages_path\u001b[49m\u001b[43m,\u001b[49m\u001b[43m \u001b[49m\u001b[43minitialize\u001b[49m\u001b[38;5;241;43m=\u001b[39;49m\u001b[43minitialize\u001b[49m\u001b[43m,\u001b[49m\n\u001b[1;32m     91\u001b[0m \u001b[43m                     \u001b[49m\u001b[43mstandalone\u001b[49m\u001b[38;5;241;43m=\u001b[39;49m\u001b[43mstandalone\u001b[49m\u001b[43m)\u001b[49m\n",
      "File \u001b[0;32m~/Work/CLASS-SZ/SO-SZ/cobaya_sz/cobaya/theory.py:65\u001b[0m, in \u001b[0;36mTheory.__init__\u001b[0;34m(self, info, name, timing, packages_path, initialize, standalone)\u001b[0m\n\u001b[1;32m     59\u001b[0m \u001b[38;5;28;01mdef\u001b[39;00m \u001b[38;5;21m__init__\u001b[39m(\u001b[38;5;28mself\u001b[39m, info: TheoryDictIn \u001b[38;5;241m=\u001b[39m empty_dict,\n\u001b[1;32m     60\u001b[0m              name: Optional[\u001b[38;5;28mstr\u001b[39m] \u001b[38;5;241m=\u001b[39m \u001b[38;5;28;01mNone\u001b[39;00m, timing: Optional[\u001b[38;5;28mbool\u001b[39m] \u001b[38;5;241m=\u001b[39m \u001b[38;5;28;01mNone\u001b[39;00m,\n\u001b[1;32m     61\u001b[0m              packages_path: Optional[\u001b[38;5;28mstr\u001b[39m] \u001b[38;5;241m=\u001b[39m \u001b[38;5;28;01mNone\u001b[39;00m,\n\u001b[1;32m     62\u001b[0m              initialize\u001b[38;5;241m=\u001b[39m\u001b[38;5;28;01mTrue\u001b[39;00m, standalone\u001b[38;5;241m=\u001b[39m\u001b[38;5;28;01mTrue\u001b[39;00m):\n\u001b[1;32m     64\u001b[0m     \u001b[38;5;28mself\u001b[39m\u001b[38;5;241m.\u001b[39m_measured_speed \u001b[38;5;241m=\u001b[39m \u001b[38;5;28;01mNone\u001b[39;00m\n\u001b[0;32m---> 65\u001b[0m     \u001b[38;5;28;43msuper\u001b[39;49m\u001b[43m(\u001b[49m\u001b[43m)\u001b[49m\u001b[38;5;241;43m.\u001b[39;49m\u001b[38;5;21;43m__init__\u001b[39;49m\u001b[43m(\u001b[49m\u001b[43minfo\u001b[49m\u001b[43m,\u001b[49m\u001b[43m \u001b[49m\u001b[43mname\u001b[49m\u001b[38;5;241;43m=\u001b[39;49m\u001b[43mname\u001b[49m\u001b[43m,\u001b[49m\u001b[43m \u001b[49m\u001b[43mtiming\u001b[49m\u001b[38;5;241;43m=\u001b[39;49m\u001b[43mtiming\u001b[49m\u001b[43m,\u001b[49m\n\u001b[1;32m     66\u001b[0m \u001b[43m                     \u001b[49m\u001b[43mpackages_path\u001b[49m\u001b[38;5;241;43m=\u001b[39;49m\u001b[43mpackages_path\u001b[49m\u001b[43m,\u001b[49m\u001b[43m \u001b[49m\u001b[43minitialize\u001b[49m\u001b[38;5;241;43m=\u001b[39;49m\u001b[43minitialize\u001b[49m\u001b[43m,\u001b[49m\n\u001b[1;32m     67\u001b[0m \u001b[43m                     \u001b[49m\u001b[43mstandalone\u001b[49m\u001b[38;5;241;43m=\u001b[39;49m\u001b[43mstandalone\u001b[49m\u001b[43m)\u001b[49m\n\u001b[1;32m     69\u001b[0m     \u001b[38;5;66;03m# set to Provider instance before calculations\u001b[39;00m\n\u001b[1;32m     70\u001b[0m     \u001b[38;5;28mself\u001b[39m\u001b[38;5;241m.\u001b[39mprovider: Any \u001b[38;5;241m=\u001b[39m \u001b[38;5;28;01mNone\u001b[39;00m\n",
      "File \u001b[0;32m~/Work/CLASS-SZ/SO-SZ/cobaya_sz/cobaya/component.py:332\u001b[0m, in \u001b[0;36mCobayaComponent.__init__\u001b[0;34m(self, info, name, timing, packages_path, initialize, standalone)\u001b[0m\n\u001b[1;32m    330\u001b[0m \u001b[38;5;28;01mtry\u001b[39;00m:\n\u001b[1;32m    331\u001b[0m     \u001b[38;5;28;01mif\u001b[39;00m initialize:\n\u001b[0;32m--> 332\u001b[0m         \u001b[38;5;28;43mself\u001b[39;49m\u001b[38;5;241;43m.\u001b[39;49m\u001b[43minitialize\u001b[49m\u001b[43m(\u001b[49m\u001b[43m)\u001b[49m\n\u001b[1;32m    333\u001b[0m \u001b[38;5;28;01mexcept\u001b[39;00m \u001b[38;5;167;01mAttributeError\u001b[39;00m \u001b[38;5;28;01mas\u001b[39;00m e:\n\u001b[1;32m    334\u001b[0m     \u001b[38;5;28;01mif\u001b[39;00m \u001b[38;5;124m'\u001b[39m\u001b[38;5;124m_params\u001b[39m\u001b[38;5;124m'\u001b[39m \u001b[38;5;129;01min\u001b[39;00m \u001b[38;5;28mstr\u001b[39m(e):\n",
      "File \u001b[0;32m~/Work/CLASS-SZ/SO-SZ/SOLikeT/soliket/binned_clusters/binned_clusters.py:174\u001b[0m, in \u001b[0;36mBinnedClusterLikelihood.initialize\u001b[0;34m(self)\u001b[0m\n\u001b[1;32m    170\u001b[0m datafile_Q_dwsmpld \u001b[38;5;241m=\u001b[39m os\u001b[38;5;241m.\u001b[39mpath\u001b[38;5;241m.\u001b[39mjoin(\u001b[38;5;28mself\u001b[39m\u001b[38;5;241m.\u001b[39mdata_directory,\n\u001b[1;32m    171\u001b[0m             filename_Q \u001b[38;5;241m+\u001b[39m \u001b[38;5;124m'\u001b[39m\u001b[38;5;124mdwsmpld_nbins=\u001b[39m\u001b[38;5;132;01m{}\u001b[39;00m\u001b[38;5;124m'\u001b[39m\u001b[38;5;241m.\u001b[39mformat(\u001b[38;5;28mself\u001b[39m\u001b[38;5;241m.\u001b[39mselfunc[\u001b[38;5;124m'\u001b[39m\u001b[38;5;124mdwnsmpl_bins\u001b[39m\u001b[38;5;124m'\u001b[39m]) \u001b[38;5;241m+\u001b[39m \u001b[38;5;124m'\u001b[39m\u001b[38;5;124m.npz\u001b[39m\u001b[38;5;124m'\u001b[39m)\n\u001b[1;32m    172\u001b[0m \u001b[38;5;28mself\u001b[39m\u001b[38;5;241m.\u001b[39mlog\u001b[38;5;241m.\u001b[39minfo(\u001b[38;5;124m'\u001b[39m\u001b[38;5;124mReading in binned Q function from file.\u001b[39m\u001b[38;5;124m'\u001b[39m)\n\u001b[0;32m--> 174\u001b[0m Qfile \u001b[38;5;241m=\u001b[39m \u001b[43mnp\u001b[49m\u001b[38;5;241;43m.\u001b[39;49m\u001b[43mload\u001b[49m\u001b[43m(\u001b[49m\u001b[43mdatafile_Q_dwsmpld\u001b[49m\u001b[43m)\u001b[49m\n\u001b[1;32m    175\u001b[0m \u001b[38;5;28mself\u001b[39m\u001b[38;5;241m.\u001b[39mallQ \u001b[38;5;241m=\u001b[39m Qfile[\u001b[38;5;124m'\u001b[39m\u001b[38;5;124mQ_dwsmpld\u001b[39m\u001b[38;5;124m'\u001b[39m]\n\u001b[1;32m    176\u001b[0m \u001b[38;5;28mself\u001b[39m\u001b[38;5;241m.\u001b[39mtt500 \u001b[38;5;241m=\u001b[39m Qfile[\u001b[38;5;124m'\u001b[39m\u001b[38;5;124mtt500\u001b[39m\u001b[38;5;124m'\u001b[39m]\n",
      "File \u001b[0;32m/usr/local/anaconda3/envs/cluster_counts_environment/lib/python3.8/site-packages/numpy/lib/npyio.py:390\u001b[0m, in \u001b[0;36mload\u001b[0;34m(file, mmap_mode, allow_pickle, fix_imports, encoding)\u001b[0m\n\u001b[1;32m    388\u001b[0m     own_fid \u001b[38;5;241m=\u001b[39m \u001b[38;5;28;01mFalse\u001b[39;00m\n\u001b[1;32m    389\u001b[0m \u001b[38;5;28;01melse\u001b[39;00m:\n\u001b[0;32m--> 390\u001b[0m     fid \u001b[38;5;241m=\u001b[39m stack\u001b[38;5;241m.\u001b[39menter_context(\u001b[38;5;28;43mopen\u001b[39;49m\u001b[43m(\u001b[49m\u001b[43mos_fspath\u001b[49m\u001b[43m(\u001b[49m\u001b[43mfile\u001b[49m\u001b[43m)\u001b[49m\u001b[43m,\u001b[49m\u001b[43m \u001b[49m\u001b[38;5;124;43m\"\u001b[39;49m\u001b[38;5;124;43mrb\u001b[39;49m\u001b[38;5;124;43m\"\u001b[39;49m\u001b[43m)\u001b[49m)\n\u001b[1;32m    391\u001b[0m     own_fid \u001b[38;5;241m=\u001b[39m \u001b[38;5;28;01mTrue\u001b[39;00m\n\u001b[1;32m    393\u001b[0m \u001b[38;5;66;03m# Code to distinguish from NumPy binary files and pickles.\u001b[39;00m\n",
      "\u001b[0;31mFileNotFoundError\u001b[0m: [Errno 2] No such file or directory: '/Users/boris/Work/CLASS-SZ/SO-SZ/SOLikeT/soliket/binned_clusters/data/advact/DR5ClusterSearch/selFn/QFitdwsmpld_nbins=5.npz'"
     ]
    }
   ],
   "source": [
    "params = {\n",
    "    'h': 0.68,\n",
    "    'n_s': 0.965,\n",
    "    'Omega_b': 0.049,      \n",
    "    'Omega_c': 0.26, \n",
    "    'sigma8': 0.81,\n",
    "    'tenToA0': 4.35e-5,\n",
    "    'B0': 0.08,\n",
    "    'scatter_sz': 0.,\n",
    "    'bias_sz': 1.,\n",
    "    'm_nu': 0.0,\n",
    "    'C0': 0. # doesnt matter\n",
    "\n",
    "}\n",
    "\n",
    "\n",
    "info = {\n",
    "    'params': params,\n",
    "    'likelihood': {'soliket.BinnedClusterLikelihood': {\n",
    "    'verbose': True,\n",
    "    'data': {\n",
    "        'data_path': path2data,\n",
    "        'cat_file': \"DR5_cluster-catalog_v1.1.fits\",\n",
    "        'Q_file': \"DR5ClusterSearch/selFn/QFit.fits\",\n",
    "        'tile_file': \"DR5ClusterSearch/selFn/tileAreas.txt\",\n",
    "        'rms_file': \"DR5ClusterSearch/selFn/RMSTab.fits\"\n",
    "    },\n",
    "    'theorypred': {\n",
    "        'choose_theory': \"CCL\",\n",
    "        'massfunc_mode': 'ccl',\n",
    "        'choose_dim': \"2D\",\n",
    "        'compl_mode': 'erf_diff',\n",
    "        'md_hmf': '200m',\n",
    "        'md_ym': '500c'\n",
    "        \n",
    "    },\n",
    "    'YM': {\n",
    "        'Mpivot': 3e14\n",
    "    },\n",
    "    'selfunc': {\n",
    "        'SNRcut': 5.,\n",
    "        'single_tile_test': \"no\",\n",
    "        'mode': 'downsample',\n",
    "        'dwnsmpl_bins': 5,\n",
    "        'save_dwsmpld': True,\n",
    "        'average_Q': False\n",
    "    },\n",
    "    'binning': {\n",
    "        'z': {\n",
    "            # redshift setting\n",
    "            'zmin': 0.,\n",
    "            'zmax': 2.8,\n",
    "            'dz': 0.1\n",
    "        },\n",
    "        'q': {\n",
    "            # SNR setting\n",
    "            'log10qmin': 0.6,\n",
    "            'log10qmax': 2.0,\n",
    "            'dlog10q': 0.25\n",
    "        },\n",
    "        'M': {\n",
    "            # mass setting\n",
    "            'Mmin': 1e13,\n",
    "            'Mmax': 1e16,\n",
    "            'dlogM': 0.05\n",
    "        }\n",
    "    }\n",
    "    }},\n",
    "    'theory': {'soliket.binned_clusters.CCL': \n",
    "               {'transfer_function': 'boltzmann_camb',\n",
    "                'matter_pk': 'halofit',\n",
    "                'baryons_pk': 'nobaryons',\n",
    "                'md_hmf': '200m'}}\n",
    "}\n",
    "\n",
    "\n",
    "# initialisation \n",
    "model = get_model(info)\n",
    "like = model.likelihood['soliket.BinnedClusterLikelihood']\n",
    "\n",
    "model.loglikes({})[0]"
   ]
  },
  {
   "cell_type": "code",
   "execution_count": 19,
   "metadata": {},
   "outputs": [],
   "source": [
    "pk_intp = like.theory.get_Pk_interpolator((\"delta_nonu\", \"delta_nonu\"), nonlinear=False)\n",
    "SZparams = {\n",
    "    'tenToA0': 4.35e-5,\n",
    "    'B0': 0.08,\n",
    "    'C0': 2.,\n",
    "    'scatter_sz': 0.,\n",
    "    'bias_sz': 1.  \n",
    "}"
   ]
  },
  {
   "cell_type": "code",
   "execution_count": null,
   "metadata": {},
   "outputs": [],
   "source": []
  },
  {
   "cell_type": "code",
   "execution_count": 20,
   "metadata": {},
   "outputs": [
    {
     "name": "stderr",
     "output_type": "stream",
     "text": [
      "Number of clusters in redshift bin 0: 16.303307378357708.\n",
      "Number of clusters in redshift bin 1: 185.69334638059377.\n",
      "Number of clusters in redshift bin 2: 377.2698086785761.\n",
      "Number of clusters in redshift bin 3: 461.92560059989324.\n",
      "Number of clusters in redshift bin 4: 456.69961925650233.\n",
      "Number of clusters in redshift bin 5: 400.6204366340885.\n",
      "Number of clusters in redshift bin 6: 324.68890270260255.\n",
      "Number of clusters in redshift bin 7: 248.29017045707664.\n",
      "Number of clusters in redshift bin 8: 181.38969720479562.\n",
      "Number of clusters in redshift bin 9: 127.63794377991516.\n",
      "Number of clusters in redshift bin 10: 87.93476790242106.\n",
      "Number of clusters in redshift bin 11: 58.42698980727753.\n",
      "Number of clusters in redshift bin 12: 37.889190863000515.\n",
      "Number of clusters in redshift bin 13: 24.04071065722499.\n",
      "Number of clusters in redshift bin 14: 14.959734640642717.\n",
      "Number of clusters in redshift bin 15: 9.150971216000467.\n",
      "Number of clusters in redshift bin 16: 5.514839547543254.\n",
      "Number of clusters in redshift bin 17: 3.2812540873788016.\n",
      "Number of clusters in redshift bin 18: 1.9323457723302047.\n",
      "Number of clusters in redshift bin 19: 1.129869529043073.\n",
      "Number of clusters in redshift bin 20: 0.6584783714131353.\n",
      "Number of clusters in redshift bin 21: 0.3842157385422115.\n",
      "Number of clusters in redshift bin 22: 0.2255362659580278.\n",
      "Number of clusters in redshift bin 23: 0.13386962404148206.\n",
      "Number of clusters in redshift bin 24: 0.08079088359024598.\n",
      "Number of clusters in redshift bin 25: 0.04982911756654978.\n",
      "Number of clusters in redshift bin 26: 0.03152445492816451.\n",
      "Number of clusters in redshift bin 27: 0.020486278852736777.\n",
      "Total predicted 2D N = 3026.364237830157.\n",
      "Theory N calculation took 37.26690196990967 seconds.\n"
     ]
    },
    {
     "name": "stdout",
     "output_type": "stream",
     "text": [
      "0 1972.7053985219309\n",
      "1 905.7938426095071\n",
      "2 134.84336056755274\n",
      "3 12.453464210859226\n",
      "4 0.5595410799139389\n",
      "5 0.008630840392881225\n",
      "\r",
      " Total predicted 2D N =  3026.364237830157\n"
     ]
    }
   ],
   "source": [
    "Nzq = like._get_theory(pk_intp, **SZparams)\n",
    "z, q, catNzq = like.delN2Dcat\n",
    "\n",
    "Nq_ccl = np.zeros(len(q))\n",
    "catNq_ccl = np.zeros(len(q))\n",
    "for i in range(len(q)):\n",
    "    Nq_ccl[i] = Nzq[:,i].sum()    \n",
    "    catNq_ccl[i] = catNzq[:,i].sum()"
   ]
  },
  {
   "cell_type": "markdown",
   "metadata": {},
   "source": [
    "# CAMB"
   ]
  },
  {
   "cell_type": "code",
   "execution_count": 21,
   "metadata": {},
   "outputs": [
    {
     "name": "stdout",
     "output_type": "stream",
     "text": [
      "[camb] `camb` module loaded successfully from /usr/local/anaconda3/envs/cluster_counts_environment/lib/python3.8/site-packages/camb\n",
      " Nz for higher resolution =  114\n",
      "0 1969.4836178639612\n",
      "1 903.9938989097093\n",
      "2 134.6145967257876\n",
      "3 12.456824665917402\n",
      "4 0.5626762633127557\n",
      "5 0.008788031580048332\n",
      " Total predicted 2D N =  3021.120402460269\n",
      " ::: 2D ln likelihood =  347.343159240642\n"
     ]
    },
    {
     "data": {
      "text/plain": [
       "array([-347.34315924])"
      ]
     },
     "execution_count": 21,
     "metadata": {},
     "output_type": "execute_result"
    }
   ],
   "source": [
    "params = {\n",
    "    'cosmomc_theta': 0.0104135,\n",
    "    'ns': 0.965,\n",
    "    'ombh2': 0.0226576,      \n",
    "    'omch2': 0.1206864, \n",
    "    'As': 2.022662e-9,\n",
    "    'tenToA0': 4.35e-5,\n",
    "    'B0': 0.08,\n",
    "    'scatter_sz': 0.,\n",
    "    'bias_sz': 1.,\n",
    "    'tau': 0.055,\n",
    "    'mnu': 0.0,\n",
    "    'nnu': 3.046,\n",
    "    'omnuh2': 0.,\n",
    "    'w': -1,\n",
    "    \n",
    "    'C0': 0.\n",
    "\n",
    "}\n",
    "\n",
    "path2data = path2data\n",
    "\n",
    "info = {\n",
    "    'params': params,\n",
    "    'likelihood': {'soliket.BinnedClusterLikelihood': {\n",
    "    'verbose': False,\n",
    "    'data': {\n",
    "        'data_path': path2data,\n",
    "        'cat_file': \"DR5_cluster-catalog_v1.1.fits\",\n",
    "        'Q_file': \"DR5ClusterSearch/selFn/QFit.fits\",\n",
    "        'tile_file': \"DR5ClusterSearch/selFn/tileAreas.txt\",\n",
    "        'rms_file': \"DR5ClusterSearch/selFn/RMSTab.fits\"\n",
    "    },\n",
    "    'theorypred': {\n",
    "        'choose_theory': \"camb\",\n",
    "        'massfunc_mode': 'internal',\n",
    "        'choose_dim': \"2D\",\n",
    "        'compl_mode': 'erf_diff',\n",
    "        'md_hmf': '200m',\n",
    "        'md_ym': '500c'\n",
    "        \n",
    "    },\n",
    "    'YM': {\n",
    "        'Mpivot': 3e14\n",
    "    },\n",
    "    'selfunc': {\n",
    "        'SNRcut': 5.,\n",
    "        'single_tile_test': \"no\",\n",
    "        'mode': 'downsample',\n",
    "        'dwnsmpl_bins': 5,\n",
    "        'average_Q': False,\n",
    "        'save_dwsmpld': True,\n",
    "    },\n",
    "    'binning': {\n",
    "        'z': {\n",
    "            # redshift setting\n",
    "            'zmin': 0.,\n",
    "            'zmax': 2.8,\n",
    "            'dz': 0.1\n",
    "        },\n",
    "        'q': {\n",
    "            # SNR setting\n",
    "            'log10qmin': 0.6,\n",
    "            'log10qmax': 2.0,\n",
    "            'dlog10q': 0.25\n",
    "        },\n",
    "        'M': {\n",
    "            # mass setting\n",
    "            'Mmin': 1e13,\n",
    "            'Mmax': 1e16,\n",
    "            'dlogM': 0.05\n",
    "        }\n",
    "    }\n",
    "    }},\n",
    "    'theory': {'camb': {'extra_args': {'num_massive_neutrinos': 0}}}\n",
    "}\n",
    "\n",
    "\n",
    "# initialisation \n",
    "model = get_model(info)\n",
    "like = model.likelihood['soliket.BinnedClusterLikelihood']\n",
    "\n",
    "model.loglikes({})[0]"
   ]
  },
  {
   "cell_type": "code",
   "execution_count": 22,
   "metadata": {},
   "outputs": [],
   "source": [
    "pk_intp = like.theory.get_Pk_interpolator((\"delta_nonu\", \"delta_nonu\"), nonlinear=False)\n",
    "SZparams = {\n",
    "    'tenToA0': 4.35e-5,\n",
    "    'B0': 0.08,\n",
    "    'C0': 2.,\n",
    "    'scatter_sz': 0.,\n",
    "    'bias_sz': 1.  \n",
    "}"
   ]
  },
  {
   "cell_type": "code",
   "execution_count": null,
   "metadata": {},
   "outputs": [],
   "source": [
    "Nzq = like._get_theory(pk_intp, **SZparams)\n",
    "z, q, catNzq = like.delN2Dcat"
   ]
  },
  {
   "cell_type": "code",
   "execution_count": 30,
   "metadata": {},
   "outputs": [],
   "source": [
    "Nq = np.zeros(len(q))\n",
    "catNq = np.zeros(len(q))\n",
    "for i in range(len(q)):\n",
    "    Nq[i] = Nzq[:,i].sum()    \n",
    "    catNq[i] = catNzq[:,i].sum()\n",
    "Nz = np.zeros(len(z))\n",
    "catNz = np.zeros(len(z))\n",
    "for i in range(len(z)):\n",
    "    Nz[i] = Nzq[i,:].sum()    \n",
    "    catNz[i] = catNzq[i,:].sum()"
   ]
  },
  {
   "cell_type": "code",
   "execution_count": 28,
   "metadata": {},
   "outputs": [],
   "source": [
    "color_list = plt.cm.magma(np.linspace(0.1,0.8,13))"
   ]
  },
  {
   "cell_type": "code",
   "execution_count": 25,
   "metadata": {},
   "outputs": [
    {
     "data": {
      "image/png": "[encoded data removed]",
      "text/plain": [
       "<Figure size 576x432 with 1 Axes>"
      ]
     },
     "metadata": {
      "needs_background": "light"
     },
     "output_type": "display_data"
    }
   ],
   "source": [
    "plt.figure(figsize=(8,6))\n",
    "plt.plot(q, Nq, color=color_list[2], label='CAMB prediction, nbins=5')\n",
    "plt.plot(q, Nq_ccl, color=color_list[6], label='CCL prediction, nbins=5')\n",
    "plt.errorbar(q, catNq, yerr=np.sqrt(catNq), color='black', fmt='o', ms=3, capsize=5, capthick=2, ls='none', label='mock catalogue')\n",
    "plt.xlabel('signal-to-noise $q$', fontsize=14)\n",
    "plt.ylabel('$N$', fontsize=14)\n",
    "plt.xscale('log')\n",
    "plt.yscale('log')\n",
    "plt.xticks(fontsize=14)\n",
    "plt.yticks(fontsize=14)\n",
    "plt.legend(fontsize=14)\n",
    "plt.grid()\n",
    "plt.show()"
   ]
  },
  {
   "cell_type": "code",
   "execution_count": 33,
   "metadata": {},
   "outputs": [
    {
     "data": {
      "image/png": "[encoded data removed]",
      "text/plain": [
       "<Figure size 576x432 with 1 Axes>"
      ]
     },
     "metadata": {
      "needs_background": "light"
     },
     "output_type": "display_data"
    }
   ],
   "source": [
    "plt.figure(figsize=(8,6))\n",
    "plt.plot(z, Nz, color=color_list[2], label='CAMB prediction, nbins=5')\n",
    "# plt.plot(q, Nq_ccl, color=color_list[6], label='CCL prediction, nbins=5')\n",
    "plt.errorbar(z, catNz, yerr=np.sqrt(catNz), color='black', fmt='o', ms=3, capsize=5, capthick=2, ls='none', label='mock catalogue')\n",
    "plt.xlabel('redshft $z$', fontsize=14)\n",
    "plt.ylabel('$N$', fontsize=14)\n",
    "plt.xscale('linear')\n",
    "plt.yscale('log')\n",
    "plt.xticks(fontsize=14)\n",
    "plt.yticks(fontsize=14)\n",
    "plt.legend(fontsize=14)\n",
    "plt.grid()\n",
    "plt.show()"
   ]
  },
  {
   "cell_type": "code",
   "execution_count": 34,
   "metadata": {},
   "outputs": [
    {
     "data": {
      "image/png": "[encoded data removed]",
      "text/plain": [
       "<Figure size 432x288 with 1 Axes>"
      ]
     },
     "metadata": {
      "needs_background": "light"
     },
     "output_type": "display_data"
    }
   ],
   "source": [
    "plt.semilogx(q, Nq_ccl/Nq, color=color_list[6])\n",
    "plt.xlabel('signal-to-noise $q$', fontsize=14)\n",
    "plt.ylabel('$N_{CCL}/N_{CAMB}$', fontsize=14)\n",
    "plt.show()"
   ]
  },
  {
   "cell_type": "code",
   "execution_count": null,
   "metadata": {},
   "outputs": [],
   "source": []
  },
  {
   "cell_type": "code",
   "execution_count": 12,
   "metadata": {},
   "outputs": [],
   "source": [
    "\n",
    "datafile_Q_dwsmpld = '/Users/boris/Work/CLASS-SZ/SO-SZ/SOLikeT/soliket/binned_clusters/data/advact/DR5ClusterSearch/selFn/QFitdwsmpld_nbins=5.npz'\n",
    "Qfile = np.load(datafile_Q_dwsmpld)\n",
    "allQ = Qfile['Q_dwsmpld']\n",
    "tt500 = Qfile['tt500']\n",
    "\n",
    "datafile_rms_dwsmpld = '/Users/boris/Work/CLASS-SZ/SO-SZ/SOLikeT/soliket/binned_clusters/data/advact/DR5ClusterSearch/selFn/RMSTabdwsmpld_nbins=5..npz'\n",
    "rms = np.load(datafile_rms_dwsmpld)\n",
    "noise = rms['noise']\n",
    "skyfracs = rms['skyfracs']"
   ]
  },
  {
   "cell_type": "code",
   "execution_count": 13,
   "metadata": {},
   "outputs": [
    {
     "data": {
      "image/png": "[encoded data removed]",
      "text/plain": [
       "<Figure size 432x288 with 1 Axes>"
      ]
     },
     "metadata": {
      "needs_background": "light"
     },
     "output_type": "display_data"
    }
   ],
   "source": [
    "plt.plot(tt500,allQ[:,0])\n",
    "plt.plot(tt500,allQ[:,1])\n",
    "plt.show()"
   ]
  },
  {
   "cell_type": "code",
   "execution_count": 14,
   "metadata": {},
   "outputs": [
    {
     "data": {
      "text/plain": [
       "51"
      ]
     },
     "execution_count": 14,
     "metadata": {},
     "output_type": "execute_result"
    }
   ],
   "source": [
    "np.shape(tt500)\n",
    "tt500.size"
   ]
  },
  {
   "cell_type": "code",
   "execution_count": 15,
   "metadata": {},
   "outputs": [
    {
     "data": {
      "text/plain": [
       "array([9.13590715e-06, 1.32191117e-05, 1.73023162e-05, 2.13855207e-05,\n",
       "       2.54687253e-05])"
      ]
     },
     "execution_count": 15,
     "metadata": {},
     "output_type": "execute_result"
    }
   ],
   "source": [
    "noise"
   ]
  },
  {
   "cell_type": "code",
   "execution_count": 17,
   "metadata": {},
   "outputs": [
    {
     "data": {
      "text/plain": [
       "array([0.0488115 , 0.09714411, 0.10777072, 0.06211241, 0.00441423])"
      ]
     },
     "execution_count": 17,
     "metadata": {},
     "output_type": "execute_result"
    }
   ],
   "source": [
    "rad_in_deg2 = (np.deg2rad(1.))**2.\n",
    "skyfracs/rad_in_deg2/41253."
   ]
  },
  {
   "cell_type": "markdown",
   "metadata": {},
   "source": [
    "## camb 1 bin"
   ]
  },
  {
   "cell_type": "code",
   "execution_count": 3,
   "metadata": {},
   "outputs": [
    {
     "name": "stdout",
     "output_type": "stream",
     "text": [
      "[camb] `camb` module loaded successfully from /usr/local/anaconda3/envs/cluster_counts_environment/lib/python3.8/site-packages/camb\n",
      " Nz for higher resolution =  114\n",
      "0 3094.2479956595776\n",
      "1 1500.4769928384837\n",
      "2 237.94128834905987\n",
      "3 22.510563461061498\n",
      "4 0.9402943892117153\n",
      "5 0.011307885556755673\n",
      " Total predicted 2D N =  4856.128442582952\n",
      " ::: 2D ln likelihood =  4856.128442582951\n"
     ]
    },
    {
     "data": {
      "text/plain": [
       "array([-4856.12844258])"
      ]
     },
     "execution_count": 3,
     "metadata": {},
     "output_type": "execute_result"
    }
   ],
   "source": [
    "params = {\n",
    "    'cosmomc_theta': 0.0104135,\n",
    "    'ns': 0.965,\n",
    "    'ombh2': 0.0226576,      \n",
    "    'omch2': 0.1206864, \n",
    "    'As': 2.022662e-9,\n",
    "    'tenToA0': 4.35e-5,\n",
    "    'B0': 0.08,\n",
    "    'scatter_sz': 0.,\n",
    "    'bias_sz': 1.,\n",
    "    'tau': 0.055,\n",
    "    'mnu': 0.0,\n",
    "    'nnu': 3.046,\n",
    "    'omnuh2': 0.,\n",
    "    'w': -1,\n",
    "    \n",
    "    'C0': 0.\n",
    "\n",
    "}\n",
    "\n",
    "path2data = path2data\n",
    "\n",
    "info = {\n",
    "    'params': params,\n",
    "    'likelihood': {'soliket.BinnedClusterLikelihood': {\n",
    "    'verbose': False,\n",
    "    'data': {\n",
    "        'data_path': path2data,\n",
    "        'cat_file': \"DR5_cluster-catalog_v1.1.fits\",\n",
    "        'Q_file': \"DR5ClusterSearch/selFn/QFit.fits\",\n",
    "        'tile_file': \"DR5ClusterSearch/selFn/tileAreas.txt\",\n",
    "        'rms_file': \"DR5ClusterSearch/selFn/RMSTab.fits\"\n",
    "    },\n",
    "    'theorypred': {\n",
    "        'choose_theory': \"camb\",\n",
    "        'massfunc_mode': 'internal',\n",
    "        'choose_dim': \"2D\",\n",
    "        'compl_mode': 'erf_diff',\n",
    "        'md_hmf': '200m',\n",
    "        'md_ym': '500c'\n",
    "        \n",
    "    },\n",
    "    'YM': {\n",
    "        'Mpivot': 3e14\n",
    "    },\n",
    "    'selfunc': {\n",
    "        'SNRcut': 5.,\n",
    "        'single_tile_test': \"no\",\n",
    "        'mode': 'downsample',\n",
    "        'dwnsmpl_bins': 1,\n",
    "        'average_Q': False,\n",
    "        'save_dwsmpld': True,\n",
    "    },\n",
    "    'binning': {\n",
    "        'z': {\n",
    "            # redshift setting\n",
    "            'zmin': 0.,\n",
    "            'zmax': 2.8,\n",
    "            'dz': 0.1\n",
    "        },\n",
    "        'q': {\n",
    "            # SNR setting\n",
    "            'log10qmin': 0.6,\n",
    "            'log10qmax': 2.0,\n",
    "            'dlog10q': 0.25\n",
    "        },\n",
    "        'M': {\n",
    "            # mass setting\n",
    "            'Mmin': 1e13,\n",
    "            'Mmax': 1e16,\n",
    "            'dlogM': 0.05\n",
    "        }\n",
    "    }\n",
    "    }},\n",
    "    'theory': {'camb': {'extra_args': {'num_massive_neutrinos': 0}}}\n",
    "}\n",
    "\n",
    "\n",
    "# initialisation \n",
    "model = get_model(info)\n",
    "like = model.likelihood['soliket.BinnedClusterLikelihood']\n",
    "\n",
    "model.loglikes({})[0]"
   ]
  },
  {
   "cell_type": "code",
   "execution_count": 4,
   "metadata": {},
   "outputs": [],
   "source": [
    "pk_intp = like.theory.get_Pk_interpolator((\"delta_nonu\", \"delta_nonu\"), nonlinear=False)\n",
    "SZparams = {\n",
    "    'tenToA0': 4.35e-5,\n",
    "    'B0': 0.08,\n",
    "    'C0': 2.,\n",
    "    'scatter_sz': 0.,\n",
    "    'bias_sz': 1.  \n",
    "}"
   ]
  },
  {
   "cell_type": "code",
   "execution_count": 5,
   "metadata": {},
   "outputs": [
    {
     "name": "stdout",
     "output_type": "stream",
     "text": [
      "0 3094.2479956595776\n",
      "1 1500.4769928384837\n",
      "2 237.94128834905987\n",
      "3 22.510563461061498\n",
      "4 0.9402943892117153\n",
      "5 0.011307885556755673\n",
      "\r",
      " Total predicted 2D N =  4856.128442582952\n"
     ]
    }
   ],
   "source": [
    "Nzq = like._get_theory(pk_intp, **SZparams)\n",
    "z, q, catNzq = like.delN2Dcat"
   ]
  },
  {
   "cell_type": "code",
   "execution_count": 6,
   "metadata": {},
   "outputs": [],
   "source": [
    "Nq = np.zeros(len(q))\n",
    "catNq = np.zeros(len(q))\n",
    "for i in range(len(q)):\n",
    "    Nq[i] = Nzq[:,i].sum()    \n",
    "    catNq[i] = catNzq[:,i].sum()\n",
    "Nz = np.zeros(len(z))\n",
    "catNz = np.zeros(len(z))\n",
    "for i in range(len(z)):\n",
    "    Nz[i] = Nzq[i,:].sum()    \n",
    "    catNz[i] = catNzq[i,:].sum()"
   ]
  },
  {
   "cell_type": "code",
   "execution_count": 7,
   "metadata": {},
   "outputs": [],
   "source": [
    "color_list = plt.cm.magma(np.linspace(0.1,0.8,13))"
   ]
  },
  {
   "cell_type": "code",
   "execution_count": 8,
   "metadata": {},
   "outputs": [
    {
     "data": {
      "image/png": "[encoded data removed]",
      "text/plain": [
       "<Figure size 576x432 with 1 Axes>"
      ]
     },
     "metadata": {
      "needs_background": "light"
     },
     "output_type": "display_data"
    }
   ],
   "source": [
    "plt.figure(figsize=(8,6))\n",
    "plt.plot(q, Nq, color=color_list[2], label='CAMB prediction, nbins=1',\n",
    "         marker = 'o')\n",
    "# plt.plot(q, Nq_ccl, color=color_list[6], label='CCL prediction, nbins=5')\n",
    "# plt.errorbar(q, catNq, yerr=np.sqrt(catNq), color='black', fmt='o', \n",
    "#              ms=3, capsize=5, capthick=2, ls='none', \n",
    "#              label='mock catalogue')\n",
    "plt.xlabel('signal-to-noise $q$', fontsize=14)\n",
    "plt.ylabel('$N$', fontsize=14)\n",
    "plt.xscale('log')\n",
    "plt.yscale('log')\n",
    "plt.xticks(fontsize=14)\n",
    "plt.yticks(fontsize=14)\n",
    "plt.legend(fontsize=14)\n",
    "plt.grid()\n",
    "plt.show()"
   ]
  },
  {
   "cell_type": "code",
   "execution_count": 9,
   "metadata": {},
   "outputs": [
    {
     "data": {
      "text/plain": [
       "array([0., 0., 0., 0., 0., 0.])"
      ]
     },
     "execution_count": 9,
     "metadata": {},
     "output_type": "execute_result"
    }
   ],
   "source": [
    "catNq"
   ]
  },
  {
   "cell_type": "code",
   "execution_count": 10,
   "metadata": {},
   "outputs": [
    {
     "data": {
      "image/png": "[encoded data removed]",
      "text/plain": [
       "<Figure size 576x432 with 1 Axes>"
      ]
     },
     "metadata": {
      "needs_background": "light"
     },
     "output_type": "display_data"
    }
   ],
   "source": [
    "plt.figure(figsize=(8,6))\n",
    "plt.plot(z, Nz, color=color_list[2], label='CAMB prediction, nbins=1')\n",
    "# plt.plot(q, Nq_ccl, color=color_list[6], label='CCL prediction, nbins=5')\n",
    "# plt.errorbar(z, catNz, yerr=np.sqrt(catNz), color='black', fmt='o', ms=3, capsize=5, capthick=2, ls='none', label='mock catalogue')\n",
    "plt.xlabel('redshft $z$', fontsize=14)\n",
    "plt.ylabel('$N$', fontsize=14)\n",
    "plt.xscale('linear')\n",
    "plt.yscale('log')\n",
    "plt.xticks(fontsize=14)\n",
    "plt.yticks(fontsize=14)\n",
    "plt.legend(fontsize=14)\n",
    "plt.grid()\n",
    "plt.show()"
   ]
  },
  {
   "cell_type": "code",
   "execution_count": null,
   "metadata": {},
   "outputs": [],
   "source": []
  },
  {
   "cell_type": "code",
   "execution_count": 9,
   "metadata": {},
   "outputs": [],
   "source": [
    "\n",
    "datafile_Q_dwsmpld = '/Users/boris/Work/CLASS-SZ/SO-SZ/SOLikeT/soliket/binned_clusters/data/advact/DR5ClusterSearch/selFn/QFitdwsmpld_nbins=1.npz'\n",
    "Qfile = np.load(datafile_Q_dwsmpld)\n",
    "allQ = Qfile['Q_dwsmpld']\n",
    "tt500 = Qfile['tt500']\n",
    "\n",
    "datafile_rms_dwsmpld = '/Users/boris/Work/CLASS-SZ/SO-SZ/SOLikeT/soliket/binned_clusters/data/advact/DR5ClusterSearch/selFn/RMSTabdwsmpld_nbins=1..npz'\n",
    "rms = np.load(datafile_rms_dwsmpld)\n",
    "noise = rms['noise']\n",
    "skyfracs = rms['skyfracs']"
   ]
  },
  {
   "cell_type": "code",
   "execution_count": 11,
   "metadata": {},
   "outputs": [
    {
     "data": {
      "image/png": "[encoded data removed]",
      "text/plain": [
       "<Figure size 432x288 with 1 Axes>"
      ]
     },
     "metadata": {
      "needs_background": "light"
     },
     "output_type": "display_data"
    }
   ],
   "source": [
    "plt.plot(tt500,allQ[:,0])\n",
    "# plt.plot(tt500,allQ[:,1])\n",
    "plt.show()"
   ]
  },
  {
   "cell_type": "markdown",
   "metadata": {},
   "source": [
    "# CLASS SZ"
   ]
  },
  {
   "cell_type": "code",
   "execution_count": 28,
   "metadata": {},
   "outputs": [],
   "source": [
    "path_to_save = '/Users/boris/Work/CLASS-SZ/SO-SZ/class_sz/sz_auxiliary_files/'"
   ]
  },
  {
   "cell_type": "code",
   "execution_count": 12,
   "metadata": {},
   "outputs": [],
   "source": [
    "\n",
    "# np.savetxt(path_to_catalogue+'so_3freqs_191121_theta500arcmin_Q.txt',np.c_[tt500,Q])\n",
    "path_to_save = '/Users/boris/Work/CLASS-SZ/SO-SZ/class_sz/sz_auxiliary_files/'\n",
    "np.savetxt(path_to_save+'advact_dr5_skyfracs_300621_1bins.txt',np.c_[skyfracs/rad_in_deg2/41253.])"
   ]
  },
  {
   "cell_type": "code",
   "execution_count": null,
   "metadata": {},
   "outputs": [],
   "source": []
  },
  {
   "cell_type": "code",
   "execution_count": 13,
   "metadata": {},
   "outputs": [],
   "source": [
    "so_skyfracs = np.loadtxt(path_to_save+'advact_dr5_skyfracs_300621_1bins.txt')\n",
    "so_ylims = []\n",
    "for index_thetas in range(tt500.size):\n",
    "    for id_patches in range(so_skyfracs.size):\n",
    "        so_ylims.append(noise[id_patches]/allQ[index_thetas,id_patches])\n",
    "so_ylims = np.asarray(so_ylims)\n",
    "np.savetxt(path_to_save+'advact_dr5_ylims_300621_1bins.txt',np.c_[so_ylims])\n",
    "np.savetxt(path_to_save+'advact_dr5_thetas_300621_1bins.txt',np.c_[tt500])"
   ]
  },
  {
   "cell_type": "code",
   "execution_count": 29,
   "metadata": {},
   "outputs": [],
   "source": [
    "so_skyfracs = np.loadtxt(path_to_save+'advact_dr5_skyfracs_300621_1bins.txt')"
   ]
  },
  {
   "cell_type": "code",
   "execution_count": 30,
   "metadata": {},
   "outputs": [
    {
     "data": {
      "text/plain": [
       "array(0.32025297)"
      ]
     },
     "execution_count": 30,
     "metadata": {},
     "output_type": "execute_result"
    }
   ],
   "source": [
    "so_skyfracs"
   ]
  },
  {
   "cell_type": "code",
   "execution_count": 34,
   "metadata": {},
   "outputs": [
    {
     "data": {
      "text/plain": [
       "0.3202529683205148"
      ]
     },
     "execution_count": 34,
     "metadata": {},
     "output_type": "execute_result"
    }
   ],
   "source": [
    "13211.395702126198/(41253.)"
   ]
  },
  {
   "cell_type": "code",
   "execution_count": 3,
   "metadata": {},
   "outputs": [],
   "source": [
    "class_sz_params = {\n",
    "'output' : 'sz_cluster_counts',\n",
    "'mass function'  : 'M500',\n",
    "'concentration parameter' : 'B13',\n",
    "'has_selection_function' : 1,\n",
    "'experiment' : 1.,\n",
    "#'sky_area_deg2' : 599.353 # not used when completeness demanded\n",
    "'y_m_relation' : 1,\n",
    "'use_planck_binned_proba' : 0, #use diff of erfs\n",
    "'class_sz_verbose'  : 0,\n",
    "\n",
    "'M_min' : 1e12,\n",
    "'M_max' : 1e16,\n",
    "    \n",
    "\n",
    "\n",
    "'N_ur' : 2.0328,\n",
    "'N_ncdm' : 1,\n",
    "'m_ncdm' : 0.0,\n",
    "'T_ncdm' : 0.71611,\n",
    "\n",
    "'non linear' : 'halofit',\n",
    "\n",
    "\n",
    "# scaling law parameter\n",
    "# Hilton et al 2020\n",
    "'A_ym'  : 4.35e-5,\n",
    "'B_ym'  : 0.08,\n",
    "'m_pivot_ym [Msun]' : 3e14,\n",
    "\n",
    "\n",
    "\n",
    "\n",
    "'bin_z_min_cluster_counts'  : 0.0001,\n",
    "'bin_z_max_cluster_counts'  : 2.8,\n",
    "'bin_dz_cluster_counts'  : 0.1,\n",
    "    \n",
    "'bin_dlog10_snr' : 0.25,\n",
    "'log10_snr_min' : 0.6,\n",
    "'log10_snr_max' : 2.,    \n",
    "    \n",
    "    \n",
    "# 'dlny' : 0.03,\n",
    "# 'lnymin' : -11.,\n",
    "# 'lnymax' : -5.,\n",
    "#sigmaM_ym = 0.075\n",
    "'sigmaM_ym' : 0.,\n",
    "'dlnM_cluster_count_completeness_grid' : 0.07,\n",
    "\n",
    "\n",
    "'cluster_count_completeness_grid_z_cutoff_low' : 0.5,\n",
    "'cluster_count_completeness_grid_z_cutoff_mid' : 1.5,\n",
    "'dz_cluster_count_completeness_grid_low_z' : 5e-3,\n",
    "'dz_cluster_count_completeness_grid_mid_z' : 1e-3,\n",
    "'dz_cluster_count_completeness_grid_high_z' : 1e-3,\n",
    "\n",
    "'mass_epsrel_cluster_counts' : 1e-5,\n",
    "'mass_epsabs_cluster_counts' : 1e-50,\n",
    "\n",
    "'redshift_epsrel_cluster_counts' : 1e-3,\n",
    "'redshift_epsabs_cluster_counts' : 1e-30,\n",
    "\n",
    "\n",
    "\n",
    "'signal-to-noise cut-off for survey cluster completeness' : 5,\n",
    "\n",
    "# 'h' :0.7,\n",
    "# 'Omega_b' :0.04,\n",
    "# 'Omega_cdm' :0.26,\n",
    "# #sigma8=0.8\n",
    "# 'ln10^{10}A_s'  : 3.1,\n",
    "# 'n_s' : 0.95,\n",
    "\n",
    "'100*theta_s': 1.04135,\n",
    "'n_s': 0.965,\n",
    "'omega_b': 0.0226576,      \n",
    "'omega_cdm': 0.1206864, \n",
    "'A_s': 2.022662e-9,    \n",
    "    \n",
    "# X ray mass bias (if applicable)\n",
    "'B' : 1.,\n",
    "\n",
    "\n",
    "\n",
    "\n",
    "# tabulation of mass function:\n",
    "'n_z_dndlnM' : 100,\n",
    "'n_m_dndlnM' : 100,\n",
    "\n",
    "# computation of mass function\n",
    "# (grid in mass and redshifts for sigma and dsigma)\n",
    "'ndim_masses' : 100,\n",
    "'ndim_redshifts' : 100,\n",
    "\n",
    "# pk setup for computation of sigma and dsigma\n",
    "'k_per_decade_class_sz' : 20.,\n",
    "'k_min_for_pk_class_sz' : 1e-3,\n",
    "'k_max_for_pk_class_sz' : 1e1,\n",
    "'P_k_max_h/Mpc' : 1e1,\n",
    "\n",
    "'SO_thetas_file' : '/Users/boris/Work/CLASS-SZ/SO-SZ/class_sz/sz_auxiliary_files/advact_dr5_thetas_300621_1bins.txt',\n",
    "'SO_skyfracs_file' : '/Users/boris/Work/CLASS-SZ/SO-SZ/class_sz/sz_auxiliary_files/advact_dr5_skyfracs_300621_1bins.txt',\n",
    "'SO_ylims_file' : '/Users/boris/Work/CLASS-SZ/SO-SZ/class_sz/sz_auxiliary_files/advact_dr5_ylims_300621_1bins.txt'\n",
    "}\n"
   ]
  },
  {
   "cell_type": "code",
   "execution_count": 9,
   "metadata": {},
   "outputs": [],
   "source": [
    "from classy_sz import Class\n",
    "M = Class()\n",
    "M.set(class_sz_params)\n",
    "M.set({\n",
    "# 'B_ym': 0.08,\n",
    "# 'A_ym': 4.35e-5,\n",
    "'C_ym' : 0.,\n",
    "# 'sigmaM_ym' : 0.0,\n",
    "\n",
    "# 'M_min' : 1e12,\n",
    "'M_max' : 5e15,    \n",
    "'z_min': 1e-5,\n",
    "'z_max':3.,\n",
    "\n",
    "'apply_relativistic_correction_to_y_m':0,\n",
    "'signal-to-noise cut-off for survey cluster completeness' : 5.,\n",
    "# 'use_websky_m200m_to_m200c_conversion': 1,\n",
    "\n",
    "# 'dlny' : 0.001, #HW used to be 0.01, #step in y integral\n",
    "# 'lnymin' : -11., #HW no impact\n",
    "# 'lnymax' : 10., #HW no impact\n",
    "\n",
    "'dlnM_cluster_count_completeness_grid' : 0.0005, #HW used to be 0.01, try bigger, big impact on speed\n",
    "\n",
    "\n",
    "'cluster_count_completeness_grid_z_cutoff_low' : 0.5, #HW good value, #integrating over redshift, different regeims\n",
    "'cluster_count_completeness_grid_z_cutoff_mid' : 1.5, #HW no change\n",
    "\n",
    "'dz_cluster_count_completeness_grid_low_z' : 0.01, #HW used to be 0.001\n",
    "'dz_cluster_count_completeness_grid_mid_z' : 0.01, #HW used to be 0.1\n",
    "'dz_cluster_count_completeness_grid_high_z' : 0.01, #HW used to be 1e-1, #try taking bigger steps\n",
    "\n",
    "'mass_epsrel_cluster_counts' : 1e-5, #leave as is\n",
    "'mass_epsabs_cluster_counts' : 1e-50,\n",
    "\n",
    "'redshift_epsrel_cluster_counts' : 1e-3, #leave as is\n",
    "'redshift_epsabs_cluster_counts' : 1e-30,\n",
    "\n",
    "# # tabulation of mass function:\n",
    "'n_z_dndlnM' : 150, #HW previously 150\n",
    "'n_m_dndlnM' : 200, #HW previously 150\n",
    "\n",
    "# # computation of mass function\n",
    "# # (grid in mass and redshifts for sigma and dsigma)\n",
    "    #HW these are extremely high, try 80 or 100\n",
    "'ndim_masses' : 250, #HW previoulsy 250, big impact on speed\n",
    "'ndim_redshifts' : 80, #HW previously 250, big impact on speed\n",
    "\n",
    "# pk setup for computation of sigma and dsigma\n",
    "'k_per_decade_class_sz' : 100., #HW previously 20, last one I can change\n",
    "'k_min_for_pk_class_sz' : 1e-3, #Don't change below this\n",
    "'k_max_for_pk_class_sz' : 1e1,\n",
    "\n",
    "'P_k_max_h/Mpc' : 1e1,\n",
    "'non linear': 'halofit',\n",
    "\n",
    "'m_pivot_ym [Msun]' : 3e14,   \n",
    "})\n",
    "M.compute()"
   ]
  },
  {
   "cell_type": "code",
   "execution_count": 10,
   "metadata": {},
   "outputs": [
    {
     "name": "stdout",
     "output_type": "stream",
     "text": [
      "h : 0.677322\n",
      "sigma8 : 0.809357\n",
      "Omega_m : 0.312457\n",
      "n_s : 0.965000\n"
     ]
    }
   ],
   "source": [
    "print('h : %f'%M.h())\n",
    "print('sigma8 : %f'%M.sigma8())\n",
    "print('Omega_m : %f'%M.Omega_m())\n",
    "print('n_s : %f'%M.n_s())"
   ]
  },
  {
   "cell_type": "code",
   "execution_count": 11,
   "metadata": {},
   "outputs": [],
   "source": [
    "dNdzdy_theoretical = M.dndzdy_theoretical()['dndzdy']\n",
    "# dNdzdy_theoretical_with_rel = M_with_rel.dndzdy_theoretical()['dndzdy']\n",
    "z_center = M.dndzdy_theoretical()['z_center']\n",
    "z_edges = M.dndzdy_theoretical()['z_edges']\n",
    "log10y_center = M.dndzdy_theoretical()['log10y_center']\n",
    "log10y_edges = M.dndzdy_theoretical()['log10y_edges']"
   ]
  },
  {
   "cell_type": "code",
   "execution_count": 12,
   "metadata": {},
   "outputs": [],
   "source": [
    "N_z,N_y = np.shape(dNdzdy_theoretical)\n",
    "N_clusters_z_theory = []\n",
    "N_clusters_z_theory_with_rel = []\n",
    "for iz in range(N_z):\n",
    "    N_clusters_z_theory.append(np.sum(dNdzdy_theoretical[iz]))\n",
    "#     N_clusters_z_theory_with_rel.append(np.sum(dNdzdy_theoretical_with_rel[iz]))\n",
    "N_clusters_y_theory = []\n",
    "N_clusters_y_theory_with_rel = []\n",
    "for iy in range(N_y):\n",
    "    N_clusters_y_theory.append(np.sum(np.asarray(dNdzdy_theoretical)[:,iy]))\n",
    "#     N_clusters_y_theory_with_rel.append(np.sum(np.asarray(dNdzdy_theoretical_with_rel)[:,iy]))\n",
    "\n"
   ]
  },
  {
   "cell_type": "code",
   "execution_count": 13,
   "metadata": {},
   "outputs": [
    {
     "data": {
      "image/png": "[encoded data removed]",
      "text/plain": [
       "<Figure size 576x432 with 1 Axes>"
      ]
     },
     "metadata": {
      "needs_background": "light"
     },
     "output_type": "display_data"
    }
   ],
   "source": [
    "plt.figure(figsize=(8,6))\n",
    "# plt.plot(q, Nq, color=color_list[2],marker='o', label='CAMB prediction, nbins=1')\n",
    "# plt.plot(q, Nq_ccl, color=color_list[6], label='CCL prediction, nbins=5',marker='o')\n",
    "# plt.errorbar(q, catNq, yerr=np.sqrt(catNq), color='black', fmt='o', ms=3, capsize=5, capthick=2, ls='none', label='mock catalogue')\n",
    "# plt.errorbar(10**np.asarray(log10y_center),N_clusters_y_theory,\n",
    "#              yerr=np.sqrt(N_clusters_y_theory),\n",
    "#              marker='o',markersize=3.,ls='none',label='class_sz',capsize=9,c='orange')\n",
    "plt.plot(10**np.asarray(log10y_center),N_clusters_y_theory,\n",
    "\n",
    "             marker='o',markersize=3.,ls='-',label='class_sz',c='k')\n",
    "\n",
    "plt.ylim(1e-4,1e4)\n",
    "plt.xlabel('signal-to-noise $q$', fontsize=14)\n",
    "plt.ylabel('$N$', fontsize=14)\n",
    "plt.xscale('log')\n",
    "plt.yscale('log')\n",
    "plt.xticks(fontsize=14)\n",
    "plt.yticks(fontsize=14)\n",
    "plt.legend(fontsize=14)\n",
    "plt.grid()\n",
    "plt.show()"
   ]
  },
  {
   "cell_type": "code",
   "execution_count": 200,
   "metadata": {},
   "outputs": [
    {
     "data": {
      "image/png": "[encoded data removed]",
      "text/plain": [
       "<Figure size 576x432 with 1 Axes>"
      ]
     },
     "metadata": {
      "needs_background": "light"
     },
     "output_type": "display_data"
    }
   ],
   "source": [
    "plt.figure(figsize=(8,6))\n",
    "plt.plot(q, Nq, color=color_list[2],marker='o', label='CAMB prediction, nbins=1')\n",
    "# plt.plot(q, Nq_ccl, color=color_list[6], label='CCL prediction, nbins=5',marker='o')\n",
    "# plt.errorbar(q, catNq, yerr=np.sqrt(catNq), color='black', fmt='o', ms=3, capsize=5, capthick=2, ls='none', label='mock catalogue')\n",
    "# plt.errorbar(10**np.asarray(log10y_center),N_clusters_y_theory,\n",
    "#              yerr=np.sqrt(N_clusters_y_theory),\n",
    "#              marker='o',markersize=3.,ls='none',label='class_sz',capsize=9,c='orange')\n",
    "plt.plot(10**np.asarray(log10y_center),N_clusters_y_theory,\n",
    "\n",
    "             marker='o',markersize=3.,ls='-',label='class_sz',c='orange')\n",
    "\n",
    "plt.ylim(1e-4,1e4)\n",
    "plt.xlabel('signal-to-noise $q$', fontsize=14)\n",
    "plt.ylabel('$N$', fontsize=14)\n",
    "plt.xscale('log')\n",
    "plt.yscale('log')\n",
    "plt.xticks(fontsize=14)\n",
    "plt.yticks(fontsize=14)\n",
    "plt.legend(fontsize=14)\n",
    "plt.grid()\n",
    "plt.show()"
   ]
  },
  {
   "cell_type": "code",
   "execution_count": 18,
   "metadata": {},
   "outputs": [
    {
     "data": {
      "image/png": "[encoded data removed]",
      "text/plain": [
       "<Figure size 576x432 with 1 Axes>"
      ]
     },
     "metadata": {
      "needs_background": "light"
     },
     "output_type": "display_data"
    }
   ],
   "source": [
    "plt.figure(figsize=(8,6))\n",
    "plt.plot(z, Nz, color=color_list[2], label='CAMB prediction, nbins=5',marker='o')\n",
    "# plt.plot(z, Nq_ccl, color=color_list[6], label='CCL prediction, nbins=5',marker='o')\n",
    "# plt.errorbar(z, catNz, yerr=np.sqrt(catNz), color='black', fmt='o', ms=3, capsize=5, capthick=2, ls='none', label='mock catalogue')\n",
    "plt.errorbar(z_center,N_clusters_z_theory,yerr=np.sqrt(N_clusters_z_theory),marker='o',markersize=3.,ls='none',label='class_sz',capsize=9,c='orange')\n",
    "\n",
    "\n",
    "plt.xlabel('redshift $z$', fontsize=14)\n",
    "plt.ylabel('$N$', fontsize=14)\n",
    "plt.xscale('linear')\n",
    "plt.yscale('log')\n",
    "plt.xticks(fontsize=14)\n",
    "plt.yticks(fontsize=14)\n",
    "plt.legend(fontsize=14)\n",
    "plt.grid()\n",
    "plt.show()"
   ]
  },
  {
   "cell_type": "code",
   "execution_count": 24,
   "metadata": {},
   "outputs": [
    {
     "data": {
      "text/plain": [
       "array([ 5.30884444,  7.07945784,  9.44060876, 12.58925412, 16.78804018,\n",
       "       22.38721139])"
      ]
     },
     "execution_count": 24,
     "metadata": {},
     "output_type": "execute_result"
    }
   ],
   "source": [
    "q"
   ]
  },
  {
   "cell_type": "code",
   "execution_count": 23,
   "metadata": {},
   "outputs": [
    {
     "data": {
      "text/plain": [
       "array([  5.30884444,   9.44060876,  16.78804018,  29.85382619,\n",
       "        53.08844442,  94.40608763, 167.88040181])"
      ]
     },
     "execution_count": 23,
     "metadata": {},
     "output_type": "execute_result"
    }
   ],
   "source": [
    "10**np.asarray(log10y_center)"
   ]
  },
  {
   "cell_type": "code",
   "execution_count": 52,
   "metadata": {},
   "outputs": [
    {
     "data": {
      "text/plain": [
       "[0.725, 0.975, 1.225, 1.475, 1.725, 1.975, 2.225]"
      ]
     },
     "execution_count": 52,
     "metadata": {},
     "output_type": "execute_result"
    }
   ],
   "source": [
    "log10y_center"
   ]
  },
  {
   "cell_type": "markdown",
   "metadata": {},
   "source": [
    "# SNR binning in SOLikeT"
   ]
  },
  {
   "cell_type": "code",
   "execution_count": 26,
   "metadata": {},
   "outputs": [],
   "source": [
    "# SNR binning (following szcounts.f90)\n",
    "logqmin = 0.6#self.binning['q']['log10qmin']\n",
    "logqmax = 2.#self.binning['q']['log10qmax']\n",
    "dlogq = 0.25#self.binning['q']['dlog10q']"
   ]
  },
  {
   "cell_type": "code",
   "execution_count": 27,
   "metadata": {},
   "outputs": [],
   "source": [
    "Nq = int((logqmax - logqmin)/dlogq) + 1\n",
    "qbins = 10**np.arange(logqmin, logqmax+dlogq, dlogq)\n",
    "qarr = 0.5*(qbins[:1] + qbins[1:])"
   ]
  },
  {
   "cell_type": "code",
   "execution_count": 50,
   "metadata": {},
   "outputs": [
    {
     "data": {
      "text/plain": [
       "array([3.98107171])"
      ]
     },
     "execution_count": 50,
     "metadata": {},
     "output_type": "execute_result"
    }
   ],
   "source": [
    "qbins[:1]"
   ]
  },
  {
   "cell_type": "code",
   "execution_count": 28,
   "metadata": {},
   "outputs": [
    {
     "data": {
      "text/plain": [
       "array([ 5.53026477,  8.28516291, 13.18414155, 21.89589438, 37.38782507,\n",
       "       64.93680644])"
      ]
     },
     "execution_count": 28,
     "metadata": {},
     "output_type": "execute_result"
    }
   ],
   "source": [
    "qarr"
   ]
  },
  {
   "cell_type": "code",
   "execution_count": 29,
   "metadata": {},
   "outputs": [
    {
     "data": {
      "text/plain": [
       "array([0.74274592, 0.91830105, 1.12005186, 1.34036269, 1.5727302 ,\n",
       "       1.81249093])"
      ]
     },
     "execution_count": 29,
     "metadata": {},
     "output_type": "execute_result"
    }
   ],
   "source": [
    "np.log10(qarr)"
   ]
  },
  {
   "cell_type": "code",
   "execution_count": 30,
   "metadata": {},
   "outputs": [
    {
     "data": {
      "text/plain": [
       "array([0.6 , 0.85, 1.1 , 1.35, 1.6 , 1.85, 2.1 ])"
      ]
     },
     "execution_count": 30,
     "metadata": {},
     "output_type": "execute_result"
    }
   ],
   "source": [
    "np.arange(logqmin, logqmax+dlogq, dlogq)"
   ]
  },
  {
   "cell_type": "code",
   "execution_count": 31,
   "metadata": {},
   "outputs": [
    {
     "data": {
      "text/plain": [
       "0.725"
      ]
     },
     "execution_count": 31,
     "metadata": {},
     "output_type": "execute_result"
    }
   ],
   "source": [
    "(0.6 + 0.85)/2."
   ]
  },
  {
   "cell_type": "code",
   "execution_count": 32,
   "metadata": {},
   "outputs": [
    {
     "data": {
      "text/plain": [
       "array([3.98107171])"
      ]
     },
     "execution_count": 32,
     "metadata": {},
     "output_type": "execute_result"
    }
   ],
   "source": [
    "qbins[:1]"
   ]
  },
  {
   "cell_type": "code",
   "execution_count": 33,
   "metadata": {},
   "outputs": [
    {
     "data": {
      "text/plain": [
       "array([  7.07945784,  12.58925412,  22.38721139,  39.81071706,\n",
       "        70.79457844, 125.89254118])"
      ]
     },
     "execution_count": 33,
     "metadata": {},
     "output_type": "execute_result"
    }
   ],
   "source": [
    "qbins[1:]"
   ]
  },
  {
   "cell_type": "code",
   "execution_count": 45,
   "metadata": {},
   "outputs": [],
   "source": [
    "qbins_log = np.arange(logqmin, logqmax+dlogq, dlogq)\n",
    "qarr_log = 10**(0.5*(qbins_log[:1] + qbins_log[1:]))"
   ]
  },
  {
   "cell_type": "code",
   "execution_count": 51,
   "metadata": {},
   "outputs": [
    {
     "data": {
      "text/plain": [
       "array([0.725, 0.975, 1.225, 1.475, 1.725, 1.975])"
      ]
     },
     "execution_count": 51,
     "metadata": {},
     "output_type": "execute_result"
    }
   ],
   "source": [
    "0.5*(qbins_log[:-1] + qbins_log[1:])"
   ]
  },
  {
   "cell_type": "code",
   "execution_count": 48,
   "metadata": {},
   "outputs": [
    {
     "data": {
      "text/plain": [
       "array([0.6])"
      ]
     },
     "execution_count": 48,
     "metadata": {},
     "output_type": "execute_result"
    }
   ],
   "source": [
    "qbins_log[:1]"
   ]
  },
  {
   "cell_type": "code",
   "execution_count": 49,
   "metadata": {},
   "outputs": [
    {
     "data": {
      "text/plain": [
       "array([0.85, 1.1 , 1.35, 1.6 , 1.85, 2.1 ])"
      ]
     },
     "execution_count": 49,
     "metadata": {},
     "output_type": "execute_result"
    }
   ],
   "source": [
    "qbins_log[1:]"
   ]
  },
  {
   "cell_type": "code",
   "execution_count": 46,
   "metadata": {},
   "outputs": [
    {
     "data": {
      "text/plain": [
       "array([0.725, 0.85 , 0.975, 1.1  , 1.225, 1.35 ])"
      ]
     },
     "execution_count": 46,
     "metadata": {},
     "output_type": "execute_result"
    }
   ],
   "source": [
    "np.log10(qarr_log)"
   ]
  },
  {
   "cell_type": "code",
   "execution_count": 36,
   "metadata": {},
   "outputs": [
    {
     "data": {
      "text/plain": [
       "array([ 5.30884444,  7.07945784,  9.44060876, 12.58925412, 16.78804018,\n",
       "       22.38721139])"
      ]
     },
     "execution_count": 36,
     "metadata": {},
     "output_type": "execute_result"
    }
   ],
   "source": [
    "qarr_log"
   ]
  },
  {
   "cell_type": "code",
   "execution_count": 37,
   "metadata": {},
   "outputs": [
    {
     "data": {
      "text/plain": [
       "0.6989700043360189"
      ]
     },
     "execution_count": 37,
     "metadata": {},
     "output_type": "execute_result"
    }
   ],
   "source": [
    "np.log10(5.)"
   ]
  },
  {
   "cell_type": "code",
   "execution_count": 43,
   "metadata": {},
   "outputs": [
    {
     "data": {
      "text/plain": [
       "array([0.6 , 0.85, 1.1 , 1.35, 1.6 , 1.85, 2.1 ])"
      ]
     },
     "execution_count": 43,
     "metadata": {},
     "output_type": "execute_result"
    }
   ],
   "source": [
    "qbins_log "
   ]
  },
  {
   "cell_type": "code",
   "execution_count": 44,
   "metadata": {},
   "outputs": [
    {
     "data": {
      "text/plain": [
       "array([0.6 , 0.85, 1.1 , 1.35, 1.6 , 1.85, 2.1 ])"
      ]
     },
     "execution_count": 44,
     "metadata": {},
     "output_type": "execute_result"
    }
   ],
   "source": [
    "np.log10(qbins)"
   ]
  },
  {
   "cell_type": "code",
   "execution_count": 170,
   "metadata": {},
   "outputs": [],
   "source": [
    "cluster_settings = {\n",
    "\n",
    "                   '100*theta_s':1.04135,\n",
    "                   'omega_b':0.0226576,\n",
    "                   'omega_cdm':0.1206864,\n",
    "                   'A_s':2.022662e-9,\n",
    "                   'tau_reio':0.055,\n",
    "                   'n_s': 0.96605,\n",
    "\n",
    "'output' : 'sz_cluster_counts',\n",
    "'mass function' : 'T08',\n",
    "'concentration parameter': 'B13',\n",
    "\n",
    "'has_selection_function' : 1,\n",
    "'experiment' : 1, # 1: simons observatory, 0: planck\n",
    "'y_m_relation' : 1, # 1: Hasselfield et al, 0: Planck\n",
    "    \n",
    "# 'SO_thetas_file':'/Users/boris/Work/CLASS-SZ/SO-SZ/class_sz/sz_auxiliary_files/so_3freqs_191121_thetas.txt',\n",
    "# 'SO_skyfracs_file':'/Users/boris/Work/CLASS-SZ/SO-SZ/class_sz/sz_auxiliary_files/so_3freqs_191121_skyfracs.txt',\n",
    "# 'SO_ylims_file':'/Users/boris/Work/CLASS-SZ/SO-SZ/class_sz/sz_auxiliary_files/so_3freqs_191121_ylims.txt',\n",
    "# X ray mass bias (if applicable -  default 1)\n",
    "# 'B' : 1.,\n",
    "    \n",
    "'signal-to-noise cut-off for survey cluster completeness' : 5,\n",
    "\n",
    "# scaling law parameter\n",
    "\n",
    "'B_ym': 0.08,\n",
    "'A_ym': 4.35e-5,\n",
    "'C_ym' : 0.,\n",
    "'sigmaM_ym' : 0.0,\n",
    "\n",
    "'M_min' : 1e12,\n",
    "'M_max' : 1e16,\n",
    "\n",
    "\n",
    "'YHe': 'BBN',\n",
    "\n",
    "# 1 massive neutrino (planck 2018 baseline)\n",
    "# neutrino mass set to 0\n",
    "'N_ur': 2.0328,\n",
    "'N_ncdm': 1,\n",
    "'m_ncdm': 0.0,\n",
    "'T_ncdm': 0.71611,\n",
    "\n",
    "\n",
    "# #3 massive neutrinos\n",
    "# N_ur : 0.00641\n",
    "# N_ncdm : 1\n",
    "# deg_ncdm : 3\n",
    "# m_ncdm : 0.02\n",
    "# T_ncdm : 0.71611\n",
    "\n",
    "\n",
    "\n",
    "\n",
    "# Prescription for HMF to be used with massive neutrinos\n",
    "# HMF_prescription_NCDM: 'CDM'\n",
    "\n",
    "\n",
    "'bin_z_min_cluster_counts' : 1.e-3,\n",
    "'bin_z_max_cluster_counts' : 2.,\n",
    "'bin_dz_cluster_counts' : 0.1,\n",
    "    \n",
    "'bin_dlog10_snr': 0.25,\n",
    "'log10_snr_min':0.6,\n",
    "'log10_snr_max':2.0,\n",
    "\n",
    "'dlny' : 0.01,\n",
    "'lnymin' : -11.,\n",
    "'lnymax' : 10.,\n",
    "\n",
    "'dlnM_cluster_count_completeness_grid' : 0.01,\n",
    "\n",
    "\n",
    "'cluster_count_completeness_grid_z_cutoff_low' : 0.5,\n",
    "'cluster_count_completeness_grid_z_cutoff_mid' : 1.5,\n",
    "\n",
    "'dz_cluster_count_completeness_grid_low_z' : 5e-3,\n",
    "'dz_cluster_count_completeness_grid_mid_z' : 1e-1,\n",
    "'dz_cluster_count_completeness_grid_high_z' : 1e-1,\n",
    "\n",
    "'mass_epsrel_cluster_counts' : 1e-3,\n",
    "'mass_epsabs_cluster_counts' : 1e-30,\n",
    "\n",
    "'redshift_epsrel_cluster_counts' : 1e-3,\n",
    "'redshift_epsabs_cluster_counts' : 1e-30,\n",
    "\n",
    "# # tabulation of mass function:\n",
    "'n_z_dndlnM' : 150,\n",
    "'n_m_dndlnM' : 150,\n",
    "\n",
    "# # computation of mass function\n",
    "# # (grid in mass and redshifts for sigma and dsigma)\n",
    "'ndim_masses' : 250,\n",
    "'ndim_redshifts' : 250,\n",
    "\n",
    "# pk setup for computation of sigma and dsigma\n",
    "'k_per_decade_class_sz' : 20.,\n",
    "'k_min_for_pk_class_sz' : 1e-3,\n",
    "'k_max_for_pk_class_sz' : 1e1,\n",
    "\n",
    "'P_k_max_h/Mpc' : 1e0,\n",
    "'non linear': 'halofit',\n",
    "'use_websky_m200m_to_m200c_conversion': 1\n",
    "\n",
    "}"
   ]
  },
  {
   "cell_type": "code",
   "execution_count": 171,
   "metadata": {},
   "outputs": [
    {
     "name": "stdout",
     "output_type": "stream",
     "text": [
      "h : 0.677322\n"
     ]
    }
   ],
   "source": [
    "snrcut = 5\n",
    "from classy_sz import Class\n",
    "M = Class()\n",
    "M.set(cluster_settings)\n",
    "M.set({\n",
    "'apply_relativistic_correction_to_y_m':0,\n",
    "'signal-to-noise cut-off for survey cluster completeness' : snrcut,\n",
    "'use_websky_m200m_to_m200c_conversion': 1,\n",
    "\n",
    "\n",
    "\n",
    "'dlny' : 0.1, #HW used to be 0.01, #step in y integral\n",
    "'lnymin' : -11., #HW no impact\n",
    "'lnymax' : 10., #HW no impact\n",
    "\n",
    "'dlnM_cluster_count_completeness_grid' : 0.07, #HW used to be 0.01, try bigger, big impact on speed\n",
    "\n",
    "\n",
    "'cluster_count_completeness_grid_z_cutoff_low' : 0.5, #HW good value, #integrating over redshift, different regeims\n",
    "'cluster_count_completeness_grid_z_cutoff_mid' : 1.5, #HW no change\n",
    "\n",
    "'dz_cluster_count_completeness_grid_low_z' : 0.015, #HW used to be 0.001\n",
    "'dz_cluster_count_completeness_grid_mid_z' : 0.12, #HW used to be 0.1\n",
    "'dz_cluster_count_completeness_grid_high_z' : 0.2, #HW used to be 1e-1, #try taking bigger steps\n",
    "\n",
    "'mass_epsrel_cluster_counts' : 1e-3, #leave as is\n",
    "'mass_epsabs_cluster_counts' : 1e-30,\n",
    "\n",
    "'redshift_epsrel_cluster_counts' : 1e-3, #leave as is\n",
    "'redshift_epsabs_cluster_counts' : 1e-30,\n",
    "\n",
    "# # tabulation of mass function:\n",
    "'n_z_dndlnM' : 80, #HW previously 150\n",
    "'n_m_dndlnM' : 50, #HW previously 150\n",
    "\n",
    "# # computation of mass function\n",
    "# # (grid in mass and redshifts for sigma and dsigma)\n",
    "    #HW these are extremely high, try 80 or 100\n",
    "'ndim_masses' : 100, #HW previoulsy 250, big impact on speed\n",
    "'ndim_redshifts' : 80, #HW previously 250, big impact on speed\n",
    "\n",
    "# pk setup for computation of sigma and dsigma\n",
    "'k_per_decade_class_sz' : 18., #HW previously 20, last one I can change\n",
    "'k_min_for_pk_class_sz' : 1e-3, #Don't change below this\n",
    "'k_max_for_pk_class_sz' : 1e1,\n",
    "\n",
    "'P_k_max_h/Mpc' : 1e0,\n",
    "'non linear': 'halofit',\n",
    "\n",
    "'m_pivot_ym [Msun]' : 3e14,\n",
    "})\n",
    "M.compute()\n",
    "print('h : %f'%M.h())\n",
    "\n"
   ]
  },
  {
   "cell_type": "code",
   "execution_count": 172,
   "metadata": {},
   "outputs": [],
   "source": [
    "dNdzdy_theoretical = M.dndzdy_theoretical()['dndzdy']\n",
    "# dNdzdy_theoretical_with_rel = M_with_rel.dndzdy_theoretical()['dndzdy']\n",
    "z_center = M.dndzdy_theoretical()['z_center']\n",
    "z_edges = M.dndzdy_theoretical()['z_edges']\n",
    "log10y_center = M.dndzdy_theoretical()['log10y_center']\n",
    "log10y_edges = M.dndzdy_theoretical()['log10y_edges']"
   ]
  },
  {
   "cell_type": "code",
   "execution_count": 173,
   "metadata": {},
   "outputs": [],
   "source": [
    "N_z,N_y = np.shape(dNdzdy_theoretical)\n",
    "N_clusters_z_theory = []\n",
    "N_clusters_z_theory_with_rel = []\n",
    "for iz in range(N_z):\n",
    "    N_clusters_z_theory.append(np.sum(dNdzdy_theoretical[iz]))\n",
    "#     N_clusters_z_theory_with_rel.append(np.sum(dNdzdy_theoretical_with_rel[iz]))\n",
    "N_clusters_y_theory = []\n",
    "N_clusters_y_theory_with_rel = []\n",
    "for iy in range(N_y):\n",
    "    N_clusters_y_theory.append(np.sum(np.asarray(dNdzdy_theoretical)[:,iy]))\n",
    "#     N_clusters_y_theory_with_rel.append(np.sum(np.asarray(dNdzdy_theoretical_with_rel)[:,iy]))\n",
    "\n"
   ]
  },
  {
   "cell_type": "code",
   "execution_count": 174,
   "metadata": {},
   "outputs": [
    {
     "data": {
      "text/plain": [
       "(1.0, 5000000.0)"
      ]
     },
     "execution_count": 174,
     "metadata": {},
     "output_type": "execute_result"
    },
    {
     "data": {
      "image/png": "[encoded data removed]",
      "text/plain": [
       "<Figure size 432x288 with 1 Axes>"
      ]
     },
     "metadata": {
      "needs_background": "light"
     },
     "output_type": "display_data"
    }
   ],
   "source": [
    "# N_clusters_y, xedges = np.histogram(np.log10(snr), bins=log10y_edges)\n",
    "# plt.errorbar(log10y_center,N_clusters_y,yerr=np.sqrt(N_clusters_y),marker='o',markersize=3.,ls='none',label='mock catalogue',capsize=5,c='r')\n",
    "# n, bins, patches = plt.hist(x=np.repeat(log10y_center,N_clusters_y_theory), bins=log10y_edges, color='orange',alpha=0.7, rwidth=0.95, label='class_sz')\n",
    "plt.errorbar(log10y_center,N_clusters_y_theory,yerr=np.sqrt(N_clusters_y_theory),\n",
    "             marker='o',markersize=3.,ls='none',label='class_sz',capsize=9,c='orange')\n",
    "# plt.errorbar(log10y_center,N_clusters_y_theory_with_rel,yerr=np.sqrt(N_clusters_y_theory_with_rel),marker='o',markersize=3.,ls='none',label='class_sz (rel. corr.)',capsize=5,c='k')\n",
    "\n",
    "\n",
    "\n",
    "# plt.errorbar(q, Nq, yerr=np.sqrt(Nq), color='blue', fmt='o', ms=3, capsize=5, capthick=2, ls='none', label='szcountsf90')\n",
    "\n",
    "# plt.errorbar(10**q, catNq, yerr=np.sqrt(catNq), color='black', fmt='o', ms=3, capsize=5, capthick=2, ls='none', label='mock catalogue')\n",
    "\n",
    "\n",
    "\n",
    "plt.grid()\n",
    "plt.legend()\n",
    "plt.xlabel(r'$\\log_{10}(SNR)$')\n",
    "plt.ylabel(r'$N$')\n",
    "plt.yscale('log')\n",
    "plt.xlim(0.6,2.1)\n",
    "plt.ylim(1.,5e6)"
   ]
  },
  {
   "cell_type": "code",
   "execution_count": 66,
   "metadata": {},
   "outputs": [
    {
     "data": {
      "text/plain": [
       "[3.3283193126259444e-294,\n",
       " 2.073414304259742e-293,\n",
       " 4.9742787734153015e-293,\n",
       " 8.499753451053398e-293,\n",
       " 1.22141554727535e-292,\n",
       " 1.5789805084908586e-292,\n",
       " 1.9001406255797604e-292,\n",
       " 2.1698807091658075e-292,\n",
       " 2.381659001485031e-292,\n",
       " 2.533536884817794e-292,\n",
       " 2.6269914273096945e-292,\n",
       " 2.6664411962408955e-292,\n",
       " 2.6577779672402837e-292,\n",
       " 2.608101184060945e-292,\n",
       " 2.5241737383295296e-292,\n",
       " 2.4127840788667142e-292,\n",
       " 2.2807113113929376e-292,\n",
       " 2.1340282307269525e-292,\n",
       " 1.9779728823821597e-292]"
      ]
     },
     "execution_count": 66,
     "metadata": {},
     "output_type": "execute_result"
    }
   ],
   "source": [
    "N_clusters_z_theory"
   ]
  },
  {
   "cell_type": "code",
   "execution_count": null,
   "metadata": {},
   "outputs": [],
   "source": []
  }
 ],
 "metadata": {
  "kernelspec": {
   "display_name": "Python 3 (ipykernel)",
   "language": "python",
   "name": "python3"
  },
  "language_info": {
   "codemirror_mode": {
    "name": "ipython",
    "version": 3
   },
   "file_extension": ".py",
   "mimetype": "text/x-python",
   "name": "python",
   "nbconvert_exporter": "python",
   "pygments_lexer": "ipython3",
   "version": "3.8.5"
  }
 },
 "nbformat": 4,
 "nbformat_minor": 4
}
