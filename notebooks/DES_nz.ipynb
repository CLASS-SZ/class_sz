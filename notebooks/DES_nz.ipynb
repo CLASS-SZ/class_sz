{
 "cells": [
  {
   "cell_type": "code",
   "execution_count": 1,
   "id": "9889e442",
   "metadata": {},
   "outputs": [],
   "source": [
    "# import necessary modules\n",
    "# uncomment to get plots displayed in notebook\n",
    "%matplotlib inline\n",
    "import matplotlib\n",
    "import matplotlib.pyplot as plt\n",
    "import numpy as np\n",
    "from classy_sz import Class\n",
    "from scipy.optimize import fsolve\n",
    "from scipy.interpolate import interp1d\n",
    "import math"
   ]
  },
  {
   "cell_type": "code",
   "execution_count": 2,
   "id": "dad35d13",
   "metadata": {},
   "outputs": [],
   "source": [
    "font = {'size'   : 16, 'family':'STIXGeneral'}\n",
    "axislabelfontsize='large'\n",
    "matplotlib.rc('font', **font)\n",
    "matplotlib.mathtext.rcParams['legend.fontsize']='medium'\n",
    "plt.rcParams[\"figure.figsize\"] = [8.0,6.0]"
   ]
  },
  {
   "cell_type": "code",
   "execution_count": 4,
   "id": "adfbcd65",
   "metadata": {},
   "outputs": [],
   "source": [
    "z, bin1, bin2, bin3, bin4, bin5, bin6 = np.loadtxt('/Users/boris/Work/DES/nz_maglim_allbins.txt',unpack=True)"
   ]
  },
  {
   "cell_type": "code",
   "execution_count": 10,
   "id": "12ded1e4",
   "metadata": {},
   "outputs": [],
   "source": [
    "np.savetxt('/Users/boris/Work/DES/nz_maglim_z_bin1.txt',np.c_[z,bin1])\n",
    "np.savetxt('/Users/boris/Work/DES/nz_maglim_z_bin2.txt',np.c_[z,bin2])\n",
    "np.savetxt('/Users/boris/Work/DES/nz_maglim_z_bin3.txt',np.c_[z,bin3])\n",
    "np.savetxt('/Users/boris/Work/DES/nz_maglim_z_bin4.txt',np.c_[z,bin4])\n",
    "np.savetxt('/Users/boris/Work/DES/nz_maglim_z_bin5.txt',np.c_[z,bin5])\n",
    "np.savetxt('/Users/boris/Work/DES/nz_maglim_z_bin6.txt',np.c_[z,bin6])"
   ]
  },
  {
   "cell_type": "code",
   "execution_count": 16,
   "id": "6261b0cc",
   "metadata": {},
   "outputs": [
    {
     "data": {
      "text/plain": [
       "1.0000000000000002"
      ]
     },
     "execution_count": 16,
     "metadata": {},
     "output_type": "execute_result"
    }
   ],
   "source": [
    "np.trapz(bin6,z)"
   ]
  },
  {
   "cell_type": "code",
   "execution_count": null,
   "id": "9ebeef5c",
   "metadata": {},
   "outputs": [],
   "source": []
  }
 ],
 "metadata": {
  "kernelspec": {
   "display_name": "Python 3 (ipykernel)",
   "language": "python",
   "name": "python3"
  },
  "language_info": {
   "codemirror_mode": {
    "name": "ipython",
    "version": 3
   },
   "file_extension": ".py",
   "mimetype": "text/x-python",
   "name": "python",
   "nbconvert_exporter": "python",
   "pygments_lexer": "ipython3",
   "version": "3.8.5"
  }
 },
 "nbformat": 4,
 "nbformat_minor": 5
}
