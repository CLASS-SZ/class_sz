{
 "cells": [
  {
   "cell_type": "code",
   "execution_count": 1,
   "id": "8826852a",
   "metadata": {},
   "outputs": [],
   "source": [
    "# initialization cell\n",
    "\n",
    "%matplotlib inline\n",
    "import matplotlib\n",
    "import matplotlib.pyplot as plt\n",
    "import numpy as np\n",
    "from classy_sz import Class\n",
    "from scipy.optimize import fsolve\n",
    "from scipy.interpolate import interp1d\n",
    "import math\n",
    "import time\n",
    "import os\n",
    "current_path = os.getcwd()\n",
    "path_to_files = current_path + '/../sz_auxiliary_files/'\n",
    "import matplotlib.patches as mpatches\n",
    "\n",
    "font = {'size'   : 16, 'family':'STIXGeneral'}\n",
    "axislabelfontsize='large'\n",
    "matplotlib.rc('font', **font)\n",
    "matplotlib.mathtext.rcParams['legend.fontsize']='medium'\n",
    "plt.rcParams[\"figure.figsize\"] = [8.0,6.0]\n",
    "plt.rcParams.update({\n",
    "    \"text.usetex\": True,\n",
    "    \"font.family\": \"sans-serif\",\n",
    "    \"font.sans-serif\": [\"Helvetica\"]})\n",
    "\n",
    "arcmin_to_radians = np.pi/(60.*180.)"
   ]
  },
  {
   "cell_type": "code",
   "execution_count": 2,
   "id": "779fd9b8",
   "metadata": {},
   "outputs": [],
   "source": [
    "# the parameters needed for cosmology:\n",
    "\n",
    "cosmo_params = {\n",
    "'omega_b': 0.02242,\n",
    "'omega_cdm':  0.11933,\n",
    "'h': 0.6766,\n",
    "'tau_reio': 0.0561,\n",
    "'ln10^{10}A_s': 3.047,\n",
    "'n_s': 0.9665,\n",
    "\n",
    "'k_pivot': 0.05,\n",
    "'N_ncdm': 1,\n",
    "'N_ur': 2.0328,\n",
    "'m_ncdm': 0.06    \n",
    "\n",
    "}\n",
    "\n",
    "# the common parameters:\n",
    "\n",
    "common_params = {\n",
    "\n",
    "'z_min' : 0.005,\n",
    "'z_max' : 4.0,\n",
    "'M_min' : 7.0e8, \n",
    "'M_max' : 3.5e15,\n",
    "    \n",
    "\n",
    "'delta for galaxies' : \"200c\",\n",
    "'delta for matter density' : \"200c\",\n",
    "'mass function' : 'T08M200c',\n",
    "'concentration parameter' : 'B13',\n",
    "\n",
    "'redshift_epsabs': 1.0e-40,\n",
    "'redshift_epsrel': 0.0005,\n",
    "'mass_epsabs': 1.0e-40,\n",
    "'mass_epsrel': 0.0005,\n",
    "\n",
    "\n",
    "'ell_max': 1600.0,\n",
    "'ell_min': 2.0,\n",
    "'dell': 10,\n",
    "\n",
    "'non linear' : 'halofit',\n",
    "'pk_nonlinear_for_vrms2' : 1,\n",
    "'hm_consistency' : 1,\n",
    "    \n",
    "'f_free' : 1.0,\n",
    "    \n",
    "\n",
    "# 'ndim_masses': 150,\n",
    "# 'ndim_redshifts': 150,\n",
    "\n",
    "# 'P_k_max_h/Mpc': 50.0,\n",
    "# 'k_min_for_pk_class_sz': 0.0001,\n",
    "# 'k_max_for_pk_class_sz': 10.0,\n",
    "# 'k_per_decade_class_sz': 20.0,\n",
    "}\n",
    "\n",
    "\n",
    "# HOD params for kSZ2-g\n",
    "\n",
    "bestfit_blue_hod_params = {\n",
    "'galaxy_sample': 'unwise',\n",
    "'galaxy_sample_id': \"blue\",\n",
    "'UNWISE_dndz_file' : \"/Users/boris/Work/CLASS-SZ/SO-SZ/class_sz/sz_auxiliary_files/UNWISE_galaxy_distributions/normalised_dndz_cosmos.txt\",\n",
    "# 'UNWISE_fdndz_file' : \"/Users/boris/Work/CLASS-SZ/SO-SZ/class_sz/sz_auxiliary_files/UNWISE_galaxy_distributions/normalised_fdndz.txt\",\n",
    "\n",
    "'sigma_log10M_HOD' : 0.69,\n",
    "'alpha_s_HOD' :  1.30,\n",
    "'M1_prime_HOD' : 5.03e12, # Msun/h\n",
    "'M_min_HOD' : 6.25e11, # Msun/h\n",
    "'cl_gal_gal_A_sn' : -0.26e-7, \n",
    "'x_out_truncated_nfw_profile_satellite_galaxies' : 1.09,\n",
    "\n",
    "\n",
    "'M0_HOD':0,  # Msun/h\n",
    "'M0 equal M_min (HOD)': 'no',\n",
    "'x_out_truncated_nfw_profile':1.0,    \n",
    "    \n",
    "}\n",
    "\n",
    "bestfit_green_hod_params = {\n",
    "'galaxy_sample': 'unwise',\n",
    "'galaxy_sample_id': \"green\",\n",
    "'UNWISE_dndz_file' : \"/Users/boris/Work/CLASS-SZ/SO-SZ/class_sz/sz_auxiliary_files/UNWISE_galaxy_distributions/normalised_dndz_cosmos.txt\",\n",
    "   \n",
    "\n",
    "'sigma_log10M_HOD' : 0.97,\n",
    "'alpha_s_HOD' :  1.30,\n",
    "'M1_prime_HOD' : 2.76e13, # Msun/h\n",
    "'M_min_HOD' : 1.34e13, # Msun/h\n",
    "'cl_gal_gal_A_sn' : 1.38e-7, \n",
    "'x_out_truncated_nfw_profile_satellite_galaxies' : 2.75,\n",
    "\n",
    "\n",
    "'M0_HOD':0,  # Msun/h\n",
    "'M0 equal M_min (HOD)': 'no',\n",
    "'x_out_truncated_nfw_profile':1.0,    \n",
    "    \n",
    "}\n"
   ]
  },
  {
   "cell_type": "code",
   "execution_count": 3,
   "id": "17a4341b",
   "metadata": {},
   "outputs": [
    {
     "name": "stdout",
     "output_type": "stream",
     "text": [
      "computed in 1.6869 seconds\n"
     ]
    }
   ],
   "source": [
    "M = Class()\n",
    "\n",
    "M.set(common_params)\n",
    "M.set(cosmo_params)\n",
    "# M.set(bestfit_green_hod_params)\n",
    "\n",
    "\n",
    "M.set(\n",
    "    {\n",
    "'output':'gal_gal_hf,gal_lens_hf',\n",
    "\n",
    "'galaxy_sample': 'custom',\n",
    "'full_path_to_dndz_gal':'/Users/boris/Work/CLASS-SZ/SO-SZ/class_sz/sz_auxiliary_files/UNWISE_galaxy_distributions/wise_normalized.txt',   \n",
    "\n",
    "'dlogell' : 0.,\n",
    "'dell': 56.,\n",
    "'ell_max' : 3000.0,\n",
    "'ell_min' : 100.0,\n",
    "'f_sky':0.6, \n",
    "\n",
    "'effective_galaxy_bias': 1.1,\n",
    "'cl_gal_gal_A_sn' : 1.2566370614359172e-07,\n",
    "\n",
    "'use scale dependent bias (from non Gaussianity)': 1,\n",
    "'fNL' : 1e-1\n",
    "    \n",
    "      })\n",
    "\n",
    "ti = time.perf_counter()\n",
    "M.compute()\n",
    "tf = time.perf_counter()\n",
    "print(f\"computed in {tf - ti:0.4f} seconds\")"
   ]
  },
  {
   "cell_type": "code",
   "execution_count": 4,
   "id": "40b68ff2",
   "metadata": {},
   "outputs": [],
   "source": [
    "get_scale_dependent_bias_at_z_and_k = np.vectorize(M.get_scale_dependent_bias_at_z_and_k)"
   ]
  },
  {
   "cell_type": "code",
   "execution_count": 5,
   "id": "9f2ad050",
   "metadata": {},
   "outputs": [
    {
     "data": {
      "text/plain": [
       "[<matplotlib.lines.Line2D at 0x7f87306bf6d0>]"
      ]
     },
     "execution_count": 5,
     "metadata": {},
     "output_type": "execute_result"
    },
    {
     "data": {
      "image/png": "[encoded data removed]",
      "text/plain": [
       "<Figure size 576x432 with 1 Axes>"
      ]
     },
     "metadata": {
      "needs_background": "light"
     },
     "output_type": "display_data"
    }
   ],
   "source": [
    "plt.plot(M.cl_gg()['ell'],np.asarray(M.cl_gg()['hf'])/1**2,marker='o')\n",
    "plt.plot(M.cl_gg()['ell'],np.asarray(M.cl_kg()['hf'])/1**2,marker='o')"
   ]
  },
  {
   "cell_type": "code",
   "execution_count": 6,
   "id": "f8e06796",
   "metadata": {},
   "outputs": [
    {
     "data": {
      "text/plain": [
       "array(2.62751185e-05)"
      ]
     },
     "execution_count": 6,
     "metadata": {},
     "output_type": "execute_result"
    }
   ],
   "source": [
    "zp = 0.5\n",
    "kp = 1e-2 # in h/Mpc\n",
    "bp = 1.1\n",
    "get_scale_dependent_bias_at_z_and_k(zp,kp,bp)"
   ]
  },
  {
   "cell_type": "code",
   "execution_count": 7,
   "id": "3bda7582",
   "metadata": {},
   "outputs": [
    {
     "data": {
      "image/png": "[encoded data removed]",
      "text/plain": [
       "<Figure size 576x432 with 1 Axes>"
      ]
     },
     "metadata": {
      "needs_background": "light"
     },
     "output_type": "display_data"
    }
   ],
   "source": [
    "k_ar = np.geomspace(1e-3,1e1,100)\n",
    "plt.plot(k_ar,get_scale_dependent_bias_at_z_and_k(zp,k_ar,bp))\n",
    "plt.xscale('log')\n",
    "plt.yscale('log')"
   ]
  },
  {
   "cell_type": "code",
   "execution_count": 8,
   "id": "02fdc1b2",
   "metadata": {},
   "outputs": [
    {
     "data": {
      "image/png": "[encoded data removed]",
      "text/plain": [
       "<Figure size 576x432 with 1 Axes>"
      ]
     },
     "metadata": {
      "needs_background": "light"
     },
     "output_type": "display_data"
    }
   ],
   "source": [
    "z_ar = np.linspace(5e-3,4,100)\n",
    "plt.plot(z_ar,get_scale_dependent_bias_at_z_and_k(z_ar,kp,bp))\n",
    "plt.xscale('linear')\n",
    "plt.yscale('linear')"
   ]
  },
  {
   "cell_type": "code",
   "execution_count": null,
   "id": "3169cc73",
   "metadata": {},
   "outputs": [],
   "source": [
    "fnl_ar = np.geomspace(1e2,1e6,5)\n",
    "cls_gg = []\n",
    "cls_kg = []\n",
    "for fnl in fnl_ar:\n",
    "    M.set({'fNL' : fnl})\n",
    "    M.compute()\n",
    "    cls_gg.append(M.cl_gg())\n",
    "    cls_kg.append(M.cl_kg())"
   ]
  },
  {
   "cell_type": "code",
   "execution_count": null,
   "id": "afe5babe",
   "metadata": {},
   "outputs": [],
   "source": [
    "for (i,fnl) in enumerate(fnl_ar):\n",
    "    plt.plot(M.cl_gg()['ell'],cls_gg[i]['hf'],label=\"fnl=%.2e\"%fnl)\n",
    "plt.legend()\n",
    "plt.yscale('log')\n",
    "plt.ylabel('l(l+1)cl/2pi')\n",
    "plt.xlabel('l')\n",
    "plt.title('galaxy x galaxy')"
   ]
  },
  {
   "cell_type": "code",
   "execution_count": null,
   "id": "5ce59788",
   "metadata": {},
   "outputs": [],
   "source": [
    "for (i,fnl) in enumerate(fnl_ar):\n",
    "    plt.plot(M.cl_kg()['ell'],cls_kg[i]['hf'],label=\"fnl=%.2e\"%fnl)\n",
    "plt.legend()\n",
    "plt.yscale('log')\n",
    "plt.ylabel('l(l+1)cl/2pi')\n",
    "plt.xlabel('l')\n",
    "plt.title('kappa x galaxy')"
   ]
  },
  {
   "cell_type": "code",
   "execution_count": null,
   "id": "09295415",
   "metadata": {},
   "outputs": [],
   "source": []
  }
 ],
 "metadata": {
  "kernelspec": {
   "display_name": "Python 3 (ipykernel)",
   "language": "python",
   "name": "python3"
  },
  "language_info": {
   "codemirror_mode": {
    "name": "ipython",
    "version": 3
   },
   "file_extension": ".py",
   "mimetype": "text/x-python",
   "name": "python",
   "nbconvert_exporter": "python",
   "pygments_lexer": "ipython3",
   "version": "3.8.5"
  }
 },
 "nbformat": 4,
 "nbformat_minor": 5
}
