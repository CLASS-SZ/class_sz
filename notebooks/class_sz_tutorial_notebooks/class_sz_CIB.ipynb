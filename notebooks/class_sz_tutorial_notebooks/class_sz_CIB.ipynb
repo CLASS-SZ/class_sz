{
 "cells": [
  {
   "cell_type": "code",
   "execution_count": 44,
   "id": "ddc56653",
   "metadata": {},
   "outputs": [],
   "source": [
    "# import necessary modules\n",
    "# uncomment to get plots displayed in notebook\n",
    "%matplotlib inline\n",
    "import matplotlib\n",
    "import matplotlib.pyplot as plt\n",
    "import numpy as np\n",
    "from classy_sz import Class\n",
    "import math"
   ]
  },
  {
   "cell_type": "code",
   "execution_count": 45,
   "id": "5510a0ea",
   "metadata": {},
   "outputs": [],
   "source": [
    "font = {'size'   : 16, 'family':'STIXGeneral'}\n",
    "axislabelfontsize='large'\n",
    "matplotlib.rc('font', **font)\n",
    "plt.rcParams[\"figure.figsize\"] = [3.0,2.0]"
   ]
  },
  {
   "cell_type": "markdown",
   "id": "3a6b0d0c",
   "metadata": {},
   "source": [
    "# Parameters "
   ]
  },
  {
   "cell_type": "markdown",
   "id": "e2e53e05",
   "metadata": {},
   "source": [
    "Important: Planck 2014/ McCarthy et al. use Planck 2014 cosmology (https://arxiv.org/pdf/1303.5076.pdf, best-fit)"
   ]
  },
  {
   "cell_type": "code",
   "execution_count": 46,
   "id": "67eb50c1",
   "metadata": {},
   "outputs": [],
   "source": [
    "# the parameters needed for cosmology:\n",
    "# use the last column of Planck 2018 (https://arxiv.org/pdf/1807.06209.pdf)\n",
    "# TT,TE,EE+lowE+lensing+BAO\n",
    "cosmo_params = {\n",
    "'omega_b': 0.02242,\n",
    "'omega_cdm':  0.11933,\n",
    "'H0': 67.66,\n",
    "'tau_reio': 0.0561,\n",
    "'ln10^{10}A_s': 3.047,\n",
    "'n_s': 0.9665,\n",
    "\n",
    "'k_pivot': 0.05,\n",
    "'N_ncdm': 1,\n",
    "'N_ur': 2.0328,\n",
    "'m_ncdm': 0.06    \n",
    "}\n",
    "\n",
    "\n",
    "\n",
    "# # parameters for Cosmology Planck 14, https://arxiv.org/pdf/1303.5076.pdf, best-fit\n",
    "p14_dict={}\n",
    "p14_dict['Omega_cdm'] = 0.3175-0.022068/0.6711/0.6711\n",
    "p14_dict['omega_b'] = 0.022068\n",
    "p14_dict['h'] = 0.6711\n",
    "p14_dict['A_s'] = 2.2e-9\n",
    "p14_dict['n_s'] = .9624\n",
    "p14_dict['k_pivot'] = 0.05\n",
    "p14_dict['tau_reio'] = 0.0925\n",
    "\n",
    "p14_dict['N_ncdm'] = 1\n",
    "p14_dict['N_ur'] = 0.00641\n",
    "p14_dict['deg_ncdm'] = 3\n",
    "p14_dict['m_ncdm'] = 0.02\n",
    "p14_dict['T_ncdm'] = 0.71611\n",
    "\n",
    "\n",
    "\n",
    "# Boris benchmark\n",
    "p_dict = {}\n",
    "p_dict['mass function'] = 'T10'\n",
    "p_dict['concentration parameter'] = 'D08'\n",
    "p_dict['delta for cib'] = '200m'\n",
    "p_dict['hm_consistency'] = 1\n",
    "p_dict['damping_1h_term'] = 0\n",
    "\n",
    "# mass bounds\n",
    "p_dict['M_min_cib'] = 1e8*p14_dict['h']\n",
    "p_dict['M_max_cib'] = 1e16*p14_dict['h']\n",
    "# redshift bounds\n",
    "p_dict['z_min'] = 0.07\n",
    "p_dict['z_max'] = 6. # fiducial for MM20 : 6\n",
    "p_dict['freq_min'] = 10.\n",
    "p_dict['freq_max'] = 5e4 # fiducial for MM20 : 6\n",
    "\n",
    "# HOD parameters for CIB\n",
    "p_dict['M_min_HOD_cib'] = pow(10.,10)\n",
    "#p_dict['M1_prime_HOD'] =pow(10.,125.1536196)*p_dict['h']\n",
    "\n",
    "\n",
    "# CIB parametes see McCarthy & Madhavacheril 2020\n",
    "p_dict['Redshift evolution of dust temperature'] =  0.36\n",
    "p_dict['Dust temperature today in Kelvins'] = 24.4\n",
    "p_dict['Emissivity index of sed'] = 1.75\n",
    "p_dict['Power law index of SED at high frequency'] = 1.7\n",
    "p_dict['Redshift evolution of L − M normalisation'] = 3.6\n",
    "p_dict['Most efficient halo mass in Msun'] = pow(10.,12.6)\n",
    "p_dict['Normalisation of L − M relation in [Jy MPc2/Msun]'] = 6.4e-8\n",
    "p_dict['Size of of halo masses sourcing CIB emission'] = 0.5\n",
    "\n",
    "# precision parameters\n",
    "p_dict['pressure_profile_epsabs'] = 1.e-8\n",
    "p_dict['pressure_profile_epsrel'] = 1.e-3\n",
    "# precision for redshift integal\n",
    "p_dict['redshift_epsabs'] = 1e-40#1.e-40\n",
    "p_dict['redshift_epsrel'] = 1e-4#1.e-10 # fiducial value 1e-8\n",
    "# precision for mass integal\n",
    "p_dict['mass_epsabs'] = 1e-40 #1.e-40\n",
    "p_dict['mass_epsrel'] = 1e-4#1e-10\n",
    "# precision for Luminosity integral (sub-halo mass function)\n",
    "p_dict['L_sat_epsabs'] = 1e-40 #1.e-40\n",
    "p_dict['L_sat_epsrel'] = 1e-3#1e-10\n",
    "\n",
    "p_dict['z_max_pk'] = p_dict['z_max']\n",
    "\n",
    "# multipole array\n",
    "p_dict['dell'] = 30\n",
    "p_dict['ell_max'] = 8000.\n",
    "p_dict['ell_min'] = 2.\n"
   ]
  },
  {
   "cell_type": "markdown",
   "id": "e1076cfa",
   "metadata": {},
   "source": [
    "# Select frequencies "
   ]
  },
  {
   "cell_type": "code",
   "execution_count": 47,
   "id": "af098eb1",
   "metadata": {},
   "outputs": [],
   "source": [
    "nu_list = 217,353,545\n",
    "nu_list_str = '217,353,545'"
   ]
  },
  {
   "cell_type": "markdown",
   "id": "efaaae60",
   "metadata": {},
   "source": [
    "## Flux cut "
   ]
  },
  {
   "cell_type": "code",
   "execution_count": 48,
   "id": "2dd34d8c",
   "metadata": {},
   "outputs": [],
   "source": [
    "# flux cut values\n",
    "\n",
    "cib_flux = {}\n",
    "# Planck flux cut, Table 1 in https://arxiv.org/pdf/1309.0382.pdf\n",
    "cib_flux['100'] = 400\n",
    "cib_flux['143'] = 350\n",
    "cib_flux['217'] = 225\n",
    "cib_flux['353'] = 315\n",
    "cib_flux['545'] = 350\n",
    "cib_flux['857'] = 710\n",
    "cib_flux['3000'] = 1000\n",
    "#SO\n",
    "cib_flux['93'] = 7\n",
    "cib_flux['145'] = 15\n",
    "cib_flux['225'] = 20\n",
    "cib_flux['280'] = 25\n",
    "#CCAT prime, Fiona's assumptions\n",
    "# cib_flux['93'] = 400\n",
    "# cib_flux['145'] = 350\n",
    "# cib_flux['225'] = 225\n",
    "# cib_flux['220'] = 225\n",
    "# cib_flux['280'] = 225\n",
    "# cib_flux['350'] = 315\n",
    "# cib_flux['550'] = 350\n",
    "# cib_flux['545'] = 350\n",
    "# cib_flux['850'] = 710\n",
    "\n",
    "def make_flux_cut_list(cib_flux_dict, nu_list):\n",
    "    cib_flux_list = []\n",
    "    keys = list(cib_flux.keys())\n",
    "    for i,nu in enumerate(nu_list):\n",
    "        if str(nu) in keys:\n",
    "            cib_flux_list.append(cib_flux[str(nu)])\n",
    "        else:\n",
    "            cib_flux_list.append(0)\n",
    "    return cib_flux_list\n",
    "\n",
    "cib_flux_list = make_flux_cut_list(cib_flux, nu_list)"
   ]
  },
  {
   "cell_type": "markdown",
   "id": "9836c50b",
   "metadata": {},
   "source": [
    "# Compute CIB auto "
   ]
  },
  {
   "cell_type": "code",
   "execution_count": null,
   "id": "d0771515",
   "metadata": {},
   "outputs": [],
   "source": [
    "#Planck 2014/ McCarthy et al. \n",
    "N = Class()\n",
    "N.set(p14_dict)\n",
    "N.set(p_dict)\n",
    "\n",
    "N.set({# class_sz parameters:\n",
    "        'output':'cib_cib_1h,cib_cib_2h,dcib0dz',\n",
    "        'class_sz_verbose':0,\n",
    "        \n",
    "        'cib_frequency_list_num' : len(nu_list),\n",
    "        'cib_frequency_list_in_GHz' : nu_list_str,  \n",
    "        'cib_Snu_cutoff_list [mJy]': str(list(cib_flux_list))[1:-1],\n",
    "        'has_cib_flux_cut': 1\n",
    "        })\n",
    "        \n",
    "N.compute()"
   ]
  },
  {
   "cell_type": "code",
   "execution_count": null,
   "id": "a6867c07",
   "metadata": {},
   "outputs": [],
   "source": [
    "cib = N.cl_cib_cib()\n",
    "\n",
    "# cib_1h = np.asarray(cib[str(nu_list[0])+'x'+str(nu_list[0])]['1h']) \n",
    "# cib_2h = np.asarray(cib[str(nu_list[0])+'x'+str(nu_list[0])]['2h'])\n",
    "ell_cib = np.asarray(cib[str(nu_list[0])+'x'+str(nu_list[0])]['ell'])"
   ]
  },
  {
   "cell_type": "markdown",
   "id": "25770ead",
   "metadata": {},
   "source": [
    "# Compare with other codes "
   ]
  },
  {
   "cell_type": "code",
   "execution_count": null,
   "id": "48d8839e",
   "metadata": {},
   "outputs": [],
   "source": [
    "# data MM2020 (obtained from the authors) https://arxiv.org/pdf/2010.16405.pdf\n",
    "# in class_sz/sz_auxilliary folder \n",
    "\n",
    "path_to_class = '/Users/aleksandra/software/class_sz/'\n",
    "def read_fiona_auto(freq, path_to_class):\n",
    "    L_ref_1h = np.loadtxt(path_to_class + 'sz_auxiliary_files/cib_files/cib_1h_'+str(int(freq))+'x'+str(int(freq))+'.txt')\n",
    "    ell_MM20 = L_ref_1h[:,0]\n",
    "    cib_1h_MM20 = L_ref_1h[:,1]\n",
    "    L_ref_2h= np.loadtxt(path_to_class + 'sz_auxiliary_files/cib_files/cib_2h_'+str(int(freq))+'x'+str(int(freq))+'.txt')\n",
    "    cib_2h_MM20 = L_ref_2h[:,1]\n",
    "    return ell_MM20, cib_1h_MM20, cib_2h_MM20 \n",
    "\n",
    "ell_MM20_217, cib_1h_MM20_217, cib_2h_MM20_217 = read_fiona_auto(217, path_to_class)\n",
    "ell_MM20_353, cib_1h_MM20_353, cib_2h_MM20_353 = read_fiona_auto(353, path_to_class)\n",
    "ell_MM20_545, cib_1h_MM20_545, cib_2h_MM20_545 = read_fiona_auto(545, path_to_class)"
   ]
  },
  {
   "cell_type": "code",
   "execution_count": null,
   "id": "6f2bcd34",
   "metadata": {},
   "outputs": [],
   "source": [
    "plt.figure(figsize=(12,8), dpi=250)\n",
    "plt.ylabel(r\"$C_l^{\\nu \\nu} \\,\\,\\, [Jy^2/sr]$\", size=30)\n",
    "plt.title('CIB model Planck 14 / McCarthy et al. ', fontsize=30)\n",
    "\n",
    "\n",
    "for (i,nu) in enumerate(nu_list):\n",
    "    #CIB fiona\n",
    "    cib_1h = np.asarray(cib[str(nu)+'x'+str(nu)]['1h']) \n",
    "    cib_2h = np.asarray(cib[str(nu)+'x'+str(nu)]['2h'])\n",
    "    plt.plot(ell_cib, cib_1h, \"-\", label=r'1h %.1i'%(nu))\n",
    "    plt.plot(ell_cib, cib_2h, \"--\", label=r'2h  %.1i'%(nu))\n",
    "    \n",
    "plt.plot(ell_MM20_217, cib_1h_MM20_217,\"o\", label = \"McCarthy et al. 217 1h\")\n",
    "plt.plot(ell_MM20_217, cib_2h_MM20_217,\"x\", label = \"McCarthy et al. 217 2h\")\n",
    "plt.plot(ell_MM20_353, cib_1h_MM20_353,\"o\", label = \"McCarthy et al. 353 1h\")\n",
    "plt.plot(ell_MM20_353, cib_2h_MM20_353,\"x\", label = \"McCarthy et al. 353 2h\")\n",
    "plt.plot(ell_MM20_545, cib_1h_MM20_545,\"o\", label = \"McCarthy et al. 545 1h\")\n",
    "plt.plot(ell_MM20_545, cib_2h_MM20_545,\"x\", label = \"McCarthy et al. 545 2h\")\n",
    "\n",
    "\n",
    "# plt.plot(ell_MM20, (cl_cib_cib_1h_MM20_217+cl_cib_cib_2h_MM20_217)/cl_to_dl_MM20,\"o\", label = \"McCarthy et al. 217\")\n",
    "# plt.plot(ell_MM20, (cl_cib_cib_1h_MM20_353+cl_cib_cib_2h_MM20_353)/cl_to_dl_MM20,\"o\", label = \"McCarthy et al.  353\")\n",
    "# plt.plot(ell_MM20, (cl_cib_cib_1h_MM20_545+cl_cib_cib_2h_MM20_545)/cl_to_dl_MM20,\"o\", label = \"McCarthy et al.  545\")\n",
    "    \n",
    "\n",
    "plt.xlim(1.e1, 8.e3)\n",
    "#plt.ylim(1e-4,0) \n",
    "plt.yscale(\"log\")\n",
    "plt.xscale(\"log\")\n",
    "plt.yticks(fontsize=20)\n",
    "plt.xticks(fontsize=20)\n",
    "plt.grid(which='both',alpha=0.2)\n",
    "plt.legend(loc='right',bbox_to_anchor=(1.4, 0.5), fontsize=20)\n",
    "\n"
   ]
  },
  {
   "cell_type": "code",
   "execution_count": null,
   "id": "f660c1a9",
   "metadata": {},
   "outputs": [],
   "source": []
  }
 ],
 "metadata": {
  "kernelspec": {
   "display_name": "Python 3 (ipykernel)",
   "language": "python",
   "name": "python3"
  },
  "language_info": {
   "codemirror_mode": {
    "name": "ipython",
    "version": 3
   },
   "file_extension": ".py",
   "mimetype": "text/x-python",
   "name": "python",
   "nbconvert_exporter": "python",
   "pygments_lexer": "ipython3",
   "version": "3.9.7"
  }
 },
 "nbformat": 4,
 "nbformat_minor": 5
}
